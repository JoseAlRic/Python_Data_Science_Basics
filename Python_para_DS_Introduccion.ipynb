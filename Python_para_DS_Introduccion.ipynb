{
  "cells": [
    {
      "cell_type": "markdown",
      "metadata": {
        "id": "lRDJZRuqE16L"
      },
      "source": [
        "#**Módulo 1: Fundamentos de Python**\n"
      ]
    },
    {
      "cell_type": "markdown",
      "metadata": {
        "id": "GXMeX0oy7XP0"
      },
      "source": [
        "# <h1 style=\"font-size: 18px;\"><strong>1. Introducción a Google Colab</strong></h1>\n",
        "\n",
        "\n"
      ]
    },
    {
      "cell_type": "markdown",
      "metadata": {
        "id": "cQR0u_7UGu2J"
      },
      "source": [
        "**1.1 ¿Qué es Google Colab?**"
      ]
    },
    {
      "cell_type": "markdown",
      "metadata": {
        "id": "GZJ-zarjFItn"
      },
      "source": [
        "**Google Colab** es una plataforma en línea que permite a los\n",
        "usuarios escribir y ejecutar código Python en un entorno de Jupyter Notebook directamente en la nube, sin necesidad de configurar ningún entorno de desarrollo local. Es una herramienta muy popular para la ciencia de datos, la inteligencia artificial y la programación en general debido a sus características y ventajas:\n"
      ]
    },
    {
      "cell_type": "markdown",
      "metadata": {
        "id": "SIuJos-69yKR"
      },
      "source": [
        "**1.2 Características de Google Colab:**"
      ]
    },
    {
      "cell_type": "markdown",
      "metadata": {
        "id": "a4pFJTCb-EEr"
      },
      "source": [
        "1. **Entorno de Ejecución en la Nube:** Google Colab permite ejecutar código de Python en servidores remotos de Google. Esto significa que no es necesario configurar un entorno de desarrollo local, lo que facilita el acceso desde cualquier lugar con conexión a Internet.\n",
        "\n",
        "2. **Cuadernos de Jupyter Interactivos:** Google Colab es compatible con cuadernos de Jupyter, que son documentos interactivos que pueden contener texto, código y resultados. Esto facilita la creación y documentación de proyectos y análisis de datos.\n",
        "\n",
        "3. **Acceso Gratuito a GPU y TPU:** Los cuadernos de Google Colab pueden aprovechar las unidades de procesamiento gráfico (GPU) y las unidades de procesamiento tensorial (TPU) de forma gratuita. Esto es especialmente valioso para tareas de aprendizaje automático y análisis de datos intensivos en cómputo.\n",
        "\n",
        "4. **Integración con Google Drive:** Puedes guardar y cargar cuadernos directamente desde tu cuenta de Google Drive. Esto permite una gestión sencilla de proyectos y colaboración en tiempo real.\n",
        "\n",
        "5. **Fácil Instalación de Bibliotecas:** Google Colab viene preconfigurado con muchas de las bibliotecas y paquetes de Python más utilizados, lo que facilita la instalación de paquetes adicionales.\n",
        "\n",
        "6. **Colaboración en Tiempo Real:** Varios usuarios pueden colaborar en un cuaderno de Google Colab en tiempo real. Esto es útil para trabajar en equipo en proyectos y resolución de problemas conjunta."
      ]
    },
    {
      "cell_type": "markdown",
      "metadata": {
        "id": "RwDB0W5U7lmN"
      },
      "source": [
        "**1.3 Ventajas de Google Colab:**"
      ]
    },
    {
      "cell_type": "markdown",
      "metadata": {
        "id": "nlQJluGD7mOD"
      },
      "source": [
        "1. **Acceso Universal:** Como una plataforma basada en la nube, Google Colab es accesible desde cualquier dispositivo con conexión a Internet, lo que lo hace ideal para el trabajo remoto y la colaboración en proyectos.\n",
        "\n",
        "2. **Costo Cero:** Google Colab es gratuito para su uso, lo que lo convierte en una opción atractiva para estudiantes, desarrolladores y científicos de datos que deseen trabajar en proyectos sin incurrir en costos adicionales.\n",
        "\n",
        "3. **Almacenamiento en la Nube:** Los cuadernos y archivos se almacenan en Google Drive, lo que garantiza la disponibilidad y seguridad de tus datos sin ocupar espacio en tu dispositivo.\n",
        "\n",
        "4. **Documentación y Recursos:** Google Colab ofrece una amplia documentación y recursos en línea, incluidos tutoriales y ejemplos, que ayudan a los usuarios a aprovechar al máximo la plataforma.\n",
        "\n",
        "5. **Aprendizaje y Experimentación:** Google Colab es una plataforma ideal para aprender Python, realizar análisis de datos y experimentar con proyectos de aprendizaje automático sin la necesidad de configurar una infraestructura de cómputo propia."
      ]
    },
    {
      "cell_type": "markdown",
      "metadata": {
        "id": "BUFeaZxzYhJ5"
      },
      "source": [
        "**1.4 Lenguajes de alto nivel y bajo nivel**"
      ]
    },
    {
      "cell_type": "markdown",
      "metadata": {
        "id": "92ngKPeV_Ug8"
      },
      "source": [
        "Aquí tienes una explicación de la diferencia entre los lenguajes de alto nivel y bajo nivel:"
      ]
    },
    {
      "cell_type": "markdown",
      "metadata": {
        "id": "FxM7NKdtZbrw"
      },
      "source": [
        "**1.4.1 Alto Nivel**"
      ]
    },
    {
      "cell_type": "markdown",
      "metadata": {
        "id": "nemOTyvqY2Qw"
      },
      "source": [
        "Un lenguaje de programación de alto nivel es un lenguaje que se ha diseñado para ser fácil de leer y escribir para los programadores, en lugar de estar diseñado para ser fácilmente comprendido por una computadora. Aquí hay algunas características clave de los lenguajes de alto nivel, con un enfoque en Python:\n",
        "\n",
        "1. **Legibilidad y sintaxis clara:** Python se destaca por su sintaxis clara y legible. El código Python se asemeja al lenguaje humano y utiliza una estructura que hace que sea más fácil de entender y depurar.\n",
        "\n",
        "2. **Abstracción de bajo nivel:** Los lenguajes de alto nivel ocultan gran parte de los detalles de bajo nivel de la computadora, como la gestión de memoria y la manipulación de registros de hardware. Esto permite a los programadores centrarse en resolver problemas y no en detalles técnicos.\n",
        "\n",
        "3. **Portabilidad:**Los programas escritos en lenguajes de alto nivel son más portables, lo que significa que pueden ejecutarse en diferentes sistemas operativos y plataformas sin modificaciones importantes.\n",
        "\n",
        "4. **Bibliotecas y módulos:** Los lenguajes de alto nivel, como Python, ofrecen una amplia gama de bibliotecas y módulos que simplifican tareas comunes, como el procesamiento de datos, la creación de interfaces gráficas de usuario y la programación web.\n",
        "\n",
        "5. **Interpretación o compilación:** Python es un lenguaje interpretado, lo que significa que el código fuente se ejecuta línea por línea por un intérprete. Esto permite una mayor flexibilidad y facilidad en el desarrollo, aunque a menudo puede ser más lento que los lenguajes compilados."
      ]
    },
    {
      "cell_type": "markdown",
      "metadata": {
        "id": "zlfmIdHGZezd"
      },
      "source": [
        "**1.4.2 Bajo Nivel**"
      ]
    },
    {
      "cell_type": "markdown",
      "metadata": {
        "id": "bsr-M5CrZh8k"
      },
      "source": [
        "Los lenguajes de bajo nivel, como el **Lenguaje Assembly**, están más cerca de la máquina y ofrecen un mayor control sobre los recursos de hardware, pero también son más difíciles de programar y menos portables. Aquí hay algunas diferencias clave:\n",
        "\n",
        "1. **Abstracción:** Los lenguajes de bajo nivel tienen una abstracción mínima y requieren que los programadores gestionen directamente los registros de la CPU y la memoria.\n",
        "\n",
        "2. **Eficiencia:** Los lenguajes de bajo nivel a menudo son más eficientes en términos de uso de recursos de hardware, pero requieren más tiempo y esfuerzo para escribir código.\n",
        "\n",
        "3. **Portabilidad:** Los programas escritos en lenguajes de bajo nivel son menos portables y a menudo deben adaptarse específicamente para diferentes arquitecturas de CPU.\n",
        "\n",
        "4. **Legibilidad:** Los lenguajes de bajo nivel son menos legibles y requieren una comprensión profunda de la arquitectura de la computadora."
      ]
    },
    {
      "cell_type": "markdown",
      "metadata": {
        "id": "djIEudUFHF7d"
      },
      "source": [
        "#<h1 style=\"font-size: 18px;\"><strong>2. Python para Data Science</strong></h1>"
      ]
    },
    {
      "cell_type": "markdown",
      "metadata": {
        "id": "5uolpj_WC4Ra"
      },
      "source": [
        "**2.1. Importancia de Python en Data Science**"
      ]
    },
    {
      "cell_type": "markdown",
      "metadata": {
        "id": "VkXghbezHSo-"
      },
      "source": [
        "\n",
        "\n",
        "Python es ampliamente considerado como uno de los lenguajes de programación más importantes para el campo de Data Science. A continuación, destacaremos su importancia y los motivos por los que se ha convertido en una herramienta esencial:\n",
        "\n"
      ]
    },
    {
      "cell_type": "markdown",
      "metadata": {
        "id": "gDAM8656C_JB"
      },
      "source": [
        "1. **Versatilidad**\n",
        "Python es un lenguaje versátil que se puede utilizar en todas las etapas de un proyecto de Data Science, desde la limpieza y exploración de datos hasta la construcción de modelos de aprendizaje automático y la creación de visualizaciones. Esta versatilidad simplifica el flujo de trabajo de un científico de datos.\n",
        "\n",
        "2. **Ecosistema de Bibliotecas**\n",
        "Python cuenta con un rico ecosistema de bibliotecas especializadas en Data Science, como NumPy, Pandas, Matplotlib, Seaborn, Scikit-Learn y TensorFlow. Estas bibliotecas proporcionan herramientas esenciales para el análisis y la manipulación de datos, la visualización y la implementación de algoritmos de aprendizaje automático.\n",
        "\n",
        "3. **Comunidad Activa**\n",
        "Python tiene una comunidad activa de científicos de datos, programadores y desarrolladores que contribuyen a su crecimiento. Esto se traduce en una amplia gama de recursos en línea, foros de ayuda y tutoriales que facilitan el aprendizaje y la resolución de problemas.\n",
        "\n",
        "4. **Facilidad de Aprendizaje**\n",
        "Python se destaca por su sintaxis legible y su facilidad de aprendizaje. Esto lo convierte en una opción atractiva tanto para principiantes como para profesionales con experiencia en programación.\n",
        "\n"
      ]
    },
    {
      "cell_type": "markdown",
      "metadata": {
        "id": "mCbYlGLfC_m0"
      },
      "source": [
        "**2.2. Entorno de Desarrollo**\n"
      ]
    },
    {
      "cell_type": "markdown",
      "metadata": {
        "id": "nTdqJ6bMDAHh"
      },
      "source": [
        "Para comenzar con Python en Data Science, es importante configurar un entorno de desarrollo adecuado. Google Colab es una excelente opción, ya que proporciona un entorno basado en la nube con soporte para cuadernos de Jupyter y acceso a GPU y TPU de forma gratuita. Aquí hay algunos pasos iniciales:\n",
        "\n"
      ]
    },
    {
      "cell_type": "markdown",
      "metadata": {
        "id": "dWa9KhJtDvo6"
      },
      "source": [
        "1. Accede a Google Colab con tu cuenta de Google.\n",
        "2. Crea un nuevo cuaderno o abre uno existente.\n",
        "3. En Google Colab, puedes ejecutar celdas de código\n",
        "4. Python y celdas de texto enriquecido para documentar tu trabajo."
      ]
    },
    {
      "cell_type": "code",
      "execution_count": 1,
      "metadata": {
        "colab": {
          "base_uri": "https://localhost:8080/"
        },
        "id": "6J5cxvlLb022",
        "outputId": "ea4102de-d046-4b0a-eb52-87a5c85e2016"
      },
      "outputs": [
        {
          "output_type": "stream",
          "name": "stdout",
          "text": [
            "Python 3.10.12\n"
          ]
        }
      ],
      "source": [
        "# Verificar la version de Python\n",
        "!python -V"
      ]
    },
    {
      "cell_type": "markdown",
      "metadata": {
        "id": "rz9nDKr3EKsK"
      },
      "source": [
        "#<h1 style=\"font-size: 18px;\"><strong>3. Operaciones Matematicas en Python</strong></h1>"
      ]
    },
    {
      "cell_type": "markdown",
      "metadata": {
        "id": "-SJ33ehCE6sR"
      },
      "source": [
        "En Python, puedes realizar una variedad de operaciones matemáticas básicas utilizando operadores aritméticos. A continuación, se describen algunas de las operaciones más comunes y cómo utilizar los operadores correspondientes:"
      ]
    },
    {
      "cell_type": "markdown",
      "metadata": {
        "id": "j8Ill02KsPDE"
      },
      "source": [
        "**3.1 Operaciones aritmeticas**"
      ]
    },
    {
      "cell_type": "markdown",
      "metadata": {
        "id": "me7DG3YvtUGo"
      },
      "source": [
        "**Suma (+)**"
      ]
    },
    {
      "cell_type": "markdown",
      "metadata": {
        "id": "apWLDKQdFAic"
      },
      "source": [
        "El operador de suma se utiliza para sumar dos números. Por ejemplo:"
      ]
    },
    {
      "cell_type": "code",
      "execution_count": 2,
      "metadata": {
        "colab": {
          "base_uri": "https://localhost:8080/"
        },
        "id": "Ge8nkiaLuAqY",
        "outputId": "c814e01d-1f2a-4f3b-a793-f8515e9cf9eb"
      },
      "outputs": [
        {
          "output_type": "execute_result",
          "data": {
            "text/plain": [
              "4"
            ]
          },
          "metadata": {},
          "execution_count": 2
        }
      ],
      "source": [
        "2 + 2"
      ]
    },
    {
      "cell_type": "markdown",
      "metadata": {
        "id": "kg9PB1uwtYuG"
      },
      "source": [
        "**Resta (-)**"
      ]
    },
    {
      "cell_type": "markdown",
      "metadata": {
        "id": "lv_kopAEFGLf"
      },
      "source": [
        "El operador de resta se utiliza para restar un número de otro. Por ejemplo:"
      ]
    },
    {
      "cell_type": "code",
      "execution_count": 3,
      "metadata": {
        "colab": {
          "base_uri": "https://localhost:8080/"
        },
        "id": "-fOYsfM0uBSP",
        "outputId": "037ed56c-9fe4-4fcc-f9b4-1e93247f0f09"
      },
      "outputs": [
        {
          "output_type": "execute_result",
          "data": {
            "text/plain": [
              "0"
            ]
          },
          "metadata": {},
          "execution_count": 3
        }
      ],
      "source": [
        "2 - 2"
      ]
    },
    {
      "cell_type": "markdown",
      "metadata": {
        "id": "ax8K22NwtYnd"
      },
      "source": [
        "**Multiplicacion (*)**"
      ]
    },
    {
      "cell_type": "markdown",
      "metadata": {
        "id": "MP4oxyq-FImI"
      },
      "source": [
        "El operador de multiplicación se utiliza para multiplicar dos números. Por ejemplo:"
      ]
    },
    {
      "cell_type": "code",
      "execution_count": 4,
      "metadata": {
        "colab": {
          "base_uri": "https://localhost:8080/"
        },
        "id": "cT4tflrduByM",
        "outputId": "483d051d-6568-41d7-be8a-c17d90884692"
      },
      "outputs": [
        {
          "output_type": "execute_result",
          "data": {
            "text/plain": [
              "4"
            ]
          },
          "metadata": {},
          "execution_count": 4
        }
      ],
      "source": [
        "2 * 2"
      ]
    },
    {
      "cell_type": "markdown",
      "metadata": {
        "id": "Lpg8HZsxtYdT"
      },
      "source": [
        "**Division (/)**"
      ]
    },
    {
      "cell_type": "markdown",
      "metadata": {
        "id": "5aHhzUl4uWWj"
      },
      "source": [
        "El operador de división se utiliza para dividir un número por otro y la operacion division siempre devuelve un numero con punto decimal. Por ejemplo:"
      ]
    },
    {
      "cell_type": "code",
      "execution_count": 5,
      "metadata": {
        "colab": {
          "base_uri": "https://localhost:8080/"
        },
        "id": "5vfln4FPuCWg",
        "outputId": "56b9d3e8-2795-4705-ae4b-ddb62f276c70"
      },
      "outputs": [
        {
          "output_type": "execute_result",
          "data": {
            "text/plain": [
              "3.3333333333333335"
            ]
          },
          "metadata": {},
          "execution_count": 5
        }
      ],
      "source": [
        "10 / 3"
      ]
    },
    {
      "cell_type": "markdown",
      "metadata": {
        "id": "6WcF-kCXufGq"
      },
      "source": [
        "Tambien si solo queremos la parte entera de la divison lo hacemos de la siguiente manera:"
      ]
    },
    {
      "cell_type": "code",
      "execution_count": 6,
      "metadata": {
        "colab": {
          "base_uri": "https://localhost:8080/"
        },
        "id": "-JZmInBrun9x",
        "outputId": "47aefeeb-b22a-4075-dcab-66456053686c"
      },
      "outputs": [
        {
          "output_type": "execute_result",
          "data": {
            "text/plain": [
              "3"
            ]
          },
          "metadata": {},
          "execution_count": 6
        }
      ],
      "source": [
        "10 // 3"
      ]
    },
    {
      "cell_type": "markdown",
      "metadata": {
        "id": "vzryUuwktYW7"
      },
      "source": [
        "<strong>Exponente (**)</strong>"
      ]
    },
    {
      "cell_type": "code",
      "execution_count": 7,
      "metadata": {
        "colab": {
          "base_uri": "https://localhost:8080/"
        },
        "id": "E6sT01u1uC5n",
        "outputId": "6ed8a6e8-e216-4b3a-e9f1-19122301c521"
      },
      "outputs": [
        {
          "output_type": "execute_result",
          "data": {
            "text/plain": [
              "8"
            ]
          },
          "metadata": {},
          "execution_count": 7
        }
      ],
      "source": [
        "2 ** 3"
      ]
    },
    {
      "cell_type": "markdown",
      "metadata": {
        "id": "Z67ACBDBtYQt"
      },
      "source": [
        "**Resto de la division (%)**"
      ]
    },
    {
      "cell_type": "markdown",
      "metadata": {
        "id": "fOhQcNDvvPWb"
      },
      "source": [
        "Devuelve el valor que queda después de dividir un número por otro, es decir, el residuo de la división."
      ]
    },
    {
      "cell_type": "code",
      "execution_count": 8,
      "metadata": {
        "colab": {
          "base_uri": "https://localhost:8080/"
        },
        "id": "sLV2_d8SuDbt",
        "outputId": "b019ae65-0390-446e-a8e8-221c9d2b4710"
      },
      "outputs": [
        {
          "output_type": "execute_result",
          "data": {
            "text/plain": [
              "1"
            ]
          },
          "metadata": {},
          "execution_count": 8
        }
      ],
      "source": [
        "10 % 3"
      ]
    },
    {
      "cell_type": "code",
      "execution_count": 9,
      "metadata": {
        "colab": {
          "base_uri": "https://localhost:8080/"
        },
        "id": "Xq9MzEK0vIc-",
        "outputId": "ed608f01-51a9-402c-ebce-f255bb464ec5"
      },
      "outputs": [
        {
          "output_type": "execute_result",
          "data": {
            "text/plain": [
              "0"
            ]
          },
          "metadata": {},
          "execution_count": 9
        }
      ],
      "source": [
        "10 % 2"
      ]
    },
    {
      "cell_type": "markdown",
      "metadata": {
        "id": "V8lry01svjzc"
      },
      "source": [
        "**3.2. Operadores Matemáticos en Python**"
      ]
    },
    {
      "cell_type": "markdown",
      "metadata": {
        "id": "97rIaAu4Fzbe"
      },
      "source": [
        "**Precedencia de Operadores**"
      ]
    },
    {
      "cell_type": "markdown",
      "metadata": {
        "id": "wM5qGlc1v5Sf"
      },
      "source": [
        "Una expresión matemática es una combinación de valores, operadores y/o funciones matemáticas que se evalúan para producir un resultado numérico. Estas expresiones pueden ser tan simples como una operación de suma o tan complejas como una fórmula matemática avanzada.\n",
        "\n",
        "Siempre se resolvera empeazando con el operador de mayor prioridad en este caso la **multiplicacion**"
      ]
    },
    {
      "cell_type": "code",
      "execution_count": 10,
      "metadata": {
        "colab": {
          "base_uri": "https://localhost:8080/"
        },
        "id": "hnugAys3vIQo",
        "outputId": "f092a81c-c1c0-4eb9-9567-e901a57c6444"
      },
      "outputs": [
        {
          "output_type": "execute_result",
          "data": {
            "text/plain": [
              "16"
            ]
          },
          "metadata": {},
          "execution_count": 10
        }
      ],
      "source": [
        "5 * 2 + 3 * 2"
      ]
    },
    {
      "cell_type": "markdown",
      "metadata": {
        "id": "zYt8DcfnGBsU"
      },
      "source": [
        "En Python, los operadores matemáticos siguen reglas de precedencia estándar. En general, las operaciones se realizan en el siguiente orden:\n",
        "\n",
        "1. Paréntesis ()\n",
        "2. Exponenciación (**)\n",
        "3. Multiplicación (*) y División (/)\n",
        "4. Suma (+) y Resta (-)\n",
        "\n",
        "Puedes usar **paréntesis** para cambiar el orden de las operaciones según tus necesidades."
      ]
    },
    {
      "cell_type": "code",
      "execution_count": 11,
      "metadata": {
        "colab": {
          "base_uri": "https://localhost:8080/"
        },
        "id": "LZ5BWpeivIFI",
        "outputId": "46b55645-336c-456d-e0a7-d747e26b3de3"
      },
      "outputs": [
        {
          "output_type": "execute_result",
          "data": {
            "text/plain": [
              "16"
            ]
          },
          "metadata": {},
          "execution_count": 11
        }
      ],
      "source": [
        "(5 * 2) + (3 * 2)"
      ]
    },
    {
      "cell_type": "code",
      "execution_count": 12,
      "metadata": {
        "colab": {
          "base_uri": "https://localhost:8080/"
        },
        "id": "Tqwg5Fx7wfzs",
        "outputId": "dada0d26-d29f-4f85-e235-9fa3b2df3a97"
      },
      "outputs": [
        {
          "output_type": "execute_result",
          "data": {
            "text/plain": [
              "50"
            ]
          },
          "metadata": {},
          "execution_count": 12
        }
      ],
      "source": [
        "5 * (2 + 3) * 2"
      ]
    },
    {
      "cell_type": "markdown",
      "metadata": {
        "id": "8BJI93CXH2_6"
      },
      "source": [
        "# <h1 style=\"font-size: 18px;\"><strong>4. Variables en Python</strong></h1>"
      ]
    },
    {
      "cell_type": "markdown",
      "metadata": {
        "id": "1BkN2_hfPpaa"
      },
      "source": [
        "**4.1 Concepto, Declaracion y Asiganacion**"
      ]
    },
    {
      "cell_type": "markdown",
      "metadata": {
        "id": "g3kCAUSEJw6z"
      },
      "source": [
        "Una variable en Python es un elemento fundamental que te permite almacenar y manipular datos en tus programas. Le das un nombre significativo y luego puedes asignarle y cambiar valores según tus necesidades en el código. Las variables son esenciales para la programación, ya que permiten trabajar con información de manera dinámica y flexible.\n"
      ]
    },
    {
      "cell_type": "markdown",
      "metadata": {
        "id": "W_PX_PGRHd02"
      },
      "source": [
        "**Reglas y Convenciones para Nombrar Variables**"
      ]
    },
    {
      "cell_type": "markdown",
      "metadata": {
        "id": "_crCHNiqHfb1"
      },
      "source": [
        "1. Los nombres de variables deben comenzar con una letra o un guion bajo (_).\n",
        "\n",
        "2. Evita utilizar palabras reservadas de Python como nombres de variables."
      ]
    },
    {
      "cell_type": "markdown",
      "metadata": {
        "id": "oD4dWhYlx15Z"
      },
      "source": [
        "Altura\n",
        "\n",
        "_peso"
      ]
    },
    {
      "cell_type": "markdown",
      "metadata": {
        "id": "yEnhOIKYx6ZJ"
      },
      "source": [
        "3. El resto del nombre puede contener letras, numeros o simbolos \"_\""
      ]
    },
    {
      "cell_type": "markdown",
      "metadata": {
        "id": "maaR_9YYyFgZ"
      },
      "source": [
        "nombre_de_variable\n",
        "\n",
        "_valor\n",
        "\n",
        "dia_28_11_"
      ]
    },
    {
      "cell_type": "markdown",
      "metadata": {
        "id": "LwwbP6L3yPgs"
      },
      "source": [
        "4. Los nombre son case sensitive. Esto significa que las letras mayúsculas y minúsculas se consideran diferentes y se tratan como identificadores distintos."
      ]
    },
    {
      "cell_type": "markdown",
      "metadata": {
        "id": "yXkBlmfxyPW2"
      },
      "source": [
        "Nombre_De_Variable ≠ nombre_de_variable ≠ NOMBRE_DE_VARIABLE"
      ]
    },
    {
      "cell_type": "markdown",
      "metadata": {
        "id": "0CsM5JVZyPPS"
      },
      "source": [
        "**Declaracion de variables**"
      ]
    },
    {
      "cell_type": "markdown",
      "metadata": {
        "id": "4YSEJU9LHDbg"
      },
      "source": [
        "Para declarar una variable en Python, simplemente elige un nombre para la variable y utiliza el operador de asignación **=** para asignarle un valor. Por ejemplo:"
      ]
    },
    {
      "cell_type": "code",
      "execution_count": 13,
      "metadata": {
        "id": "Fk4ZrszaHPLh"
      },
      "outputs": [],
      "source": [
        "nombre = \"Juan\"\n",
        "edad = 30"
      ]
    },
    {
      "cell_type": "code",
      "execution_count": 14,
      "metadata": {
        "colab": {
          "base_uri": "https://localhost:8080/",
          "height": 35
        },
        "id": "A5o963rpHTWb",
        "outputId": "a65ccc94-f632-43c6-cd65-d93c6b34c08e"
      },
      "outputs": [
        {
          "output_type": "execute_result",
          "data": {
            "text/plain": [
              "'Juan'"
            ],
            "application/vnd.google.colaboratory.intrinsic+json": {
              "type": "string"
            }
          },
          "metadata": {},
          "execution_count": 14
        }
      ],
      "source": [
        "nombre"
      ]
    },
    {
      "cell_type": "code",
      "execution_count": 15,
      "metadata": {
        "colab": {
          "base_uri": "https://localhost:8080/"
        },
        "id": "uLVfJz5FHT0l",
        "outputId": "21f255a1-d6f5-4b64-891f-682abaf35312"
      },
      "outputs": [
        {
          "output_type": "execute_result",
          "data": {
            "text/plain": [
              "30"
            ]
          },
          "metadata": {},
          "execution_count": 15
        }
      ],
      "source": [
        "edad"
      ]
    },
    {
      "cell_type": "markdown",
      "metadata": {
        "id": "YjbdMq8E9MTz"
      },
      "source": [
        "**Declaracion multiple**"
      ]
    },
    {
      "cell_type": "markdown",
      "metadata": {
        "id": "KIagM1ZfKRyg"
      },
      "source": [
        "La declaración múltiple de variables es una característica de Python que te permite declarar varias variables en una sola línea. Esta característica es especialmente útil cuando deseas asignar múltiples valores a múltiples variables en una sola sentencia. Aquí tienes un ejemplo de declaración múltiple:"
      ]
    },
    {
      "cell_type": "code",
      "execution_count": 16,
      "metadata": {
        "id": "IPjX1g6w9Xzi"
      },
      "outputs": [],
      "source": [
        "edad, nombre, año_nacimiento = 26, 'Jose', 1998"
      ]
    },
    {
      "cell_type": "code",
      "execution_count": 17,
      "metadata": {
        "colab": {
          "base_uri": "https://localhost:8080/"
        },
        "id": "FoCiKA7OLtAt",
        "outputId": "a83a3c7b-780a-435f-bc8b-072416818df0"
      },
      "outputs": [
        {
          "output_type": "execute_result",
          "data": {
            "text/plain": [
              "26"
            ]
          },
          "metadata": {},
          "execution_count": 17
        }
      ],
      "source": [
        "edad"
      ]
    },
    {
      "cell_type": "code",
      "execution_count": 18,
      "metadata": {
        "colab": {
          "base_uri": "https://localhost:8080/",
          "height": 35
        },
        "id": "enQN7PL-LstE",
        "outputId": "25352660-9815-492c-f8f7-d07dcf4a2815"
      },
      "outputs": [
        {
          "output_type": "execute_result",
          "data": {
            "text/plain": [
              "'Jose'"
            ],
            "application/vnd.google.colaboratory.intrinsic+json": {
              "type": "string"
            }
          },
          "metadata": {},
          "execution_count": 18
        }
      ],
      "source": [
        "nombre"
      ]
    },
    {
      "cell_type": "code",
      "execution_count": 19,
      "metadata": {
        "colab": {
          "base_uri": "https://localhost:8080/"
        },
        "id": "u49KM6ddLsZl",
        "outputId": "77544bb7-72f2-4962-c9a4-d695bf39dcdb"
      },
      "outputs": [
        {
          "output_type": "execute_result",
          "data": {
            "text/plain": [
              "1998"
            ]
          },
          "metadata": {},
          "execution_count": 19
        }
      ],
      "source": [
        "año_nacimiento"
      ]
    },
    {
      "cell_type": "markdown",
      "metadata": {
        "id": "WpvHCHRUIAdB"
      },
      "source": [
        "**Asignación de Valores y Reasignación**"
      ]
    },
    {
      "cell_type": "markdown",
      "metadata": {
        "id": "1XpfhMg2IDtH"
      },
      "source": [
        "Puedes asignar valores a una variable en cualquier momento. La reasignación implica cambiar el valor de una variable existente. Por ejemplo:"
      ]
    },
    {
      "cell_type": "code",
      "execution_count": 20,
      "metadata": {
        "id": "iXu-2lnFIIcJ"
      },
      "outputs": [],
      "source": [
        "nombre = \"Ana\"  # Asignación inicial\n",
        "nombre = \"Carlos\"  # Reasignación"
      ]
    },
    {
      "cell_type": "code",
      "execution_count": 21,
      "metadata": {
        "colab": {
          "base_uri": "https://localhost:8080/",
          "height": 35
        },
        "id": "p9fQe04DILUW",
        "outputId": "ad8d6b53-ebc7-48b4-8303-a43daff3f237"
      },
      "outputs": [
        {
          "output_type": "execute_result",
          "data": {
            "text/plain": [
              "'Carlos'"
            ],
            "application/vnd.google.colaboratory.intrinsic+json": {
              "type": "string"
            }
          },
          "metadata": {},
          "execution_count": 21
        }
      ],
      "source": [
        "nombre"
      ]
    },
    {
      "cell_type": "markdown",
      "metadata": {
        "id": "Tl4cIpdMyPIQ"
      },
      "source": [
        "**Operadores de asignacion**\n",
        "\n"
      ]
    },
    {
      "cell_type": "markdown",
      "metadata": {
        "id": "FrKRWGlUImLb"
      },
      "source": [
        "Los operadores de asignación en Python desempeñan un papel fundamental al asignar valores a variables, como se ha ejemplificado anteriormente con el símbolo \"=\" (igual). A continuación, se detallan algunos de los operadores de asignación más comunes y se proporcionan ejemplos de su uso:"
      ]
    },
    {
      "cell_type": "markdown",
      "metadata": {
        "id": "bj8C8Ar6Imvl"
      },
      "source": [
        "1. +=\n",
        "2. -=\n",
        "3. *=\n",
        "4. /=\n",
        "5. =\n",
        "6. %=\n",
        "7. //="
      ]
    },
    {
      "cell_type": "markdown",
      "metadata": {
        "id": "7pfc4v7hJLj0"
      },
      "source": [
        "1. **Suma y Asignación (+=):** Este operador suma el valor a la derecha del operador al valor actual de la variable y luego asigna el resultado a la variable."
      ]
    },
    {
      "cell_type": "code",
      "execution_count": 22,
      "metadata": {
        "id": "vPvQmJp_G7UM"
      },
      "outputs": [],
      "source": [
        "y = 10\n",
        "y += 3  # Incrementa y en 3 unidades, y se convierte en 13"
      ]
    },
    {
      "cell_type": "code",
      "execution_count": 23,
      "metadata": {
        "colab": {
          "base_uri": "https://localhost:8080/"
        },
        "id": "k0NG8ABQHEMr",
        "outputId": "e8f1ab62-ebf5-4859-f660-75480ff2fb0d"
      },
      "outputs": [
        {
          "output_type": "execute_result",
          "data": {
            "text/plain": [
              "13"
            ]
          },
          "metadata": {},
          "execution_count": 23
        }
      ],
      "source": [
        "y"
      ]
    },
    {
      "cell_type": "markdown",
      "metadata": {
        "id": "ez98iRbvHMLa"
      },
      "source": [
        "2. **Resta y Asignación (-=):** Este operador resta el valor a la derecha del operador al valor de la variable y luego asigna el resultado a la variable.\n"
      ]
    },
    {
      "cell_type": "code",
      "execution_count": 24,
      "metadata": {
        "id": "zx0DwOf8HMty"
      },
      "outputs": [],
      "source": [
        "z = 8\n",
        "z -= 2  # Resta 2 de z, y z se convierte en 6"
      ]
    },
    {
      "cell_type": "code",
      "execution_count": 25,
      "metadata": {
        "colab": {
          "base_uri": "https://localhost:8080/"
        },
        "id": "_drEBad6HLwZ",
        "outputId": "19ed3fe0-96b8-4ee8-97d9-bd544d95160f"
      },
      "outputs": [
        {
          "output_type": "execute_result",
          "data": {
            "text/plain": [
              "6"
            ]
          },
          "metadata": {},
          "execution_count": 25
        }
      ],
      "source": [
        "z"
      ]
    },
    {
      "cell_type": "markdown",
      "metadata": {
        "id": "wk-yzMIHHXvt"
      },
      "source": [
        "3. <strong>Multiplicación y Asignación (*=):</strong> Este operador multiplica el valor de la variable por el valor a la derecha del operador y luego asigna el resultado a la variable.\n",
        "\n"
      ]
    },
    {
      "cell_type": "code",
      "execution_count": 26,
      "metadata": {
        "id": "KAwOeEWNHX-_"
      },
      "outputs": [],
      "source": [
        "a = 3\n",
        "a *= 4  # Multiplica a por 4, y a se convierte en 12"
      ]
    },
    {
      "cell_type": "code",
      "execution_count": 27,
      "metadata": {
        "colab": {
          "base_uri": "https://localhost:8080/"
        },
        "id": "7dIW59-7HXah",
        "outputId": "2f3c0c50-3a45-4c70-b67e-76c65425997a"
      },
      "outputs": [
        {
          "output_type": "execute_result",
          "data": {
            "text/plain": [
              "12"
            ]
          },
          "metadata": {},
          "execution_count": 27
        }
      ],
      "source": [
        "a"
      ]
    },
    {
      "cell_type": "markdown",
      "metadata": {
        "id": "lptgwa-4HZWs"
      },
      "source": [
        "4. **División y Asignación (/=):** Este operador divide el valor de la variable por el valor a la derecha del operador y luego asigna el resultado a la variable.\n"
      ]
    },
    {
      "cell_type": "code",
      "execution_count": 28,
      "metadata": {
        "id": "n3LqHvw8HZ1e"
      },
      "outputs": [],
      "source": [
        "b = 20\n",
        "b /= 5  # Divide b por 5, y b se convierte en 4.0 (resultado de la división en punto flotante)"
      ]
    },
    {
      "cell_type": "code",
      "execution_count": 29,
      "metadata": {
        "colab": {
          "base_uri": "https://localhost:8080/"
        },
        "id": "2Uopkm9VHaRT",
        "outputId": "6c03bf68-978d-4d1c-a954-2977e906d602"
      },
      "outputs": [
        {
          "output_type": "execute_result",
          "data": {
            "text/plain": [
              "4.0"
            ]
          },
          "metadata": {},
          "execution_count": 29
        }
      ],
      "source": [
        "b"
      ]
    },
    {
      "cell_type": "markdown",
      "metadata": {
        "id": "wqLCj31dHavV"
      },
      "source": [
        "5. **Módulo y Asignación (%=):** Este operador calcula el módulo del valor de la variable con respecto al valor a la derecha del operador y luego asigna el resultado a la variable.\n"
      ]
    },
    {
      "cell_type": "code",
      "execution_count": 30,
      "metadata": {
        "id": "f2Zr7nvMHbO-"
      },
      "outputs": [],
      "source": [
        "c = 15\n",
        "c %= 7  # Calcula el módulo de c con respecto a 7, y c se convierte en 1"
      ]
    },
    {
      "cell_type": "code",
      "execution_count": 31,
      "metadata": {
        "colab": {
          "base_uri": "https://localhost:8080/"
        },
        "id": "z7NPg9y6HbrH",
        "outputId": "f75e6a2b-7b32-41fc-ddaa-d829fc3194a1"
      },
      "outputs": [
        {
          "output_type": "execute_result",
          "data": {
            "text/plain": [
              "1"
            ]
          },
          "metadata": {},
          "execution_count": 31
        }
      ],
      "source": [
        "c"
      ]
    },
    {
      "cell_type": "markdown",
      "metadata": {
        "id": "3jdPZlU6HzPE"
      },
      "source": [
        "6. <strong>Potencia y Asignación (**=):</strong> Este operador eleva el valor de la variable a la potencia del valor a la derecha del operador y luego asigna el resultado a la variable.\n"
      ]
    },
    {
      "cell_type": "code",
      "execution_count": 32,
      "metadata": {
        "id": "r6b5NjRMHzxm"
      },
      "outputs": [],
      "source": [
        "d = 2\n",
        "d **= 3  # Eleva d al cubo, y d se convierte en 8"
      ]
    },
    {
      "cell_type": "code",
      "execution_count": 33,
      "metadata": {
        "colab": {
          "base_uri": "https://localhost:8080/"
        },
        "id": "4478D-H6H0O1",
        "outputId": "303b232f-4c41-4de5-b2d3-466ec92f7f78"
      },
      "outputs": [
        {
          "output_type": "execute_result",
          "data": {
            "text/plain": [
              "8"
            ]
          },
          "metadata": {},
          "execution_count": 33
        }
      ],
      "source": [
        "d"
      ]
    },
    {
      "cell_type": "markdown",
      "metadata": {
        "id": "2frgT0nnH0zm"
      },
      "source": [
        "7. **División Entera y Asignación (//=):** Este operador realiza la división entera del valor de la variable por el valor a la derecha del operador y luego asigna el resultado a la variable.\n"
      ]
    },
    {
      "cell_type": "code",
      "execution_count": 34,
      "metadata": {
        "id": "1j0hKF3rH1UU"
      },
      "outputs": [],
      "source": [
        "e = 20\n",
        "e //= 3  # Realiza la división entera de e entre 3, y e se convierte en 6"
      ]
    },
    {
      "cell_type": "code",
      "execution_count": 35,
      "metadata": {
        "colab": {
          "base_uri": "https://localhost:8080/"
        },
        "id": "dxKVSuYXH1xB",
        "outputId": "fd64fdb3-24f6-428a-ccaa-08b3a58ae55f"
      },
      "outputs": [
        {
          "output_type": "execute_result",
          "data": {
            "text/plain": [
              "6"
            ]
          },
          "metadata": {},
          "execution_count": 35
        }
      ],
      "source": [
        "e"
      ]
    },
    {
      "cell_type": "markdown",
      "metadata": {
        "id": "w3pLg8U8wv1t"
      },
      "source": [
        "**Variable (_)**"
      ]
    },
    {
      "cell_type": "markdown",
      "metadata": {
        "id": "p1Q0g8jYMUmp"
      },
      "source": [
        "En Python, el guion bajo **(_)** es una variable especial que se utiliza a menudo como un marcador o comodín. Algunos de los usos comunes de **_** incluyen:"
      ]
    },
    {
      "cell_type": "markdown",
      "metadata": {
        "id": "__8Uv8GRMald"
      },
      "source": [
        "1. **Ignorar valores:** Puedes utilizar _ para ignorar valores que no necesitas o que no te interesan en un contexto particular. Por ejemplo:"
      ]
    },
    {
      "cell_type": "code",
      "execution_count": 36,
      "metadata": {
        "id": "p8uJEUevMbL1"
      },
      "outputs": [],
      "source": [
        "a, _, c = (1, 2, 3) # En este caso nos saltamos el elemento 2"
      ]
    },
    {
      "cell_type": "code",
      "execution_count": 37,
      "metadata": {
        "colab": {
          "base_uri": "https://localhost:8080/"
        },
        "id": "gk2iPkVxMlPC",
        "outputId": "f2fba4da-1449-47f7-856a-d7fc3a84c468"
      },
      "outputs": [
        {
          "output_type": "execute_result",
          "data": {
            "text/plain": [
              "1"
            ]
          },
          "metadata": {},
          "execution_count": 37
        }
      ],
      "source": [
        "a"
      ]
    },
    {
      "cell_type": "code",
      "execution_count": 38,
      "metadata": {
        "colab": {
          "base_uri": "https://localhost:8080/"
        },
        "id": "f9h5frWUMloy",
        "outputId": "7a1e1b46-28ae-4897-cc7d-df27d8ce65bc"
      },
      "outputs": [
        {
          "output_type": "execute_result",
          "data": {
            "text/plain": [
              "3"
            ]
          },
          "metadata": {},
          "execution_count": 38
        }
      ],
      "source": [
        "c"
      ]
    },
    {
      "cell_type": "markdown",
      "metadata": {
        "id": "pMxuY3_eMcAu"
      },
      "source": [
        "2. **Utilizar como marcador:** A veces, se utiliza _ como un marcador o un recordatorio para resaltar que ciertos valores no son importantes en un fragmento de código. Por ejemplo:"
      ]
    },
    {
      "cell_type": "code",
      "execution_count": 39,
      "metadata": {
        "colab": {
          "base_uri": "https://localhost:8080/"
        },
        "id": "Z-DzYGNHMck0",
        "outputId": "bad5afd7-9e97-4ec9-f509-55eb03c329d6"
      },
      "outputs": [
        {
          "output_type": "execute_result",
          "data": {
            "text/plain": [
              "10"
            ]
          },
          "metadata": {},
          "execution_count": 39
        }
      ],
      "source": [
        "# Este segundo punto estamos realizando un bucle for, mas adelante lo comprenderas mejor.\n",
        "total = 0\n",
        "for _ in range(10):\n",
        "    total += 1\n",
        "total"
      ]
    },
    {
      "cell_type": "markdown",
      "metadata": {
        "id": "lmdLB5ogM9CD"
      },
      "source": [
        "En este caso, **_** se utiliza para representar la variable de bucle que no se utiliza en el cálculo."
      ]
    },
    {
      "cell_type": "markdown",
      "metadata": {
        "id": "s6AXYEyOMdWy"
      },
      "source": [
        "3. **Como variable temporal:** En algunos casos, _ se utiliza como una variable temporal cuando deseas realizar una operación sin necesariamente almacenar el resultado en una variable. Por ejemplo:"
      ]
    },
    {
      "cell_type": "code",
      "execution_count": 40,
      "metadata": {
        "id": "D-EXqTB0OUdx"
      },
      "outputs": [],
      "source": [
        "_ = 1 + 4"
      ]
    },
    {
      "cell_type": "code",
      "execution_count": 41,
      "metadata": {
        "colab": {
          "base_uri": "https://localhost:8080/"
        },
        "id": "Qvr3l2s9tN__",
        "outputId": "86315628-f6db-44a1-dff1-1a717ab6735c"
      },
      "outputs": [
        {
          "output_type": "execute_result",
          "data": {
            "text/plain": [
              "5"
            ]
          },
          "metadata": {},
          "execution_count": 41
        }
      ],
      "source": [
        "_"
      ]
    },
    {
      "cell_type": "code",
      "execution_count": 42,
      "metadata": {
        "colab": {
          "base_uri": "https://localhost:8080/"
        },
        "id": "4K47YjtStg0h",
        "outputId": "908a16f1-542d-4a94-f3f3-a313d89dd943"
      },
      "outputs": [
        {
          "output_type": "execute_result",
          "data": {
            "text/plain": [
              "10"
            ]
          },
          "metadata": {},
          "execution_count": 42
        }
      ],
      "source": [
        "_ + 5"
      ]
    },
    {
      "cell_type": "markdown",
      "metadata": {
        "id": "jtTjIuekN7hG"
      },
      "source": [
        "Si bien _ es una variable válida en Python, no es una convención estricta y su uso puede variar según el contexto y el estilo de programación. Su significado depende de cómo se utiliza en un fragmento de código específico."
      ]
    },
    {
      "cell_type": "markdown",
      "metadata": {
        "id": "XX-KHjnpuHHK"
      },
      "source": [
        "**4.2. Tipos de variables**"
      ]
    },
    {
      "cell_type": "markdown",
      "metadata": {
        "id": "Ei7WALoUAUBm"
      },
      "source": [
        "\n",
        "\n",
        "Estos son algunos de los tipos de variables más comunes en Python. Cada uno tiene sus propias propiedades y métodos asociados que los hacen adecuados para diferentes tipos de tareas. A medida que progreses en la programación en Python, aprenderás a trabajar con estos tipos de variables y a realizar operaciones específicas con ellos según tus necesidades."
      ]
    },
    {
      "cell_type": "markdown",
      "metadata": {
        "id": "CmqxmcU7uVe_"
      },
      "source": [
        "\n",
        "1. Enteros(int)\n",
        "2. Numero de punto flotante (float)\n",
        "3. Cadena de caracteres (str)\n",
        "4. Booleanos (bool)\n",
        "5. Valor None (None)\n"
      ]
    },
    {
      "cell_type": "markdown",
      "metadata": {
        "id": "Lur40JuLZEkZ"
      },
      "source": [
        "Tambien usamos un funcion integrada de python llamada **type()**, esta funcion nos ayuda a dereminar el tipo de dato que contiene nuestra variable"
      ]
    },
    {
      "cell_type": "markdown",
      "metadata": {
        "id": "GbhryDvgIHQF"
      },
      "source": [
        "**1. Enteros(int)**"
      ]
    },
    {
      "cell_type": "markdown",
      "metadata": {
        "id": "wrLVr6T7I58W"
      },
      "source": [
        "Los números enteros representan valores numéricos sin decimales. Puedes declarar variables enteras de la siguiente manera:"
      ]
    },
    {
      "cell_type": "code",
      "execution_count": 43,
      "metadata": {
        "colab": {
          "base_uri": "https://localhost:8080/"
        },
        "id": "ZfyEDLY9IGSG",
        "outputId": "68f85b8e-4f1e-45f4-f0aa-2adada21760e"
      },
      "outputs": [
        {
          "output_type": "execute_result",
          "data": {
            "text/plain": [
              "5"
            ]
          },
          "metadata": {},
          "execution_count": 43
        }
      ],
      "source": [
        "x = 5\n",
        "x"
      ]
    },
    {
      "cell_type": "code",
      "execution_count": 44,
      "metadata": {
        "colab": {
          "base_uri": "https://localhost:8080/"
        },
        "id": "QlJJSv1uAhxX",
        "outputId": "9efc0619-be49-4cea-ee21-641bed667441"
      },
      "outputs": [
        {
          "output_type": "execute_result",
          "data": {
            "text/plain": [
              "int"
            ]
          },
          "metadata": {},
          "execution_count": 44
        }
      ],
      "source": [
        "type(x)"
      ]
    },
    {
      "cell_type": "markdown",
      "metadata": {
        "id": "3dksikIUIO1v"
      },
      "source": [
        "**Flotantes(float)**"
      ]
    },
    {
      "cell_type": "markdown",
      "metadata": {
        "id": "qSLJvmqQJCS0"
      },
      "source": [
        "Los números de punto flotante son valores numéricos con decimales. Puedes declarar variables de punto flotante de la siguiente manera:"
      ]
    },
    {
      "cell_type": "code",
      "execution_count": 45,
      "metadata": {
        "colab": {
          "base_uri": "https://localhost:8080/"
        },
        "id": "aJSFPgROIOZ0",
        "outputId": "8fed1404-c52e-4692-dde9-2ef344c224fd"
      },
      "outputs": [
        {
          "output_type": "execute_result",
          "data": {
            "text/plain": [
              "3.134"
            ]
          },
          "metadata": {},
          "execution_count": 45
        }
      ],
      "source": [
        "y = 3.134\n",
        "y"
      ]
    },
    {
      "cell_type": "code",
      "execution_count": 46,
      "metadata": {
        "colab": {
          "base_uri": "https://localhost:8080/"
        },
        "id": "UCrcZ0l2ApIa",
        "outputId": "66c1dc89-81b7-426e-fefa-5d73266f221a"
      },
      "outputs": [
        {
          "output_type": "execute_result",
          "data": {
            "text/plain": [
              "float"
            ]
          },
          "metadata": {},
          "execution_count": 46
        }
      ],
      "source": [
        "type(y)"
      ]
    },
    {
      "cell_type": "markdown",
      "metadata": {
        "id": "WqgDSNWkIVrN"
      },
      "source": [
        "**Cadenas(str)**"
      ]
    },
    {
      "cell_type": "markdown",
      "metadata": {
        "id": "nbk3zneyJI9H"
      },
      "source": [
        "Las cadenas de caracteres son secuencias de caracteres encerradas en comillas (simples o dobles). Puedes declarar variables de cadena de caracteres de la siguiente manera:"
      ]
    },
    {
      "cell_type": "code",
      "execution_count": 47,
      "metadata": {
        "colab": {
          "base_uri": "https://localhost:8080/",
          "height": 35
        },
        "id": "TAh54IMQHR70",
        "outputId": "048aa36b-1968-4615-df6f-13dad6d76db1"
      },
      "outputs": [
        {
          "output_type": "execute_result",
          "data": {
            "text/plain": [
              "'Jose'"
            ],
            "application/vnd.google.colaboratory.intrinsic+json": {
              "type": "string"
            }
          },
          "metadata": {},
          "execution_count": 47
        }
      ],
      "source": [
        "nombre = 'Jose'\n",
        "nombre"
      ]
    },
    {
      "cell_type": "code",
      "execution_count": 48,
      "metadata": {
        "colab": {
          "base_uri": "https://localhost:8080/"
        },
        "id": "v4SUXE_BAsKK",
        "outputId": "c060a2ab-e58b-4030-e526-3cf1dea7f852"
      },
      "outputs": [
        {
          "output_type": "execute_result",
          "data": {
            "text/plain": [
              "str"
            ]
          },
          "metadata": {},
          "execution_count": 48
        }
      ],
      "source": [
        "type(nombre)"
      ]
    },
    {
      "cell_type": "markdown",
      "metadata": {
        "id": "PUI3bUK-K0Et"
      },
      "source": [
        "**Booleanos (bool):**"
      ]
    },
    {
      "cell_type": "markdown",
      "metadata": {
        "id": "DQRtdByiKz4q"
      },
      "source": [
        "Las variables booleanas representan valores de verdad o falsedad. Solo pueden tener dos valores: **True** (verdadero) o **False** (falso). Puedes declarar variables booleanas de la siguiente manera:"
      ]
    },
    {
      "cell_type": "code",
      "execution_count": 49,
      "metadata": {
        "colab": {
          "base_uri": "https://localhost:8080/"
        },
        "id": "Da9Bw2zVKlBz",
        "outputId": "23b62206-9c8b-4c69-b278-1504a82edb1d"
      },
      "outputs": [
        {
          "output_type": "execute_result",
          "data": {
            "text/plain": [
              "True"
            ]
          },
          "metadata": {},
          "execution_count": 49
        }
      ],
      "source": [
        "es_mayor_de_edad = True\n",
        "es_mayor_de_edad"
      ]
    },
    {
      "cell_type": "code",
      "execution_count": 50,
      "metadata": {
        "colab": {
          "base_uri": "https://localhost:8080/"
        },
        "id": "8SzGDsjdBKfM",
        "outputId": "d5e65820-03be-4600-b4ae-4430f1388842"
      },
      "outputs": [
        {
          "output_type": "execute_result",
          "data": {
            "text/plain": [
              "bool"
            ]
          },
          "metadata": {},
          "execution_count": 50
        }
      ],
      "source": [
        "type(es_mayor_de_edad)"
      ]
    },
    {
      "cell_type": "markdown",
      "metadata": {
        "id": "ELArnvJZLDT8"
      },
      "source": [
        "**Nulos (NoneType):**"
      ]
    },
    {
      "cell_type": "markdown",
      "metadata": {
        "id": "cQyJMa0YLCy2"
      },
      "source": [
        "**None** es un tipo especial en Python que representa la ausencia de un valor. Se utiliza para indicar que una variable no tiene un valor asignado o que una función no devuelve ningún valor. Puedes declarar variables con valor **None** de la siguiente manera:"
      ]
    },
    {
      "cell_type": "code",
      "execution_count": 51,
      "metadata": {
        "id": "BZm0PZT0LB6Q"
      },
      "outputs": [],
      "source": [
        "valor = None\n",
        "valor"
      ]
    },
    {
      "cell_type": "code",
      "execution_count": 52,
      "metadata": {
        "colab": {
          "base_uri": "https://localhost:8080/"
        },
        "id": "JutTkLOzBPSK",
        "outputId": "11ad594e-a184-4fa2-a17d-23415f514949"
      },
      "outputs": [
        {
          "output_type": "execute_result",
          "data": {
            "text/plain": [
              "NoneType"
            ]
          },
          "metadata": {},
          "execution_count": 52
        }
      ],
      "source": [
        "type(valor)"
      ]
    },
    {
      "cell_type": "markdown",
      "metadata": {
        "id": "7VEIJgNq4eba"
      },
      "source": [
        "**4.3 Operaciones con variables**"
      ]
    },
    {
      "cell_type": "markdown",
      "metadata": {
        "id": "A3eji6mH402d"
      },
      "source": [
        "**Ejemplo**: Calcular el **km_promedio** con ayuda de la siguinte ecuacion\n",
        "\n",
        "\n",
        "km(promdeio) = km_total / (Año_actual - Año_fabricacion)"
      ]
    },
    {
      "cell_type": "code",
      "execution_count": 53,
      "metadata": {
        "id": "Sie6pKMx4ivp"
      },
      "outputs": [],
      "source": [
        "año_actual = 2023\n",
        "año_fabricacion = 2000\n",
        "km_total = 44410.0"
      ]
    },
    {
      "cell_type": "code",
      "execution_count": 54,
      "metadata": {
        "colab": {
          "base_uri": "https://localhost:8080/"
        },
        "id": "DZ8sgxeB4v57",
        "outputId": "0c63c243-d346-479b-97dd-06dbd8c2a9f8"
      },
      "outputs": [
        {
          "output_type": "execute_result",
          "data": {
            "text/plain": [
              "2023"
            ]
          },
          "metadata": {},
          "execution_count": 54
        }
      ],
      "source": [
        "año_actual"
      ]
    },
    {
      "cell_type": "code",
      "execution_count": 55,
      "metadata": {
        "colab": {
          "base_uri": "https://localhost:8080/"
        },
        "id": "IM1uZjwe4vud",
        "outputId": "814e7e41-22b7-485d-bf1a-1dca02448996"
      },
      "outputs": [
        {
          "output_type": "execute_result",
          "data": {
            "text/plain": [
              "2000"
            ]
          },
          "metadata": {},
          "execution_count": 55
        }
      ],
      "source": [
        "año_fabricacion"
      ]
    },
    {
      "cell_type": "code",
      "execution_count": 56,
      "metadata": {
        "colab": {
          "base_uri": "https://localhost:8080/"
        },
        "id": "3-zNfkSQ4vjl",
        "outputId": "ceaa2c53-07a1-4fac-8db3-16df1e600093"
      },
      "outputs": [
        {
          "output_type": "execute_result",
          "data": {
            "text/plain": [
              "44410.0"
            ]
          },
          "metadata": {},
          "execution_count": 56
        }
      ],
      "source": [
        "km_total"
      ]
    },
    {
      "cell_type": "code",
      "execution_count": 57,
      "metadata": {
        "id": "gXzjfeHj4vX-"
      },
      "outputs": [],
      "source": [
        "km_promedio = km_total / (año_actual - año_fabricacion)"
      ]
    },
    {
      "cell_type": "code",
      "execution_count": 58,
      "metadata": {
        "colab": {
          "base_uri": "https://localhost:8080/"
        },
        "id": "UlOpXOZB5EDJ",
        "outputId": "ba7e7fb8-0ed7-4448-e2da-533d66f64bc3"
      },
      "outputs": [
        {
          "output_type": "execute_result",
          "data": {
            "text/plain": [
              "1930.8695652173913"
            ]
          },
          "metadata": {},
          "execution_count": 58
        }
      ],
      "source": [
        "km_promedio"
      ]
    },
    {
      "cell_type": "code",
      "execution_count": 59,
      "metadata": {
        "colab": {
          "base_uri": "https://localhost:8080/"
        },
        "id": "d2MO4J105wsV",
        "outputId": "95747082-07c4-441a-8645-64e520ffe852"
      },
      "outputs": [
        {
          "output_type": "execute_result",
          "data": {
            "text/plain": [
              "46340.86956521739"
            ]
          },
          "metadata": {},
          "execution_count": 59
        }
      ],
      "source": [
        "#Declarando variables\n",
        "año_actual = 2023\n",
        "año_fabricacion = 2000\n",
        "km_total = 44410.0\n",
        "\n",
        "#Realizando la operacion\n",
        "km_promedio = km_total / (año_actual - año_fabricacion)\n",
        "\n",
        "'''\n",
        "El simbolo += significa el km_total se va a sumar con el km_promedio\n",
        "y se guardar en la variable km_total\n",
        "km_total = km_total + km_promedio\n",
        "'''\n",
        "\n",
        "km_total += km_promedio\n",
        "km_total"
      ]
    },
    {
      "cell_type": "markdown",
      "metadata": {
        "id": "dP_orw0B87AY"
      },
      "source": [
        "\"valor = valor + 1\" es equivalente a \"**valor += 1**\""
      ]
    },
    {
      "cell_type": "markdown",
      "metadata": {
        "id": "M4_iRqzkknfF"
      },
      "source": [
        "**4.4. Convercion de variables**"
      ]
    },
    {
      "cell_type": "markdown",
      "metadata": {
        "id": "dHbkUB5Ile3q"
      },
      "source": [
        "Convertir una variable se refiere a cambiar su tipo de un tipo a otro. En Python, puedes realizar conversiones de tipo utilizando funciones o constructores de tipos específicos. Esto es útil cuando necesitas adaptar un valor de un tipo a otro para realizar operaciones específicas o trabajar con variables en un formato diferente.\n",
        "\n",
        "**Convertir una variable en Python:**\n",
        "\n",
        "1. Uso de constructores de tipos:\n",
        "Puedes utilizar los constructores de tipos incorporados para convertir varaibles a tipos específicos. Algunos ejemplos comunes incluyen **int(), float(), str(), list(), set(), bool()**, entre otros.\n",
        "\n",
        "2. Funciones de conversión:\n",
        "Python proporciona funciones de conversión específicas como **int(), float(), str(), list(), set(), bool(), tuple(), etc.**, que permiten realizar conversiones de tipo de manera más específica.\n",
        "\n",
        "**Para qué serviría:**\n",
        "\n",
        "1. **Validación de entrada:** Puedes convertir variables ingresados por el usuario a tipos específicos para asegurarte de que cumplan con el formato esperado.\n",
        "\n",
        "2. **Operaciones matemáticas:** A veces, necesitas realizar operaciones matemáticas que requieren que las variables sean del mismo tipo, por lo que debes convertirlos.\n",
        "\n",
        "3. **Interacción con bibliotecas o APIs**: Al trabajar con bibliotecas o APIs externas, es posible que necesites adaptar las variables a los tipos requeridos por esas bibliotecas."
      ]
    },
    {
      "cell_type": "markdown",
      "metadata": {
        "id": "tjPLQf_tl0JE"
      },
      "source": [
        "**Ejemplo:**\n",
        "\n",
        "Supongamos que tienes una entrada de usuario que es una cadena de texto que representa un número, y deseas convertirla a un número entero para realizar una operación matemática. Aquí tienes un ejemplo:"
      ]
    },
    {
      "cell_type": "code",
      "execution_count": 60,
      "metadata": {
        "colab": {
          "base_uri": "https://localhost:8080/"
        },
        "id": "oS_S7ktkkm0a",
        "outputId": "9ab926a0-7e55-4bfc-d7dd-4e715c1696a6"
      },
      "outputs": [
        {
          "output_type": "stream",
          "name": "stdout",
          "text": [
            "Ingrese un número entero: 12\n",
            "El doble del número es: 24\n"
          ]
        }
      ],
      "source": [
        "entrada_usuario = input(\"Ingrese un número entero: \")\n",
        "try:\n",
        "    numero_entero = int(entrada_usuario)\n",
        "    resultado = numero_entero * 2\n",
        "    print(f\"El doble del número es: {resultado}\")\n",
        "except ValueError:\n",
        "    print(\"La entrada no es un número entero válido.\")\n"
      ]
    },
    {
      "cell_type": "markdown",
      "metadata": {
        "id": "BiYXTXpUwF0Q"
      },
      "source": [
        "La función **input()** en Python se utiliza para obtener información del usuario a través del teclado. Permite que el programa espere a que el usuario introduzca datos y presione la tecla \"Enter\". La función **input()** toma una cadena de texto (opcional) como argumento, que se muestra como un mensaje o indicación al usuario."
      ]
    },
    {
      "cell_type": "markdown",
      "metadata": {
        "id": "qMReMBFhl92U"
      },
      "source": [
        "**int(entrada_usuario)** se utiliza para convertir la entrada del usuario en un número entero. Esto se realiza por que al tener **input** te devuelve un resultado **str**\n",
        "\n",
        "Si el usuario proporciona una entrada válida, se calcula el doble del número y se muestra el resultado. Si la entrada no es un número válido (por ejemplo, si el usuario ingresa una letra en lugar de un número), se maneja la excepción **ValueError** para informar al usuario que la entrada no es válida."
      ]
    },
    {
      "cell_type": "markdown",
      "metadata": {
        "id": "BnHf0yhrmfT6"
      },
      "source": [
        "**Ejemplo:**"
      ]
    },
    {
      "cell_type": "code",
      "execution_count": 61,
      "metadata": {
        "colab": {
          "base_uri": "https://localhost:8080/"
        },
        "id": "601TGF4SmcRX",
        "outputId": "455818b1-2aa7-46e4-e3a6-2c711fc525f4"
      },
      "outputs": [
        {
          "output_type": "stream",
          "name": "stdout",
          "text": [
            "<class 'int'> 42\n",
            "<class 'str'> 42\n",
            "<class 'int'> 42\n"
          ]
        }
      ],
      "source": [
        "numero_entero = 42\n",
        "numero_texto = str(numero_entero)  # Convertir el número entero a cadena\n",
        "numero_nuevamente = int(numero_texto)  # Convertir la cadena nuevamente a número entero\n",
        "\n",
        "print(type(numero_entero), numero_entero)\n",
        "print(type(numero_texto), numero_texto)\n",
        "print(type(numero_nuevamente), numero_nuevamente )"
      ]
    },
    {
      "cell_type": "markdown",
      "metadata": {
        "id": "OW1JxAUGnSvq"
      },
      "source": [
        "En este ejemplo, comenzamos con un número entero **42**. Luego, convertimos este número en una cadena de texto utilizando **str(numero_entero)**. Después, convertimos la cadena de texto nuevamente a un número entero utilizando **int(numero_texto).**\n",
        "\n",
        "El resultado final es que **numero_nuevamente** contiene el número entero **42**, pero hemos realizado dos conversiones redundantes entre tipo de datos: primero de entero a cadena y luego de cadena a entero. En la mayoría de los casos, no tendría sentido realizar estas conversiones consecutivas, ya que podríamos trabajar directamente con el número entero original sin necesidad de convertirlo a cadena y luego volver a convertirlo en entero."
      ]
    },
    {
      "cell_type": "markdown",
      "metadata": {
        "id": "CE7V6TqKiKSz"
      },
      "source": [
        "#<h1 style=\"font-size: 18px;\"><strong>5.  Tipo de Datos en Python</strong></h1>"
      ]
    },
    {
      "cell_type": "markdown",
      "source": [
        "**5.0 Mutabilidad e Inmutabilidad**"
      ],
      "metadata": {
        "id": "DT63HkPnjC_X"
      }
    },
    {
      "cell_type": "markdown",
      "source": [
        "Los tipos de datos tienen dos categorias mutables e inmutables. Los mutables son aquellos datos a los que se le puede cambiar el tipo de dato depues de haber sido creados mientras que los inmutables son los tipos de datos que no pueden ser cambiados depues de haber sido creados\n"
      ],
      "metadata": {
        "id": "MlyN-zjLjJu5"
      }
    },
    {
      "cell_type": "markdown",
      "source": [
        "\n",
        "**Inmutables:** (int, str, bool, tuplas)\n",
        "Cuando cambias un valor int a otro por jemplo:\n"
      ],
      "metadata": {
        "id": "yGQtaDHTjXUj"
      }
    },
    {
      "cell_type": "code",
      "source": [
        "edad = 18\n",
        "print(id(edad))\n",
        "\n",
        "edad = 19\n",
        "print(id(edad))\n",
        "# Lo que pasa por debajo es que se esta eliminando el primero para crear el segundo por eso\n",
        "# el id no es el mismo."
      ],
      "metadata": {
        "colab": {
          "base_uri": "https://localhost:8080/"
        },
        "id": "K_GsalX0jX3V",
        "outputId": "03e225a3-8f86-404e-bd4b-1c8fc6d41d03"
      },
      "execution_count": 62,
      "outputs": [
        {
          "output_type": "stream",
          "name": "stdout",
          "text": [
            "135635974062864\n",
            "135635974062896\n"
          ]
        }
      ]
    },
    {
      "cell_type": "markdown",
      "source": [
        "**Mutables:** (list, sets, dict)\n",
        "Cuando modificas el valor de una lista, un sets o un dict sigue tendiendo el mismo id por ejemplo:\n"
      ],
      "metadata": {
        "id": "SRpv2o58jnwd"
      }
    },
    {
      "cell_type": "code",
      "source": [
        "lista = [1,2,3,4]\n",
        "print(id(lista[0]))\n",
        "#   en este caso la lista le esta generando un id a cada valor que no va ha cambiar\n",
        "print(id(lista))\n",
        "#    si la lista le agrego un valor al final con el metodo append() no va ha cambiar el id de\n",
        "#    lista si no que va ha generar otro pero para el valor mismo\n",
        "lista.append(5)\n",
        "print(id(lista))"
      ],
      "metadata": {
        "colab": {
          "base_uri": "https://localhost:8080/"
        },
        "id": "24337IIxjuh9",
        "outputId": "4899abaf-06ae-4324-8352-e2e1dc3037b2"
      },
      "execution_count": 63,
      "outputs": [
        {
          "output_type": "stream",
          "name": "stdout",
          "text": [
            "135635974062320\n",
            "135635674450560\n",
            "135635674450560\n"
          ]
        }
      ]
    },
    {
      "cell_type": "markdown",
      "metadata": {
        "id": "RhEkZWc_ybJV"
      },
      "source": [
        "**5.1 Tipos de Datos Primitivos**"
      ]
    },
    {
      "cell_type": "markdown",
      "metadata": {
        "id": "HHgxkpghiZZ3"
      },
      "source": [
        "Los tipos de datos primitivos en Python son elementos fundamentales que se utilizan para representar información. A continuación, exploraremos los tipos de datos primitivos más comunes y veremos ejemplos de cómo se utilizan."
      ]
    },
    {
      "cell_type": "markdown",
      "metadata": {
        "id": "f8OVEkFIip-i"
      },
      "source": [
        "**5.1.1 Números Enteros (int)**\n",
        "\n",
        "Los números enteros son valores numéricos sin decimales. Puedes utilizarlos para representar cantidades enteras. En python los enteros no tiene un limite a diferencia de otros lenguajes donde si tiene limites, el limite en este caso es la cantidad de memoria que se pueda aceptar"
      ]
    },
    {
      "cell_type": "code",
      "execution_count": 64,
      "metadata": {
        "id": "PJ4m8UHPi_U-"
      },
      "outputs": [],
      "source": [
        "edad = 25\n",
        "numero_negativo = -10"
      ]
    },
    {
      "cell_type": "code",
      "execution_count": 65,
      "metadata": {
        "colab": {
          "base_uri": "https://localhost:8080/"
        },
        "id": "k1WPTPh4ymHl",
        "outputId": "58ef412b-3992-418e-caed-44c1dced545b"
      },
      "outputs": [
        {
          "output_type": "execute_result",
          "data": {
            "text/plain": [
              "int"
            ]
          },
          "metadata": {},
          "execution_count": 65
        }
      ],
      "source": [
        "type(edad)"
      ]
    },
    {
      "cell_type": "code",
      "execution_count": 66,
      "metadata": {
        "colab": {
          "base_uri": "https://localhost:8080/"
        },
        "id": "Xnz5g8_zypTv",
        "outputId": "a0b5531a-8dde-4887-923d-0f5d4aa3b987"
      },
      "outputs": [
        {
          "output_type": "execute_result",
          "data": {
            "text/plain": [
              "int"
            ]
          },
          "metadata": {},
          "execution_count": 66
        }
      ],
      "source": [
        "type(numero_negativo)"
      ]
    },
    {
      "cell_type": "markdown",
      "metadata": {
        "id": "WsV5RxVhywEU"
      },
      "source": [
        "**Operaciones con Números Enteros:**\n",
        "\n",
        "*   Suma (+), Resta (-), Multiplicación (*), División (/)\n",
        "*   Potenciación (**)\n",
        "*   Módulo (%)\n",
        "\n",
        "\n",
        "\n",
        "\n",
        "\n"
      ]
    },
    {
      "cell_type": "markdown",
      "metadata": {
        "id": "wuO5D2dSi_22"
      },
      "source": [
        "**5.1.2. Números de Punto Flotante (float):**\n",
        "\n",
        "Los números de punto flotante son valores numéricos con decimales. Puedes utilizarlos para representar cantidades fraccionarias o números con parte decimal. Los numeros reales son aquellos que tiene un parte entera y otra decimal, estos tipos de datos usan el estandar IEEE 754 este estandar lo utilizan para las operaciones aritmeticas, se almacena en 64 bit dividido en 3 secciones:\n",
        "\n",
        "\n",
        "1.   Sign = 1 bit (representa el signo)\n",
        "2.   Exponent = 11 bits (representa el exponente)\n",
        "3. Mantissa = 52 bits (representa el mantisa)\n",
        "\n",
        "Python asi como los otros lenguajes que usa este estandar son subseptible a errores de redondeo debido a la complejidad de convertir un float a binario, por lo que se pierde infromacion, Aquí tienes ejemplos:"
      ]
    },
    {
      "cell_type": "code",
      "source": [
        "primer_valor = 0.7\n",
        "segundo_valor = 0.6\n",
        "print(primer_valor + segundo_valor)"
      ],
      "metadata": {
        "colab": {
          "base_uri": "https://localhost:8080/"
        },
        "id": "GElwY8hkMM6B",
        "outputId": "0d5f5725-c448-42bf-cd8e-6ebffabf561d"
      },
      "execution_count": 67,
      "outputs": [
        {
          "output_type": "stream",
          "name": "stdout",
          "text": [
            "1.2999999999999998\n"
          ]
        }
      ]
    },
    {
      "cell_type": "markdown",
      "source": [
        "El resultado nos deberia de dar **1.3** pero en cambio nos da: 1.29999999999999998, debes de tener en cuenta esto para realizar operaciones con punto flotante y mas si lo estas utilizando paradesarrollar aplicaciones financieras o de uso cientifico para esos caso es mejor usar el tipo de dato DECIMAL"
      ],
      "metadata": {
        "id": "isK9d8SIMQ99"
      }
    },
    {
      "cell_type": "code",
      "execution_count": 68,
      "metadata": {
        "id": "R0xAd1LBjAPl"
      },
      "outputs": [],
      "source": [
        "pi = 3.14159\n",
        "saldo = 1000.50"
      ]
    },
    {
      "cell_type": "code",
      "execution_count": 69,
      "metadata": {
        "colab": {
          "base_uri": "https://localhost:8080/"
        },
        "id": "SHMj5SVHzEKf",
        "outputId": "7fc03b6f-5f5a-4ef7-f99a-970fb8868ed2"
      },
      "outputs": [
        {
          "output_type": "execute_result",
          "data": {
            "text/plain": [
              "float"
            ]
          },
          "metadata": {},
          "execution_count": 69
        }
      ],
      "source": [
        "type(pi)"
      ]
    },
    {
      "cell_type": "code",
      "execution_count": 70,
      "metadata": {
        "colab": {
          "base_uri": "https://localhost:8080/"
        },
        "id": "6JyCLlJCzD79",
        "outputId": "bfacea6a-e3ea-4126-d929-cd60a2906085"
      },
      "outputs": [
        {
          "output_type": "execute_result",
          "data": {
            "text/plain": [
              "float"
            ]
          },
          "metadata": {},
          "execution_count": 70
        }
      ],
      "source": [
        "type(saldo)"
      ]
    },
    {
      "cell_type": "markdown",
      "metadata": {
        "id": "w84wzL33zJRJ"
      },
      "source": [
        "**Operaciones con Números de Punto Flotante:**\n",
        "\n",
        "\n",
        "\n",
        "*   Suma (+), Resta (-), Multiplicación (*), División (/)\n",
        "*   Potenciación (**)\n",
        "\n",
        "\n",
        "\n"
      ]
    },
    {
      "cell_type": "markdown",
      "metadata": {
        "id": "cbSKIXBTjAh7"
      },
      "source": [
        "**5.1.3. Cadenas de Caracteres (str)**\n",
        "\n",
        "Las cadenas de caracteres son secuencias de caracteres que se utilizan para representar texto. Pueden estar encerradas en comillas simples (') o dobles (\"). Aquí tienes ejemplos:\n"
      ]
    },
    {
      "cell_type": "code",
      "execution_count": 71,
      "metadata": {
        "id": "BoDkMcdCjA5u"
      },
      "outputs": [],
      "source": [
        "nombre = 'Ana'\n",
        "mensaje = \"Hola, ¿cómo estás?\"\n",
        "texto = '''Ana y Juan\n",
        "son muuy buenos\n",
        "amigos'''"
      ]
    },
    {
      "cell_type": "code",
      "execution_count": 72,
      "metadata": {
        "colab": {
          "base_uri": "https://localhost:8080/"
        },
        "id": "aUBmcYm4zTYC",
        "outputId": "6fb4f320-7ef1-4c7e-c0db-df69baca7a1b"
      },
      "outputs": [
        {
          "output_type": "execute_result",
          "data": {
            "text/plain": [
              "str"
            ]
          },
          "metadata": {},
          "execution_count": 72
        }
      ],
      "source": [
        "type(nombre)"
      ]
    },
    {
      "cell_type": "code",
      "execution_count": 73,
      "metadata": {
        "colab": {
          "base_uri": "https://localhost:8080/"
        },
        "id": "2ajbphNizTGl",
        "outputId": "1746527f-9b62-4ddc-e69a-73e722935802"
      },
      "outputs": [
        {
          "output_type": "execute_result",
          "data": {
            "text/plain": [
              "str"
            ]
          },
          "metadata": {},
          "execution_count": 73
        }
      ],
      "source": [
        "type(mensaje)"
      ]
    },
    {
      "cell_type": "code",
      "source": [
        "type(texto)"
      ],
      "metadata": {
        "colab": {
          "base_uri": "https://localhost:8080/"
        },
        "id": "A-UrDK1bMm5t",
        "outputId": "20cac0ea-09a6-41dd-aea2-509269a91f1e"
      },
      "execution_count": 74,
      "outputs": [
        {
          "output_type": "execute_result",
          "data": {
            "text/plain": [
              "str"
            ]
          },
          "metadata": {},
          "execution_count": 74
        }
      ]
    },
    {
      "cell_type": "code",
      "source": [
        "# Tambien podemos saber el tamaño de longitud de caracteres:\n",
        "print(len(texto))"
      ],
      "metadata": {
        "colab": {
          "base_uri": "https://localhost:8080/"
        },
        "id": "6bTiumIzM0mt",
        "outputId": "7284d998-b260-4379-f8db-270c4c082326"
      },
      "execution_count": 75,
      "outputs": [
        {
          "output_type": "stream",
          "name": "stdout",
          "text": [
            "33\n"
          ]
        }
      ]
    },
    {
      "cell_type": "code",
      "source": [
        "# Los especioes en blanco tambien son conciderados como caracteres\n",
        "blanco = \"  \"\n",
        "print(len(blanco))"
      ],
      "metadata": {
        "colab": {
          "base_uri": "https://localhost:8080/"
        },
        "id": "lAuWQds7M2FZ",
        "outputId": "5b5241dd-fd31-42ea-c79a-0dc6bfa4e16e"
      },
      "execution_count": 76,
      "outputs": [
        {
          "output_type": "stream",
          "name": "stdout",
          "text": [
            "2\n"
          ]
        }
      ]
    },
    {
      "cell_type": "code",
      "source": [
        "# Se pueden elimiar prefifjos y subfijos y es con el siguinte metodo:\n",
        "producto_1 = \"00001 - Manzana\"\n",
        "producto_2 = \"Manzana - 00001\""
      ],
      "metadata": {
        "id": "GyTeuyNLM47j"
      },
      "execution_count": 77,
      "outputs": []
    },
    {
      "cell_type": "code",
      "source": [
        "# Removiendo prefijo\n",
        "print(producto_1.removeprefix('00001 - '))"
      ],
      "metadata": {
        "colab": {
          "base_uri": "https://localhost:8080/"
        },
        "id": "Hye7rtyKM8C-",
        "outputId": "58c3da0c-1154-4a7f-c523-d54f6ea8f1bf"
      },
      "execution_count": 78,
      "outputs": [
        {
          "output_type": "stream",
          "name": "stdout",
          "text": [
            "Manzana\n"
          ]
        }
      ]
    },
    {
      "cell_type": "code",
      "source": [
        "# Removiendo subfijo\n",
        "print(producto_2.removesuffix(' - 00001'))"
      ],
      "metadata": {
        "colab": {
          "base_uri": "https://localhost:8080/"
        },
        "id": "-biEb0ThM99b",
        "outputId": "7f5b3919-1ceb-4311-f712-2e680b61f918"
      },
      "execution_count": 79,
      "outputs": [
        {
          "output_type": "stream",
          "name": "stdout",
          "text": [
            "Manzana\n"
          ]
        }
      ]
    },
    {
      "cell_type": "markdown",
      "metadata": {
        "id": "ItN90ubXzZ1Y"
      },
      "source": [
        "**Operaciones con Cadenas de Caracteres:**\n",
        "\n",
        "\n",
        "\n",
        "*   Concatenación (+): Unión de cadenas\n",
        "*   Indexación y segmentación: Acceso a caracteres individuales o subcadenas\n",
        "*   Métodos de cadena: Transformación y manipulación de cadenas\n",
        "\n",
        "\n",
        "\n",
        "\n",
        "\n",
        "\n"
      ]
    },
    {
      "cell_type": "markdown",
      "metadata": {
        "id": "hhmEACWjjBT1"
      },
      "source": [
        "**5.1.4. Booleanos (bool)**\n",
        "\n",
        "Los valores booleanos representan la verdad (True) o la falsedad (False). Se utilizan en evaluaciones condicionales. Aquí tienes ejemplos:"
      ]
    },
    {
      "cell_type": "code",
      "execution_count": 80,
      "metadata": {
        "id": "skjm-ja4jBqX"
      },
      "outputs": [],
      "source": [
        "edad = 18"
      ]
    },
    {
      "cell_type": "code",
      "execution_count": 81,
      "metadata": {
        "colab": {
          "base_uri": "https://localhost:8080/"
        },
        "id": "7RA363js_vYT",
        "outputId": "8582d641-c81d-4cfd-caa3-41c06b4050e9"
      },
      "outputs": [
        {
          "output_type": "execute_result",
          "data": {
            "text/plain": [
              "True"
            ]
          },
          "metadata": {},
          "execution_count": 81
        }
      ],
      "source": [
        "edad >= 18"
      ]
    },
    {
      "cell_type": "code",
      "execution_count": 82,
      "metadata": {
        "colab": {
          "base_uri": "https://localhost:8080/"
        },
        "id": "xGb_nsDb_zPJ",
        "outputId": "4f07e3cd-ef8a-49b3-d2b1-5bd67efd00af"
      },
      "outputs": [
        {
          "output_type": "execute_result",
          "data": {
            "text/plain": [
              "False"
            ]
          },
          "metadata": {},
          "execution_count": 82
        }
      ],
      "source": [
        "edad < 18"
      ]
    },
    {
      "cell_type": "code",
      "execution_count": 83,
      "metadata": {
        "colab": {
          "base_uri": "https://localhost:8080/"
        },
        "id": "qKTWsL4tzx4u",
        "outputId": "bcf71378-441d-4617-f92e-85ce6a885d7e"
      },
      "outputs": [
        {
          "output_type": "execute_result",
          "data": {
            "text/plain": [
              "bool"
            ]
          },
          "metadata": {},
          "execution_count": 83
        }
      ],
      "source": [
        "type(edad == 18)"
      ]
    },
    {
      "cell_type": "markdown",
      "metadata": {
        "id": "ZPKy27AEz63c"
      },
      "source": [
        "**Operaciones con Valores Booleanos:**\n",
        "\n",
        "\n",
        "\n",
        "*   Operadores lógicos (and, or, not)\n",
        "*   Comparaciones (==, !=, <, >, <=, >=)\n",
        "\n",
        "\n"
      ]
    },
    {
      "cell_type": "markdown",
      "metadata": {
        "id": "XtfJ_OYg0J7W"
      },
      "source": [
        "**5.2. Estructuras de Datos en Python**"
      ]
    },
    {
      "cell_type": "markdown",
      "metadata": {
        "id": "m_jYJ1fH0X1-"
      },
      "source": [
        "Además de los tipos de datos primitivos, Python ofrece una variedad de estructuras de datos más complejas que permiten organizar y manipular datos de manera eficiente. A continuación, exploraremos algunas de las estructuras de datos más utilizadas:"
      ]
    },
    {
      "cell_type": "markdown",
      "metadata": {
        "id": "5lTVSbjC0gpP"
      },
      "source": [
        "**5.2.1 Listas:**\n",
        "\n",
        "**Mutable:** Las listas son estructuras de datos mutables, lo que significa que puedes modificar sus elementos, agregar nuevos elementos o eliminar elementos existentes.\n",
        "\n",
        "**Ordenada:** Los elementos en una lista mantienen un orden específico, lo que significa que puedes acceder a ellos por su posición, empezando desde el índice 0 hasta el índice n-1, donde n es el número total de elementos en la lista.\n",
        "\n",
        "**Heterogénea:** Las listas pueden contener elementos de diferentes tipos de datos. Por ejemplo, puedes tener una lista que contenga números enteros, cadenas de caracteres, flotantes, u otros tipos de datos.\n",
        "\n",
        "**Indexación y segmentación:** Puedes acceder a elementos individuales de una lista utilizando su índice, y también puedes usar la segmentación (slicing) para obtener sublistas o para modificar varios elementos a la vez.\n",
        "\n",
        "**Iterable:** Puedes recorrer los elementos de una lista utilizando un bucle for, lo que la hace compatible con las estructuras de control de flujo de Python como los bucles for.\n",
        "\n",
        "**Puede contener elementos duplicados:** A diferencia de los conjuntos (sets), las listas pueden contener elementos duplicados.\n",
        "\n",
        "**Flexible:** Las listas pueden cambiar de tamaño dinámicamente, lo que significa que puedes agregar nuevos elementos, eliminar elementos existentes o modificar elementos sin necesidad de crear una nueva lista.\n",
        "\n",
        " Se definen utilizando corchetes **[ ]** y separando los elementos con comas. Ejemplos:"
      ]
    },
    {
      "cell_type": "code",
      "execution_count": 84,
      "metadata": {
        "id": "_syRQStzjlIl"
      },
      "outputs": [],
      "source": [
        "lista_nombres = [\"Juan\", \"Ana\", \"María\"]"
      ]
    },
    {
      "cell_type": "code",
      "execution_count": 85,
      "metadata": {
        "colab": {
          "base_uri": "https://localhost:8080/"
        },
        "id": "Mywqq0FJ1SK-",
        "outputId": "4a8c6dba-a1e5-417d-9d51-64f14bef6a8b"
      },
      "outputs": [
        {
          "output_type": "execute_result",
          "data": {
            "text/plain": [
              "['Juan', 'Ana', 'María']"
            ]
          },
          "metadata": {},
          "execution_count": 85
        }
      ],
      "source": [
        "lista_nombres"
      ]
    },
    {
      "cell_type": "code",
      "execution_count": 86,
      "metadata": {
        "colab": {
          "base_uri": "https://localhost:8080/"
        },
        "id": "8ACDnGNN0p10",
        "outputId": "c3908d31-704e-48ef-b6b3-3e7bed41aaec"
      },
      "outputs": [
        {
          "output_type": "execute_result",
          "data": {
            "text/plain": [
              "list"
            ]
          },
          "metadata": {},
          "execution_count": 86
        }
      ],
      "source": [
        "type(lista_nombres)"
      ]
    },
    {
      "cell_type": "markdown",
      "metadata": {
        "id": "DJfmKifm01oU"
      },
      "source": [
        "**Operaciones con Listas:**\n",
        "\n",
        "* Acceso por índice: **mi_lista[0]** devuelve el primer elemento.\n",
        "\n",
        "* Longitud de la lista: **len(mi_lista)** retorna la cantidad de elementos.\n",
        "\n",
        "* Agregar elementos: **mi_lista.append(6)** agrega un elemento al final.\n",
        "\n",
        "* Eliminar elementos: **mi_lista.remove(3)** elimina el primer 3 de la lista."
      ]
    },
    {
      "cell_type": "markdown",
      "metadata": {
        "id": "Kha3eTXHROsC"
      },
      "source": [
        "**x in A**\n",
        "\n",
        "\n",
        "Devuleve **True** si un elemento de la lista A si es igual a x"
      ]
    },
    {
      "cell_type": "code",
      "execution_count": 87,
      "metadata": {
        "id": "DBnrLd6-RhCz"
      },
      "outputs": [],
      "source": [
        "Accesorios = ['Cerraduras electricas', 'Piloto automatico','Asiento de cuero', 'Aire acondicionado', 'Sensor de estacionamiento', 'Sensor de lluvia']"
      ]
    },
    {
      "cell_type": "code",
      "execution_count": 88,
      "metadata": {
        "colab": {
          "base_uri": "https://localhost:8080/"
        },
        "id": "fV5SvjnsShgy",
        "outputId": "a2169f09-b2e7-40c2-ddba-051190eba161"
      },
      "outputs": [
        {
          "output_type": "execute_result",
          "data": {
            "text/plain": [
              "['Cerraduras electricas',\n",
              " 'Piloto automatico',\n",
              " 'Asiento de cuero',\n",
              " 'Aire acondicionado',\n",
              " 'Sensor de estacionamiento',\n",
              " 'Sensor de lluvia']"
            ]
          },
          "metadata": {},
          "execution_count": 88
        }
      ],
      "source": [
        "Accesorios"
      ]
    },
    {
      "cell_type": "code",
      "execution_count": 89,
      "metadata": {
        "colab": {
          "base_uri": "https://localhost:8080/"
        },
        "id": "PUrxvNYeShPE",
        "outputId": "8900529d-3b71-4820-99d4-71f7f234ddc0"
      },
      "outputs": [
        {
          "output_type": "execute_result",
          "data": {
            "text/plain": [
              "True"
            ]
          },
          "metadata": {},
          "execution_count": 89
        }
      ],
      "source": [
        "#Cerradura electrica se encuentra dentro de las lista Accesorios\n",
        "'Cerraduras electricas' in Accesorios"
      ]
    },
    {
      "cell_type": "code",
      "execution_count": 90,
      "metadata": {
        "colab": {
          "base_uri": "https://localhost:8080/"
        },
        "id": "DN1NoT9pShCj",
        "outputId": "64154206-ef35-48c9-f3d9-85b99610e9d3"
      },
      "outputs": [
        {
          "output_type": "execute_result",
          "data": {
            "text/plain": [
              "False"
            ]
          },
          "metadata": {},
          "execution_count": 90
        }
      ],
      "source": [
        "#4 X 4 se encuentra dentro de las lista Accesorios\n",
        "'4 X 4' in Accesorios"
      ]
    },
    {
      "cell_type": "code",
      "execution_count": 91,
      "metadata": {
        "colab": {
          "base_uri": "https://localhost:8080/"
        },
        "id": "kElMaDDXSguy",
        "outputId": "e181a73a-23b5-4bd1-8159-9c2597c63a62"
      },
      "outputs": [
        {
          "output_type": "execute_result",
          "data": {
            "text/plain": [
              "False"
            ]
          },
          "metadata": {},
          "execution_count": 91
        }
      ],
      "source": [
        "#Cerradura electrica se encuentra dentro de las lista Accesorios\n",
        "'Cerraduras electricas' not in Accesorios\n",
        "# El resultado sera FALSE por que si se encuentra"
      ]
    },
    {
      "cell_type": "code",
      "execution_count": 92,
      "metadata": {
        "colab": {
          "base_uri": "https://localhost:8080/"
        },
        "id": "HcxbxphrTXYR",
        "outputId": "1d41f7a0-4427-4582-e81f-209b9740da67"
      },
      "outputs": [
        {
          "output_type": "execute_result",
          "data": {
            "text/plain": [
              "True"
            ]
          },
          "metadata": {},
          "execution_count": 92
        }
      ],
      "source": [
        "#4 X 4 no se encuentra dentro de las lista Accesorios\n",
        "'4 X 4' not in Accesorios\n",
        "# El resultado sera TRUE por que no se encuentra"
      ]
    },
    {
      "cell_type": "markdown",
      "metadata": {
        "id": "asUa1wSORf_f"
      },
      "source": [
        "**A + B**\n",
        "\n",
        "Concatena las listas A y B"
      ]
    },
    {
      "cell_type": "code",
      "execution_count": 93,
      "metadata": {
        "id": "HD77sekrVDdQ"
      },
      "outputs": [],
      "source": [
        "A = ['Cerraduras electricas','Piloto automatico','Asiento de cuero']\n",
        "B = ['Aire acondicionado', 'Sensor de estacionamiento', 'Sensor de lluvia']"
      ]
    },
    {
      "cell_type": "code",
      "execution_count": 94,
      "metadata": {
        "id": "H12JD2I-YaIz"
      },
      "outputs": [],
      "source": [
        "Accesorios = A + B"
      ]
    },
    {
      "cell_type": "code",
      "execution_count": 95,
      "metadata": {
        "colab": {
          "base_uri": "https://localhost:8080/"
        },
        "id": "vRCVYD39YZ8N",
        "outputId": "a91b5a84-da8e-40fd-b089-825d69970a0b"
      },
      "outputs": [
        {
          "output_type": "execute_result",
          "data": {
            "text/plain": [
              "['Cerraduras electricas',\n",
              " 'Piloto automatico',\n",
              " 'Asiento de cuero',\n",
              " 'Aire acondicionado',\n",
              " 'Sensor de estacionamiento',\n",
              " 'Sensor de lluvia']"
            ]
          },
          "metadata": {},
          "execution_count": 95
        }
      ],
      "source": [
        "Accesorios"
      ]
    },
    {
      "cell_type": "markdown",
      "metadata": {
        "id": "1FJBXLrbZNiM"
      },
      "source": [
        "**len(A)**\n",
        "\n",
        "Tamaño de la lista"
      ]
    },
    {
      "cell_type": "code",
      "execution_count": 96,
      "metadata": {
        "colab": {
          "base_uri": "https://localhost:8080/"
        },
        "id": "QPs4rqVZZONw",
        "outputId": "f1c3358f-1b69-4328-8526-76c8dc338437"
      },
      "outputs": [
        {
          "output_type": "execute_result",
          "data": {
            "text/plain": [
              "6"
            ]
          },
          "metadata": {},
          "execution_count": 96
        }
      ],
      "source": [
        "len(Accesorios)"
      ]
    },
    {
      "cell_type": "markdown",
      "metadata": {
        "id": "QPf4btQmO6qT"
      },
      "source": [
        "**Seleccion de listas: Indexing**"
      ]
    },
    {
      "cell_type": "markdown",
      "metadata": {
        "id": "-wJ2Ln5pZmIj"
      },
      "source": [
        "**A[n]**\n",
        "\n",
        "Devuelve el n-esimo objeto de la lista\n",
        "**Observacion:** Las lista tiene **indexacion** con inicio en cero"
      ]
    },
    {
      "cell_type": "markdown",
      "metadata": {
        "id": "KYXcGM5o1Bn7"
      },
      "source": [
        "Para acceder a los datos de una lista usamos algo llamado **indices** que identificara la poscicion de nuestros datos"
      ]
    },
    {
      "cell_type": "code",
      "execution_count": 97,
      "metadata": {
        "colab": {
          "base_uri": "https://localhost:8080/"
        },
        "id": "sOymxnuqZ28H",
        "outputId": "1592cbe7-618e-4a70-e12c-6c8138254a8a"
      },
      "outputs": [
        {
          "output_type": "execute_result",
          "data": {
            "text/plain": [
              "['Cerraduras electricas',\n",
              " 'Piloto automatico',\n",
              " 'Asiento de cuero',\n",
              " 'Aire acondicionado',\n",
              " 'Sensor de estacionamiento',\n",
              " 'Sensor de lluvia']"
            ]
          },
          "metadata": {},
          "execution_count": 97
        }
      ],
      "source": [
        "Accesorios"
      ]
    },
    {
      "cell_type": "code",
      "execution_count": 98,
      "metadata": {
        "colab": {
          "base_uri": "https://localhost:8080/",
          "height": 0
        },
        "id": "XYUiijf11aXH",
        "outputId": "b84d4029-1070-4bbe-f482-bd1c8904bb56"
      },
      "outputs": [
        {
          "output_type": "execute_result",
          "data": {
            "text/plain": [
              "'Asiento de cuero'"
            ],
            "application/vnd.google.colaboratory.intrinsic+json": {
              "type": "string"
            }
          },
          "metadata": {},
          "execution_count": 98
        }
      ],
      "source": [
        "Accesorios[2]"
      ]
    },
    {
      "cell_type": "markdown",
      "metadata": {
        "id": "YjX5lW741g9p"
      },
      "source": [
        "En python y tambien en otros lenguajes de programacion el primer valor o posicion se le conoce como **la posicion 0**, por lo que en el ejemplo anterior al llamar a la posicion **2** en realidad estamos llamando a la posicion **3**"
      ]
    },
    {
      "cell_type": "code",
      "execution_count": 99,
      "metadata": {
        "id": "P2hmjqsP1-ny"
      },
      "outputs": [],
      "source": [
        "#             0                     1                   2                   3                        4                        5\n",
        "#[['Cerraduras electricas','Piloto automatico','Asiento de cuero', 'Aire acondicionado', 'Sensor de estacionamiento', 'Sensor de lluvia']"
      ]
    },
    {
      "cell_type": "code",
      "source": [
        "Accesorios[5]"
      ],
      "metadata": {
        "colab": {
          "base_uri": "https://localhost:8080/",
          "height": 0
        },
        "id": "11dlU--uJ6Gt",
        "outputId": "e67c5222-5657-44e0-bb2e-8ea64a968716"
      },
      "execution_count": 100,
      "outputs": [
        {
          "output_type": "execute_result",
          "data": {
            "text/plain": [
              "'Sensor de lluvia'"
            ],
            "application/vnd.google.colaboratory.intrinsic+json": {
              "type": "string"
            }
          },
          "metadata": {},
          "execution_count": 100
        }
      ]
    },
    {
      "cell_type": "markdown",
      "metadata": {
        "id": "G4nx0d4I4QrB"
      },
      "source": [
        "Python tambien nos permite llamar a los indices de manera negiva por ejemplo:"
      ]
    },
    {
      "cell_type": "code",
      "execution_count": 101,
      "metadata": {
        "id": "iq6R5s5c4mQU"
      },
      "outputs": [],
      "source": [
        "#             0                     -5                 -4                   -3                      -2                       -1\n",
        "#[['Cerraduras electricas','Piloto automatico','Asiento de cuero', 'Aire acondicionado', 'Sensor de estacionamiento', 'Sensor de lluvia']"
      ]
    },
    {
      "cell_type": "code",
      "execution_count": 102,
      "metadata": {
        "colab": {
          "base_uri": "https://localhost:8080/",
          "height": 0
        },
        "id": "oO9Orb1q4b01",
        "outputId": "6c671d6c-8646-48ed-d07b-13f96788adf6"
      },
      "outputs": [
        {
          "output_type": "execute_result",
          "data": {
            "text/plain": [
              "'Sensor de lluvia'"
            ],
            "application/vnd.google.colaboratory.intrinsic+json": {
              "type": "string"
            }
          },
          "metadata": {},
          "execution_count": 102
        }
      ],
      "source": [
        "Accesorios[-1]"
      ]
    },
    {
      "cell_type": "markdown",
      "metadata": {
        "id": "a8YTq5h0MlPd"
      },
      "source": [
        "**A[i:j]: Slicing**\n",
        "\n",
        "Recorta la lista A desde el indice i hasta j. En este recorte el elemento con indice **i es incluido** y el elemno **j no es incluido** en el resultado"
      ]
    },
    {
      "cell_type": "markdown",
      "metadata": {
        "id": "yDvGluOD2TkK"
      },
      "source": [
        "\n",
        "Ha esto se le llama **slicing**, un slice es un pedazo, una porción, estamos partiendo nuestro conjunto de datos de nuestra lista y extrayendo algunos valores que deseamos."
      ]
    },
    {
      "cell_type": "code",
      "execution_count": 103,
      "metadata": {
        "colab": {
          "base_uri": "https://localhost:8080/"
        },
        "id": "08bjlIGlaghH",
        "outputId": "3e2c5083-2504-4131-e94c-d4760e5b319e"
      },
      "outputs": [
        {
          "output_type": "execute_result",
          "data": {
            "text/plain": [
              "['Cerraduras electricas',\n",
              " 'Piloto automatico',\n",
              " 'Asiento de cuero',\n",
              " 'Aire acondicionado',\n",
              " 'Sensor de estacionamiento',\n",
              " 'Sensor de lluvia']"
            ]
          },
          "metadata": {},
          "execution_count": 103
        }
      ],
      "source": [
        "Accesorios"
      ]
    },
    {
      "cell_type": "code",
      "execution_count": 104,
      "metadata": {
        "colab": {
          "base_uri": "https://localhost:8080/"
        },
        "id": "Va4gGFb824Xf",
        "outputId": "938f4973-0504-48d8-d978-f86c56980343"
      },
      "outputs": [
        {
          "output_type": "execute_result",
          "data": {
            "text/plain": [
              "['Cerraduras electricas', 'Piloto automatico']"
            ]
          },
          "metadata": {},
          "execution_count": 104
        }
      ],
      "source": [
        "Accesorios[0:2]"
      ]
    },
    {
      "cell_type": "markdown",
      "metadata": {
        "id": "Ef3qfnsk3EUq"
      },
      "source": [
        " Me devuelve solo **'Cerraduras electricas'** y **'Piloto automatico'** porque en slicing existe una característica particular de Python que la última posición que estoy declarando es excluyente. ¿Qué quiere decir? Que no me va a incluir la posicion donde se encuentra el  **Asiento de cuero** en nuestra variable."
      ]
    },
    {
      "cell_type": "markdown",
      "metadata": {
        "id": "bv9BmE2K3iyd"
      },
      "source": [
        " Para ello, necesitamos, las tres primeras posiciones, necesito pasarle del **0 al 3**, solo que ya sé que el 3 no me lo va a incluir, entonces, me va a devolver los tres primeros valores, y aquí tenemos **0, 1 y 2**, del **0 al 3**."
      ]
    },
    {
      "cell_type": "code",
      "execution_count": 105,
      "metadata": {
        "colab": {
          "base_uri": "https://localhost:8080/"
        },
        "id": "rpgMgdcb3AX3",
        "outputId": "35640cf8-8677-4e44-9fee-09d9e6b86846"
      },
      "outputs": [
        {
          "output_type": "execute_result",
          "data": {
            "text/plain": [
              "['Cerraduras electricas', 'Piloto automatico', 'Asiento de cuero']"
            ]
          },
          "metadata": {},
          "execution_count": 105
        }
      ],
      "source": [
        "Accesorios[0:3]"
      ]
    },
    {
      "cell_type": "markdown",
      "metadata": {
        "id": "voNFdS-539bl"
      },
      "source": [
        "Para llamar a todos lo valores de nuestra lista existen 2 formas"
      ]
    },
    {
      "cell_type": "code",
      "execution_count": 106,
      "metadata": {
        "colab": {
          "base_uri": "https://localhost:8080/"
        },
        "id": "Os-jJcgg366A",
        "outputId": "402dd260-8406-41a6-9ee1-f257cc519960"
      },
      "outputs": [
        {
          "output_type": "execute_result",
          "data": {
            "text/plain": [
              "['Cerraduras electricas',\n",
              " 'Piloto automatico',\n",
              " 'Asiento de cuero',\n",
              " 'Aire acondicionado',\n",
              " 'Sensor de estacionamiento',\n",
              " 'Sensor de lluvia']"
            ]
          },
          "metadata": {},
          "execution_count": 106
        }
      ],
      "source": [
        "Accesorios"
      ]
    },
    {
      "cell_type": "code",
      "execution_count": 107,
      "metadata": {
        "colab": {
          "base_uri": "https://localhost:8080/"
        },
        "id": "6YTrnRzq4Ecc",
        "outputId": "320c86c6-10e0-4476-c6bb-41ffdb24c26f"
      },
      "outputs": [
        {
          "output_type": "execute_result",
          "data": {
            "text/plain": [
              "['Cerraduras electricas',\n",
              " 'Piloto automatico',\n",
              " 'Asiento de cuero',\n",
              " 'Aire acondicionado',\n",
              " 'Sensor de estacionamiento',\n",
              " 'Sensor de lluvia']"
            ]
          },
          "metadata": {},
          "execution_count": 107
        }
      ],
      "source": [
        "Accesorios[:]"
      ]
    },
    {
      "cell_type": "markdown",
      "metadata": {
        "id": "buqQ2pOEBDll"
      },
      "source": [
        "Por ultimo, las lista pueden contener difrentes tipos de datos incluyendo una misma lista"
      ]
    },
    {
      "cell_type": "code",
      "execution_count": 108,
      "metadata": {
        "id": "bgKyVhkGE5Vl"
      },
      "outputs": [],
      "source": [
        "carros = ['Jetta Variant', 'Motor 4.0 Turbo', 2003, 44410.0, False, ['Cerraduras electricas', 'Piloto automatico'], 88078.64]"
      ]
    },
    {
      "cell_type": "code",
      "execution_count": 109,
      "metadata": {
        "colab": {
          "base_uri": "https://localhost:8080/"
        },
        "id": "yUrObJH5fzR2",
        "outputId": "19437fc8-6feb-440a-cef1-c8a156306097"
      },
      "outputs": [
        {
          "output_type": "execute_result",
          "data": {
            "text/plain": [
              "['Jetta Variant',\n",
              " 'Motor 4.0 Turbo',\n",
              " 2003,\n",
              " 44410.0,\n",
              " False,\n",
              " ['Cerraduras electricas', 'Piloto automatico'],\n",
              " 88078.64]"
            ]
          },
          "metadata": {},
          "execution_count": 109
        }
      ],
      "source": [
        "carros"
      ]
    },
    {
      "cell_type": "code",
      "execution_count": 110,
      "metadata": {
        "colab": {
          "base_uri": "https://localhost:8080/"
        },
        "id": "ID3ugQtWf4xE",
        "outputId": "f64272e2-b82a-4758-b6e5-8a4b1d0e1e64"
      },
      "outputs": [
        {
          "output_type": "execute_result",
          "data": {
            "text/plain": [
              "['Cerraduras electricas', 'Piloto automatico']"
            ]
          },
          "metadata": {},
          "execution_count": 110
        }
      ],
      "source": [
        "carros[5]"
      ]
    },
    {
      "cell_type": "markdown",
      "metadata": {
        "id": "-XWn5I3GN2ES"
      },
      "source": [
        "**Obteniedo los datos de una lista dentro de otra lista**"
      ]
    },
    {
      "cell_type": "code",
      "execution_count": 111,
      "metadata": {
        "colab": {
          "base_uri": "https://localhost:8080/"
        },
        "id": "32FA1dLha1S6",
        "outputId": "72c205f0-070d-4d72-81f7-6abf84c82e5b"
      },
      "outputs": [
        {
          "output_type": "execute_result",
          "data": {
            "text/plain": [
              "['Jetta Variant',\n",
              " 'Motor 4.0 Turbo',\n",
              " 2003,\n",
              " 44410.0,\n",
              " False,\n",
              " ['Cerraduras electricas', 'Piloto automatico'],\n",
              " 88078.64]"
            ]
          },
          "metadata": {},
          "execution_count": 111
        }
      ],
      "source": [
        "carros"
      ]
    },
    {
      "cell_type": "code",
      "execution_count": 112,
      "metadata": {
        "colab": {
          "base_uri": "https://localhost:8080/",
          "height": 0
        },
        "id": "PYfF4s9jf4fb",
        "outputId": "ba4b780d-cab5-4936-c8fc-ed1e204d0c87"
      },
      "outputs": [
        {
          "output_type": "execute_result",
          "data": {
            "text/plain": [
              "'Cerraduras electricas'"
            ],
            "application/vnd.google.colaboratory.intrinsic+json": {
              "type": "string"
            }
          },
          "metadata": {},
          "execution_count": 112
        }
      ],
      "source": [
        "carros[5][0]"
      ]
    },
    {
      "cell_type": "code",
      "execution_count": 113,
      "metadata": {
        "colab": {
          "base_uri": "https://localhost:8080/",
          "height": 0
        },
        "id": "pUHwnYEQf4Lq",
        "outputId": "d01d2753-5528-4766-cdcc-6bc0e7e1735e"
      },
      "outputs": [
        {
          "output_type": "execute_result",
          "data": {
            "text/plain": [
              "'Piloto automatico'"
            ],
            "application/vnd.google.colaboratory.intrinsic+json": {
              "type": "string"
            }
          },
          "metadata": {},
          "execution_count": 113
        }
      ],
      "source": [
        "carros[5][1]"
      ]
    },
    {
      "cell_type": "code",
      "execution_count": 114,
      "metadata": {
        "colab": {
          "base_uri": "https://localhost:8080/",
          "height": 0
        },
        "id": "mPaFjFJi7IFs",
        "outputId": "478d9ef7-b77d-4f21-89d0-25b3e7da3a4c"
      },
      "outputs": [
        {
          "output_type": "execute_result",
          "data": {
            "text/plain": [
              "'Piloto automatico'"
            ],
            "application/vnd.google.colaboratory.intrinsic+json": {
              "type": "string"
            }
          },
          "metadata": {},
          "execution_count": 114
        }
      ],
      "source": [
        "carros[5][-1]"
      ]
    },
    {
      "cell_type": "markdown",
      "metadata": {
        "id": "dtg5abXpOgNo"
      },
      "source": [
        "**Metodos en listas**"
      ]
    },
    {
      "cell_type": "markdown",
      "metadata": {
        "id": "xnZAwLcDPLrB"
      },
      "source": [
        "**A.sort()**\n",
        "\n",
        "Ordena la lista A"
      ]
    },
    {
      "cell_type": "code",
      "execution_count": 115,
      "metadata": {
        "colab": {
          "base_uri": "https://localhost:8080/"
        },
        "id": "mv_aAEsyPbyK",
        "outputId": "d3d4bff9-2805-4b77-d4b8-05d37eecc7b4"
      },
      "outputs": [
        {
          "output_type": "execute_result",
          "data": {
            "text/plain": [
              "['Cerraduras electricas',\n",
              " 'Piloto automatico',\n",
              " 'Asiento de cuero',\n",
              " 'Aire acondicionado',\n",
              " 'Sensor de estacionamiento',\n",
              " 'Sensor de lluvia']"
            ]
          },
          "metadata": {},
          "execution_count": 115
        }
      ],
      "source": [
        "Accesorios"
      ]
    },
    {
      "cell_type": "code",
      "execution_count": 116,
      "metadata": {
        "colab": {
          "base_uri": "https://localhost:8080/"
        },
        "id": "oZQOlx0QP3uJ",
        "outputId": "84fe6550-d29e-4c75-ec48-15723de8bf7f"
      },
      "outputs": [
        {
          "output_type": "execute_result",
          "data": {
            "text/plain": [
              "['Aire acondicionado',\n",
              " 'Asiento de cuero',\n",
              " 'Cerraduras electricas',\n",
              " 'Piloto automatico',\n",
              " 'Sensor de estacionamiento',\n",
              " 'Sensor de lluvia']"
            ]
          },
          "metadata": {},
          "execution_count": 116
        }
      ],
      "source": [
        "Accesorios.sort()\n",
        "Accesorios"
      ]
    },
    {
      "cell_type": "markdown",
      "metadata": {
        "id": "xQAXgvSDPq0j"
      },
      "source": [
        "**A. append(x)**\n",
        "\n",
        "Añade el elmento x al final de la lista A"
      ]
    },
    {
      "cell_type": "code",
      "execution_count": 117,
      "metadata": {
        "colab": {
          "base_uri": "https://localhost:8080/"
        },
        "id": "R1e2IACqPrVR",
        "outputId": "cd01d827-207e-47af-e76f-672dd8a970a0"
      },
      "outputs": [
        {
          "output_type": "execute_result",
          "data": {
            "text/plain": [
              "['Aire acondicionado',\n",
              " 'Asiento de cuero',\n",
              " 'Cerraduras electricas',\n",
              " 'Piloto automatico',\n",
              " 'Sensor de estacionamiento',\n",
              " 'Sensor de lluvia',\n",
              " '4 x 4']"
            ]
          },
          "metadata": {},
          "execution_count": 117
        }
      ],
      "source": [
        "Accesorios.append('4 x 4')\n",
        "Accesorios"
      ]
    },
    {
      "cell_type": "markdown",
      "metadata": {
        "id": "Epg7vogyQNQF"
      },
      "source": [
        "**A.pop(i)**\n",
        "\n",
        "Elimina y devuelve el elemento de indice i de la lista A.\n",
        "\n",
        "**Observacion:** Por defecto el metodo **pop()** elimina y devuelve el ultimo elemento de una lista"
      ]
    },
    {
      "cell_type": "code",
      "execution_count": 118,
      "metadata": {
        "colab": {
          "base_uri": "https://localhost:8080/",
          "height": 0
        },
        "id": "4ZA9UH4OQNyj",
        "outputId": "afcfb6e7-3a69-4ef0-8af5-7fdf42aa2509"
      },
      "outputs": [
        {
          "output_type": "execute_result",
          "data": {
            "text/plain": [
              "'4 x 4'"
            ],
            "application/vnd.google.colaboratory.intrinsic+json": {
              "type": "string"
            }
          },
          "metadata": {},
          "execution_count": 118
        }
      ],
      "source": [
        "Accesorios.pop()"
      ]
    },
    {
      "cell_type": "code",
      "execution_count": 119,
      "metadata": {
        "colab": {
          "base_uri": "https://localhost:8080/"
        },
        "id": "iAf7NlpNSbCD",
        "outputId": "5048020b-9fb0-4331-ad5f-cdce538421c5"
      },
      "outputs": [
        {
          "output_type": "execute_result",
          "data": {
            "text/plain": [
              "['Aire acondicionado',\n",
              " 'Asiento de cuero',\n",
              " 'Cerraduras electricas',\n",
              " 'Piloto automatico',\n",
              " 'Sensor de estacionamiento',\n",
              " 'Sensor de lluvia']"
            ]
          },
          "metadata": {},
          "execution_count": 119
        }
      ],
      "source": [
        "Accesorios"
      ]
    },
    {
      "cell_type": "code",
      "execution_count": 120,
      "metadata": {
        "colab": {
          "base_uri": "https://localhost:8080/",
          "height": 0
        },
        "id": "DzTdBvvsQ1gJ",
        "outputId": "8c5fabe8-4308-4128-8d26-64f77cb92adf"
      },
      "outputs": [
        {
          "output_type": "execute_result",
          "data": {
            "text/plain": [
              "'Piloto automatico'"
            ],
            "application/vnd.google.colaboratory.intrinsic+json": {
              "type": "string"
            }
          },
          "metadata": {},
          "execution_count": 120
        }
      ],
      "source": [
        "Accesorios.pop(3)"
      ]
    },
    {
      "cell_type": "code",
      "execution_count": 121,
      "metadata": {
        "colab": {
          "base_uri": "https://localhost:8080/"
        },
        "id": "fntO6dL5Q-LC",
        "outputId": "1d8f0754-3621-43a0-a437-3b8471dbe34e"
      },
      "outputs": [
        {
          "output_type": "execute_result",
          "data": {
            "text/plain": [
              "['Aire acondicionado',\n",
              " 'Asiento de cuero',\n",
              " 'Cerraduras electricas',\n",
              " 'Sensor de estacionamiento',\n",
              " 'Sensor de lluvia']"
            ]
          },
          "metadata": {},
          "execution_count": 121
        }
      ],
      "source": [
        "Accesorios"
      ]
    },
    {
      "cell_type": "markdown",
      "metadata": {
        "id": "vy1SCZNGRAKU"
      },
      "source": [
        "**A.copy()**\n",
        "\n",
        "Crea una copia de la lista A.\n",
        "\n",
        "\n"
      ]
    },
    {
      "cell_type": "code",
      "execution_count": 122,
      "metadata": {
        "id": "v22ZjY8lRPW4"
      },
      "outputs": [],
      "source": [
        "Accesorios_2 = Accesorios.copy()"
      ]
    },
    {
      "cell_type": "code",
      "execution_count": 123,
      "metadata": {
        "colab": {
          "base_uri": "https://localhost:8080/"
        },
        "id": "6V6wrOZqSmXs",
        "outputId": "ffa1f669-2c5a-430e-9b43-f40b2291f5f9"
      },
      "outputs": [
        {
          "output_type": "execute_result",
          "data": {
            "text/plain": [
              "['Aire acondicionado',\n",
              " 'Asiento de cuero',\n",
              " 'Cerraduras electricas',\n",
              " 'Sensor de estacionamiento',\n",
              " 'Sensor de lluvia']"
            ]
          },
          "metadata": {},
          "execution_count": 123
        }
      ],
      "source": [
        "Accesorios"
      ]
    },
    {
      "cell_type": "code",
      "execution_count": 124,
      "metadata": {
        "colab": {
          "base_uri": "https://localhost:8080/"
        },
        "id": "m9WfNnzHSsQf",
        "outputId": "ee24dc09-b6f7-4832-cdcd-72ae4840735b"
      },
      "outputs": [
        {
          "output_type": "execute_result",
          "data": {
            "text/plain": [
              "['Aire acondicionado',\n",
              " 'Asiento de cuero',\n",
              " 'Cerraduras electricas',\n",
              " 'Sensor de estacionamiento',\n",
              " 'Sensor de lluvia']"
            ]
          },
          "metadata": {},
          "execution_count": 124
        }
      ],
      "source": [
        "Accesorios_2"
      ]
    },
    {
      "cell_type": "code",
      "execution_count": 125,
      "metadata": {
        "colab": {
          "base_uri": "https://localhost:8080/"
        },
        "id": "iWwqE_BQSydz",
        "outputId": "0ab5e5d4-cf98-4950-e0aa-f02329c372b3"
      },
      "outputs": [
        {
          "output_type": "execute_result",
          "data": {
            "text/plain": [
              "['Aire acondicionado',\n",
              " 'Asiento de cuero',\n",
              " 'Cerraduras electricas',\n",
              " 'Sensor de estacionamiento',\n",
              " 'Sensor de lluvia',\n",
              " '4 X 4']"
            ]
          },
          "metadata": {},
          "execution_count": 125
        }
      ],
      "source": [
        "Accesorios_2.append('4 X 4')\n",
        "Accesorios_2"
      ]
    },
    {
      "cell_type": "code",
      "execution_count": 126,
      "metadata": {
        "colab": {
          "base_uri": "https://localhost:8080/"
        },
        "id": "q3lkOl-nTBsT",
        "outputId": "e4e1cfb9-dc88-4e26-f979-f5c2d29d4bc4"
      },
      "outputs": [
        {
          "output_type": "execute_result",
          "data": {
            "text/plain": [
              "['Aire acondicionado',\n",
              " 'Asiento de cuero',\n",
              " 'Cerraduras electricas',\n",
              " 'Sensor de estacionamiento',\n",
              " 'Sensor de lluvia']"
            ]
          },
          "metadata": {},
          "execution_count": 126
        }
      ],
      "source": [
        "Accesorios"
      ]
    },
    {
      "cell_type": "markdown",
      "source": [
        "**A.count(valor)**"
      ],
      "metadata": {
        "id": "xEsp2pW8loyZ"
      }
    },
    {
      "cell_type": "markdown",
      "source": [
        "Este método cuenta el número de veces que aparece un valor específico en la lista y devuelve el resultado. Si el valor no está presente en la lista, devuelve 0."
      ],
      "metadata": {
        "id": "40W6jpJ3ltjk"
      }
    },
    {
      "cell_type": "code",
      "source": [
        "Accesorios.count('Asiento de cuero')\n",
        "# Me devolvera 1 por que solo hay un elemento con ese valor en mi lista"
      ],
      "metadata": {
        "colab": {
          "base_uri": "https://localhost:8080/"
        },
        "id": "5NValK1ClwrO",
        "outputId": "9c049929-72be-4f19-cda8-4689b7c2e143"
      },
      "execution_count": 127,
      "outputs": [
        {
          "output_type": "execute_result",
          "data": {
            "text/plain": [
              "1"
            ]
          },
          "metadata": {},
          "execution_count": 127
        }
      ]
    },
    {
      "cell_type": "code",
      "source": [
        "Accesorios.count('Asiento')\n",
        "# Me devolvera 0 por que no hay un eleemnto con ese valor en mi lista"
      ],
      "metadata": {
        "colab": {
          "base_uri": "https://localhost:8080/"
        },
        "id": "WQo8Sr_Hl8qp",
        "outputId": "2572b80a-5b50-4f93-e4bb-6bc0728f34fb"
      },
      "execution_count": 128,
      "outputs": [
        {
          "output_type": "execute_result",
          "data": {
            "text/plain": [
              "0"
            ]
          },
          "metadata": {},
          "execution_count": 128
        }
      ]
    },
    {
      "cell_type": "markdown",
      "source": [
        "**A.extend(iterable)**"
      ],
      "metadata": {
        "id": "gMJnET4Dp1mP"
      }
    },
    {
      "cell_type": "markdown",
      "source": [
        "Se utiliza para agregar los elementos de un iterable (como otra lista) al final de una lista existente. Este método modifica la lista original en lugar de crear una nueva lista. La diferencia principal entre el método **extend()** y la concatenación de listas mediante el operador **+** es que **extend()** modifica la lista original, mientras que la concatenación crea una nueva lista."
      ],
      "metadata": {
        "id": "soYaqOrUp-4M"
      }
    },
    {
      "cell_type": "code",
      "source": [
        "# Tenemos nuestra lista\n",
        "Accesorios"
      ],
      "metadata": {
        "colab": {
          "base_uri": "https://localhost:8080/"
        },
        "id": "oImE5ED0qHEB",
        "outputId": "515f6836-5bd9-467c-e472-7c913c335042"
      },
      "execution_count": 129,
      "outputs": [
        {
          "output_type": "execute_result",
          "data": {
            "text/plain": [
              "['Aire acondicionado',\n",
              " 'Asiento de cuero',\n",
              " 'Cerraduras electricas',\n",
              " 'Sensor de estacionamiento',\n",
              " 'Sensor de lluvia']"
            ]
          },
          "metadata": {},
          "execution_count": 129
        }
      ]
    },
    {
      "cell_type": "code",
      "source": [
        "# Y tenemos nuestra otra lista\n",
        "Accesorios_2"
      ],
      "metadata": {
        "colab": {
          "base_uri": "https://localhost:8080/"
        },
        "id": "XOZmcSENqK2I",
        "outputId": "85888900-24a3-4670-f915-cb6d7360dd06"
      },
      "execution_count": 130,
      "outputs": [
        {
          "output_type": "execute_result",
          "data": {
            "text/plain": [
              "['Aire acondicionado',\n",
              " 'Asiento de cuero',\n",
              " 'Cerraduras electricas',\n",
              " 'Sensor de estacionamiento',\n",
              " 'Sensor de lluvia',\n",
              " '4 X 4']"
            ]
          },
          "metadata": {},
          "execution_count": 130
        }
      ]
    },
    {
      "cell_type": "code",
      "source": [
        "# Ahora vamos a realizar el metodo y llamarlo\n",
        "Accesorios.extend(Accesorios_2)\n",
        "Accesorios"
      ],
      "metadata": {
        "colab": {
          "base_uri": "https://localhost:8080/"
        },
        "id": "L-_6YTTDqP-i",
        "outputId": "dda7d803-4d4a-4944-c17f-3ba531751865"
      },
      "execution_count": 131,
      "outputs": [
        {
          "output_type": "execute_result",
          "data": {
            "text/plain": [
              "['Aire acondicionado',\n",
              " 'Asiento de cuero',\n",
              " 'Cerraduras electricas',\n",
              " 'Sensor de estacionamiento',\n",
              " 'Sensor de lluvia',\n",
              " 'Aire acondicionado',\n",
              " 'Asiento de cuero',\n",
              " 'Cerraduras electricas',\n",
              " 'Sensor de estacionamiento',\n",
              " 'Sensor de lluvia',\n",
              " '4 X 4']"
            ]
          },
          "metadata": {},
          "execution_count": 131
        }
      ]
    },
    {
      "cell_type": "markdown",
      "source": [
        "**A.index(valor, [inicio], [fin])**"
      ],
      "metadata": {
        "id": "-ldVK-iQmRCT"
      }
    },
    {
      "cell_type": "markdown",
      "source": [
        "Este método me permite buscar dentro de la lista si extiste un elemento y si existe nos devulve su indice"
      ],
      "metadata": {
        "id": "UblpUkMomTRe"
      }
    },
    {
      "cell_type": "code",
      "source": [
        "Accesorios"
      ],
      "metadata": {
        "colab": {
          "base_uri": "https://localhost:8080/"
        },
        "id": "pwMindK2nyyb",
        "outputId": "97949d0a-b974-4f46-9c41-b2a5dc4ac3e4"
      },
      "execution_count": 132,
      "outputs": [
        {
          "output_type": "execute_result",
          "data": {
            "text/plain": [
              "['Aire acondicionado',\n",
              " 'Asiento de cuero',\n",
              " 'Cerraduras electricas',\n",
              " 'Sensor de estacionamiento',\n",
              " 'Sensor de lluvia',\n",
              " 'Aire acondicionado',\n",
              " 'Asiento de cuero',\n",
              " 'Cerraduras electricas',\n",
              " 'Sensor de estacionamiento',\n",
              " 'Sensor de lluvia',\n",
              " '4 X 4']"
            ]
          },
          "metadata": {},
          "execution_count": 132
        }
      ]
    },
    {
      "cell_type": "code",
      "source": [
        "Accesorios.index('Sensor de estacionamiento')"
      ],
      "metadata": {
        "colab": {
          "base_uri": "https://localhost:8080/"
        },
        "id": "Vrz0KyvBms6H",
        "outputId": "704e9cf8-d6a1-43d6-d53d-ca37bccea955"
      },
      "execution_count": 133,
      "outputs": [
        {
          "output_type": "execute_result",
          "data": {
            "text/plain": [
              "3"
            ]
          },
          "metadata": {},
          "execution_count": 133
        }
      ]
    },
    {
      "cell_type": "markdown",
      "source": [
        "**A.insert(posicion, valor)**"
      ],
      "metadata": {
        "id": "l3R0Ngo_rRc3"
      }
    },
    {
      "cell_type": "markdown",
      "source": [
        "Este método inserta un elemento en la posición especificada en la lista. Los elementos existentes en y después de la posición especificada se desplazan hacia la derecha. La diferencia principal entre los métodos **append()** e **insert()** en las listas de Python radica en cómo agregan nuevos elementos a la lista y en qué posición."
      ],
      "metadata": {
        "id": "IUPCZcd1rQTC"
      }
    },
    {
      "cell_type": "code",
      "source": [
        "Accesorios"
      ],
      "metadata": {
        "colab": {
          "base_uri": "https://localhost:8080/"
        },
        "id": "uDYOyRAQrgJ7",
        "outputId": "eeec15c6-d0b7-4382-918b-368c5eec3ef8"
      },
      "execution_count": 134,
      "outputs": [
        {
          "output_type": "execute_result",
          "data": {
            "text/plain": [
              "['Aire acondicionado',\n",
              " 'Asiento de cuero',\n",
              " 'Cerraduras electricas',\n",
              " 'Sensor de estacionamiento',\n",
              " 'Sensor de lluvia',\n",
              " 'Aire acondicionado',\n",
              " 'Asiento de cuero',\n",
              " 'Cerraduras electricas',\n",
              " 'Sensor de estacionamiento',\n",
              " 'Sensor de lluvia',\n",
              " '4 X 4']"
            ]
          },
          "metadata": {},
          "execution_count": 134
        }
      ]
    },
    {
      "cell_type": "code",
      "source": [
        "Accesorios.insert(4,'Sensor de encendido')\n",
        "Accesorios"
      ],
      "metadata": {
        "colab": {
          "base_uri": "https://localhost:8080/"
        },
        "id": "IkO0ZBvRrqle",
        "outputId": "d28fe7bf-b96c-4c80-d2e5-78dc56dce79a"
      },
      "execution_count": 135,
      "outputs": [
        {
          "output_type": "execute_result",
          "data": {
            "text/plain": [
              "['Aire acondicionado',\n",
              " 'Asiento de cuero',\n",
              " 'Cerraduras electricas',\n",
              " 'Sensor de estacionamiento',\n",
              " 'Sensor de encendido',\n",
              " 'Sensor de lluvia',\n",
              " 'Aire acondicionado',\n",
              " 'Asiento de cuero',\n",
              " 'Cerraduras electricas',\n",
              " 'Sensor de estacionamiento',\n",
              " 'Sensor de lluvia',\n",
              " '4 X 4']"
            ]
          },
          "metadata": {},
          "execution_count": 135
        }
      ]
    },
    {
      "cell_type": "markdown",
      "source": [
        "**A.remove()**"
      ],
      "metadata": {
        "id": "xl-W1YJYsDZk"
      }
    },
    {
      "cell_type": "markdown",
      "source": [
        "Este método elimina la primera aparición del valor especificado en la lista. Si el valor no está presente, genera una excepción ValueError. La diferencia principal es que **remove()** elimina un valor específico de la lista, mientras que **pop()** elimina un elemento en una posición específica (o el último elemento si no se especifica un índice) y devuelve el valor eliminado."
      ],
      "metadata": {
        "id": "vDnZwALjsHaE"
      }
    },
    {
      "cell_type": "code",
      "source": [
        "Accesorios.remove('Sensor de encendido')\n",
        "Accesorios"
      ],
      "metadata": {
        "colab": {
          "base_uri": "https://localhost:8080/"
        },
        "id": "DTybG3tEs0fi",
        "outputId": "3b15abd0-b55d-4884-b3f1-0efd38fb4a47"
      },
      "execution_count": 136,
      "outputs": [
        {
          "output_type": "execute_result",
          "data": {
            "text/plain": [
              "['Aire acondicionado',\n",
              " 'Asiento de cuero',\n",
              " 'Cerraduras electricas',\n",
              " 'Sensor de estacionamiento',\n",
              " 'Sensor de lluvia',\n",
              " 'Aire acondicionado',\n",
              " 'Asiento de cuero',\n",
              " 'Cerraduras electricas',\n",
              " 'Sensor de estacionamiento',\n",
              " 'Sensor de lluvia',\n",
              " '4 X 4']"
            ]
          },
          "metadata": {},
          "execution_count": 136
        }
      ]
    },
    {
      "cell_type": "markdown",
      "source": [
        "**A.reverse()**"
      ],
      "metadata": {
        "id": "mbV318detDd8"
      }
    },
    {
      "cell_type": "markdown",
      "source": [
        "Este método invierte el orden de los elementos en la lista."
      ],
      "metadata": {
        "id": "rdiFPHddtDA0"
      }
    },
    {
      "cell_type": "code",
      "source": [
        "Accesorios.reverse()\n",
        "Accesorios"
      ],
      "metadata": {
        "colab": {
          "base_uri": "https://localhost:8080/"
        },
        "id": "rYvVHuo1tI-l",
        "outputId": "01172d7c-87de-4a40-c023-380b62aa994b"
      },
      "execution_count": 137,
      "outputs": [
        {
          "output_type": "execute_result",
          "data": {
            "text/plain": [
              "['4 X 4',\n",
              " 'Sensor de lluvia',\n",
              " 'Sensor de estacionamiento',\n",
              " 'Cerraduras electricas',\n",
              " 'Asiento de cuero',\n",
              " 'Aire acondicionado',\n",
              " 'Sensor de lluvia',\n",
              " 'Sensor de estacionamiento',\n",
              " 'Cerraduras electricas',\n",
              " 'Asiento de cuero',\n",
              " 'Aire acondicionado']"
            ]
          },
          "metadata": {},
          "execution_count": 137
        }
      ]
    },
    {
      "cell_type": "markdown",
      "source": [
        "**A.clear()**"
      ],
      "metadata": {
        "id": "W4vYKjMOtuEK"
      }
    },
    {
      "cell_type": "markdown",
      "source": [
        "Se utiliza para eliminar todos los elementos de una lista. Después de llamar a clear(), la lista queda vacía, es decir, no contiene ningún elemento."
      ],
      "metadata": {
        "id": "sU3LM00btw7Z"
      }
    },
    {
      "cell_type": "code",
      "source": [
        "lista = [1, 2, 3, 4, 5]\n",
        "print(\"Lista antes de clear:\", lista)  # Salida: Lista antes de clear: [1, 2, 3, 4, 5]\n",
        "\n",
        "lista.clear()\n",
        "print(\"Lista después de clear:\", lista)  # Salida: Lista después de clear: []"
      ],
      "metadata": {
        "colab": {
          "base_uri": "https://localhost:8080/"
        },
        "id": "krUM0BhStxau",
        "outputId": "3a04bf15-e15e-43af-f468-c0e7a41791bf"
      },
      "execution_count": 138,
      "outputs": [
        {
          "output_type": "stream",
          "name": "stdout",
          "text": [
            "Lista antes de clear: [1, 2, 3, 4, 5]\n",
            "Lista después de clear: []\n"
          ]
        }
      ]
    },
    {
      "cell_type": "markdown",
      "metadata": {
        "id": "x8tOVCwg3zpr"
      },
      "source": [
        "**2.2.2 Tuplas (tuple):**\n"
      ]
    },
    {
      "cell_type": "markdown",
      "metadata": {
        "id": "lWKWljanjlk6"
      },
      "source": [
        "**Inmutable:** A diferencia de las listas, las tuplas son estructuras de datos inmutables, lo que significa que una vez creadas, no se pueden modificar sus elementos. Sin embargo, es importante tener en cuenta que si los elementos de la tupla son mutables (por ejemplo, listas), estos elementos aún pueden ser modificados.\n",
        "\n",
        "**Ordenada:** Al igual que las listas, los elementos en una tupla mantienen un orden específico, lo que permite acceder a ellos por su posición utilizando índices.\n",
        "\n",
        "**Heterogénea:** Las tuplas pueden contener elementos de diferentes tipos de datos, al igual que las listas. Esto significa que puedes tener una tupla que contenga números enteros, cadenas de caracteres, flotantes, u otros tipos de datos.\n",
        "\n",
        "**Indexación y segmentación:** Puedes acceder a elementos individuales de una tupla utilizando su índice, y también puedes usar la segmentación (slicing) para obtener sub-tuplas o para acceder a varios elementos a la vez.\n",
        "\n",
        "**Eficiencia:** Las tuplas son más eficientes en términos de uso de memoria y rendimiento que las listas, especialmente cuando se trata de iterar sobre ellas o pasarlas como argumentos a funciones.\n",
        "\n",
        "**Uso de paréntesis:** Las tuplas se definen utilizando paréntesis (), aunque en muchos casos, para claridad, es común incluir elementos separados por comas sin necesidad de paréntesis.\n",
        "\n",
        "**Útiles para datos inmutables**: Las tuplas son útiles cuando necesitas una colección de elementos que no deban ser modificados, como por ejemplo, las coordenadas de un punto en un espacio bidimensional.\n",
        "\n"
      ]
    },
    {
      "cell_type": "markdown",
      "metadata": {
        "id": "5UwHze7i4WP-"
      },
      "source": [
        "**Creando tuplas**"
      ]
    },
    {
      "cell_type": "code",
      "execution_count": 139,
      "metadata": {
        "colab": {
          "base_uri": "https://localhost:8080/",
          "height": 0
        },
        "id": "jLI7A7cefVR8",
        "outputId": "35671615-32c0-4118-a4a1-880cde1be247"
      },
      "outputs": [
        {
          "output_type": "execute_result",
          "data": {
            "text/plain": [
              "'\\n  -- Utilizando un par de parentesis: ( )\\n  -- Utilizando una coma a la derecha: x,\\n  -- Utilizando un par de parentesis con objetos separdos por comas: ( x, y, z )\\n  -- Utilizando: tuple() o tuple(interador)\\n'"
            ],
            "application/vnd.google.colaboratory.intrinsic+json": {
              "type": "string"
            }
          },
          "metadata": {},
          "execution_count": 139
        }
      ],
      "source": [
        "'''\n",
        "  -- Utilizando un par de parentesis: ( )\n",
        "  -- Utilizando una coma a la derecha: x,\n",
        "  -- Utilizando un par de parentesis con objetos separdos por comas: ( x, y, z )\n",
        "  -- Utilizando: tuple() o tuple(interador)\n",
        "'''"
      ]
    },
    {
      "cell_type": "code",
      "execution_count": 140,
      "metadata": {
        "colab": {
          "base_uri": "https://localhost:8080/"
        },
        "id": "kaT6cAr-ggi3",
        "outputId": "d93d226d-797b-4303-9aee-b7de0688fbe0"
      },
      "outputs": [
        {
          "output_type": "execute_result",
          "data": {
            "text/plain": [
              "1"
            ]
          },
          "metadata": {},
          "execution_count": 140
        }
      ],
      "source": [
        "# Utilizando un par de parentesis: ( )\n",
        "(1)"
      ]
    },
    {
      "cell_type": "code",
      "execution_count": 141,
      "metadata": {
        "colab": {
          "base_uri": "https://localhost:8080/"
        },
        "id": "AVRlrF8bgimN",
        "outputId": "7ffc158a-2b0b-406b-d8be-65617eb88c57"
      },
      "outputs": [
        {
          "output_type": "execute_result",
          "data": {
            "text/plain": [
              "(1, 2, 3)"
            ]
          },
          "metadata": {},
          "execution_count": 141
        }
      ],
      "source": [
        "# Utilizando una coma a la derecha: x,\n",
        "1,2,3"
      ]
    },
    {
      "cell_type": "code",
      "execution_count": 142,
      "metadata": {
        "id": "WBOSSVzfjmIW"
      },
      "outputs": [],
      "source": [
        "# Utilizando un par de parentesis con objetos separdos por comas: ( x, y, z )\n",
        "coordenadas = (3, 5)\n",
        "colores = (\"rojo\", \"verde\", \"azul\")"
      ]
    },
    {
      "cell_type": "code",
      "execution_count": 143,
      "metadata": {
        "colab": {
          "base_uri": "https://localhost:8080/"
        },
        "id": "_pVWdnEEbXzX",
        "outputId": "1439ddb6-1eec-4f9d-beee-c4c89c25f3df"
      },
      "outputs": [
        {
          "output_type": "execute_result",
          "data": {
            "text/plain": [
              "(3, 5)"
            ]
          },
          "metadata": {},
          "execution_count": 143
        }
      ],
      "source": [
        "coordenadas"
      ]
    },
    {
      "cell_type": "code",
      "execution_count": 144,
      "metadata": {
        "colab": {
          "base_uri": "https://localhost:8080/"
        },
        "id": "mkkZCHeU3-hX",
        "outputId": "4887879f-4131-408b-ca59-7e87c84b5abc"
      },
      "outputs": [
        {
          "output_type": "execute_result",
          "data": {
            "text/plain": [
              "tuple"
            ]
          },
          "metadata": {},
          "execution_count": 144
        }
      ],
      "source": [
        "type(coordenadas)"
      ]
    },
    {
      "cell_type": "code",
      "execution_count": 145,
      "metadata": {
        "colab": {
          "base_uri": "https://localhost:8080/"
        },
        "id": "dUu_C-PIbZT_",
        "outputId": "82dba0c5-b870-440c-b186-61af79acf517"
      },
      "outputs": [
        {
          "output_type": "execute_result",
          "data": {
            "text/plain": [
              "('rojo', 'verde', 'azul')"
            ]
          },
          "metadata": {},
          "execution_count": 145
        }
      ],
      "source": [
        "colores"
      ]
    },
    {
      "cell_type": "code",
      "execution_count": 146,
      "metadata": {
        "colab": {
          "base_uri": "https://localhost:8080/"
        },
        "id": "Oq1HLY0I46lQ",
        "outputId": "416d9ab4-efca-4a89-9033-a86144aa4b0c"
      },
      "outputs": [
        {
          "output_type": "execute_result",
          "data": {
            "text/plain": [
              "tuple"
            ]
          },
          "metadata": {},
          "execution_count": 146
        }
      ],
      "source": [
        "type(colores)"
      ]
    },
    {
      "cell_type": "code",
      "execution_count": 147,
      "metadata": {
        "colab": {
          "base_uri": "https://localhost:8080/"
        },
        "id": "wWaFjBF7gm73",
        "outputId": "ba3d06f1-b1d8-4a35-d2dd-ee987410a6c7"
      },
      "outputs": [
        {
          "output_type": "execute_result",
          "data": {
            "text/plain": [
              "('Passta', 153000)"
            ]
          },
          "metadata": {},
          "execution_count": 147
        }
      ],
      "source": [
        "nombre = 'Passta'\n",
        "valor = 153000\n",
        "(nombre, valor)"
      ]
    },
    {
      "cell_type": "code",
      "execution_count": 148,
      "metadata": {
        "colab": {
          "base_uri": "https://localhost:8080/"
        },
        "id": "MunAxf6Cgm0D",
        "outputId": "4effc5d4-f87c-4ac1-82fb-89e063c4d1bd"
      },
      "outputs": [
        {
          "output_type": "execute_result",
          "data": {
            "text/plain": [
              "('Jetta Variant', 'Passat', 'Crossfox', 'DS5')"
            ]
          },
          "metadata": {},
          "execution_count": 148
        }
      ],
      "source": [
        "# Utilizando: tuple() o tuple(interador)\n",
        "nombre_carros = tuple(['Jetta Variant','Passat','Crossfox','DS5'])\n",
        "nombre_carros"
      ]
    },
    {
      "cell_type": "code",
      "execution_count": 149,
      "metadata": {
        "colab": {
          "base_uri": "https://localhost:8080/"
        },
        "id": "4FjdQSsNgmr8",
        "outputId": "1c15518d-bf44-4e44-f403-4c97e14f9dc9"
      },
      "outputs": [
        {
          "output_type": "execute_result",
          "data": {
            "text/plain": [
              "tuple"
            ]
          },
          "metadata": {},
          "execution_count": 149
        }
      ],
      "source": [
        "type(nombre_carros)"
      ]
    },
    {
      "cell_type": "markdown",
      "source": [
        "Una de las caracteristicas que me permiten las tuplas es que se pueden retornar mas de un elemento\n"
      ],
      "metadata": {
        "id": "3TB5W02Fw6X4"
      }
    },
    {
      "cell_type": "code",
      "source": [
        "def retornar_estudiante():\n",
        "    return 'Mario', 18, 8.9\n",
        "\n",
        "tupla_estudiante = retornar_estudiante()\n",
        "print(tupla_estudiante)"
      ],
      "metadata": {
        "colab": {
          "base_uri": "https://localhost:8080/"
        },
        "id": "NiCDRbQgw-Dq",
        "outputId": "0f733253-1d14-4124-e237-7ed62cf2f7f4"
      },
      "execution_count": 150,
      "outputs": [
        {
          "output_type": "stream",
          "name": "stdout",
          "text": [
            "('Mario', 18, 8.9)\n"
          ]
        }
      ]
    },
    {
      "cell_type": "markdown",
      "source": [
        "Otra caracteristica importante de la tuplas es que nos permite es la declaracion de multiples variables en una linea, ha esto se le llama **DESEMPAQUETADO**"
      ],
      "metadata": {
        "id": "Hz-RhcjaxGVf"
      }
    },
    {
      "cell_type": "code",
      "source": [
        "nombre, edad, promedio = retornar_estudiante()\n",
        "print(nombre)\n",
        "print(edad)\n",
        "print(promedio)"
      ],
      "metadata": {
        "colab": {
          "base_uri": "https://localhost:8080/"
        },
        "id": "aXsSNiZXxKD_",
        "outputId": "65fca230-ca89-4dad-87a4-2e77557e64f6"
      },
      "execution_count": 151,
      "outputs": [
        {
          "output_type": "stream",
          "name": "stdout",
          "text": [
            "Mario\n",
            "18\n",
            "8.9\n"
          ]
        }
      ]
    },
    {
      "cell_type": "markdown",
      "source": [
        "Por ultimo, **one-line swapping:** para entender este concepto lo vamos a hacer con el siguiente ejemplo:"
      ],
      "metadata": {
        "id": "sbFHBa5Rxeh2"
      }
    },
    {
      "cell_type": "code",
      "source": [
        "varible1 = 1.0\n",
        "variable2 = 2.0\n",
        "#   Ahora quiero asignar el valor de variable1 a la variable2 y el valor de la varible2 a la variable1\n",
        "#   varible1 = 2.0\n",
        "#   variable2 = 1.0\n",
        "#   Lo podemos hacer con una varible temporal (_)\n",
        "_ = varible1\n",
        "varible1 = variable2\n",
        "variable2 = _\n",
        "print(varible1,variable2)\n",
        "\n",
        "#   Esta es una forma pero tambien existe el concepto ONE-LINE SWAPPING, entonces vamos devolver\n",
        "#   los valores de la variablñes a como estaban\n",
        "varible1, variable2 = (variable2, varible1)\n",
        "print(varible1,variable2)"
      ],
      "metadata": {
        "colab": {
          "base_uri": "https://localhost:8080/"
        },
        "id": "nr8i2cqGxUo0",
        "outputId": "46f9400d-ee98-4906-c0d4-b826f1ada8c6"
      },
      "execution_count": 152,
      "outputs": [
        {
          "output_type": "stream",
          "name": "stdout",
          "text": [
            "2.0 1.0\n",
            "1.0 2.0\n"
          ]
        }
      ]
    },
    {
      "cell_type": "markdown",
      "metadata": {
        "id": "VXB7DleQ4Fk6"
      },
      "source": [
        "**Operaciones con Tuplas:**\n",
        "\n",
        "* Acceso por índice: **mi_tupla[0]** devuelve el primer elemento.\n",
        "* Longitud de la tupla: **len(mi_tupla)** retorna la cantidad de elementos."
      ]
    },
    {
      "cell_type": "markdown",
      "metadata": {
        "id": "8gP0iM11hLC7"
      },
      "source": [
        "**Seleccion en tuplas**"
      ]
    },
    {
      "cell_type": "code",
      "execution_count": 153,
      "metadata": {
        "colab": {
          "base_uri": "https://localhost:8080/"
        },
        "id": "_7Spc2x1gmiv",
        "outputId": "f4fa9373-e168-46b7-c29e-bd5dc8f371c6"
      },
      "outputs": [
        {
          "output_type": "execute_result",
          "data": {
            "text/plain": [
              "('Jetta Variant', 'Passat', 'Crossfox', 'DS5')"
            ]
          },
          "metadata": {},
          "execution_count": 153
        }
      ],
      "source": [
        "nombre_carros = tuple(['Jetta Variant','Passat','Crossfox','DS5'])\n",
        "nombre_carros"
      ]
    },
    {
      "cell_type": "code",
      "execution_count": 154,
      "metadata": {
        "colab": {
          "base_uri": "https://localhost:8080/",
          "height": 0
        },
        "id": "OhDki4g6gmZ0",
        "outputId": "3a7e1c53-114e-4e72-f8ae-e7d7d5a17faf"
      },
      "outputs": [
        {
          "output_type": "execute_result",
          "data": {
            "text/plain": [
              "'Jetta Variant'"
            ],
            "application/vnd.google.colaboratory.intrinsic+json": {
              "type": "string"
            }
          },
          "metadata": {},
          "execution_count": 154
        }
      ],
      "source": [
        "nombre_carros[0]"
      ]
    },
    {
      "cell_type": "code",
      "execution_count": 155,
      "metadata": {
        "colab": {
          "base_uri": "https://localhost:8080/"
        },
        "id": "CiZnlDFUgmE5",
        "outputId": "eb7a4d87-b9ff-47a5-c2dd-bdd799a1234a"
      },
      "outputs": [
        {
          "output_type": "execute_result",
          "data": {
            "text/plain": [
              "4"
            ]
          },
          "metadata": {},
          "execution_count": 155
        }
      ],
      "source": [
        "len(nombre_carros)"
      ]
    },
    {
      "cell_type": "markdown",
      "metadata": {
        "id": "7ZUk2Qd94LhI"
      },
      "source": [
        "**slicing en tuplas**"
      ]
    },
    {
      "cell_type": "code",
      "execution_count": 156,
      "metadata": {
        "colab": {
          "base_uri": "https://localhost:8080/"
        },
        "id": "4qG5yZD3hrsJ",
        "outputId": "15458df3-b336-4aed-cec8-19c360abf926"
      },
      "outputs": [
        {
          "output_type": "execute_result",
          "data": {
            "text/plain": [
              "('Jetta Variant', 'Passat', 'Crossfox', 'DS5')"
            ]
          },
          "metadata": {},
          "execution_count": 156
        }
      ],
      "source": [
        "nombre_carros"
      ]
    },
    {
      "cell_type": "code",
      "execution_count": 157,
      "metadata": {
        "colab": {
          "base_uri": "https://localhost:8080/"
        },
        "id": "uQYa-QkmhrkC",
        "outputId": "1aced6bb-f875-4363-f72b-5c9f99417246"
      },
      "outputs": [
        {
          "output_type": "execute_result",
          "data": {
            "text/plain": [
              "('Jetta Variant', 'Passat')"
            ]
          },
          "metadata": {},
          "execution_count": 157
        }
      ],
      "source": [
        "nombre_carros[:2]"
      ]
    },
    {
      "cell_type": "code",
      "execution_count": 158,
      "metadata": {
        "colab": {
          "base_uri": "https://localhost:8080/"
        },
        "id": "0Saj8HQhhraz",
        "outputId": "b6fc64ae-53ec-4750-bd44-69ef2a97f71a"
      },
      "outputs": [
        {
          "output_type": "execute_result",
          "data": {
            "text/plain": [
              "('Passat', 'Crossfox')"
            ]
          },
          "metadata": {},
          "execution_count": 158
        }
      ],
      "source": [
        "nombre_carros[1:3]"
      ]
    },
    {
      "cell_type": "markdown",
      "metadata": {
        "id": "Cd_ZVWn96snJ"
      },
      "source": [
        "**slicing de una tupla dentro de otra**"
      ]
    },
    {
      "cell_type": "code",
      "execution_count": 159,
      "metadata": {
        "colab": {
          "base_uri": "https://localhost:8080/"
        },
        "id": "fmb3IxGGhrSZ",
        "outputId": "8d8874a0-ab9e-4148-ae54-d6236b70ce7b"
      },
      "outputs": [
        {
          "output_type": "execute_result",
          "data": {
            "text/plain": [
              "('Jetta Variant', 'Passat', 'Crossfox', 'DS5', ('Fusca', 'Gol', 'C4'))"
            ]
          },
          "metadata": {},
          "execution_count": 159
        }
      ],
      "source": [
        "nombre_carros = ('Jetta Variant','Passat','Crossfox','DS5',('Fusca','Gol','C4'))\n",
        "nombre_carros"
      ]
    },
    {
      "cell_type": "code",
      "execution_count": 160,
      "metadata": {
        "colab": {
          "base_uri": "https://localhost:8080/",
          "height": 0
        },
        "id": "ZK1BAPwHitCY",
        "outputId": "7d430565-4279-4d55-e215-26cc856e44db"
      },
      "outputs": [
        {
          "output_type": "execute_result",
          "data": {
            "text/plain": [
              "'Gol'"
            ],
            "application/vnd.google.colaboratory.intrinsic+json": {
              "type": "string"
            }
          },
          "metadata": {},
          "execution_count": 160
        }
      ],
      "source": [
        "nombre_carros[-1][1]"
      ]
    },
    {
      "cell_type": "markdown",
      "metadata": {
        "id": "iguBJgK7jXtA"
      },
      "source": [
        "**Interar Tuplas**"
      ]
    },
    {
      "cell_type": "markdown",
      "metadata": {
        "id": "ESgIuCrU3_qY"
      },
      "source": [
        "Cuando hablamos de **\"iterar dentro de una tupla\"**, nos referimos a recorrer cada elemento de la tupla uno por uno, generalmente utilizando un bucle o una estructura de control. La iteración es un proceso en el que accedemos a cada elemento de la tupla de manera secuencial para realizar alguna operación o tarea específica en cada elemento."
      ]
    },
    {
      "cell_type": "markdown",
      "metadata": {
        "id": "kTr7OYpr7JIF"
      },
      "source": [
        "Para iterar sobre los elementos de una tupla en Python, puedes utilizar un bucle **for**. Aquí tienes un ejemplo de cómo hacerlo:"
      ]
    },
    {
      "cell_type": "code",
      "execution_count": 161,
      "metadata": {
        "colab": {
          "base_uri": "https://localhost:8080/"
        },
        "id": "RC2mekkSjW4h",
        "outputId": "ce6bad3f-0e1e-41e7-eb9d-65aec6a6f2f2"
      },
      "outputs": [
        {
          "output_type": "execute_result",
          "data": {
            "text/plain": [
              "('Jetta Variant', 'Passat', 'Crossfox', 'DS5')"
            ]
          },
          "metadata": {},
          "execution_count": 161
        }
      ],
      "source": [
        "nombre_carros = ('Jetta Variant','Passat','Crossfox','DS5')\n",
        "nombre_carros"
      ]
    },
    {
      "cell_type": "code",
      "execution_count": 162,
      "metadata": {
        "colab": {
          "base_uri": "https://localhost:8080/"
        },
        "id": "D-43gAyFhrKa",
        "outputId": "7884c883-fcd9-4647-c048-19bd5ddcad25"
      },
      "outputs": [
        {
          "output_type": "stream",
          "name": "stdout",
          "text": [
            "Jetta Variant\n",
            "Passat\n",
            "Crossfox\n",
            "DS5\n"
          ]
        }
      ],
      "source": [
        "for item in nombre_carros:\n",
        "  print(item)"
      ]
    },
    {
      "cell_type": "markdown",
      "metadata": {
        "id": "sl_eN1sd7M-d"
      },
      "source": [
        "En este ejemplo, hemos creado una tupla llamada **nombres_carros** con cuatro elementos. Luego, utilizamos un bucle for para recorrer la tupla y, en cada iteración, la variable elemento toma el valor de uno de los elementos de la tupla. En este caso, imprimimos cada elemento en la consola.\n",
        "\n"
      ]
    },
    {
      "cell_type": "markdown",
      "metadata": {
        "id": "yC8XFutkjxTg"
      },
      "source": [
        "**Desempacando Tuplas**"
      ]
    },
    {
      "cell_type": "markdown",
      "metadata": {
        "id": "C-6Rr8Vq7hF5"
      },
      "source": [
        "El desempaquetamiento de tuplas en Python te permite asignar los elementos de una tupla a variables individuales. Esto es útil cuando deseas acceder a cada elemento de la tupla de manera individual. Aquí tienes un ejemplo de cómo hacerlo:"
      ]
    },
    {
      "cell_type": "code",
      "execution_count": 163,
      "metadata": {
        "colab": {
          "base_uri": "https://localhost:8080/"
        },
        "id": "2Rme6Gl8jGDq",
        "outputId": "7372b18e-2f07-4da1-ab5c-f03badacd061"
      },
      "outputs": [
        {
          "output_type": "execute_result",
          "data": {
            "text/plain": [
              "('Jetta Variant', 'Passat', 'Crossfox', 'DS5')"
            ]
          },
          "metadata": {},
          "execution_count": 163
        }
      ],
      "source": [
        "nombre_carros"
      ]
    },
    {
      "cell_type": "code",
      "execution_count": 164,
      "metadata": {
        "id": "Wg7R6GOahrBi"
      },
      "outputs": [],
      "source": [
        "carro_1, carro_2, carro_3, carro_4 = nombre_carros"
      ]
    },
    {
      "cell_type": "code",
      "execution_count": 165,
      "metadata": {
        "colab": {
          "base_uri": "https://localhost:8080/",
          "height": 0
        },
        "id": "PO5lmuyahq5W",
        "outputId": "98af9ea1-446a-4446-d65c-ae02d1abecde"
      },
      "outputs": [
        {
          "output_type": "execute_result",
          "data": {
            "text/plain": [
              "'Jetta Variant'"
            ],
            "application/vnd.google.colaboratory.intrinsic+json": {
              "type": "string"
            }
          },
          "metadata": {},
          "execution_count": 165
        }
      ],
      "source": [
        "carro_1"
      ]
    },
    {
      "cell_type": "code",
      "execution_count": 166,
      "metadata": {
        "colab": {
          "base_uri": "https://localhost:8080/",
          "height": 0
        },
        "id": "eQMn9CIihqvQ",
        "outputId": "d32599e3-f252-466c-bb0b-65a5a1bb710c"
      },
      "outputs": [
        {
          "output_type": "execute_result",
          "data": {
            "text/plain": [
              "'Passat'"
            ],
            "application/vnd.google.colaboratory.intrinsic+json": {
              "type": "string"
            }
          },
          "metadata": {},
          "execution_count": 166
        }
      ],
      "source": [
        "carro_2"
      ]
    },
    {
      "cell_type": "code",
      "execution_count": 167,
      "metadata": {
        "colab": {
          "base_uri": "https://localhost:8080/",
          "height": 0
        },
        "id": "cx2_BIRWhqlo",
        "outputId": "5ae8af5a-5a21-4610-c0db-f355124137af"
      },
      "outputs": [
        {
          "output_type": "execute_result",
          "data": {
            "text/plain": [
              "'Crossfox'"
            ],
            "application/vnd.google.colaboratory.intrinsic+json": {
              "type": "string"
            }
          },
          "metadata": {},
          "execution_count": 167
        }
      ],
      "source": [
        "carro_3"
      ]
    },
    {
      "cell_type": "code",
      "execution_count": 168,
      "metadata": {
        "colab": {
          "base_uri": "https://localhost:8080/",
          "height": 0
        },
        "id": "SDNutDyChqZL",
        "outputId": "412d5034-b4b9-4bca-dce3-1e3ce5b66e98"
      },
      "outputs": [
        {
          "output_type": "execute_result",
          "data": {
            "text/plain": [
              "'DS5'"
            ],
            "application/vnd.google.colaboratory.intrinsic+json": {
              "type": "string"
            }
          },
          "metadata": {},
          "execution_count": 168
        }
      ],
      "source": [
        "carro_4"
      ]
    },
    {
      "cell_type": "markdown",
      "metadata": {
        "id": "ItfE78hXkWZF"
      },
      "source": [
        "**Recordatorio:** Tambien pudes omitir alguno elementos dentro de la tupla con la vaiable _\n"
      ]
    },
    {
      "cell_type": "code",
      "execution_count": 169,
      "metadata": {
        "colab": {
          "base_uri": "https://localhost:8080/"
        },
        "id": "UtuAzDOlkppn",
        "outputId": "175503b3-5eeb-4cd5-f74d-151375cf90a1"
      },
      "outputs": [
        {
          "output_type": "execute_result",
          "data": {
            "text/plain": [
              "('Jetta Variant', 'Passat', 'Crossfox', 'DS5')"
            ]
          },
          "metadata": {},
          "execution_count": 169
        }
      ],
      "source": [
        "nombre_carros"
      ]
    },
    {
      "cell_type": "code",
      "execution_count": 170,
      "metadata": {
        "id": "R6ADwE_XhqNn"
      },
      "outputs": [],
      "source": [
        "_, A, _, B = nombre_carros"
      ]
    },
    {
      "cell_type": "code",
      "execution_count": 171,
      "metadata": {
        "colab": {
          "base_uri": "https://localhost:8080/",
          "height": 0
        },
        "id": "RY5GnG6_hqAe",
        "outputId": "2bcec799-a8b3-435e-dc84-bdaaf590ea6b"
      },
      "outputs": [
        {
          "output_type": "execute_result",
          "data": {
            "text/plain": [
              "'Passat'"
            ],
            "application/vnd.google.colaboratory.intrinsic+json": {
              "type": "string"
            }
          },
          "metadata": {},
          "execution_count": 171
        }
      ],
      "source": [
        "A"
      ]
    },
    {
      "cell_type": "code",
      "execution_count": 172,
      "metadata": {
        "colab": {
          "base_uri": "https://localhost:8080/",
          "height": 0
        },
        "id": "FI1pfyZjkoNd",
        "outputId": "687ae9fb-023b-4e46-f67c-683aa91ffb3f"
      },
      "outputs": [
        {
          "output_type": "execute_result",
          "data": {
            "text/plain": [
              "'DS5'"
            ],
            "application/vnd.google.colaboratory.intrinsic+json": {
              "type": "string"
            }
          },
          "metadata": {},
          "execution_count": 172
        }
      ],
      "source": [
        "B"
      ]
    },
    {
      "cell_type": "markdown",
      "metadata": {
        "id": "V8cjwktik4-f"
      },
      "source": [
        "O de la siguiente manera"
      ]
    },
    {
      "cell_type": "code",
      "execution_count": 173,
      "metadata": {
        "colab": {
          "base_uri": "https://localhost:8080/"
        },
        "id": "JzhNH6eRlNyH",
        "outputId": "a4a74d2b-d9ac-4320-bf95-c873ff529850"
      },
      "outputs": [
        {
          "output_type": "execute_result",
          "data": {
            "text/plain": [
              "('Jetta Variant', 'Passat', 'Crossfox', 'DS5')"
            ]
          },
          "metadata": {},
          "execution_count": 173
        }
      ],
      "source": [
        "nombre_carros"
      ]
    },
    {
      "cell_type": "code",
      "execution_count": 174,
      "metadata": {
        "id": "V_m1IcsBk_V6"
      },
      "outputs": [],
      "source": [
        "_, C, *_ = nombre_carros"
      ]
    },
    {
      "cell_type": "code",
      "execution_count": 175,
      "metadata": {
        "colab": {
          "base_uri": "https://localhost:8080/",
          "height": 0
        },
        "id": "GO1kHT2GlKV6",
        "outputId": "2591d088-b668-4bff-9b29-b79cc9778eeb"
      },
      "outputs": [
        {
          "output_type": "execute_result",
          "data": {
            "text/plain": [
              "'Passat'"
            ],
            "application/vnd.google.colaboratory.intrinsic+json": {
              "type": "string"
            }
          },
          "metadata": {},
          "execution_count": 175
        }
      ],
      "source": [
        "C"
      ]
    },
    {
      "cell_type": "markdown",
      "metadata": {
        "id": "KsQ3lWGA8KlZ"
      },
      "source": [
        "1. Primero, tenemos la tupla **nombre_carros**, que contiene cuatro elementos.\n",
        "\n",
        "2. Luego, se realiza el desempaquetamiento de la tupla. El guion bajo _ se utiliza para ignorar el primer elemento de la tupla ('Jetta Variant'). El valor de _ no se utilizará en el código posterior.\n",
        "\n",
        "3. La variable C se asigna al segundo elemento de la tupla ('Passat').\n",
        "\n",
        "4. El asterisco * se utiliza para recoger el resto de los elementos de la tupla en una lista no nombrada. En este caso, los elementos restantes son ('Crossfox', 'DS5') y se almacenan en una lista no nombrada."
      ]
    },
    {
      "cell_type": "markdown",
      "metadata": {
        "id": "anObWdsBlQsW"
      },
      "source": [
        "**Funcion en tuplas**"
      ]
    },
    {
      "cell_type": "markdown",
      "metadata": {
        "id": "fP4AgXmm4uxy"
      },
      "source": [
        "**zip()**"
      ]
    },
    {
      "cell_type": "markdown",
      "metadata": {
        "id": "6mw-ozvy8h-O"
      },
      "source": [
        "Con la funcion **zip()** en Python se utiliza para combinar dos o más secuencias en una secuencia única, como tuplas. Esto es útil cuando deseas emparejar elementos correspondientes de diferentes secuencias. Aquí tienes un ejemplo de cómo usar **zip()** con tuplas:"
      ]
    },
    {
      "cell_type": "markdown",
      "metadata": {
        "id": "GQDPzd-ZHnTu"
      },
      "source": [
        "Crearemos un interador con tuplas"
      ]
    },
    {
      "cell_type": "code",
      "execution_count": 176,
      "metadata": {
        "colab": {
          "base_uri": "https://localhost:8080/"
        },
        "id": "DJouO_gwlUL0",
        "outputId": "4e3b0f3b-d698-40ee-97c6-f5c87e1a2f02"
      },
      "outputs": [
        {
          "output_type": "execute_result",
          "data": {
            "text/plain": [
              "['Jetta Variant', 'Passat', 'Crossfox', 'DS5']"
            ]
          },
          "metadata": {},
          "execution_count": 176
        }
      ],
      "source": [
        "#Creamos nuestra primera lista\n",
        "carros = ['Jetta Variant','Passat','Crossfox','DS5']\n",
        "carros"
      ]
    },
    {
      "cell_type": "code",
      "execution_count": 177,
      "metadata": {
        "colab": {
          "base_uri": "https://localhost:8080/"
        },
        "id": "HX_JMx40H46Y",
        "outputId": "1e2c4a70-bce6-419e-d8a5-9ab6f7076336"
      },
      "outputs": [
        {
          "output_type": "execute_result",
          "data": {
            "text/plain": [
              "[88078.64, 106161.94, 72832.16, 124549.07]"
            ]
          },
          "metadata": {},
          "execution_count": 177
        }
      ],
      "source": [
        "#Creamos nuestra segunda lista\n",
        "valores = [88078.64, 106161.94, 72832.16, 124549.07]\n",
        "valores"
      ]
    },
    {
      "cell_type": "code",
      "execution_count": 178,
      "metadata": {
        "colab": {
          "base_uri": "https://localhost:8080/"
        },
        "id": "gnvw3ESPH4wQ",
        "outputId": "ac9dfcf6-61a1-443c-a229-8a676037a2aa"
      },
      "outputs": [
        {
          "output_type": "execute_result",
          "data": {
            "text/plain": [
              "<zip at 0x7b5c2437d900>"
            ]
          },
          "metadata": {},
          "execution_count": 178
        }
      ],
      "source": [
        "# Unimos nuestas lista y nos da como resultado una tupla\n",
        "zip(carros, valores)"
      ]
    },
    {
      "cell_type": "code",
      "execution_count": 179,
      "metadata": {
        "colab": {
          "base_uri": "https://localhost:8080/"
        },
        "id": "C2GtGta8H4kN",
        "outputId": "a7102736-5c3f-4f0b-b8f0-f8715e82db9c"
      },
      "outputs": [
        {
          "output_type": "execute_result",
          "data": {
            "text/plain": [
              "[('Jetta Variant', 88078.64),\n",
              " ('Passat', 106161.94),\n",
              " ('Crossfox', 72832.16),\n",
              " ('DS5', 124549.07)]"
            ]
          },
          "metadata": {},
          "execution_count": 179
        }
      ],
      "source": [
        "# Se agrega la tupla dentro de una lista\n",
        "list(zip(carros, valores))"
      ]
    },
    {
      "cell_type": "code",
      "execution_count": 180,
      "metadata": {
        "colab": {
          "base_uri": "https://localhost:8080/"
        },
        "id": "qyh18BnkH4dt",
        "outputId": "c1ec70a9-0f8a-47d6-e44c-68296f598bf6"
      },
      "outputs": [
        {
          "output_type": "stream",
          "name": "stdout",
          "text": [
            "('Jetta Variant', 88078.64)\n",
            "('Passat', 106161.94)\n",
            "('Crossfox', 72832.16)\n",
            "('DS5', 124549.07)\n"
          ]
        }
      ],
      "source": [
        "# Interamos\n",
        "for item in zip(carros, valores):\n",
        "  print(item)"
      ]
    },
    {
      "cell_type": "markdown",
      "metadata": {
        "id": "sIjKaI_oIvTf"
      },
      "source": [
        "Ahora vamos a desempacar tuplas"
      ]
    },
    {
      "cell_type": "code",
      "execution_count": 181,
      "metadata": {
        "colab": {
          "base_uri": "https://localhost:8080/"
        },
        "id": "ejD4RA6pH4Vj",
        "outputId": "700ea453-1e92-478a-c80b-8f473b251593"
      },
      "outputs": [
        {
          "output_type": "stream",
          "name": "stdout",
          "text": [
            "Jetta Variant 88078.64\n",
            "Passat 106161.94\n",
            "Crossfox 72832.16\n",
            "DS5 124549.07\n"
          ]
        }
      ],
      "source": [
        "for carro, valor in zip(carros, valores):\n",
        "  print(carro, valor)"
      ]
    },
    {
      "cell_type": "markdown",
      "metadata": {
        "id": "O0_XGKqZJFdu"
      },
      "source": [
        "Ahora con los elementos desempacados realizaremos operaciones, en este caso una condicion"
      ]
    },
    {
      "cell_type": "code",
      "execution_count": 182,
      "metadata": {
        "colab": {
          "base_uri": "https://localhost:8080/"
        },
        "id": "7bgH82SXJFHt",
        "outputId": "18bd218c-1507-49c4-f683-ed14a4597519"
      },
      "outputs": [
        {
          "output_type": "stream",
          "name": "stdout",
          "text": [
            "Passat 106161.94\n",
            "DS5 124549.07\n"
          ]
        }
      ],
      "source": [
        "for carro, valor in zip(carros, valores):\n",
        "  if (valor > 100000):\n",
        "   print(carro, valor)"
      ]
    },
    {
      "cell_type": "markdown",
      "metadata": {
        "id": "gbG6K6Sn5kVr"
      },
      "source": [
        "**Metodos en tuplas**"
      ]
    },
    {
      "cell_type": "markdown",
      "metadata": {
        "id": "BxNHhseDMelG"
      },
      "source": [
        "**n.index()**\n"
      ]
    },
    {
      "cell_type": "markdown",
      "metadata": {
        "id": "cD4-sGiE91Gs"
      },
      "source": [
        "**index()** en Python es un método que se utiliza para buscar la posición (índice) de un elemento específico en una secuencia, como una lista, una tupla o una cadena. Este método devuelve el índice de la primera aparición del elemento en la secuencia."
      ]
    },
    {
      "cell_type": "code",
      "execution_count": 183,
      "metadata": {
        "colab": {
          "base_uri": "https://localhost:8080/"
        },
        "id": "JyV1M_ot97H3",
        "outputId": "4b99608c-f3f2-4184-a1da-145b216a0a26"
      },
      "outputs": [
        {
          "output_type": "execute_result",
          "data": {
            "text/plain": [
              "('Jetta Variant', 'Passat', 'Crossfox', 'DS5')"
            ]
          },
          "metadata": {},
          "execution_count": 183
        }
      ],
      "source": [
        "carros = ('Jetta Variant','Passat','Crossfox','DS5')\n",
        "carros"
      ]
    },
    {
      "cell_type": "code",
      "execution_count": 184,
      "metadata": {
        "colab": {
          "base_uri": "https://localhost:8080/"
        },
        "id": "_79fe8SrL-0M",
        "outputId": "2adc7403-8229-4fc4-93ce-a22d83c4af45"
      },
      "outputs": [
        {
          "output_type": "execute_result",
          "data": {
            "text/plain": [
              "(88078.64, 106161.94, 72832.16)"
            ]
          },
          "metadata": {},
          "execution_count": 184
        }
      ],
      "source": [
        "valores = (88078.64, 106161.94, 72832.16)\n",
        "valores"
      ]
    },
    {
      "cell_type": "code",
      "execution_count": 185,
      "metadata": {
        "colab": {
          "base_uri": "https://localhost:8080/"
        },
        "id": "9t3efZcH-q3c",
        "outputId": "2f24ff4b-2468-4c1d-935d-275f520549ff"
      },
      "outputs": [
        {
          "output_type": "execute_result",
          "data": {
            "text/plain": [
              "[('Jetta Variant', 88078.64), ('Passat', 106161.94), ('Crossfox', 72832.16)]"
            ]
          },
          "metadata": {},
          "execution_count": 185
        }
      ],
      "source": [
        "# Se combinaron los valores de ambas listas de 1 a 1\n",
        "list(zip(carros, valores))"
      ]
    },
    {
      "cell_type": "code",
      "execution_count": 186,
      "metadata": {
        "colab": {
          "base_uri": "https://localhost:8080/"
        },
        "id": "et27vDkP-JlC",
        "outputId": "8ff0a262-01b0-4ddf-c14b-96431b3bca76"
      },
      "outputs": [
        {
          "output_type": "execute_result",
          "data": {
            "text/plain": [
              "3"
            ]
          },
          "metadata": {},
          "execution_count": 186
        }
      ],
      "source": [
        "# Nos indica la posicion de nuestro elemento\n",
        "carros.index('DS5')"
      ]
    },
    {
      "cell_type": "code",
      "execution_count": 187,
      "metadata": {
        "colab": {
          "base_uri": "https://localhost:8080/"
        },
        "id": "-c373wpHMaGh",
        "outputId": "c119a4d8-0f1e-4d55-8c81-c5c64fc42fc9"
      },
      "outputs": [
        {
          "output_type": "execute_result",
          "data": {
            "text/plain": [
              "106161.94"
            ]
          },
          "metadata": {},
          "execution_count": 187
        }
      ],
      "source": [
        "# Nos devolvera el valor\n",
        "valores[carros.index('Passat')]"
      ]
    },
    {
      "cell_type": "markdown",
      "metadata": {
        "id": "Wqddpt4CJh-l"
      },
      "source": [
        "**5.2.3. Diccionarios**"
      ]
    },
    {
      "cell_type": "markdown",
      "metadata": {
        "id": "09u0J6TtKIhg"
      },
      "source": [
        "**Estructura de datos clave-valor:** Los diccionarios son estructuras de datos que almacenan pares clave-valor, donde cada valor está asociado con una clave única. Esto permite una rápida recuperación de valores basada en sus claves.\n",
        "\n",
        "**Mutable:** Los diccionarios son estructuras de datos mutables, lo que significa que puedes modificar, agregar o eliminar pares clave-valor después de su creación.\n",
        "\n",
        "**No ordenados (a partir de Python 3.7+):** Antes de Python 3.7, los diccionarios no mantenían un orden predecible de sus elementos. Sin embargo, desde Python 3.7, la implementación estándar de Python (CPython) mantiene el orden de inserción, lo que significa que los elementos se ordenan según el orden en que fueron insertados. Sin embargo, no debes depender del orden en los diccionarios si necesitas portabilidad entre diferentes implementaciones de Python.\n",
        "\n",
        "**Flexibilidad en los tipos de datos:** Los valores en un diccionario pueden ser de cualquier tipo de datos (números, cadenas, listas, tuplas, diccionarios, etc.). Las claves, sin embargo, deben ser de un tipo de datos inmutable, como cadenas de caracteres, números o tuplas.\n",
        "\n",
        "**Eficiencia en la búsqueda:** La búsqueda de valores en un diccionario se realiza de manera muy eficiente, independientemente del tamaño del diccionario, ya que utiliza una técnica llamada tabla hash para indexar y recuperar los valores.\n",
        "\n",
        "**Las claves son únicas:** En un diccionario, cada clave debe ser única. Si intentas agregar una clave que ya existe, el valor asociado con esa clave se sobrescribirá con el nuevo valor.\n",
        "\n",
        "**Iterabilidad:** Puedes iterar sobre un diccionario utilizando bucles for para acceder a sus claves, valores o pares clave-valor.\n",
        "\n",
        "**Flexibilidad en la manipulación de datos:** Los diccionarios son muy útiles para almacenar y manipular datos estructurados de una manera flexible y eficiente.\n",
        "\n"
      ]
    },
    {
      "cell_type": "code",
      "execution_count": 188,
      "metadata": {
        "id": "v1xEGqp-K1WY"
      },
      "outputs": [],
      "source": [
        "# diccionario = {key_1: value_1, key_2: value_2, key_3: value_3, key_4: value_4}"
      ]
    },
    {
      "cell_type": "code",
      "execution_count": 189,
      "metadata": {
        "colab": {
          "base_uri": "https://localhost:8080/"
        },
        "id": "PoFbiJ8EJsGC",
        "outputId": "a24ef011-0d5c-4dc6-adf9-ef1230112aaf"
      },
      "outputs": [
        {
          "output_type": "execute_result",
          "data": {
            "text/plain": [
              "{'Jetta Variant': 88078.64, 'Passat': 106161.94, 'Crossfox': 72832.16}"
            ]
          },
          "metadata": {},
          "execution_count": 189
        }
      ],
      "source": [
        "datos = {'Jetta Variant':88078.64,'Passat':106161.94,'Crossfox': 72832.16}\n",
        "datos"
      ]
    },
    {
      "cell_type": "code",
      "execution_count": 190,
      "metadata": {
        "colab": {
          "base_uri": "https://localhost:8080/"
        },
        "id": "Xtsmlv2SKEHR",
        "outputId": "1a663852-0750-4fc9-8c43-218b3fd33eaa"
      },
      "outputs": [
        {
          "output_type": "execute_result",
          "data": {
            "text/plain": [
              "dict"
            ]
          },
          "metadata": {},
          "execution_count": 190
        }
      ],
      "source": [
        "type(datos)"
      ]
    },
    {
      "cell_type": "markdown",
      "metadata": {
        "id": "-oY-WpTa_A9n"
      },
      "source": [
        "**Operaciones con Diccionarios:**\n",
        "* Acceso a valores por clave: **datos[\"Passat\"]** devuelve 106161.94.\n",
        "* Agregar nuevos pares clave-valor: datos**[\"Fasca\"] = 15352423**.\n",
        "* Eliminar un par clave-valor: del datos**[\"Passat\"]**."
      ]
    },
    {
      "cell_type": "markdown",
      "metadata": {
        "id": "fPXG-75fN2hh"
      },
      "source": [
        "Creando diccionarios con **zip() y dict()**"
      ]
    },
    {
      "cell_type": "code",
      "execution_count": 191,
      "metadata": {
        "colab": {
          "base_uri": "https://localhost:8080/"
        },
        "id": "PtJG295r_nfA",
        "outputId": "82d51e83-67c5-415f-ddd6-85b80961ebed"
      },
      "outputs": [
        {
          "output_type": "execute_result",
          "data": {
            "text/plain": [
              "('Jetta Variant', 'Passat', 'Crossfox', 'DS5')"
            ]
          },
          "metadata": {},
          "execution_count": 191
        }
      ],
      "source": [
        "carros = ('Jetta Variant','Passat','Crossfox','DS5')\n",
        "carros"
      ]
    },
    {
      "cell_type": "code",
      "execution_count": 192,
      "metadata": {
        "colab": {
          "base_uri": "https://localhost:8080/"
        },
        "id": "xoWIhBcz_sIv",
        "outputId": "43950233-3319-4cf6-d7e0-7e781438fc12"
      },
      "outputs": [
        {
          "output_type": "execute_result",
          "data": {
            "text/plain": [
              "(88078.64, 106161.94, 72832.16)"
            ]
          },
          "metadata": {},
          "execution_count": 192
        }
      ],
      "source": [
        "valores = (88078.64, 106161.94, 72832.16)\n",
        "valores"
      ]
    },
    {
      "cell_type": "code",
      "execution_count": 193,
      "metadata": {
        "colab": {
          "base_uri": "https://localhost:8080/"
        },
        "id": "UQoFMlFsKDql",
        "outputId": "4f9628dc-9c17-4988-cbc9-d8811d990250"
      },
      "outputs": [
        {
          "output_type": "execute_result",
          "data": {
            "text/plain": [
              "{'Jetta Variant': 88078.64, 'Passat': 106161.94, 'Crossfox': 72832.16}"
            ]
          },
          "metadata": {},
          "execution_count": 193
        }
      ],
      "source": [
        "#Creamos un diccionario\n",
        "datos = dict(zip(carros,valores))\n",
        "datos"
      ]
    },
    {
      "cell_type": "markdown",
      "metadata": {
        "id": "1LJIplh7J0F9"
      },
      "source": [
        "**Operaciones con diccionarios**"
      ]
    },
    {
      "cell_type": "code",
      "execution_count": 194,
      "metadata": {
        "colab": {
          "base_uri": "https://localhost:8080/"
        },
        "id": "ZiBYIgT7J3WH",
        "outputId": "beb1558b-eedf-4bcf-afb5-d8629ad46be4"
      },
      "outputs": [
        {
          "output_type": "execute_result",
          "data": {
            "text/plain": [
              "{'Jetta Variant': 88078.64, 'Passat': 106161.94, 'Crossfox': 72832.16}"
            ]
          },
          "metadata": {},
          "execution_count": 194
        }
      ],
      "source": [
        "datos = {'Jetta Variant':88078.64,'Passat':106161.94,'Crossfox': 72832.16}\n",
        "datos"
      ]
    },
    {
      "cell_type": "markdown",
      "metadata": {
        "id": "_XrdZpsWOrgH"
      },
      "source": [
        "**dict[Key]**\n",
        "\n",
        "Devuelve el valor correspondiente a la llave (key) en el diccionario"
      ]
    },
    {
      "cell_type": "code",
      "execution_count": 195,
      "metadata": {
        "colab": {
          "base_uri": "https://localhost:8080/"
        },
        "id": "Q8X8h8U-O7Bg",
        "outputId": "f71ed7b6-90b6-477e-b419-6bd44db417bb"
      },
      "outputs": [
        {
          "output_type": "execute_result",
          "data": {
            "text/plain": [
              "106161.94"
            ]
          },
          "metadata": {},
          "execution_count": 195
        }
      ],
      "source": [
        "# Al indicar la llave del elemnto nos devuelve el valor\n",
        "datos['Passat']"
      ]
    },
    {
      "cell_type": "markdown",
      "metadata": {
        "id": "PVHfVH27PBkI"
      },
      "source": [
        "**key in dict**\n",
        "\n",
        "Devuelve **True** si la llave (key) es encontrada en el diccionario"
      ]
    },
    {
      "cell_type": "code",
      "execution_count": 196,
      "metadata": {
        "colab": {
          "base_uri": "https://localhost:8080/"
        },
        "id": "OCSQBX6lO6zD",
        "outputId": "ccf47d1e-ae78-42c5-ad04-283a99156c72"
      },
      "outputs": [
        {
          "output_type": "execute_result",
          "data": {
            "text/plain": [
              "True"
            ]
          },
          "metadata": {},
          "execution_count": 196
        }
      ],
      "source": [
        "'Passat' in datos"
      ]
    },
    {
      "cell_type": "code",
      "execution_count": 197,
      "metadata": {
        "colab": {
          "base_uri": "https://localhost:8080/"
        },
        "id": "o2jYKiLWO6jr",
        "outputId": "a1db471d-4d32-4f49-8a45-910907be6a30"
      },
      "outputs": [
        {
          "output_type": "execute_result",
          "data": {
            "text/plain": [
              "False"
            ]
          },
          "metadata": {},
          "execution_count": 197
        }
      ],
      "source": [
        "'Fusca' in datos"
      ]
    },
    {
      "cell_type": "code",
      "execution_count": 198,
      "metadata": {
        "colab": {
          "base_uri": "https://localhost:8080/"
        },
        "id": "7oRleV-9O6V6",
        "outputId": "2f4b98e5-3e1e-4178-c964-253ded2cfbfc"
      },
      "outputs": [
        {
          "output_type": "execute_result",
          "data": {
            "text/plain": [
              "True"
            ]
          },
          "metadata": {},
          "execution_count": 198
        }
      ],
      "source": [
        "'Fusca' not in datos"
      ]
    },
    {
      "cell_type": "code",
      "execution_count": 199,
      "metadata": {
        "colab": {
          "base_uri": "https://localhost:8080/"
        },
        "id": "-jlTdAl_O6MN",
        "outputId": "f76efb61-7b34-4dbb-f46c-63c706287c17"
      },
      "outputs": [
        {
          "output_type": "execute_result",
          "data": {
            "text/plain": [
              "False"
            ]
          },
          "metadata": {},
          "execution_count": 199
        }
      ],
      "source": [
        "'Passat' not in datos"
      ]
    },
    {
      "cell_type": "markdown",
      "metadata": {
        "id": "TULutwhUPr5I"
      },
      "source": [
        "**len(dict)**\n",
        "\n",
        "Devuelve el numero de itens del diccionario"
      ]
    },
    {
      "cell_type": "code",
      "execution_count": 200,
      "metadata": {
        "colab": {
          "base_uri": "https://localhost:8080/"
        },
        "id": "Xwgii5WKJ7bq",
        "outputId": "6f7307df-a38b-4759-c820-65e7cef3b822"
      },
      "outputs": [
        {
          "output_type": "execute_result",
          "data": {
            "text/plain": [
              "3"
            ]
          },
          "metadata": {},
          "execution_count": 200
        }
      ],
      "source": [
        "len(datos)"
      ]
    },
    {
      "cell_type": "markdown",
      "metadata": {
        "id": "yhAJuQhSP_Jf"
      },
      "source": [
        "**dict[key] = value**\n",
        "\n",
        "Incluye un item al diccionario"
      ]
    },
    {
      "cell_type": "code",
      "execution_count": 201,
      "metadata": {
        "colab": {
          "base_uri": "https://localhost:8080/"
        },
        "id": "hzTyKJuHP_08",
        "outputId": "e753135f-edf9-47ea-abda-112cfd9b0008"
      },
      "outputs": [
        {
          "output_type": "execute_result",
          "data": {
            "text/plain": [
              "{'Jetta Variant': 88078.64,\n",
              " 'Passat': 106161.94,\n",
              " 'Crossfox': 72832.16,\n",
              " 'DS5': 124549.07}"
            ]
          },
          "metadata": {},
          "execution_count": 201
        }
      ],
      "source": [
        "datos['DS5'] = 124549.07\n",
        "datos"
      ]
    },
    {
      "cell_type": "markdown",
      "metadata": {
        "id": "opVC3Dq3QnNZ"
      },
      "source": [
        "**del dict[key]**\n",
        "\n",
        "Elimina el item de llave (key) del diccionario"
      ]
    },
    {
      "cell_type": "code",
      "execution_count": 202,
      "metadata": {
        "colab": {
          "base_uri": "https://localhost:8080/"
        },
        "id": "4ODUBMJMQLYL",
        "outputId": "ab33de5b-1159-4c26-b90d-dad19598df65"
      },
      "outputs": [
        {
          "output_type": "execute_result",
          "data": {
            "text/plain": [
              "{'Jetta Variant': 88078.64, 'Passat': 106161.94, 'Crossfox': 72832.16}"
            ]
          },
          "metadata": {},
          "execution_count": 202
        }
      ],
      "source": [
        "del datos['DS5']\n",
        "datos"
      ]
    },
    {
      "cell_type": "code",
      "execution_count": 203,
      "metadata": {
        "colab": {
          "base_uri": "https://localhost:8080/",
          "height": 0
        },
        "id": "c5lCIF7-Q_W3",
        "outputId": "82c06c69-3dba-423a-ade5-efed1d5b9e31"
      },
      "outputs": [
        {
          "output_type": "execute_result",
          "data": {
            "text/plain": [
              "\"\\n  Nos dara un error por que el elemto ya ha sido eliminado\\n  del datos['DS5']\\n  datos\\n\""
            ],
            "application/vnd.google.colaboratory.intrinsic+json": {
              "type": "string"
            }
          },
          "metadata": {},
          "execution_count": 203
        }
      ],
      "source": [
        "'''\n",
        "  Nos dara un error por que el elemto ya ha sido eliminado\n",
        "  del datos['DS5']\n",
        "  datos\n",
        "'''"
      ]
    },
    {
      "cell_type": "markdown",
      "metadata": {
        "id": "PXE21eLtJ3wR"
      },
      "source": [
        "**Metodos de diccionarios**"
      ]
    },
    {
      "cell_type": "markdown",
      "metadata": {
        "id": "jBtf72MRXxK5"
      },
      "source": [
        "**dict.update()**\n",
        "\n",
        "Actualiza el diccionario y tambien sirve para ingresar un nuevo elemento"
      ]
    },
    {
      "cell_type": "code",
      "execution_count": 204,
      "metadata": {
        "colab": {
          "base_uri": "https://localhost:8080/"
        },
        "id": "ecgNWqw3P-TU",
        "outputId": "dcc60d26-4988-4bbc-f76e-02ae12430530"
      },
      "outputs": [
        {
          "output_type": "execute_result",
          "data": {
            "text/plain": [
              "{'Jetta Variant': 88078.64,\n",
              " 'Passat': 106161.94,\n",
              " 'Crossfox': 72832.16,\n",
              " 'DS5': 124549.07}"
            ]
          },
          "metadata": {},
          "execution_count": 204
        }
      ],
      "source": [
        "datos.update({'DS5':124549.07})\n",
        "datos"
      ]
    },
    {
      "cell_type": "code",
      "execution_count": 205,
      "metadata": {
        "colab": {
          "base_uri": "https://localhost:8080/"
        },
        "id": "X7QH_q5XX_e-",
        "outputId": "17248626-7ad4-4fed-c7db-73d788801a42"
      },
      "outputs": [
        {
          "output_type": "execute_result",
          "data": {
            "text/plain": [
              "{'Jetta Variant': 88078.64,\n",
              " 'Passat': 106161.94,\n",
              " 'Crossfox': 72832.16,\n",
              " 'DS5': 124549.1,\n",
              " 'Fusca': 150000}"
            ]
          },
          "metadata": {},
          "execution_count": 205
        }
      ],
      "source": [
        "datos.update({'DS5':124549.10, 'Fusca': 150000})\n",
        "datos"
      ]
    },
    {
      "cell_type": "markdown",
      "metadata": {
        "id": "T40tm_Q9X-z2"
      },
      "source": [
        "**dict.copy()**\n",
        "\n",
        "Realiza una copia a nuestro diccionario"
      ]
    },
    {
      "cell_type": "code",
      "execution_count": 206,
      "metadata": {
        "id": "QQORQM8KY4xi"
      },
      "outputs": [],
      "source": [
        "datos_copy = datos.copy()"
      ]
    },
    {
      "cell_type": "code",
      "execution_count": 207,
      "metadata": {
        "colab": {
          "base_uri": "https://localhost:8080/"
        },
        "id": "ASG-1M8EZG-c",
        "outputId": "a62c373d-3b91-4bf1-8b26-999babbdccb4"
      },
      "outputs": [
        {
          "output_type": "execute_result",
          "data": {
            "text/plain": [
              "{'Jetta Variant': 88078.64,\n",
              " 'Passat': 106161.94,\n",
              " 'Crossfox': 72832.16,\n",
              " 'DS5': 124549.1,\n",
              " 'Fusca': 150000}"
            ]
          },
          "metadata": {},
          "execution_count": 207
        }
      ],
      "source": [
        "# Este diiccionario ahora es independiente al original\n",
        "datos_copy"
      ]
    },
    {
      "cell_type": "code",
      "execution_count": 208,
      "metadata": {
        "id": "bT3ObgLtZXOO"
      },
      "outputs": [],
      "source": [
        "del datos_copy['Fusca']"
      ]
    },
    {
      "cell_type": "code",
      "execution_count": 209,
      "metadata": {
        "colab": {
          "base_uri": "https://localhost:8080/"
        },
        "id": "FnEG246sZbXd",
        "outputId": "0215b245-3697-434b-b460-5f7b184c2a1f"
      },
      "outputs": [
        {
          "output_type": "execute_result",
          "data": {
            "text/plain": [
              "{'Jetta Variant': 88078.64,\n",
              " 'Passat': 106161.94,\n",
              " 'Crossfox': 72832.16,\n",
              " 'DS5': 124549.1}"
            ]
          },
          "metadata": {},
          "execution_count": 209
        }
      ],
      "source": [
        "datos_copy"
      ]
    },
    {
      "cell_type": "code",
      "execution_count": 210,
      "metadata": {
        "colab": {
          "base_uri": "https://localhost:8080/"
        },
        "id": "9pkAkmCJZKC0",
        "outputId": "bad62bf7-3548-4219-b2c2-6d6dc8cc72a5"
      },
      "outputs": [
        {
          "output_type": "execute_result",
          "data": {
            "text/plain": [
              "{'Jetta Variant': 88078.64,\n",
              " 'Passat': 106161.94,\n",
              " 'Crossfox': 72832.16,\n",
              " 'DS5': 124549.1,\n",
              " 'Fusca': 150000}"
            ]
          },
          "metadata": {},
          "execution_count": 210
        }
      ],
      "source": [
        "# En el diccionario original sigue apareciendo la llave 'Fusca'\n",
        "datos"
      ]
    },
    {
      "cell_type": "markdown",
      "metadata": {
        "id": "lIsq6E4DYALJ"
      },
      "source": [
        "**dict.pop[key[, default]]**\n",
        "\n",
        "Si la llave se encuentra en el diccionario, el elemento se elimina y se devuelve su valor. De lo contrario, se devuelve el valor especificado como default. Si no se proporciona el valor default y la llve no se encuentra en el diccionario se genera un error"
      ]
    },
    {
      "cell_type": "code",
      "execution_count": 211,
      "metadata": {
        "colab": {
          "base_uri": "https://localhost:8080/"
        },
        "id": "CvKlRtFDYA0w",
        "outputId": "42efb34f-abc9-4322-df30-2b0a884185bf"
      },
      "outputs": [
        {
          "output_type": "execute_result",
          "data": {
            "text/plain": [
              "{'Jetta Variant': 88078.64,\n",
              " 'Passat': 106161.94,\n",
              " 'Crossfox': 72832.16,\n",
              " 'DS5': 124549.1}"
            ]
          },
          "metadata": {},
          "execution_count": 211
        }
      ],
      "source": [
        "datos_copy"
      ]
    },
    {
      "cell_type": "code",
      "execution_count": 212,
      "metadata": {
        "colab": {
          "base_uri": "https://localhost:8080/"
        },
        "id": "Icgm7L8baTUP",
        "outputId": "a1d702cd-0aff-4f1e-868e-7f4d3585918d"
      },
      "outputs": [
        {
          "output_type": "execute_result",
          "data": {
            "text/plain": [
              "106161.94"
            ]
          },
          "metadata": {},
          "execution_count": 212
        }
      ],
      "source": [
        "datos_copy.pop('Passat')"
      ]
    },
    {
      "cell_type": "code",
      "execution_count": 213,
      "metadata": {
        "colab": {
          "base_uri": "https://localhost:8080/"
        },
        "id": "lMc7kvJLacYp",
        "outputId": "46834be4-ad22-45d9-a8e0-57fd66af3064"
      },
      "outputs": [
        {
          "output_type": "execute_result",
          "data": {
            "text/plain": [
              "{'Jetta Variant': 88078.64, 'Crossfox': 72832.16, 'DS5': 124549.1}"
            ]
          },
          "metadata": {},
          "execution_count": 213
        }
      ],
      "source": [
        "datos_copy"
      ]
    },
    {
      "cell_type": "code",
      "execution_count": 214,
      "metadata": {
        "colab": {
          "base_uri": "https://localhost:8080/",
          "height": 0
        },
        "id": "Kd8q9KhUaUSS",
        "outputId": "531293f4-37d9-4daa-f6bc-d7cf685c4686"
      },
      "outputs": [
        {
          "output_type": "execute_result",
          "data": {
            "text/plain": [
              "'La llave no fue encontrada'"
            ],
            "application/vnd.google.colaboratory.intrinsic+json": {
              "type": "string"
            }
          },
          "metadata": {},
          "execution_count": 214
        }
      ],
      "source": [
        "# Aqui modificamos el mensaje de error\n",
        "datos_copy.pop('Passat', 'La llave no fue encontrada')"
      ]
    },
    {
      "cell_type": "markdown",
      "metadata": {
        "id": "WUH5iUGqa0kz"
      },
      "source": [
        "**dict.clear()**\n",
        "\n",
        "Borra todos los itens del diccionario"
      ]
    },
    {
      "cell_type": "code",
      "execution_count": 215,
      "metadata": {
        "id": "ecWooEENaz9o"
      },
      "outputs": [],
      "source": [
        "datos_copy.clear()"
      ]
    },
    {
      "cell_type": "code",
      "execution_count": 216,
      "metadata": {
        "colab": {
          "base_uri": "https://localhost:8080/"
        },
        "id": "99qBhqpGa-xn",
        "outputId": "32b2a6ba-f0bc-48f3-b1ca-b26ea2c5ed11"
      },
      "outputs": [
        {
          "output_type": "execute_result",
          "data": {
            "text/plain": [
              "{}"
            ]
          },
          "metadata": {},
          "execution_count": 216
        }
      ],
      "source": [
        "datos_copy"
      ]
    },
    {
      "cell_type": "markdown",
      "metadata": {
        "id": "MSUFxEIiJ75V"
      },
      "source": [
        "**Interando diccionarios**"
      ]
    },
    {
      "cell_type": "code",
      "execution_count": 217,
      "metadata": {
        "colab": {
          "base_uri": "https://localhost:8080/"
        },
        "id": "nhg-SwvxJ_uE",
        "outputId": "fa6c4fc2-720d-49ef-d91e-22a7cfe6a591"
      },
      "outputs": [
        {
          "output_type": "execute_result",
          "data": {
            "text/plain": [
              "{'Crossfox': 72832.16,\n",
              " 'DS5': 124549.1,\n",
              " 'Fusca': 150000,\n",
              " 'Jetta Variant': 88078.64,\n",
              " 'Passat': 106161.94}"
            ]
          },
          "metadata": {},
          "execution_count": 217
        }
      ],
      "source": [
        "datos = {'Crossfox': 72832.16,'DS5': 124549.1,'Fusca': 150000, 'Jetta Variant': 88078.64, 'Passat': 106161.94}\n",
        "datos"
      ]
    },
    {
      "cell_type": "markdown",
      "metadata": {
        "id": "YvTbrGGZbzUj"
      },
      "source": [
        "**dict.keys()**\n",
        "\n",
        "Devuelve una lista con las llaves (keys) del diccionario"
      ]
    },
    {
      "cell_type": "code",
      "execution_count": 218,
      "metadata": {
        "colab": {
          "base_uri": "https://localhost:8080/"
        },
        "id": "7XPf14Rmbdrc",
        "outputId": "49d53b55-0afd-4440-af60-3070ee732d43"
      },
      "outputs": [
        {
          "output_type": "execute_result",
          "data": {
            "text/plain": [
              "dict_keys(['Crossfox', 'DS5', 'Fusca', 'Jetta Variant', 'Passat'])"
            ]
          },
          "metadata": {},
          "execution_count": 218
        }
      ],
      "source": [
        "datos.keys()"
      ]
    },
    {
      "cell_type": "code",
      "execution_count": 219,
      "metadata": {
        "colab": {
          "base_uri": "https://localhost:8080/"
        },
        "id": "Q3x4yCPRcAhL",
        "outputId": "0d2c62e9-694c-4403-f2e9-9eb27cdea48e"
      },
      "outputs": [
        {
          "output_type": "stream",
          "name": "stdout",
          "text": [
            "Crossfox\n",
            "DS5\n",
            "Fusca\n",
            "Jetta Variant\n",
            "Passat\n"
          ]
        }
      ],
      "source": [
        "for key in datos.keys():\n",
        "  print(key)"
      ]
    },
    {
      "cell_type": "markdown",
      "metadata": {
        "id": "l6QBpiRYb_3N"
      },
      "source": [
        "**dict.values()**\n",
        "\n",
        "Devuelve una lista con los valores (values) del diccionario"
      ]
    },
    {
      "cell_type": "code",
      "execution_count": 220,
      "metadata": {
        "colab": {
          "base_uri": "https://localhost:8080/"
        },
        "id": "WwY_fbwzcM69",
        "outputId": "7aed9636-817b-4852-ec33-26f80de88227"
      },
      "outputs": [
        {
          "output_type": "execute_result",
          "data": {
            "text/plain": [
              "dict_values([72832.16, 124549.1, 150000, 88078.64, 106161.94])"
            ]
          },
          "metadata": {},
          "execution_count": 220
        }
      ],
      "source": [
        "datos.values()"
      ]
    },
    {
      "cell_type": "code",
      "execution_count": 221,
      "metadata": {
        "colab": {
          "base_uri": "https://localhost:8080/"
        },
        "id": "RAAGp-xIc4Op",
        "outputId": "e3f12acf-55cf-4a77-ad11-ed74d4df992a"
      },
      "outputs": [
        {
          "output_type": "stream",
          "name": "stdout",
          "text": [
            "72832.16\n",
            "124549.1\n",
            "150000\n",
            "88078.64\n",
            "106161.94\n"
          ]
        }
      ],
      "source": [
        "for value in datos.values():\n",
        "  print(value)"
      ]
    },
    {
      "cell_type": "markdown",
      "metadata": {
        "id": "gWNZitfecBO9"
      },
      "source": [
        "**dict.items()**\n",
        "\n",
        "Devuelve una lista con una tupla para cada par llave-valor (key-value) del diccionario"
      ]
    },
    {
      "cell_type": "code",
      "execution_count": 222,
      "metadata": {
        "colab": {
          "base_uri": "https://localhost:8080/"
        },
        "id": "AzDKBlkzbddw",
        "outputId": "ca5f5e1e-710f-4c20-cbc9-30c83992afdf"
      },
      "outputs": [
        {
          "output_type": "execute_result",
          "data": {
            "text/plain": [
              "dict_items([('Crossfox', 72832.16), ('DS5', 124549.1), ('Fusca', 150000), ('Jetta Variant', 88078.64), ('Passat', 106161.94)])"
            ]
          },
          "metadata": {},
          "execution_count": 222
        }
      ],
      "source": [
        "datos.items()"
      ]
    },
    {
      "cell_type": "code",
      "execution_count": 223,
      "metadata": {
        "colab": {
          "base_uri": "https://localhost:8080/"
        },
        "id": "BZde5COldYB7",
        "outputId": "8ad42ae7-9885-4844-9f51-ade009af4d79"
      },
      "outputs": [
        {
          "output_type": "stream",
          "name": "stdout",
          "text": [
            "('Crossfox', 72832.16)\n",
            "('DS5', 124549.1)\n",
            "('Fusca', 150000)\n",
            "('Jetta Variant', 88078.64)\n",
            "('Passat', 106161.94)\n"
          ]
        }
      ],
      "source": [
        "for item in datos.items():\n",
        "  print(item)"
      ]
    },
    {
      "cell_type": "markdown",
      "metadata": {
        "id": "VlITff63dhwa"
      },
      "source": [
        "Ya que nos devulve los elemntos en tuplas, ahora hay que desempacarlas"
      ]
    },
    {
      "cell_type": "code",
      "execution_count": 224,
      "metadata": {
        "colab": {
          "base_uri": "https://localhost:8080/"
        },
        "id": "P52pS-0ldpUM",
        "outputId": "46c724f8-e9d0-46c1-9d61-99789f6f6d3d"
      },
      "outputs": [
        {
          "output_type": "stream",
          "name": "stdout",
          "text": [
            "Crossfox -> 72832.16\n",
            "DS5 -> 124549.1\n",
            "Fusca -> 150000\n",
            "Jetta Variant -> 88078.64\n",
            "Passat -> 106161.94\n"
          ]
        }
      ],
      "source": [
        "for key, value in datos.items():\n",
        "  print(key, '->', value)"
      ]
    },
    {
      "cell_type": "markdown",
      "metadata": {
        "id": "4hcdgVHBd86J"
      },
      "source": [
        "Ahora podemos hacer operaciones con los elementos"
      ]
    },
    {
      "cell_type": "code",
      "execution_count": 225,
      "metadata": {
        "colab": {
          "base_uri": "https://localhost:8080/"
        },
        "id": "8pHlW-WLd6se",
        "outputId": "56981c5f-fcfc-4ad3-ec17-ed458fba1acb"
      },
      "outputs": [
        {
          "output_type": "stream",
          "name": "stdout",
          "text": [
            "DS5\n",
            "Fusca\n",
            "Passat\n"
          ]
        }
      ],
      "source": [
        "for key, value in datos.items():\n",
        "  if (value) > 100000:\n",
        "   print(key)"
      ]
    },
    {
      "cell_type": "markdown",
      "metadata": {
        "id": "Ib8yyTq2AWum"
      },
      "source": [
        "**5.2.4. Conjuntos (set)**\n"
      ]
    },
    {
      "cell_type": "markdown",
      "metadata": {
        "id": "NAFloMF9AcKd"
      },
      "source": [
        "**Colección desordenada:** Los elementos en un conjunto no tienen un orden específico. Cuando iteras sobre un conjunto, el orden en el que obtienes los elementos puede variar en cada iteración.\n",
        "\n",
        "**Elementos únicos:** Los conjuntos no pueden contener elementos duplicados. Si intentas agregar un elemento que ya está presente en el conjunto, no se añadirá una nueva instancia del elemento.\n",
        "\n",
        "**Mutable:** Aunque los elementos individuales de un conjunto no se pueden modificar, puedes agregar nuevos elementos o eliminar elementos existentes de un conjunto después de su creación.\n",
        "\n",
        "**Eficiencia en la búsqueda:** La búsqueda de elementos en un conjunto se realiza de forma muy eficiente, ya que utiliza una estructura de datos hash para almacenar los elementos. Esto hace que la búsqueda, inserción y eliminación de elementos sean operaciones rápidas, especialmente cuando el conjunto es grande.\n",
        "\n",
        "**No permite elementos mutables:** Los elementos de un conjunto deben ser de un tipo de datos inmutable, como números, cadenas o tuplas. Esto significa que no puedes tener conjuntos de listas, diccionarios o otros conjuntos.\n",
        "\n",
        "**Operaciones de conjuntos:** Los conjuntos en Python admiten operaciones matemáticas de conjuntos como unión, intersección, diferencia y diferencia simétrica, lo que los hace útiles para realizar operaciones de conjunto en colecciones de datos.\n",
        "\n",
        "Definición con llaves {} o la función set(): Puedes definir un conjunto utilizando llaves {} o la función set(). Por ejemplo, {1, 2, 3} y set([1, 2, 3]) son dos formas equivalentes de crear un conjunto con los elementos 1, 2 y 3."
      ]
    },
    {
      "cell_type": "code",
      "execution_count": 226,
      "metadata": {
        "id": "YsmZ1it3AbZZ"
      },
      "outputs": [],
      "source": [
        "mi_conjunto = {1, 2, 3, 4, 5}\n",
        "letras_únicas = set(\"abracadabra\")  # Crea un conjunto de letras únicas"
      ]
    },
    {
      "cell_type": "code",
      "execution_count": 227,
      "metadata": {
        "colab": {
          "base_uri": "https://localhost:8080/"
        },
        "id": "W2S1mRzGAfT1",
        "outputId": "f9aae31f-d7ee-4f5a-868a-a0cc9e4f4674"
      },
      "outputs": [
        {
          "output_type": "execute_result",
          "data": {
            "text/plain": [
              "set"
            ]
          },
          "metadata": {},
          "execution_count": 227
        }
      ],
      "source": [
        "type(mi_conjunto)"
      ]
    },
    {
      "cell_type": "code",
      "execution_count": 228,
      "metadata": {
        "colab": {
          "base_uri": "https://localhost:8080/"
        },
        "id": "77y6kTR_AfKe",
        "outputId": "f1b0d372-a271-45e5-f440-4ac46ec03f34"
      },
      "outputs": [
        {
          "output_type": "execute_result",
          "data": {
            "text/plain": [
              "set"
            ]
          },
          "metadata": {},
          "execution_count": 228
        }
      ],
      "source": [
        "type(letras_únicas)"
      ]
    },
    {
      "cell_type": "code",
      "source": [
        "# Creando un set vacio\n",
        "mi_set_vacio = set()\n",
        "\n",
        "# Agregando lo elemntos\n",
        "mi_set_vacio.add(1)\n",
        "mi_set_vacio.add(2)\n",
        "mi_set_vacio.add(3)\n",
        "mi_set_vacio.add(4)\n",
        "mi_set_vacio.add(5)\n",
        "# Recurda que los sets no admiten valores duplicados.\n",
        "mi_set_vacio.add(5)\n",
        "# Recurda que los sets no son ordenados pero te mostrara los elemento de como los ingresaste\n",
        "print(mi_set_vacio)"
      ],
      "metadata": {
        "colab": {
          "base_uri": "https://localhost:8080/"
        },
        "id": "IZZCrrMVzuL4",
        "outputId": "3da5e857-efb5-4582-b8be-85361b7887eb"
      },
      "execution_count": 229,
      "outputs": [
        {
          "output_type": "stream",
          "name": "stdout",
          "text": [
            "{1, 2, 3, 4, 5}\n"
          ]
        }
      ]
    },
    {
      "cell_type": "code",
      "source": [
        "# Creando uina lista para convertirla en un set\n",
        "\n",
        "lista = [1,1,3,4,6,6,1,7]\n",
        "\n",
        "lista_set = set(lista)\n",
        "\n",
        "print(lista)\n",
        "print(lista_set)"
      ],
      "metadata": {
        "colab": {
          "base_uri": "https://localhost:8080/"
        },
        "id": "iy88hrNu0SC-",
        "outputId": "7935c7f4-9a27-4375-8f3f-a5170a29daeb"
      },
      "execution_count": 230,
      "outputs": [
        {
          "output_type": "stream",
          "name": "stdout",
          "text": [
            "[1, 1, 3, 4, 6, 6, 1, 7]\n",
            "{1, 3, 4, 6, 7}\n"
          ]
        }
      ]
    },
    {
      "cell_type": "code",
      "source": [
        "#Se puede buscar un numero dentro de un set\n",
        "3 in lista_set"
      ],
      "metadata": {
        "colab": {
          "base_uri": "https://localhost:8080/"
        },
        "id": "1rNciCKA0N-5",
        "outputId": "54585b34-2c1f-4b37-b7dd-09f2cf107ae6"
      },
      "execution_count": 231,
      "outputs": [
        {
          "output_type": "execute_result",
          "data": {
            "text/plain": [
              "True"
            ]
          },
          "metadata": {},
          "execution_count": 231
        }
      ]
    },
    {
      "cell_type": "code",
      "source": [
        "10 in lista_set"
      ],
      "metadata": {
        "colab": {
          "base_uri": "https://localhost:8080/"
        },
        "id": "0YQW-SQl28Pm",
        "outputId": "264b7bfd-d962-4266-b3da-f2ee1c836a57"
      },
      "execution_count": 232,
      "outputs": [
        {
          "output_type": "execute_result",
          "data": {
            "text/plain": [
              "False"
            ]
          },
          "metadata": {},
          "execution_count": 232
        }
      ]
    },
    {
      "cell_type": "markdown",
      "metadata": {
        "id": "WkVpriAkAq-b"
      },
      "source": [
        "**Operaciones con Conjuntos:**\n",
        "\n",
        "* Agregar elementos: mi_conjunto.add(6) agrega un elemento al conjunto.\n",
        "* Eliminar elementos: mi_conjunto.remove(3) elimina el elemento 3 del conjunto.\n",
        "* Operaciones de conjuntos, como unión, intersección y diferencia.\n",
        "\n",
        "Estas estructuras de datos son esenciales en Python y te permiten organizar y manipular datos de manera eficiente en tus programas. Cada una tiene sus propias características y se adapta a diferentes situaciones de programación."
      ]
    },
    {
      "cell_type": "markdown",
      "source": [
        "**5.2.5 Frozenset**"
      ],
      "metadata": {
        "id": "AeQlUgI9554G"
      }
    },
    {
      "cell_type": "markdown",
      "source": [
        "Un **frozenset** en Python es similar a un conjunto **(set)**, pero con la diferencia crucial de que es inmutable, lo que significa que una vez creado, no se puede modificar. Esto contrasta con los conjuntos normales en Python, que son mutables y pueden ser modificados después de su creación.\n",
        "\n",
        "Aquí hay algunas características importantes de los **frozensets**:\n",
        "\n",
        "\n",
        "\n",
        "*   **Inmutabilidad:** Los frozensets no pueden ser modificados después de su creación. No es posible agregar, eliminar o modificar elementos en un frozenset una vez que ha sido creado.\n",
        "\n",
        "* **Hashability:** Al ser inmutables, los frozensets son hashables, lo que significa que pueden ser utilizados como elementos en otros conjuntos o como claves en diccionarios.\n",
        "\n",
        "* **Similar a sets:** Los frozensets comparten muchas de las mismas características que los conjuntos normales en Python, como la capacidad de realizar operaciones de conjuntos como unión, intersección y diferencia.\n",
        "\n",
        "* **Uso de frozensets:** Los frozensets son útiles cuando necesitas crear una colección de elementos únicos que no cambiarán durante la ejecución del programa. Además, dado que los frozensets son hashables, pueden ser útiles en situaciones donde necesitas utilizar un conjunto inmutable como clave en un diccionario.\n",
        "\n",
        "Aquí tienes un ejemplo de cómo crear y utilizar un frozenset:"
      ],
      "metadata": {
        "id": "7EEQRPCL6C7J"
      }
    },
    {
      "cell_type": "code",
      "source": [
        "# Crear un frozenset\n",
        "frutas = frozenset([\"manzana\", \"banana\", \"pera\"])\n",
        "\n",
        "# Intentar modificar un frozenset generará un error\n",
        "# frutas.add(\"naranja\")  # Esto generaría un error\n",
        "\n",
        "# Realizar operaciones de conjunto con un frozenset\n",
        "otras_frutas = frozenset([\"uva\", \"manzana\", \"sandía\"])\n",
        "interseccion = frutas.intersection(otras_frutas)\n",
        "interseccion  # Salida: frozenset({'manzana'})"
      ],
      "metadata": {
        "colab": {
          "base_uri": "https://localhost:8080/"
        },
        "id": "-_8FV6jl6iVX",
        "outputId": "29352909-50ee-463e-f57d-0c9f0ea4698c"
      },
      "execution_count": 233,
      "outputs": [
        {
          "output_type": "execute_result",
          "data": {
            "text/plain": [
              "frozenset({'manzana'})"
            ]
          },
          "metadata": {},
          "execution_count": 233
        }
      ]
    },
    {
      "cell_type": "markdown",
      "metadata": {
        "id": "DwwsHucnCiBN"
      },
      "source": [
        "# **Módulo 2: Fundamentos de Programación**"
      ]
    },
    {
      "cell_type": "markdown",
      "metadata": {
        "id": "uVxM6ZLtz7Q7"
      },
      "source": [
        "# **6. Indentacion, Comentarios, Formatacion y Concatenar**"
      ]
    },
    {
      "cell_type": "markdown",
      "metadata": {
        "id": "PjrPLLmj09Xx"
      },
      "source": [
        "**6.1. ¿Que es la indentacion?**"
      ]
    },
    {
      "cell_type": "markdown",
      "metadata": {
        "id": "rOlo950C1Fdf"
      },
      "source": [
        "La indentación en Python se refiere al espacio en blanco al principio de una línea de código. A diferencia de muchos otros lenguajes de programación que utilizan llaves o palabras clave para definir bloques de código, Python utiliza la indentación para indicar la estructura y la jerarquía de su código."
      ]
    },
    {
      "cell_type": "markdown",
      "metadata": {
        "id": "Qj1R3MA81s3L"
      },
      "source": [
        "1. **Definir Bloques de Código:** La indentación se utiliza para agrupar instrucciones en bloques de código. Un bloque de código es un conjunto de instrucciones que se ejecutan juntas como una unidad lógica. Los bloques de código se utilizan en estructuras de control como bucles (**for y while**) y condicionales (**if, else, elif**).\n",
        "\n",
        "**Ejemplo:**"
      ]
    },
    {
      "cell_type": "code",
      "execution_count": 234,
      "metadata": {
        "colab": {
          "base_uri": "https://localhost:8080/"
        },
        "id": "kU_fdZ0T1tUA",
        "outputId": "271fe8cd-84f7-44b7-b649-9cbc28eb08ea"
      },
      "outputs": [
        {
          "output_type": "stream",
          "name": "stdout",
          "text": [
            "0\n",
            "1\n",
            "2\n",
            "3\n",
            "4\n"
          ]
        }
      ],
      "source": [
        "for i in range(5):\n",
        "    # Este bloque de código está indentado\n",
        "    print(i)  # Las instrucciones dentro del bloque están indentadas\n",
        "# El bloque de código anterior se cierra aquí\n"
      ]
    },
    {
      "cell_type": "markdown",
      "metadata": {
        "id": "5NBnCIES1tsg"
      },
      "source": [
        "2. **Mejorar la Legibilidad:** La indentación mejora la legibilidad del código, ya que ayuda a los programadores a visualizar la estructura del programa de manera más clara. Los bloques de código indentados son más fáciles de entender y mantener.\n",
        "\n",
        "3. **Enfatizar la Estructura:** La indentación ayuda a enfatizar la estructura jerárquica del código, lo que facilita la comprensión de cómo las diferentes partes del programa interactúan entre sí.\n",
        "\n",
        "Es importante utilizar la misma cantidad de espacio en blanco para la indentación en todo el código (generalmente se utilizan 4 espacios por nivel de indentación) para evitar errores de sintaxis. Python es sensible a la indentación, lo que significa que la cantidad de espacios en blanco al principio de una línea de código determina su nivel de anidación y pertenencia a un bloque de código en particular.\n",
        "\n",
        "Aquí hay un ejemplo adicional que muestra cómo se utiliza la indentación en una estructura de control **if**:"
      ]
    },
    {
      "cell_type": "code",
      "execution_count": 235,
      "metadata": {
        "colab": {
          "base_uri": "https://localhost:8080/"
        },
        "id": "rbFLEMGJ1uH_",
        "outputId": "2243e09e-a848-474e-a722-356c2addae92"
      },
      "outputs": [
        {
          "output_type": "stream",
          "name": "stdout",
          "text": [
            "x no es mayor que 5\n"
          ]
        }
      ],
      "source": [
        "x= 5\n",
        "if x > 5:\n",
        "    # Este bloque de código se ejecuta si x es mayor que 5\n",
        "    print(\"x es mayor que 5\")\n",
        "else:\n",
        "    # Este bloque de código se ejecuta si x no es mayor que 5\n",
        "    print(\"x no es mayor que 5\")\n",
        "# El bloque de código de la estructura condicional se cierra aquí\n"
      ]
    },
    {
      "cell_type": "markdown",
      "metadata": {
        "id": "NMPKvgYB1umX"
      },
      "source": [
        "La indentación es una característica distintiva de Python que fomenta la escritura de código limpio y legible."
      ]
    },
    {
      "cell_type": "markdown",
      "metadata": {
        "id": "_lP0fWYI2jep"
      },
      "source": [
        "**6.2.  Comentarios**"
      ]
    },
    {
      "cell_type": "markdown",
      "metadata": {
        "id": "QKcbg-eb2uJa"
      },
      "source": [
        "Los comentarios en Python son fragmentos de texto que se utilizan para explicar o documentar el código fuente. Los comentarios son ignorados por el intérprete de Python y no afectan la ejecución del programa. Son útiles para proporcionar información adicional, aclaraciones o documentación sobre el código, lo que facilita la comprensión y el mantenimiento del mismo.\n",
        "\n",
        "En Python, existen dos tipos principales de comentarios:"
      ]
    },
    {
      "cell_type": "markdown",
      "metadata": {
        "id": "ZwvDKMvw3AVJ"
      },
      "source": [
        "1. **Comentarios de una línea:** Estos comentarios se utilizan para agregar explicaciones breves o aclaraciones a una línea específica de código. Se crean utilizando el símbolo **#** y todo lo que sigue después de **#** en la misma línea se considera un comentario.\n",
        "\n",
        "**Ejemplo:**"
      ]
    },
    {
      "cell_type": "code",
      "execution_count": 236,
      "metadata": {
        "id": "ePWD4ZbF2tsi"
      },
      "outputs": [],
      "source": [
        "# Esto es un comentario de una línea\n",
        "numero = 42  # Asigna el valor 42 a la variable 'numero'"
      ]
    },
    {
      "cell_type": "markdown",
      "metadata": {
        "id": "OqWULyEX3K-a"
      },
      "source": [
        "2. **Comentarios de varias líneas o bloques:** Estos comentarios se utilizan para documentar secciones más extensas de código o para comentarios multilinea. Se crean utilizando triple comilla doble **(''')** o triple comilla simple **(''')** al principio y al final del bloque de comentario.\n",
        "\n",
        "**Ejemplo:**"
      ]
    },
    {
      "cell_type": "code",
      "execution_count": 237,
      "metadata": {
        "colab": {
          "base_uri": "https://localhost:8080/",
          "height": 0
        },
        "id": "br_0qsoJ3LZk",
        "outputId": "5d5f34b4-ca8d-4b73-fbfb-901b196e0646"
      },
      "outputs": [
        {
          "output_type": "execute_result",
          "data": {
            "text/plain": [
              "'\\nEste es un comentario\\nde varias líneas.\\n\\nPuede contener múltiples líneas\\nde texto descriptivo.\\n'"
            ],
            "application/vnd.google.colaboratory.intrinsic+json": {
              "type": "string"
            }
          },
          "metadata": {},
          "execution_count": 237
        }
      ],
      "source": [
        "'''\n",
        "Este es un comentario\n",
        "de varias líneas.\n",
        "\n",
        "Puede contener múltiples líneas\n",
        "de texto descriptivo.\n",
        "'''\n"
      ]
    },
    {
      "cell_type": "markdown",
      "metadata": {
        "id": "u3JQpykU3Lxl"
      },
      "source": [
        "Los comentarios son una práctica recomendada en programación porque ayudan a otros programadores (y a ti mismo en el futuro) a comprender rápidamente lo que hace el código y por qué se escribió de esa manera. También son útiles para proporcionar información de contexto sobre variables, funciones, algoritmos y más. Es importante mantener los comentarios actualizados a medida que el código evoluciona para que sigan siendo útiles y precisos."
      ]
    },
    {
      "cell_type": "markdown",
      "metadata": {
        "id": "pAhy4Uuo2q1G"
      },
      "source": [
        "**6.3. Formatacion**"
      ]
    },
    {
      "cell_type": "markdown",
      "metadata": {
        "id": "RfczuBjG2vhF"
      },
      "source": [
        "La formatación en Python se refiere a la forma en que se presenta y organiza el texto o los datos en la salida de un programa. Es una parte importante de la programación, especialmente cuando se trata de mostrar información a los usuarios o guardar datos en archivos de texto con un formato específico. La formatación se realiza utilizando diferentes técnicas y métodos para garantizar que la salida sea legible y cumpla con los requisitos deseados."
      ]
    },
    {
      "cell_type": "markdown",
      "metadata": {
        "id": "xDdglRw25cqj"
      },
      "source": [
        "Algunas de las técnicas y enfoques comunes de formateo en Python:"
      ]
    },
    {
      "cell_type": "markdown",
      "metadata": {
        "id": "ATtyUt8v5fO0"
      },
      "source": [
        "1. **Interpolación de Cadenas:** Python permite insertar valores en una cadena de texto utilizando marcadores de posición, como **%s** para cadenas y **%d** para enteros. Esto se logra mediante el operador **%**.\n",
        "\n",
        "**Ejemplo:**"
      ]
    },
    {
      "cell_type": "code",
      "execution_count": 238,
      "metadata": {
        "colab": {
          "base_uri": "https://localhost:8080/"
        },
        "id": "4CNoohFk2vSO",
        "outputId": "7efba809-37e3-4a6b-ae58-5416adee3bea"
      },
      "outputs": [
        {
          "output_type": "stream",
          "name": "stdout",
          "text": [
            "Hola, mi nombre es Juan y tengo 30 años.\n"
          ]
        }
      ],
      "source": [
        "nombre = \"Juan\"\n",
        "edad = 30\n",
        "print(\"Hola, mi nombre es %s y tengo %d años.\" % (nombre, edad))"
      ]
    },
    {
      "cell_type": "markdown",
      "metadata": {
        "id": "N1V2mOCX5f0D"
      },
      "source": [
        "2. **F-Strings (Cadenas f):** A partir de Python 3.6, puedes utilizar f-strings para realizar interpolación de cadenas de manera más legible y expresiva. Las f-strings se crean anteponiendo una **'f' o 'F'** antes de la cadena y utilizando llaves **{}** para encerrar las expresiones.\n",
        "\n",
        "**Observacion:** Esta es una de la mas utilizadas y faciles de usar ✌\n",
        "\n",
        "**Ejemplo:**"
      ]
    },
    {
      "cell_type": "code",
      "execution_count": 239,
      "metadata": {
        "colab": {
          "base_uri": "https://localhost:8080/"
        },
        "id": "dzMjbfPY5gLy",
        "outputId": "7ac8cc32-7a02-4291-9ba3-d521e52e5926"
      },
      "outputs": [
        {
          "output_type": "stream",
          "name": "stdout",
          "text": [
            "Hola, mi nombre es Juan y tengo 30 años.\n"
          ]
        }
      ],
      "source": [
        "nombre = \"Juan\"\n",
        "edad = 30\n",
        "print(f\"Hola, mi nombre es {nombre} y tengo {edad} años.\")"
      ]
    },
    {
      "cell_type": "markdown",
      "metadata": {
        "id": "ZJ1hSQ5V5gj8"
      },
      "source": [
        "3. **Métodos de Formateo de Cadenas:** Python proporciona métodos de formateo para cadenas de texto, como **str.format()**.\n",
        "\n",
        "**Ejemplo:**"
      ]
    },
    {
      "cell_type": "code",
      "execution_count": 240,
      "metadata": {
        "colab": {
          "base_uri": "https://localhost:8080/"
        },
        "id": "0EUn8m2H5g9v",
        "outputId": "01af74ca-5472-4588-82a5-cc7f4eb0df6d"
      },
      "outputs": [
        {
          "output_type": "stream",
          "name": "stdout",
          "text": [
            "Hola, mi nombre es Juan y tengo 30 años.\n"
          ]
        }
      ],
      "source": [
        "nombre = \"Juan\"\n",
        "edad = 30\n",
        "print(\"Hola, mi nombre es {} y tengo {} años.\".format(nombre, edad))"
      ]
    },
    {
      "cell_type": "markdown",
      "metadata": {
        "id": "6setzmQr6RIe"
      },
      "source": [
        "4. **Módulo format():** El método **str.format()** y el módulo **format()** permiten especificar formatos precisos para los valores que se insertarán en la cadena. Por ejemplo, se pueden controlar el número de decimales en números flotantes.\n",
        "\n",
        "**Ejemplo:**"
      ]
    },
    {
      "cell_type": "code",
      "execution_count": 241,
      "metadata": {
        "colab": {
          "base_uri": "https://localhost:8080/"
        },
        "id": "RkWw20tx6Rn7",
        "outputId": "dfbdfaab-5f74-4685-f68d-3398bd5c4cc4"
      },
      "outputs": [
        {
          "output_type": "stream",
          "name": "stdout",
          "text": [
            "El precio es 19.990 dólares.\n"
          ]
        }
      ],
      "source": [
        "precio = 19.99\n",
        "print(\"El precio es {:.3f} dólares.\".format(precio))"
      ]
    },
    {
      "cell_type": "markdown",
      "metadata": {
        "id": "IXjWCbGa6pAu"
      },
      "source": [
        "5. **Salida de Datos Tabulados:** Para mostrar datos en forma tabular, puedes utilizar tablas ASCII o bibliotecas de formateo de tablas como **tabulate** o **prettytable**.\n",
        "\n",
        "**Ejemplo con tabulate**"
      ]
    },
    {
      "cell_type": "code",
      "execution_count": 242,
      "metadata": {
        "colab": {
          "base_uri": "https://localhost:8080/"
        },
        "id": "ZvqQfzf76pfD",
        "outputId": "26f5856d-3414-4070-af60-b61b52f957ee"
      },
      "outputs": [
        {
          "output_type": "stream",
          "name": "stdout",
          "text": [
            "+----------+--------+\n",
            "| Nombre   |   Edad |\n",
            "+==========+========+\n",
            "| Juan     |     30 |\n",
            "+----------+--------+\n",
            "| Ana      |     25 |\n",
            "+----------+--------+\n",
            "| Carlos   |     35 |\n",
            "+----------+--------+\n"
          ]
        }
      ],
      "source": [
        "# Aqui estamos llamando a una biblioteca, esto lo veremos mas adelante\n",
        "from tabulate import tabulate\n",
        "\n",
        "datos = [(\"Juan\", 30), (\"Ana\", 25), (\"Carlos\", 35)]\n",
        "print(tabulate(datos, headers=[\"Nombre\", \"Edad\"], tablefmt=\"grid\"))"
      ]
    },
    {
      "cell_type": "markdown",
      "metadata": {
        "id": "dPtPm9Yx67U6"
      },
      "source": [
        "El formateo en Python es una habilidad importante para presentar datos y resultados de manera legible y profesional. Los diferentes enfoques y técnicas de formateo pueden adaptarse a las necesidades específicas de tu programa o proyecto"
      ]
    },
    {
      "cell_type": "markdown",
      "metadata": {
        "id": "pvt1FzdVWrF4"
      },
      "source": [
        "**6.4. Concatenar**"
      ]
    },
    {
      "cell_type": "markdown",
      "metadata": {
        "id": "0080XerSWr41"
      },
      "source": [
        "\n",
        "La concatenación se refiere a la acción de combinar o unir cadenas de texto en Python. Es una operación común cuando se necesita crear una cadena más larga a partir de dos o más cadenas individuales. Python proporciona varias formas de concatenar cadenas:"
      ]
    },
    {
      "cell_type": "markdown",
      "metadata": {
        "id": "wtGhoH3EW2vo"
      },
      "source": [
        "**Operador +:** Puedes utilizar el operador + para concatenar dos o más cadenas. Esto simplemente une las cadenas en el orden en que se especifican.\n",
        "\n",
        "**Ejemplo:**"
      ]
    },
    {
      "cell_type": "code",
      "execution_count": 243,
      "metadata": {
        "colab": {
          "base_uri": "https://localhost:8080/",
          "height": 0
        },
        "id": "26LB1JiFW3yU",
        "outputId": "9ba13109-0100-484a-816c-c150323a12a2"
      },
      "outputs": [
        {
          "output_type": "execute_result",
          "data": {
            "text/plain": [
              "'Hola, mundo!'"
            ],
            "application/vnd.google.colaboratory.intrinsic+json": {
              "type": "string"
            }
          },
          "metadata": {},
          "execution_count": 243
        }
      ],
      "source": [
        "cadena1 = \"Hola, \"\n",
        "cadena2 = \"mundo!\"\n",
        "resultado = cadena1 + cadena2\n",
        "resultado"
      ]
    },
    {
      "cell_type": "markdown",
      "metadata": {
        "id": "Ez3f71J4W4IL"
      },
      "source": [
        "**Operador:** Puedes utilizar el operador para repetir una cadena múltiples veces.\n",
        "\n",
        "**Ejemplo:**"
      ]
    },
    {
      "cell_type": "code",
      "execution_count": 244,
      "metadata": {
        "colab": {
          "base_uri": "https://localhost:8080/",
          "height": 0
        },
        "id": "BDLaGFaQXQ1d",
        "outputId": "646f5b04-69a8-4032-883a-eabf5cd6edc1"
      },
      "outputs": [
        {
          "output_type": "execute_result",
          "data": {
            "text/plain": [
              "'Python Python Python '"
            ],
            "application/vnd.google.colaboratory.intrinsic+json": {
              "type": "string"
            }
          },
          "metadata": {},
          "execution_count": 244
        }
      ],
      "source": [
        "cadena = \"Python \"\n",
        "resultado = cadena * 3\n",
        "resultado"
      ]
    },
    {
      "cell_type": "markdown",
      "metadata": {
        "id": "tsffQRXkXg9g"
      },
      "source": [
        "**Método str.join():** Puedes utilizar el método **join()** de las cadenas para concatenar una lista de cadenas en una sola cadena, utilizando una cadena separadora como delimitador."
      ]
    },
    {
      "cell_type": "code",
      "execution_count": 245,
      "metadata": {
        "colab": {
          "base_uri": "https://localhost:8080/",
          "height": 0
        },
        "id": "Vb3dW9ymXgU3",
        "outputId": "ed525c2d-dedb-4224-b483-ddfc57564b79"
      },
      "outputs": [
        {
          "output_type": "execute_result",
          "data": {
            "text/plain": [
              "'Hola a todos'"
            ],
            "application/vnd.google.colaboratory.intrinsic+json": {
              "type": "string"
            }
          },
          "metadata": {},
          "execution_count": 245
        }
      ],
      "source": [
        "palabras = [\"Hola\", \"a\", \"todos\"]\n",
        "resultado = \" \".join(palabras)\n",
        "resultado"
      ]
    },
    {
      "cell_type": "markdown",
      "metadata": {
        "id": "CHy-nJ80L3_r"
      },
      "source": [
        "#**7. Funciones**"
      ]
    },
    {
      "cell_type": "markdown",
      "metadata": {
        "id": "pVOoMLsEMPoj"
      },
      "source": [
        "Una función es un bloque de código reutilizable que realiza una tarea específica. Las funciones permiten organizar el código en piezas más pequeñas y manejables, lo que facilita su comprensión y mantenimiento. Una función puede recibir argumentos (valores de entrada), realizar operaciones y devolver un resultado (valor de salida) opcional."
      ]
    },
    {
      "cell_type": "markdown",
      "metadata": {
        "id": "Z9fz0aRAvlu1"
      },
      "source": [
        "**Built-in function:** Una función que ya existe y esta disponible dentro del lenguaje Python. No necesitamos crearla. Ya está disponible, solo tenemos que utilizarla.\n",
        "\n",
        "En el lenguaje Python tiene varias funciones integradas que siempre estan accesibles. Algunas ya las usamos en nuestro entrenamiento: **type(), print(), zip(), len(), set() etc.**"
      ]
    },
    {
      "cell_type": "markdown",
      "metadata": {
        "id": "QqguSxU2arbO"
      },
      "source": [
        "**Ejemplo:** En este ejemplo analizaremos lo que pasaria si no existieran las **Built-in fuction**"
      ]
    },
    {
      "cell_type": "code",
      "execution_count": 246,
      "metadata": {
        "colab": {
          "base_uri": "https://localhost:8080/"
        },
        "id": "LOVTaVw3vntz",
        "outputId": "5a30947d-f983-4af2-fcab-8d712fcfb05b"
      },
      "outputs": [
        {
          "output_type": "execute_result",
          "data": {
            "text/plain": [
              "{'Jetta Variant': 88078.64, 'Passat': 106161.94, 'Crossfox': 72832.16}"
            ]
          },
          "metadata": {},
          "execution_count": 246
        }
      ],
      "source": [
        "datos = {'Jetta Variant':88078.64,'Passat':106161.94,'Crossfox': 72832.16}\n",
        "datos"
      ]
    },
    {
      "cell_type": "code",
      "execution_count": 247,
      "metadata": {
        "colab": {
          "base_uri": "https://localhost:8080/"
        },
        "id": "OBWuiqj0wfF9",
        "outputId": "f924c298-8ece-47f9-fd95-e68687d37448"
      },
      "outputs": [
        {
          "output_type": "execute_result",
          "data": {
            "text/plain": [
              "[88078.64, 106161.94, 72832.16]"
            ]
          },
          "metadata": {},
          "execution_count": 247
        }
      ],
      "source": [
        "valores = []\n",
        "for valor in datos.values():\n",
        "  valores.append(valor)\n",
        "\n",
        "valores"
      ]
    },
    {
      "cell_type": "code",
      "execution_count": 248,
      "metadata": {
        "colab": {
          "base_uri": "https://localhost:8080/"
        },
        "id": "VpF4O7CKwexj",
        "outputId": "07f00688-2279-43f8-bad2-a9320165d08c"
      },
      "outputs": [
        {
          "output_type": "execute_result",
          "data": {
            "text/plain": [
              "267072.74"
            ]
          },
          "metadata": {},
          "execution_count": 248
        }
      ],
      "source": [
        "# Necesitamos la sumatoria de los valores\n",
        "suma = 0\n",
        "for valor in datos.values():\n",
        "  suma += valor\n",
        "\n",
        "suma"
      ]
    },
    {
      "cell_type": "markdown",
      "metadata": {
        "id": "OvoTbnZ-E904"
      },
      "source": [
        "**Ejemplo:** En este ejemplo haremos el mismo ejercicio pero con el uso de las **Built-in fuction** en este caso **sum()**"
      ]
    },
    {
      "cell_type": "markdown",
      "metadata": {
        "id": "JXszEhVMxnOk"
      },
      "source": [
        "**sum(iterable[, start])**"
      ]
    },
    {
      "cell_type": "markdown",
      "metadata": {
        "id": "HWkwpA56GmCB"
      },
      "source": [
        "* La función sum() se utiliza para calcular la suma de los elementos en un iterable, como una lista, tupla o rango.\n",
        "* Puedes proporcionar un segundo argumento opcional, start, que se suma al resultado final. Por defecto, start es igual a 0."
      ]
    },
    {
      "cell_type": "code",
      "execution_count": 249,
      "metadata": {
        "colab": {
          "base_uri": "https://localhost:8080/"
        },
        "id": "5q7jKRIZwekc",
        "outputId": "c3c29863-988d-4f4e-e481-230248427f0e"
      },
      "outputs": [
        {
          "output_type": "execute_result",
          "data": {
            "text/plain": [
              "[88078.64, 106161.94, 72832.16]"
            ]
          },
          "metadata": {},
          "execution_count": 249
        }
      ],
      "source": [
        "list(datos.values())"
      ]
    },
    {
      "cell_type": "code",
      "execution_count": 250,
      "metadata": {
        "colab": {
          "base_uri": "https://localhost:8080/"
        },
        "id": "BGmq5UPKweRx",
        "outputId": "6bec7473-262c-4393-9141-d4993fece241"
      },
      "outputs": [
        {
          "output_type": "execute_result",
          "data": {
            "text/plain": [
              "267072.74"
            ]
          },
          "metadata": {},
          "execution_count": 250
        }
      ],
      "source": [
        "sum(datos.values())"
      ]
    },
    {
      "cell_type": "markdown",
      "metadata": {
        "id": "6GSn_5CQF2zS"
      },
      "source": [
        "**help()**"
      ]
    },
    {
      "cell_type": "markdown",
      "metadata": {
        "id": "iL6qzw0GGu6W"
      },
      "source": [
        "* La función help() se utiliza para obtener información sobre objetos, módulos, funciones, métodos y otros elementos en Python.\n",
        "* Puedes pasar un argumento opcional para obtener ayuda específica sobre ese objeto. Si no se proporciona ningún argumento, help() proporciona una especie de shell de ayuda interactiva que te permite explorar y buscar información."
      ]
    },
    {
      "cell_type": "code",
      "execution_count": 251,
      "metadata": {
        "colab": {
          "base_uri": "https://localhost:8080/"
        },
        "id": "vITuC0h-GEGg",
        "outputId": "4518c69d-47e9-46d8-f6ec-95c8dde56eac"
      },
      "outputs": [
        {
          "output_type": "stream",
          "name": "stdout",
          "text": [
            "Help on built-in function print in module builtins:\n",
            "\n",
            "print(...)\n",
            "    print(value, ..., sep=' ', end='\\n', file=sys.stdout, flush=False)\n",
            "    \n",
            "    Prints the values to a stream, or to sys.stdout by default.\n",
            "    Optional keyword arguments:\n",
            "    file:  a file-like object (stream); defaults to the current sys.stdout.\n",
            "    sep:   string inserted between values, default a space.\n",
            "    end:   string appended after the last value, default a newline.\n",
            "    flush: whether to forcibly flush the stream.\n",
            "\n"
          ]
        }
      ],
      "source": [
        "help(print)"
      ]
    },
    {
      "cell_type": "code",
      "execution_count": 252,
      "metadata": {
        "id": "9zX0KjT5GD1C"
      },
      "outputs": [],
      "source": [
        "print?"
      ]
    },
    {
      "cell_type": "markdown",
      "metadata": {
        "id": "HBuCsPrZG5fG"
      },
      "source": [
        "**Estructura de una funcion**"
      ]
    },
    {
      "cell_type": "markdown",
      "metadata": {
        "id": "mk7RKR9VEjmD"
      },
      "source": [
        "**Ejemplo**"
      ]
    },
    {
      "cell_type": "code",
      "execution_count": 253,
      "metadata": {
        "id": "1E-nG09vMOwz"
      },
      "outputs": [],
      "source": [
        "def suma(a, b):\n",
        "    resultado = a + b\n",
        "    return resultado"
      ]
    },
    {
      "cell_type": "markdown",
      "metadata": {
        "id": "8owEARuBMnqE"
      },
      "source": [
        "En este ejemplo:\n",
        "\n",
        "\n",
        "\n",
        "*  **def** es la palabra clave que se utiliza para definir una función en Python.\n",
        "*   **suma** es el nombre de la función que hemos elegido.\n",
        "*   **(a, b)** son los parámetros de entrada que la función que recibira. Estos son los valores que pasamos a la función cuando la llamamos.\n",
        "*   **resultado = a + b** es la operación que realiza la función, en este caso, suma los valores de a y b y los almacena en la variable resultado.\n",
        "*  **return resultado** indica que la función devolverá el valor almacenado en la variable\n",
        "*  **resultado** como resultado de la operación.\n",
        "\n",
        "Ahora puedes llamar a esta función con diferentes valores:\n",
        "\n",
        "\n",
        "\n"
      ]
    },
    {
      "cell_type": "code",
      "execution_count": 254,
      "metadata": {
        "colab": {
          "base_uri": "https://localhost:8080/"
        },
        "id": "Z7pm4DeiL-tA",
        "outputId": "d1a3f20e-1669-4309-dec8-8f99e2fe1697"
      },
      "outputs": [
        {
          "output_type": "execute_result",
          "data": {
            "text/plain": [
              "8"
            ]
          },
          "metadata": {},
          "execution_count": 254
        }
      ],
      "source": [
        "resultado1 = suma(5, 3)  # Llama a la función con a=5 y b=3\n",
        "resultado1  # Imprime el resultado, que será 8"
      ]
    },
    {
      "cell_type": "markdown",
      "metadata": {
        "id": "ls_-aYnYyASJ"
      },
      "source": [
        "**7.1 Funcion sin parametros**"
      ]
    },
    {
      "cell_type": "markdown",
      "metadata": {
        "id": "zR1gFMI4yEOe"
      },
      "source": [
        "Una función en Python que no toma ningún parámetro se define de la siguiente manera:\n",
        "Esta función no toma ningún argumento y siempre calcula la media de estos tres números específicos."
      ]
    },
    {
      "cell_type": "code",
      "execution_count": 255,
      "metadata": {
        "colab": {
          "base_uri": "https://localhost:8080/",
          "height": 0
        },
        "id": "VZ6EgHu6yDrd",
        "outputId": "9a1cfa56-9868-4abe-b8a6-f61bdd6c1389"
      },
      "outputs": [
        {
          "output_type": "execute_result",
          "data": {
            "text/plain": [
              "'\\nSintaxis\\n\\ndef <nombre>():\\n  <instruccines>\\n'"
            ],
            "application/vnd.google.colaboratory.intrinsic+json": {
              "type": "string"
            }
          },
          "metadata": {},
          "execution_count": 255
        }
      ],
      "source": [
        "'''\n",
        "Sintaxis\n",
        "\n",
        "def <nombre>():\n",
        "  <instruccines>\n",
        "'''"
      ]
    },
    {
      "cell_type": "code",
      "execution_count": 256,
      "metadata": {
        "id": "52VXcOYByTeT"
      },
      "outputs": [],
      "source": [
        "def media():\n",
        "    # Calcula la media de 1, 2 y 3\n",
        "    valor = (1 + 2 + 3) / 3\n",
        "\n",
        "    # Imprime el valor de la media\n",
        "    print(valor)"
      ]
    },
    {
      "cell_type": "markdown",
      "metadata": {
        "id": "HkVFOxwdHn1d"
      },
      "source": [
        "Puedes llamar a esta función simplemente escribiendo media() en tu programa, y calculará la media y mostrará el resultado. Por ejemplo:"
      ]
    },
    {
      "cell_type": "code",
      "execution_count": 257,
      "metadata": {
        "colab": {
          "base_uri": "https://localhost:8080/"
        },
        "id": "C0-Y8RQEypVd",
        "outputId": "c08e8f72-329f-4b43-9b14-f22ed4a309cc"
      },
      "outputs": [
        {
          "output_type": "stream",
          "name": "stdout",
          "text": [
            "2.0\n"
          ]
        }
      ],
      "source": [
        "media()"
      ]
    },
    {
      "cell_type": "markdown",
      "metadata": {
        "id": "JGjbOLGKyxOt"
      },
      "source": [
        "**7.2 Funciones con parametros**"
      ]
    },
    {
      "cell_type": "markdown",
      "metadata": {
        "id": "zS0v5rr2Ic69"
      },
      "source": [
        "Las funciones en Python pueden tener parámetros que les permiten recibir información o datos que pueden utilizar en su cuerpo para realizar cálculos o tareas específicas. Aquí tienes un ejemplo de una función con parámetros:"
      ]
    },
    {
      "cell_type": "code",
      "execution_count": 258,
      "metadata": {
        "colab": {
          "base_uri": "https://localhost:8080/",
          "height": 0
        },
        "id": "jGJidYUXzMrG",
        "outputId": "f44d4b50-bcb4-4661-e084-5705fefa6ef5"
      },
      "outputs": [
        {
          "output_type": "execute_result",
          "data": {
            "text/plain": [
              "'\\nSintaxis\\n\\ndef <nombre>(<param_1>,<param_2>,.............,<param_n>):\\n  <instruccines>\\n'"
            ],
            "application/vnd.google.colaboratory.intrinsic+json": {
              "type": "string"
            }
          },
          "metadata": {},
          "execution_count": 258
        }
      ],
      "source": [
        "'''\n",
        "Sintaxis\n",
        "\n",
        "def <nombre>(<param_1>,<param_2>,.............,<param_n>):\n",
        "  <instruccines>\n",
        "'''"
      ]
    },
    {
      "cell_type": "code",
      "execution_count": 259,
      "metadata": {
        "id": "kZtfj7suyzoP"
      },
      "outputs": [],
      "source": [
        "def media (n1, n2, n3):\n",
        "  valor = (n1 + n2 + n3)/ 3\n",
        "  print(valor)"
      ]
    },
    {
      "cell_type": "markdown",
      "metadata": {
        "id": "mhPBhoMbIT2C"
      },
      "source": [
        "Para utilizar esta función, simplemente debes llamarla con tres números como argumentos. Aquí tienes un ejemplo de cómo hacerlo:"
      ]
    },
    {
      "cell_type": "code",
      "execution_count": 260,
      "metadata": {
        "colab": {
          "base_uri": "https://localhost:8080/"
        },
        "id": "rl7xlQmLzFfH",
        "outputId": "08c604ff-a13a-48ee-c662-b8d629faddd4"
      },
      "outputs": [
        {
          "output_type": "stream",
          "name": "stdout",
          "text": [
            "2.0\n"
          ]
        }
      ],
      "source": [
        "# Llamamos a la función media con tres números como argumentos\n",
        "media(1, 2, 3)"
      ]
    },
    {
      "cell_type": "markdown",
      "metadata": {
        "id": "7lNle9-iIYLa"
      },
      "source": [
        "En este ejemplo, estamos llamando a la función media(1, 2, 3), lo que significa que n1 es igual a 1, n2 es igual a 2 y n3 es igual a 3. La función calcula la media de estos tres números y muestra el resultado en la consola."
      ]
    },
    {
      "cell_type": "markdown",
      "metadata": {
        "id": "LobKJSnBI2oN"
      },
      "source": [
        "**7.3 Funcion con n parametros**"
      ]
    },
    {
      "cell_type": "markdown",
      "metadata": {
        "id": "m6AhZg6dI5mY"
      },
      "source": [
        " Toma una lista como argumento y calcula la media de los números en esa lista. Aquí está el código de la función:"
      ]
    },
    {
      "cell_type": "code",
      "execution_count": 261,
      "metadata": {
        "id": "tzood4ehztP8"
      },
      "outputs": [],
      "source": [
        "def media (lista):\n",
        "  valor = sum(lista)/ len(lista)\n",
        "  print(valor)"
      ]
    },
    {
      "cell_type": "markdown",
      "metadata": {
        "id": "NUUw5GaNI_a-"
      },
      "source": [
        "Para utilizar esta función, simplemente debes llamarla pasando una lista como argumento. Aquí tienes un ejemplo de cómo hacerlo:"
      ]
    },
    {
      "cell_type": "code",
      "execution_count": 262,
      "metadata": {
        "colab": {
          "base_uri": "https://localhost:8080/"
        },
        "id": "d6uuwiBuz5Jl",
        "outputId": "1ee33aa9-0778-4fbe-acd4-8716f651f0d8"
      },
      "outputs": [
        {
          "output_type": "stream",
          "name": "stdout",
          "text": [
            "3.0\n"
          ]
        }
      ],
      "source": [
        "# Llamamos a la función media con una lista de números como argumento\n",
        "numeros = [1, 2, 3, 4, 5]\n",
        "media(numeros)"
      ]
    },
    {
      "cell_type": "markdown",
      "metadata": {
        "id": "ny6oQFFKJQEg"
      },
      "source": [
        "En este ejemplo, estamos llamando a la función media(numeros), donde numeros es una lista de números. La función calcula la media de estos números y muestra el resultado en la consola."
      ]
    },
    {
      "cell_type": "markdown",
      "metadata": {
        "id": "DMDRMgNM05S0"
      },
      "source": [
        "**7.4 Funciones que devulven valores**"
      ]
    },
    {
      "cell_type": "markdown",
      "metadata": {
        "id": "C96uxbqHJhzW"
      },
      "source": [
        "En Python, las funciones pueden devolver valores utilizando la instrucción **return**. Cuando una función devuelve un valor, puedes asignar ese valor a una variable o utilizarlo de otras formas en tu programa."
      ]
    },
    {
      "cell_type": "markdown",
      "metadata": {
        "id": "DtviguzG08dQ"
      },
      "source": [
        "**7.4.1 Funciones que devuelven un valor**\n",
        "\n"
      ]
    },
    {
      "cell_type": "markdown",
      "metadata": {
        "id": "_r2J7DnEJ326"
      },
      "source": [
        " Cuando una función devuelve un valor, ese valor puede ser utilizado en otras partes de tu programa. Aquí tienes un ejemplo de una función que devuelve un valor:"
      ]
    },
    {
      "cell_type": "code",
      "execution_count": 263,
      "metadata": {
        "colab": {
          "base_uri": "https://localhost:8080/",
          "height": 0
        },
        "id": "DE2tgAK51JLd",
        "outputId": "5a672656-0d6b-4677-d5a0-aaf534ca1598"
      },
      "outputs": [
        {
          "output_type": "execute_result",
          "data": {
            "text/plain": [
              "'\\nSintaxis\\n\\ndef <nombre> (<param_1>,<param_2>,.........,<param_n>):\\n  <instrucciones>\\n  return <resultado>\\n'"
            ],
            "application/vnd.google.colaboratory.intrinsic+json": {
              "type": "string"
            }
          },
          "metadata": {},
          "execution_count": 263
        }
      ],
      "source": [
        "'''\n",
        "Sintaxis\n",
        "\n",
        "def <nombre> (<param_1>,<param_2>,.........,<param_n>):\n",
        "  <instrucciones>\n",
        "  return <resultado>\n",
        "'''"
      ]
    },
    {
      "cell_type": "code",
      "execution_count": 264,
      "metadata": {
        "id": "9iJKssKq1hJ_"
      },
      "outputs": [],
      "source": [
        "def media (list):\n",
        "  valor = sum(list)/ len(list)\n",
        "  return(valor)"
      ]
    },
    {
      "cell_type": "markdown",
      "metadata": {
        "id": "b19C3rSSJ8g0"
      },
      "source": [
        "Esta función toma una lista como argumento, suma todos los números en la lista y luego divide la suma por la cantidad de elementos en la lista para calcular la media. El valor calculado se devuelve utilizando return.\n",
        "\n",
        "Puedes llamar a esta función y asignar su resultado a una variable para utilizarlo en otras partes de tu programa. Por ejemplo:"
      ]
    },
    {
      "cell_type": "code",
      "execution_count": 265,
      "metadata": {
        "id": "QJAU3ssP2RJs"
      },
      "outputs": [],
      "source": [
        "numeros = [1, 2, 3, 4, 5]\n",
        "resultado_media = media(numeros)\n"
      ]
    },
    {
      "cell_type": "markdown",
      "metadata": {
        "id": "dvTeIon22WeU"
      },
      "source": [
        "**7.4.2 Funciones que devuelven mas de un valor**"
      ]
    },
    {
      "cell_type": "markdown",
      "metadata": {
        "id": "B9uJDNLoKmwN"
      },
      "source": [
        "En Python, una función puede devolver más de un valor al mismo tiempo utilizando tuplas."
      ]
    },
    {
      "cell_type": "code",
      "execution_count": 266,
      "metadata": {
        "colab": {
          "base_uri": "https://localhost:8080/",
          "height": 0
        },
        "id": "hPyX9w2X2dS-",
        "outputId": "63fc1b9a-580e-4c26-8f53-cc421596d542"
      },
      "outputs": [
        {
          "output_type": "execute_result",
          "data": {
            "text/plain": [
              "'\\nSintaxis\\n\\ndef <nombre> (<param_1>,<param_2>,.........,<param_n>):\\n  <instrucciones>\\n  return <resultado1>,<resultado_2,........, resultado_n>\\n'"
            ],
            "application/vnd.google.colaboratory.intrinsic+json": {
              "type": "string"
            }
          },
          "metadata": {},
          "execution_count": 266
        }
      ],
      "source": [
        "'''\n",
        "Sintaxis\n",
        "\n",
        "def <nombre> (<param_1>,<param_2>,.........,<param_n>):\n",
        "  <instrucciones>\n",
        "  return <resultado1>,<resultado_2,........, resultado_n>\n",
        "'''"
      ]
    },
    {
      "cell_type": "code",
      "execution_count": 267,
      "metadata": {
        "id": "JAuvAvTe2Zlw"
      },
      "outputs": [],
      "source": [
        "def media (list):\n",
        "  valor = sum(list)/ len(list)\n",
        "  return(valor, len(list) )"
      ]
    },
    {
      "cell_type": "code",
      "execution_count": 268,
      "metadata": {
        "colab": {
          "base_uri": "https://localhost:8080/"
        },
        "id": "4gJoADpd2wSF",
        "outputId": "f0b5aa19-563b-4ca2-b752-c301c1aa92e4"
      },
      "outputs": [
        {
          "output_type": "execute_result",
          "data": {
            "text/plain": [
              "(4.5, 8)"
            ]
          },
          "metadata": {},
          "execution_count": 268
        }
      ],
      "source": [
        "# Nos devuelve una tupla\n",
        "media([1,2,3,4,5,6,7,8])"
      ]
    },
    {
      "cell_type": "code",
      "execution_count": 269,
      "metadata": {
        "id": "DzbWwQ9E2yf4"
      },
      "outputs": [],
      "source": [
        "# Desempacar la tuplas\n",
        "resultado, n = media([1,2,3,4,5,6,7,8])"
      ]
    },
    {
      "cell_type": "code",
      "execution_count": 270,
      "metadata": {
        "colab": {
          "base_uri": "https://localhost:8080/"
        },
        "id": "5HcHu4nE3EKt",
        "outputId": "5e825dff-51b6-4bf3-ab19-e22cb0b5b476"
      },
      "outputs": [
        {
          "output_type": "execute_result",
          "data": {
            "text/plain": [
              "4.5"
            ]
          },
          "metadata": {},
          "execution_count": 270
        }
      ],
      "source": [
        "resultado"
      ]
    },
    {
      "cell_type": "code",
      "execution_count": 271,
      "metadata": {
        "colab": {
          "base_uri": "https://localhost:8080/"
        },
        "id": "9ZuF8pbv3Eix",
        "outputId": "bfe710e9-b408-48de-827a-6d8db5b39b1c"
      },
      "outputs": [
        {
          "output_type": "execute_result",
          "data": {
            "text/plain": [
              "8"
            ]
          },
          "metadata": {},
          "execution_count": 271
        }
      ],
      "source": [
        "n"
      ]
    },
    {
      "cell_type": "markdown",
      "metadata": {
        "id": "JHdvpZ4zeb5c"
      },
      "source": [
        "# **8. Condicionales**"
      ]
    },
    {
      "cell_type": "markdown",
      "metadata": {
        "id": "19K-F1KOeiNr"
      },
      "source": [
        "**¿Que es una condicional?**"
      ]
    },
    {
      "cell_type": "markdown",
      "metadata": {
        "id": "hjolL8fRerzs"
      },
      "source": [
        "Los condicionales en Python son estructuras de control que te permiten tomar decisiones en tu programa en función de una condición o expresión booleana. Puedes usar condicionales para ejecutar un bloque de código si una condición es verdadera y, opcionalmente, otro bloque si la condición es falsa.\n",
        "\n",
        "Otra manera de enteneder los condicionales es verlo como una forma de controlar el flujo de nuestro codigo, de acuerdo a una condicion que yo tenga puedo controlar que porcion de codigo se va ha ejecutar o no.\n",
        "\n",
        "Aquí tienes una breve explicación junto con un ejemplo:\n",
        "\n"
      ]
    },
    {
      "cell_type": "markdown",
      "metadata": {
        "id": "J1mgMY4lF08J"
      },
      "source": [
        "**Operadores de comparacion**"
      ]
    },
    {
      "cell_type": "markdown",
      "metadata": {
        "id": "Wi8siLNyGN6x"
      },
      "source": [
        "**==, !=, >, <, >=, <=**"
      ]
    },
    {
      "cell_type": "markdown",
      "metadata": {
        "id": "3xn7TiEUHKPc"
      },
      "source": [
        "Los operadores de comparación en Python se utilizan para comparar dos valores y evaluar si una determinada relación es Verdadera o Falsa. Aquí tienes una descripción de los operadores de comparación más comunes:"
      ]
    },
    {
      "cell_type": "markdown",
      "metadata": {
        "id": "YsW-9-zDHQUC"
      },
      "source": [
        "1. **== (Igual a):** Comprueba si dos valores son iguales.\n",
        "\n",
        "**Ejemplo:**"
      ]
    },
    {
      "cell_type": "code",
      "execution_count": 290,
      "metadata": {
        "colab": {
          "base_uri": "https://localhost:8080/"
        },
        "id": "mrTN5T4EHYOH",
        "outputId": "3dbd709d-2e88-4657-fa92-2ded7c801f59"
      },
      "outputs": [
        {
          "output_type": "execute_result",
          "data": {
            "text/plain": [
              "True"
            ]
          },
          "metadata": {},
          "execution_count": 290
        }
      ],
      "source": [
        "5 == 5  # Verdadero"
      ]
    },
    {
      "cell_type": "code",
      "execution_count": 291,
      "metadata": {
        "colab": {
          "base_uri": "https://localhost:8080/"
        },
        "id": "9WayZm0pF4qZ",
        "outputId": "ccae5def-be39-4365-c472-170305c194da"
      },
      "outputs": [
        {
          "output_type": "execute_result",
          "data": {
            "text/plain": [
              "False"
            ]
          },
          "metadata": {},
          "execution_count": 291
        }
      ],
      "source": [
        "\"Hola\" == \"Adiós\"  # Falso"
      ]
    },
    {
      "cell_type": "markdown",
      "metadata": {
        "id": "Va8FS92xHbFd"
      },
      "source": [
        "2. **!= (Diferente de):** Comprueba si dos valores no son iguales.\n",
        "\n",
        "**Ejemplo:**"
      ]
    },
    {
      "cell_type": "code",
      "execution_count": 292,
      "metadata": {
        "colab": {
          "base_uri": "https://localhost:8080/"
        },
        "id": "UH-iNsrkHbqa",
        "outputId": "5bc2bb05-0800-410f-c2db-c26663a03d94"
      },
      "outputs": [
        {
          "output_type": "execute_result",
          "data": {
            "text/plain": [
              "True"
            ]
          },
          "metadata": {},
          "execution_count": 292
        }
      ],
      "source": [
        "5 != 3  # Verdadero"
      ]
    },
    {
      "cell_type": "code",
      "execution_count": 293,
      "metadata": {
        "colab": {
          "base_uri": "https://localhost:8080/"
        },
        "id": "9vI34ISpHcIu",
        "outputId": "5a649c9c-6b0a-4c76-9e65-1db472e3264d"
      },
      "outputs": [
        {
          "output_type": "execute_result",
          "data": {
            "text/plain": [
              "False"
            ]
          },
          "metadata": {},
          "execution_count": 293
        }
      ],
      "source": [
        "\"Hola\" != \"Hola\"  # Falso"
      ]
    },
    {
      "cell_type": "markdown",
      "metadata": {
        "id": "HiRyD8xYHclq"
      },
      "source": [
        "3. **> (Mayor que):** Comprueba si el valor de la izquierda es mayor que el valor de la derecha.\n",
        "\n",
        "**Ejemplo:**"
      ]
    },
    {
      "cell_type": "code",
      "execution_count": 294,
      "metadata": {
        "colab": {
          "base_uri": "https://localhost:8080/"
        },
        "id": "5ci7f3PIHdU_",
        "outputId": "9648a1f9-3fe2-4865-a905-457091a879c8"
      },
      "outputs": [
        {
          "output_type": "execute_result",
          "data": {
            "text/plain": [
              "True"
            ]
          },
          "metadata": {},
          "execution_count": 294
        }
      ],
      "source": [
        "7 > 3  # Verdadero"
      ]
    },
    {
      "cell_type": "code",
      "execution_count": 295,
      "metadata": {
        "colab": {
          "base_uri": "https://localhost:8080/"
        },
        "id": "wkhM0JiTHd4h",
        "outputId": "7761184c-6675-4415-9aed-b8bded47a858"
      },
      "outputs": [
        {
          "output_type": "execute_result",
          "data": {
            "text/plain": [
              "False"
            ]
          },
          "metadata": {},
          "execution_count": 295
        }
      ],
      "source": [
        "2 > 5  # Falso"
      ]
    },
    {
      "cell_type": "markdown",
      "metadata": {
        "id": "vShm78CQHeud"
      },
      "source": [
        "4. **< (Menor que):** Comprueba si el valor de la izquierda es menor que el valor de la derecha.\n",
        "\n",
        "**Ejemplo:**"
      ]
    },
    {
      "cell_type": "code",
      "execution_count": 296,
      "metadata": {
        "colab": {
          "base_uri": "https://localhost:8080/"
        },
        "id": "VTLmOtW2HfOn",
        "outputId": "d1c258d1-3df0-4564-a92c-1f38f58afb0f"
      },
      "outputs": [
        {
          "output_type": "execute_result",
          "data": {
            "text/plain": [
              "True"
            ]
          },
          "metadata": {},
          "execution_count": 296
        }
      ],
      "source": [
        "4 < 9  # Verdadero"
      ]
    },
    {
      "cell_type": "code",
      "execution_count": 297,
      "metadata": {
        "colab": {
          "base_uri": "https://localhost:8080/"
        },
        "id": "cxKGpIxjHfrk",
        "outputId": "69cc2487-e4a1-42a0-a2a3-a6da0f5c23f6"
      },
      "outputs": [
        {
          "output_type": "execute_result",
          "data": {
            "text/plain": [
              "False"
            ]
          },
          "metadata": {},
          "execution_count": 297
        }
      ],
      "source": [
        "6 < 3  # Falso"
      ]
    },
    {
      "cell_type": "markdown",
      "metadata": {
        "id": "z2BpvsLzH3sN"
      },
      "source": [
        "5. **>= (Mayor o igual que):** Comprueba si el valor de la izquierda es mayor o igual que el valor de la derecha.\n",
        "\n",
        "**Ejemplo:**"
      ]
    },
    {
      "cell_type": "code",
      "execution_count": 298,
      "metadata": {
        "colab": {
          "base_uri": "https://localhost:8080/"
        },
        "id": "C2WcVbB3H4a0",
        "outputId": "b67b06f2-fef0-4648-ef0e-865588a51c62"
      },
      "outputs": [
        {
          "output_type": "execute_result",
          "data": {
            "text/plain": [
              "True"
            ]
          },
          "metadata": {},
          "execution_count": 298
        }
      ],
      "source": [
        "8 >= 8  # Verdadero"
      ]
    },
    {
      "cell_type": "code",
      "execution_count": 299,
      "metadata": {
        "colab": {
          "base_uri": "https://localhost:8080/"
        },
        "id": "h_WT-o8bH45x",
        "outputId": "f40aec7c-3111-4db7-a0d4-ec71162d3d1c"
      },
      "outputs": [
        {
          "output_type": "execute_result",
          "data": {
            "text/plain": [
              "False"
            ]
          },
          "metadata": {},
          "execution_count": 299
        }
      ],
      "source": [
        "5 >= 10  # Falso"
      ]
    },
    {
      "cell_type": "markdown",
      "metadata": {
        "id": "cnGgUOU4H5eR"
      },
      "source": [
        "6. **<= (Menor o igual que):** Comprueba si el valor de la izquierda es menor o igual que el valor de la derecha.\n",
        "\n",
        "**Ejemplo:**"
      ]
    },
    {
      "cell_type": "code",
      "execution_count": 300,
      "metadata": {
        "colab": {
          "base_uri": "https://localhost:8080/"
        },
        "id": "Vt4dUUw4H6AS",
        "outputId": "51c76e97-67b2-4203-a1e2-140c7e512758"
      },
      "outputs": [
        {
          "output_type": "execute_result",
          "data": {
            "text/plain": [
              "True"
            ]
          },
          "metadata": {},
          "execution_count": 300
        }
      ],
      "source": [
        "6 <= 6  # Verdadero"
      ]
    },
    {
      "cell_type": "code",
      "execution_count": 301,
      "metadata": {
        "colab": {
          "base_uri": "https://localhost:8080/"
        },
        "id": "-4VfUS1yH6Yp",
        "outputId": "9fcad629-2b5e-4f55-9dfc-a864e43ea65d"
      },
      "outputs": [
        {
          "output_type": "execute_result",
          "data": {
            "text/plain": [
              "False"
            ]
          },
          "metadata": {},
          "execution_count": 301
        }
      ],
      "source": [
        "7 <= 4  # Falso"
      ]
    },
    {
      "cell_type": "markdown",
      "metadata": {
        "id": "nIzOf_cnIdMm"
      },
      "source": [
        "Estos operadores de comparación son fundamentales para crear condiciones en declaraciones if, elif y while, y se utilizan ampliamente para tomar decisiones en programas Python y evaluar expresiones lógicas."
      ]
    },
    {
      "cell_type": "markdown",
      "metadata": {
        "id": "9Dyc3YDMExRO"
      },
      "source": [
        "**8.1 Instruccion if**"
      ]
    },
    {
      "cell_type": "markdown",
      "metadata": {
        "id": "0Lj-Mk0_E31m"
      },
      "source": [
        "La instrucción **if** es una estructura de control en Python que se utiliza para tomar decisiones en función de una condición. Permite que un bloque de código se ejecute solo si la condición especificada es verdadera (True). Si la condición es falsa (False), el bloque de código dentro del if no se ejecuta, a menos que haya una cláusula else que proporcione una alternativa.\n",
        "\n",
        "La sintaxis básica de una instrucción if en Python es la siguiente:"
      ]
    },
    {
      "cell_type": "code",
      "execution_count": 302,
      "metadata": {
        "colab": {
          "base_uri": "https://localhost:8080/",
          "height": 35
        },
        "id": "b_WH5p_YFG8i",
        "outputId": "550163d6-feb3-4de9-be1e-67bba5ebde44"
      },
      "outputs": [
        {
          "output_type": "execute_result",
          "data": {
            "text/plain": [
              "'\\nif condicion:\\n    Código que se ejecuta si la condición es verdadera\\n'"
            ],
            "application/vnd.google.colaboratory.intrinsic+json": {
              "type": "string"
            }
          },
          "metadata": {},
          "execution_count": 302
        }
      ],
      "source": [
        "'''\n",
        "if condicion:\n",
        "    Código que se ejecuta si la condición es verdadera\n",
        "'''"
      ]
    },
    {
      "cell_type": "markdown",
      "metadata": {
        "id": "Nd3IeCf_FQWV"
      },
      "source": [
        "**Donde:**\n",
        "\n",
        "condicion es una expresión o evaluación que se verifica como Verdadera o Falsa.\n",
        "El código indentado debajo del if se ejecuta si la condición es Verdadera.\n",
        "\n",
        "**Ejemplo**"
      ]
    },
    {
      "cell_type": "code",
      "execution_count": 303,
      "metadata": {
        "colab": {
          "base_uri": "https://localhost:8080/"
        },
        "id": "fSKsfIEnFUgy",
        "outputId": "6fe5dbad-79d3-4ab6-e31c-950b912711ef"
      },
      "outputs": [
        {
          "output_type": "stream",
          "name": "stdout",
          "text": [
            "Eres mayor de edad\n"
          ]
        }
      ],
      "source": [
        "edad = 18\n",
        "if edad >= 18:\n",
        "    print(\"Eres mayor de edad\")"
      ]
    },
    {
      "cell_type": "markdown",
      "metadata": {
        "id": "L0F7lerGFW8Q"
      },
      "source": [
        "En este ejemplo, la condición edad >= 18 se evalúa como Verdadera, por lo que el mensaje \"Eres mayor de edad\" se imprimirá en la pantalla.\n",
        "\n",
        "Puedes agregar cláusulas adicionales a la estructura if para manejar diferentes situaciones:\n",
        "\n",
        "**else:** Se ejecuta cuando la condición del if es Falsa. Es una alternativa al bloque de código del if."
      ]
    },
    {
      "cell_type": "markdown",
      "metadata": {
        "id": "YobZI2uiexIa"
      },
      "source": [
        "**Ejemplo**\n",
        "\n",
        "Supongamos que deseas verificar si una persona es mayor de edad (mayor o igual a 18 años) antes de permitirle ingresar a un lugar. Puedes usar una estructura condicional para hacer esto. Aquí está un ejemplo:"
      ]
    },
    {
      "cell_type": "code",
      "execution_count": 304,
      "metadata": {
        "colab": {
          "base_uri": "https://localhost:8080/"
        },
        "id": "jO8YDL-6e4LB",
        "outputId": "83620e9a-6e48-4643-a3ae-bf9cc10f1404"
      },
      "outputs": [
        {
          "output_type": "stream",
          "name": "stdout",
          "text": [
            "Puede ingresar, es mayor de edad.\n"
          ]
        }
      ],
      "source": [
        "edad = 20  # Edad de la persona\n",
        "\n",
        "if edad >= 18:\n",
        "    print(\"Puede ingresar, es mayor de edad.\")\n",
        "else:\n",
        "    print(\"Lo siento, es menor de edad y no puede ingresar.\")"
      ]
    },
    {
      "cell_type": "markdown",
      "metadata": {
        "id": "a1PIjF7Be7bz"
      },
      "source": [
        "**Explicación:**\n",
        "\n",
        "1. **if edad >= 18:** Esta línea inicia una estructura condicional. Verifica si la variable **edad** es mayor o igual a 18.\n",
        "\n",
        "2. **print(\"Puede ingresar, es mayor de edad.\"):** Si la condición del **if** es verdadera (es decir, si la persona es mayor de edad), se ejecutará este bloque de código y se imprimirá \"Puede ingresar, es mayor de edad.\" en la consola.\n",
        "\n",
        "3. **else**: Esta parte se ejecuta si la condición del **if** es falsa (es decir, si la persona no es mayor de edad).\n",
        "\n",
        "4. **print(\"Lo siento, es menor de edad y no puede ingresar.\"):** Si la condición es falsa, se ejecutará este bloque de código y se imprimirá \"Lo siento, es menor de edad y no puede ingresar.\" en la consola."
      ]
    },
    {
      "cell_type": "markdown",
      "metadata": {
        "id": "lBJuenaofOah"
      },
      "source": [
        "Las condicionales en Python te permiten tomar decisiones basadas en condiciones. Puedes ejecutar diferentes bloques de código según si una condición es verdadera o falsa. Esto es fundamental para controlar el flujo de tu programa y tomar decisiones dinámicas en función de los datos o eventos que se produzcan durante la ejecución del programa."
      ]
    },
    {
      "cell_type": "markdown",
      "metadata": {
        "id": "f_s999Pcf7on"
      },
      "source": [
        "**Ejemplo**"
      ]
    },
    {
      "cell_type": "code",
      "execution_count": 305,
      "metadata": {
        "colab": {
          "base_uri": "https://localhost:8080/"
        },
        "id": "QpYW6uTtf7DZ",
        "outputId": "b8d45afd-5572-483d-9db8-84381c60af30"
      },
      "outputs": [
        {
          "output_type": "stream",
          "name": "stdout",
          "text": [
            "Lo siento, es menor de edad y no puede conducir.\n"
          ]
        }
      ],
      "source": [
        "def verficar_si_puede_conducir(edad):\n",
        "  if edad >= 18:\n",
        "    print(\"Puedes conducir, es mayor de edad.\")\n",
        "  else:\n",
        "    print(\"Lo siento, es menor de edad y no puede conducir.\")\n",
        "\n",
        "verficar_si_puede_conducir(12)"
      ]
    },
    {
      "cell_type": "markdown",
      "metadata": {
        "id": "8DDyKx_bgyNk"
      },
      "source": [
        "**Ejemplo**"
      ]
    },
    {
      "cell_type": "code",
      "execution_count": 306,
      "metadata": {
        "colab": {
          "base_uri": "https://localhost:8080/"
        },
        "id": "DiBzedFLgxtK",
        "outputId": "aedabfca-b293-41aa-994c-69c3063251bf"
      },
      "outputs": [
        {
          "output_type": "stream",
          "name": "stdout",
          "text": [
            "El alumno es considerado Promotor\n"
          ]
        }
      ],
      "source": [
        "def clasificar_nps(nota):\n",
        "  if nota <= 6:\n",
        "    print('El alumno es considerado Detractor')\n",
        "  else:\n",
        "    if nota <= 8:\n",
        "      print('El alumno es considerado Neutro')\n",
        "    else:\n",
        "      print('El alumno es considerado Promotor')\n",
        "\n",
        "clasificar_nps(9)"
      ]
    },
    {
      "cell_type": "markdown",
      "metadata": {
        "id": "uvZmzqSaF5IL"
      },
      "source": [
        "**Operadores logicos: and, or, not**"
      ]
    },
    {
      "cell_type": "markdown",
      "metadata": {
        "id": "BYkIMulEIopq"
      },
      "source": [
        "Los operadores lógicos en Python se utilizan para realizar operaciones lógicas en valores booleanos (Verdadero o Falso). Aquí tienes una descripción de los operadores lógicos más comunes:"
      ]
    },
    {
      "cell_type": "markdown",
      "metadata": {
        "id": "tK0pj262IpQt"
      },
      "source": [
        "1. **and (Y lógico):** Devuelve Verdadero si ambas condiciones son Verdaderas.\n",
        "\n",
        "**Ejemplo:**"
      ]
    },
    {
      "cell_type": "code",
      "execution_count": 307,
      "metadata": {
        "colab": {
          "base_uri": "https://localhost:8080/"
        },
        "id": "FVF5axttIp8Q",
        "outputId": "a653de3f-25c3-4d69-ada4-7013834fa99e"
      },
      "outputs": [
        {
          "output_type": "execute_result",
          "data": {
            "text/plain": [
              "False"
            ]
          },
          "metadata": {},
          "execution_count": 307
        }
      ],
      "source": [
        "True and True  # Verdadero\n",
        "True and False  # Falso\n",
        "False and True  # Falso\n",
        "False and False  # Falso"
      ]
    },
    {
      "cell_type": "markdown",
      "metadata": {
        "id": "X4hWm60AIqkA"
      },
      "source": [
        "2. **or (O lógico)**: Devuelve Verdadero si al menos una de las condiciones es Verdadera.\n"
      ]
    },
    {
      "cell_type": "code",
      "execution_count": 308,
      "metadata": {
        "colab": {
          "base_uri": "https://localhost:8080/"
        },
        "id": "yvHYKtheIrH-",
        "outputId": "9d15ce92-d46c-421c-d9b3-a78a3a38436f"
      },
      "outputs": [
        {
          "output_type": "execute_result",
          "data": {
            "text/plain": [
              "False"
            ]
          },
          "metadata": {},
          "execution_count": 308
        }
      ],
      "source": [
        "True or True  # Verdadero\n",
        "True or False  # Verdadero\n",
        "False or True  # Verdadero\n",
        "False or False  # Falso"
      ]
    },
    {
      "cell_type": "markdown",
      "metadata": {
        "id": "21vibJt9IriO"
      },
      "source": [
        "3. **not (Negación lógica):** Invierte el valor de verdad de una expresión. Si la expresión es Verdadera, not la convierte en Falsa; si es Falsa, not la convierte en Verdadera.\n",
        "\n",
        "**Ejemplo:**"
      ]
    },
    {
      "cell_type": "code",
      "execution_count": 309,
      "metadata": {
        "colab": {
          "base_uri": "https://localhost:8080/"
        },
        "id": "Rvan26yrIsEM",
        "outputId": "65c9d29b-6248-4bea-f4ee-a653e7c5e808"
      },
      "outputs": [
        {
          "output_type": "execute_result",
          "data": {
            "text/plain": [
              "True"
            ]
          },
          "metadata": {},
          "execution_count": 309
        }
      ],
      "source": [
        "not True  # Falso\n",
        "not False  # Verdadero"
      ]
    },
    {
      "cell_type": "markdown",
      "metadata": {
        "id": "sEOTO8oaJDUp"
      },
      "source": [
        "Estos operadores lógicos son útiles para combinar expresiones booleanas y crear condiciones más complejas en declaraciones if, elif y while. También se utilizan en expresiones lógicas para evaluar y controlar el flujo de un programa según múltiples condiciones."
      ]
    },
    {
      "cell_type": "markdown",
      "metadata": {
        "id": "yaVsVnTTMwcR"
      },
      "source": [
        "**Ejemplo con IF**"
      ]
    },
    {
      "cell_type": "code",
      "execution_count": 310,
      "metadata": {
        "colab": {
          "base_uri": "https://localhost:8080/"
        },
        "id": "wHmEkUV6JaZc",
        "outputId": "d0131e3e-b0b7-4d48-a5b3-627bb2b83fc1"
      },
      "outputs": [
        {
          "output_type": "execute_result",
          "data": {
            "text/plain": [
              "[['Jetta Variant', 2003, True],\n",
              " ['Passat', 1991, False],\n",
              " ['Crossfox', 1990, False],\n",
              " ['DS5', 2019, True],\n",
              " ['Aston Martin DB4', 2006, False],\n",
              " ['Palio Weekend', 2012, False],\n",
              " ['A5', 2019, True],\n",
              " ['Serie 3 Cabrio', 2009, False],\n",
              " ['Dodge Jorney', 2019, False],\n",
              " ['Carens', 2011, False]]"
            ]
          },
          "metadata": {},
          "execution_count": 310
        }
      ],
      "source": [
        "# 1 objeto de la lista - Nombre del vehiculo\n",
        "# 2 objeto de la lista - Año de fabricacion\n",
        "# 3 objeto de la lista - Vehiculo es cero km?\n",
        "\n",
        "datos = [\n",
        "  ['Jetta Variant',2003, True],\n",
        "  ['Passat',1991, False],\n",
        "  ['Crossfox',1990, False],\n",
        "  ['DS5',2019, True],\n",
        "  ['Aston Martin DB4',2006, False],\n",
        "  ['Palio Weekend',2012, False],\n",
        "  ['A5',2019, True],\n",
        "  ['Serie 3 Cabrio',2009, False],\n",
        "  ['Dodge Jorney',2019, False],\n",
        "  ['Carens',2011, False]\n",
        "]\n",
        "\n",
        "datos"
      ]
    },
    {
      "cell_type": "code",
      "execution_count": 311,
      "metadata": {
        "colab": {
          "base_uri": "https://localhost:8080/"
        },
        "id": "-o0gFoltKz7U",
        "outputId": "695a5dc1-96bd-487b-b518-a0982127f299"
      },
      "outputs": [
        {
          "output_type": "execute_result",
          "data": {
            "text/plain": [
              "[['Jetta Variant', 2003, True], ['DS5', 2019, True], ['A5', 2019, True]]"
            ]
          },
          "metadata": {},
          "execution_count": 311
        }
      ],
      "source": [
        "cero_km_T = []\n",
        "for lista in datos:\n",
        "  if (lista[2] == True):\n",
        "    cero_km_T.append(lista)\n",
        "\n",
        "cero_km_T"
      ]
    },
    {
      "cell_type": "code",
      "execution_count": 312,
      "metadata": {
        "colab": {
          "base_uri": "https://localhost:8080/"
        },
        "id": "skPckUKFLY6G",
        "outputId": "100bd8f9-a1fa-45e2-ca7e-6d35a89c596e"
      },
      "outputs": [
        {
          "output_type": "execute_result",
          "data": {
            "text/plain": [
              "[['Passat', 1991, False],\n",
              " ['Crossfox', 1990, False],\n",
              " ['Aston Martin DB4', 2006, False],\n",
              " ['Palio Weekend', 2012, False],\n",
              " ['Serie 3 Cabrio', 2009, False],\n",
              " ['Dodge Jorney', 2019, False],\n",
              " ['Carens', 2011, False]]"
            ]
          },
          "metadata": {},
          "execution_count": 312
        }
      ],
      "source": [
        "cero_km_F = []\n",
        "for lista in datos:\n",
        "  if (lista[2] == False):\n",
        "    cero_km_F.append(lista)\n",
        "\n",
        "cero_km_F"
      ]
    },
    {
      "cell_type": "markdown",
      "metadata": {
        "id": "tFBcF-HxLwc1"
      },
      "source": [
        "**List comprehensions**"
      ]
    },
    {
      "cell_type": "code",
      "execution_count": 313,
      "metadata": {
        "colab": {
          "base_uri": "https://localhost:8080/"
        },
        "id": "UCQNuZE_LvoC",
        "outputId": "9af80d4a-7eb0-42a5-e8f6-9e3bf09ada50"
      },
      "outputs": [
        {
          "output_type": "execute_result",
          "data": {
            "text/plain": [
              "[['Jetta Variant', 2003, True], ['DS5', 2019, True], ['A5', 2019, True]]"
            ]
          },
          "metadata": {},
          "execution_count": 313
        }
      ],
      "source": [
        "cero_km_T = [lista for lista in datos if(lista[2] == True)]\n",
        "cero_km_T"
      ]
    },
    {
      "cell_type": "code",
      "execution_count": 314,
      "metadata": {
        "colab": {
          "base_uri": "https://localhost:8080/"
        },
        "id": "bTxp0mhRMgEX",
        "outputId": "430d842f-eaba-4e8c-c26a-49b15a26b6a3"
      },
      "outputs": [
        {
          "output_type": "execute_result",
          "data": {
            "text/plain": [
              "[['Passat', 1991, False],\n",
              " ['Crossfox', 1990, False],\n",
              " ['Aston Martin DB4', 2006, False],\n",
              " ['Palio Weekend', 2012, False],\n",
              " ['Serie 3 Cabrio', 2009, False],\n",
              " ['Dodge Jorney', 2019, False],\n",
              " ['Carens', 2011, False]]"
            ]
          },
          "metadata": {},
          "execution_count": 314
        }
      ],
      "source": [
        "cero_km_F = [lista for lista in datos if(lista[2] == False)]\n",
        "cero_km_F"
      ]
    },
    {
      "cell_type": "markdown",
      "metadata": {
        "id": "fYsczeWHM0ER"
      },
      "source": [
        "**8.2 Bucles if-else, elif y else**"
      ]
    },
    {
      "cell_type": "markdown",
      "metadata": {
        "id": "Z2pcudxFx-rY"
      },
      "source": [
        "**1. elif (si no, si):** El bucle **elif** (abreviatura de \"else if\") se utiliza después de un **if** para evaluar una condición adicional si la condición del **if** es Falsa. Puedes tener múltiples bloques elif para comprobar varias condiciones."
      ]
    },
    {
      "cell_type": "code",
      "execution_count": 315,
      "metadata": {
        "colab": {
          "base_uri": "https://localhost:8080/",
          "height": 35
        },
        "id": "93YwiUUQM3MI",
        "outputId": "9919d896-1076-49e9-80c9-52cd30b94f84"
      },
      "outputs": [
        {
          "output_type": "execute_result",
          "data": {
            "text/plain": [
              "'\\nif condicion1:\\n     Código a ejecutar si la condición1 es Verdadera\\nelif condicion2:\\n     Código a ejecutar si la condicion1 es Falsa y la condicion2 es Verdadera\\n'"
            ],
            "application/vnd.google.colaboratory.intrinsic+json": {
              "type": "string"
            }
          },
          "metadata": {},
          "execution_count": 315
        }
      ],
      "source": [
        "'''\n",
        "if condicion1:\n",
        "     Código a ejecutar si la condición1 es Verdadera\n",
        "elif condicion2:\n",
        "     Código a ejecutar si la condicion1 es Falsa y la condicion2 es Verdadera\n",
        "'''"
      ]
    },
    {
      "cell_type": "markdown",
      "metadata": {
        "id": "_RxKGeRFyQ0g"
      },
      "source": [
        "**Ejemplo**"
      ]
    },
    {
      "cell_type": "code",
      "execution_count": 316,
      "metadata": {
        "colab": {
          "base_uri": "https://localhost:8080/"
        },
        "id": "xK05ZJ0EyS_P",
        "outputId": "184c3465-b967-48d6-8928-8fdac0a970a0"
      },
      "outputs": [
        {
          "output_type": "execute_result",
          "data": {
            "text/plain": [
              "75"
            ]
          },
          "metadata": {},
          "execution_count": 316
        }
      ],
      "source": [
        "puntuacion = 75\n",
        "if puntuacion >= 90:\n",
        "    print(\"Tienes una A\")\n",
        "elif puntuacion >= 80:\n",
        "    print(\"Tienes una B\")\n",
        "puntuacion"
      ]
    },
    {
      "cell_type": "code",
      "execution_count": 317,
      "metadata": {
        "colab": {
          "base_uri": "https://localhost:8080/"
        },
        "id": "QHg3-4yIPhvn",
        "outputId": "43b7f628-f848-4621-d2f8-3edd6cd07aaa"
      },
      "outputs": [
        {
          "output_type": "execute_result",
          "data": {
            "text/plain": [
              "[['Jetta Variant', 2003, True],\n",
              " ['Passat', 1991, False],\n",
              " ['Crossfox', 1990, False],\n",
              " ['DS5', 2019, True],\n",
              " ['Aston Martin DB4', 2006, False],\n",
              " ['Palio Weekend', 2012, False],\n",
              " ['A5', 2019, True],\n",
              " ['Serie 3 Cabrio', 2009, False],\n",
              " ['Dodge Jorney', 2019, False],\n",
              " ['Carens', 2011, False]]"
            ]
          },
          "metadata": {},
          "execution_count": 317
        }
      ],
      "source": [
        "# Instruccion elif\n",
        "datos"
      ]
    },
    {
      "cell_type": "code",
      "execution_count": 318,
      "metadata": {
        "id": "zRrARqKHP4bD"
      },
      "outputs": [],
      "source": [
        "A, B, C = [],[],[]\n",
        "\n",
        "for lista in datos:\n",
        "  if (lista[1] <= 2000):\n",
        "    A.append(lista)\n",
        "  #elif(lista[1] > 2000 and lista[1] <= 2010):  Esta es una manera de hacerlo\n",
        "  elif(2000 < lista[1] <= 2010): #Esta es otra manera de hacerlo\n",
        "    B.append(lista)\n",
        "  else:\n",
        "     C.append(lista)"
      ]
    },
    {
      "cell_type": "code",
      "execution_count": 319,
      "metadata": {
        "colab": {
          "base_uri": "https://localhost:8080/"
        },
        "id": "I2vDkXdSQt3u",
        "outputId": "64138629-6bd0-488f-d206-790c424eae57"
      },
      "outputs": [
        {
          "output_type": "execute_result",
          "data": {
            "text/plain": [
              "[['Passat', 1991, False], ['Crossfox', 1990, False]]"
            ]
          },
          "metadata": {},
          "execution_count": 319
        }
      ],
      "source": [
        "A"
      ]
    },
    {
      "cell_type": "code",
      "execution_count": 320,
      "metadata": {
        "colab": {
          "base_uri": "https://localhost:8080/"
        },
        "id": "nXdZw4VfQunr",
        "outputId": "44c76e6d-1b27-4cde-ec86-32f3d13fcf72"
      },
      "outputs": [
        {
          "output_type": "execute_result",
          "data": {
            "text/plain": [
              "[['Jetta Variant', 2003, True],\n",
              " ['Aston Martin DB4', 2006, False],\n",
              " ['Serie 3 Cabrio', 2009, False]]"
            ]
          },
          "metadata": {},
          "execution_count": 320
        }
      ],
      "source": [
        "B"
      ]
    },
    {
      "cell_type": "code",
      "execution_count": 321,
      "metadata": {
        "colab": {
          "base_uri": "https://localhost:8080/"
        },
        "id": "up4rLurQQvq_",
        "outputId": "8490762d-7182-4ac6-80d1-eb254cf38671"
      },
      "outputs": [
        {
          "output_type": "execute_result",
          "data": {
            "text/plain": [
              "[['DS5', 2019, True],\n",
              " ['Palio Weekend', 2012, False],\n",
              " ['A5', 2019, True],\n",
              " ['Dodge Jorney', 2019, False],\n",
              " ['Carens', 2011, False]]"
            ]
          },
          "metadata": {},
          "execution_count": 321
        }
      ],
      "source": [
        "C"
      ]
    },
    {
      "cell_type": "markdown",
      "metadata": {
        "id": "u9Zl0p6YyhLI"
      },
      "source": [
        "2. **else (si no):** El bucle **else** se utiliza para ejecutar un bloque de código si todas las condiciones anteriores (**if y elif**) son Falsas. No necesita una condición, ya que se ejecutará si ninguna de las condiciones anteriores se cumple."
      ]
    },
    {
      "cell_type": "code",
      "execution_count": 322,
      "metadata": {
        "colab": {
          "base_uri": "https://localhost:8080/",
          "height": 35
        },
        "id": "BkzRiebkyoky",
        "outputId": "96280022-17a5-4808-cc70-89ad3e817e5a"
      },
      "outputs": [
        {
          "output_type": "execute_result",
          "data": {
            "text/plain": [
              "'\\nif condicion:\\n    # Código a ejecutar si la condición es Verdadera\\nelse:\\n    # Código a ejecutar si la condición es Falsa\\n'"
            ],
            "application/vnd.google.colaboratory.intrinsic+json": {
              "type": "string"
            }
          },
          "metadata": {},
          "execution_count": 322
        }
      ],
      "source": [
        "'''\n",
        "if condicion:\n",
        "    # Código a ejecutar si la condición es Verdadera\n",
        "else:\n",
        "    # Código a ejecutar si la condición es Falsa\n",
        "'''"
      ]
    },
    {
      "cell_type": "markdown",
      "metadata": {
        "id": "S_U3m5Eiyv94"
      },
      "source": [
        "**Ejemplo**"
      ]
    },
    {
      "cell_type": "code",
      "execution_count": 323,
      "metadata": {
        "colab": {
          "base_uri": "https://localhost:8080/"
        },
        "id": "sPbwlIk5yw13",
        "outputId": "1968316e-41a8-4aa5-d7a9-a52f89384378"
      },
      "outputs": [
        {
          "output_type": "stream",
          "name": "stdout",
          "text": [
            "Eres menor de edad\n"
          ]
        }
      ],
      "source": [
        "edad = 16\n",
        "if edad >= 18:\n",
        "    print(\"Eres mayor de edad\")\n",
        "else:\n",
        "    print(\"Eres menor de edad\")\n"
      ]
    },
    {
      "cell_type": "code",
      "execution_count": 324,
      "metadata": {
        "id": "XlxtbYvsN5NF"
      },
      "outputs": [],
      "source": [
        "# Instroduccion if y else\n",
        "cero_km_T, cero_km_F = [],[]\n",
        "\n",
        "for lista in datos:\n",
        "  if(lista[2]==True):\n",
        "    cero_km_T.append(lista)\n",
        "  else:\n",
        "    cero_km_F.append(lista)"
      ]
    },
    {
      "cell_type": "code",
      "execution_count": 325,
      "metadata": {
        "colab": {
          "base_uri": "https://localhost:8080/"
        },
        "id": "IZbvpGOIPJg8",
        "outputId": "7c5b7a2a-5675-459f-94b1-1f24889e5dc4"
      },
      "outputs": [
        {
          "output_type": "execute_result",
          "data": {
            "text/plain": [
              "[['Jetta Variant', 2003, True], ['DS5', 2019, True], ['A5', 2019, True]]"
            ]
          },
          "metadata": {},
          "execution_count": 325
        }
      ],
      "source": [
        "cero_km_T"
      ]
    },
    {
      "cell_type": "code",
      "execution_count": 326,
      "metadata": {
        "colab": {
          "base_uri": "https://localhost:8080/"
        },
        "id": "oPNqpqm7PJ6B",
        "outputId": "9d4c59af-c6d0-427d-e529-06ef7105f26d"
      },
      "outputs": [
        {
          "output_type": "execute_result",
          "data": {
            "text/plain": [
              "[['Passat', 1991, False],\n",
              " ['Crossfox', 1990, False],\n",
              " ['Aston Martin DB4', 2006, False],\n",
              " ['Palio Weekend', 2012, False],\n",
              " ['Serie 3 Cabrio', 2009, False],\n",
              " ['Dodge Jorney', 2019, False],\n",
              " ['Carens', 2011, False]]"
            ]
          },
          "metadata": {},
          "execution_count": 326
        }
      ],
      "source": [
        "cero_km_F"
      ]
    },
    {
      "cell_type": "markdown",
      "metadata": {
        "id": "_ZywCri8y0_j"
      },
      "source": [
        "Estos bucles se utilizan para tomar decisiones en el código, lo que permite que un programa se comporte de manera diferente según las condiciones que se cumplan. Puedes usar **if, elif y else** en combinación para manejar múltiples escenarios y tomar decisiones complejas."
      ]
    },
    {
      "cell_type": "markdown",
      "metadata": {
        "id": "NmnznGAz5PIO"
      },
      "source": [
        "#**9. Estructuras de repeticion (Bucles o Loops)**"
      ]
    },
    {
      "cell_type": "markdown",
      "metadata": {
        "id": "tWUeCioj6BlV"
      },
      "source": [
        "**¿Que es un bucle o loop?**"
      ]
    },
    {
      "cell_type": "markdown",
      "metadata": {
        "id": "H8gFRkNP5XVz"
      },
      "source": [
        "\n",
        "Un bucle, también conocido como loop en inglés, es una estructura de control en programación que permite ejecutar un conjunto de instrucciones repetidamente mientras se cumple una condición o durante un número específico de veces. Los bucles son fundamentales para automatizar tareas repetitivas en un programa. En Python, hay dos tipos principales de bucles: el bucle **for** y el bucle **while**.\n"
      ]
    },
    {
      "cell_type": "markdown",
      "metadata": {
        "id": "qfwxd-o26Abb"
      },
      "source": [
        "**9.1 Bucle for**"
      ]
    },
    {
      "cell_type": "markdown",
      "metadata": {
        "id": "PH3PUuSB6N6y"
      },
      "source": [
        "1. El bucle **for** se utiliza para iterar sobre una secuencia (como una lista, una tupla, una cadena de texto, etc.) o cualquier objeto iterable en Python.\n",
        "\n",
        "2. Se ejecuta un número predefinido de veces, una vez por cada elemento en la secuencia.\n",
        "\n",
        "3. El bucle **for** es especialmente útil cuando se conoce la cantidad de iteraciones necesarias."
      ]
    },
    {
      "cell_type": "code",
      "execution_count": 272,
      "metadata": {
        "colab": {
          "base_uri": "https://localhost:8080/",
          "height": 35
        },
        "id": "ikJtoqUFfgqr",
        "outputId": "db8e5da1-0745-480b-a963-922b33d7a5bb"
      },
      "outputs": [
        {
          "output_type": "execute_result",
          "data": {
            "text/plain": [
              "'\\nSintaxis:\\n\\nfor <variable> in <coleccion>:\\n  <instrucciones>\\n'"
            ],
            "application/vnd.google.colaboratory.intrinsic+json": {
              "type": "string"
            }
          },
          "metadata": {},
          "execution_count": 272
        }
      ],
      "source": [
        "'''\n",
        "Sintaxis:\n",
        "\n",
        "for <variable> in <coleccion>:\n",
        "  <instrucciones>\n",
        "'''"
      ]
    },
    {
      "cell_type": "markdown",
      "metadata": {
        "id": "WvvNU3NFiSl8"
      },
      "source": [
        "**Ejemplo**"
      ]
    },
    {
      "cell_type": "code",
      "execution_count": 273,
      "metadata": {
        "colab": {
          "base_uri": "https://localhost:8080/"
        },
        "id": "5ROTQKID5iih",
        "outputId": "63ef91b8-3f6b-4765-9cd4-d68b62688912"
      },
      "outputs": [
        {
          "output_type": "stream",
          "name": "stdout",
          "text": [
            "Juan\n",
            "Ana\n",
            "María\n"
          ]
        }
      ],
      "source": [
        "nombres = [\"Juan\", \"Ana\", \"María\"]\n",
        "for nombre in nombres:\n",
        "    print(nombre)"
      ]
    },
    {
      "cell_type": "markdown",
      "metadata": {
        "id": "njDNq0Rhhigw"
      },
      "source": [
        "**List comprehensions**"
      ]
    },
    {
      "cell_type": "markdown",
      "metadata": {
        "id": "UD_10KJ4hmhP"
      },
      "source": [
        "Las \"list comprehensions\" (comprensiones de listas) son una característica poderosa y concisa en Python que permite crear listas de manera eficiente mediante la aplicación de una expresión a cada elemento de una secuencia (como una lista, tupla o rango) y opcionalmente filtrando los elementos según una condición. Las comprensiones de listas proporcionan una forma elegante de crear y transformar listas en una sola línea de código.\n",
        "\n",
        "La sintaxis general de una comprensión de lista es la siguiente:"
      ]
    },
    {
      "cell_type": "code",
      "execution_count": 274,
      "metadata": {
        "colab": {
          "base_uri": "https://localhost:8080/",
          "height": 35
        },
        "id": "_Y5UHKgdhvW4",
        "outputId": "ca7563e2-fc67-4630-b95f-4a3886f0d4d3"
      },
      "outputs": [
        {
          "output_type": "execute_result",
          "data": {
            "text/plain": [
              "'\\nSintaxis:\\n\\n  nueva_lista = [expresion for elemento in secuencia if condicion]\\n\\n'"
            ],
            "application/vnd.google.colaboratory.intrinsic+json": {
              "type": "string"
            }
          },
          "metadata": {},
          "execution_count": 274
        }
      ],
      "source": [
        "'''\n",
        "Sintaxis:\n",
        "\n",
        "  nueva_lista = [expresion for elemento in secuencia if condicion]\n",
        "\n",
        "'''"
      ]
    },
    {
      "cell_type": "markdown",
      "metadata": {
        "id": "Qlwon6z7h1Cc"
      },
      "source": [
        "**Donde:**\n",
        "\n",
        "1. **expresion** es la expresión que se evalúa y agrega a la nueva lista.\n",
        "2. **elemento** es una variable que representa cada elemento de la secuencia.\n",
        "3. **secuencia** es la secuencia original de la cual se extraen los elementos.\n",
        "4. **condicion** es una condición opcional que determina si se incluye el elemento en la nueva lista (puede omitirse si no es necesario)."
      ]
    },
    {
      "cell_type": "markdown",
      "metadata": {
        "id": "8thVH5KViQoC"
      },
      "source": [
        "**Ejemplo**\n",
        "\n",
        "Comparativa al crear una lista de cuadrados de los números del 0 al 9 con una lista normal y List comprehension:"
      ]
    },
    {
      "cell_type": "code",
      "execution_count": 275,
      "metadata": {
        "colab": {
          "base_uri": "https://localhost:8080/"
        },
        "id": "0P36FDj-kHCj",
        "outputId": "51eae29f-ac08-4daa-f73a-742da2740468"
      },
      "outputs": [
        {
          "output_type": "execute_result",
          "data": {
            "text/plain": [
              "[0, 1, 4, 9, 16, 25, 36, 49, 64, 81]"
            ]
          },
          "metadata": {},
          "execution_count": 275
        }
      ],
      "source": [
        "# Lista normal\n",
        "cuadrados=[]\n",
        "for i in range(10):\n",
        "  cuadrados.append(i ** 2)\n",
        "\n",
        "cuadrados"
      ]
    },
    {
      "cell_type": "code",
      "execution_count": 276,
      "metadata": {
        "colab": {
          "base_uri": "https://localhost:8080/"
        },
        "id": "PCgSvidIiZz3",
        "outputId": "3f6ef4e8-095d-4e5a-84a1-a359442e395b"
      },
      "outputs": [
        {
          "output_type": "execute_result",
          "data": {
            "text/plain": [
              "[0, 1, 4, 9, 16, 25, 36, 49, 64, 81]"
            ]
          },
          "metadata": {},
          "execution_count": 276
        }
      ],
      "source": [
        "#List comprehension\n",
        "cuadrados = [i ** 2 for i in range(10)]\n",
        "# Resultado: [0, 1, 4, 9, 16, 25, 36, 49, 64, 81]\n",
        "cuadrados"
      ]
    },
    {
      "cell_type": "markdown",
      "metadata": {
        "id": "YAd8ua0YikDK"
      },
      "source": [
        "1. **range(10)** genera una secuencia de números del 0 al 9 omitiendo el numero 10\n",
        "\n",
        "2. x ** 2 eleva cada número al cuadrado, generando una nueva lista con los cuadrados de los números en la secuencia."
      ]
    },
    {
      "cell_type": "markdown",
      "metadata": {
        "id": "lUriUQCrjATh"
      },
      "source": [
        "**EJEMPLO 3:**\n",
        "\n",
        "Filtrar elementos pares de una lista:"
      ]
    },
    {
      "cell_type": "code",
      "execution_count": 277,
      "metadata": {
        "colab": {
          "base_uri": "https://localhost:8080/"
        },
        "id": "EMC3nsCgjHRU",
        "outputId": "ac88e70d-1a85-4a63-bbcd-8ab54fc4abb5"
      },
      "outputs": [
        {
          "output_type": "execute_result",
          "data": {
            "text/plain": [
              "[2, 4, 6, 8]"
            ]
          },
          "metadata": {},
          "execution_count": 277
        }
      ],
      "source": [
        "numeros = [1, 2, 3, 4, 5, 6, 7, 8, 9]\n",
        "pares = [x for x in numeros if x % 2 == 0]\n",
        "# Resultado: [2, 4, 6, 8]\n",
        "pares"
      ]
    },
    {
      "cell_type": "markdown",
      "metadata": {
        "id": "DiaVoj4RjM1N"
      },
      "source": [
        "1. **x % 2 == 0** es una condición que verifica si x es par.\n",
        "\n",
        "2. **[x for x in numeros if x % 2 == 0]** crea una nueva lista que contiene solo los números que cumplen con la condición de ser pares.\n",
        "\n",
        "3. **Resultado:** pares será igual a [2, 4, 6, 8], que son los números pares de la lista numeros."
      ]
    },
    {
      "cell_type": "markdown",
      "metadata": {
        "id": "3y-FhK0tjNTq"
      },
      "source": [
        "**EJEMPLO 3:**\n",
        "\n",
        "Crear una lista de las vocales en una cadena"
      ]
    },
    {
      "cell_type": "code",
      "execution_count": 278,
      "metadata": {
        "colab": {
          "base_uri": "https://localhost:8080/"
        },
        "id": "hV1DR-o5jNuy",
        "outputId": "32115c02-a320-409c-ae59-b535c286fdbb"
      },
      "outputs": [
        {
          "output_type": "execute_result",
          "data": {
            "text/plain": [
              "['o', 'a', 'u', 'o']"
            ]
          },
          "metadata": {},
          "execution_count": 278
        }
      ],
      "source": [
        "texto = \"Hola, mundo\"\n",
        "vocales = [letra for letra in texto if letra in 'aeiouAEIOU']\n",
        "vocales"
      ]
    },
    {
      "cell_type": "markdown",
      "metadata": {
        "id": "DJG8ObIijOUO"
      },
      "source": [
        "1. **for letra in texto** itera sobre cada letra en la cadena texto.\n",
        "2. **letra in 'aeiouAEIOU'** verifica si la letra es una vocal (mayúscula o minúscula).\n",
        "3. **[letra for letra in texto if letra in 'aeiouAEIOU']** crea una nueva lista que contiene solo las letras que son vocales."
      ]
    },
    {
      "cell_type": "markdown",
      "metadata": {
        "id": "ZSqMsFmWCxgl"
      },
      "source": [
        "**9.2 Loops anidados**"
      ]
    },
    {
      "cell_type": "markdown",
      "metadata": {
        "id": "GUUW8i1FqYcm"
      },
      "source": [
        "Los **\"loops anidados\"** son estructuras de control en la programación que consisten en la inclusión de uno o más bucles dentro de otro bucle. Estos bucles se ejecutan de manera anidada, es decir, uno dentro del otro, y se utilizan para realizar tareas repetitivas en múltiples niveles o dimensiones. Los bucles anidados son una técnica común en la programación y se utilizan para procesar datos en estructuras que tienen una jerarquía o dimensiones múltiples, como matrices, listas de listas y tablas bidimensionales.\n",
        "\n",
        "La estructura general de los bucles anidados es la siguiente:"
      ]
    },
    {
      "cell_type": "code",
      "execution_count": 279,
      "metadata": {
        "colab": {
          "base_uri": "https://localhost:8080/",
          "height": 35
        },
        "id": "Ejbw-OVRq1Yu",
        "outputId": "3b74e896-0a61-44dc-a4a1-eee554970af3"
      },
      "outputs": [
        {
          "output_type": "execute_result",
          "data": {
            "text/plain": [
              "'\\nfor variable_externa in secuencia_externa:\\n    Código del bucle externo\\n\\n    for variable_interna in secuencia_interna:\\n        Código del bucle interno\\n'"
            ],
            "application/vnd.google.colaboratory.intrinsic+json": {
              "type": "string"
            }
          },
          "metadata": {},
          "execution_count": 279
        }
      ],
      "source": [
        "'''\n",
        "for variable_externa in secuencia_externa:\n",
        "    Código del bucle externo\n",
        "\n",
        "    for variable_interna in secuencia_interna:\n",
        "        Código del bucle interno\n",
        "'''"
      ]
    },
    {
      "cell_type": "markdown",
      "metadata": {
        "id": "nUku5fHZq93r"
      },
      "source": [
        "**Donde:**\n",
        "\n",
        "1. **for variable_externa in secuencia_externa** representa el bucle externo, que itera sobre una secuencia externa.\n",
        "2. **for variable_interna in secuencia_interna** representa el bucle interno, que itera sobre una secuencia interna.\n",
        "3. El código dentro del bucle externo se ejecuta una vez por cada iteración del bucle externo.\n",
        "4. El código dentro del bucle interno se ejecuta una vez por cada iteración del bucle interno, y esto ocurre dentro de cada iteración del bucle externo."
      ]
    },
    {
      "cell_type": "markdown",
      "metadata": {
        "id": "OmqNToa1C3u7"
      },
      "source": [
        "¿Qué sucedería si la lista que estoy intentando recorrer, contiene como elementos otras sub-listas, otras listas, es decir, tiene listas de listas?. ¿Cómo hago para recorrer estas sub-listas y extraer los valores dentro de cada una de ellas? Esto no es posible de realizar con un único, con un loop for. Para esto es necesario aprender el concepto de loops anidados, es decir utilizar un for dentro de otro for."
      ]
    },
    {
      "cell_type": "code",
      "execution_count": 280,
      "metadata": {
        "colab": {
          "base_uri": "https://localhost:8080/"
        },
        "id": "Rafqj-WbA0Hy",
        "outputId": "caa66a69-1c64-4c60-8fc1-836ae8869063"
      },
      "outputs": [
        {
          "output_type": "execute_result",
          "data": {
            "text/plain": [
              "[['Llantas de aleacion',\n",
              "  'Cerraduras electricas',\n",
              "  'Piloto automatico',\n",
              "  'Asienro de cuero',\n",
              "  'Aire acondicionado'],\n",
              " ['Central multimedia',\n",
              "  'Techo panoramico',\n",
              "  'Frenos ABS',\n",
              "  '4 X 4',\n",
              "  'Panel digital',\n",
              "  'Piloto automatico'],\n",
              " ['Piloto automatico',\n",
              "  'Control de estabilidad',\n",
              "  'Sensor crepuscular',\n",
              "  'Freno ABS',\n",
              "  'Trasnsmision automatica']]"
            ]
          },
          "metadata": {},
          "execution_count": 280
        }
      ],
      "source": [
        "datos =[\n",
        "    ['Llantas de aleacion','Cerraduras electricas', 'Piloto automatico','Asienro de cuero','Aire acondicionado'],\n",
        "    ['Central multimedia','Techo panoramico','Frenos ABS', '4 X 4','Panel digital','Piloto automatico'],\n",
        "    ['Piloto automatico','Control de estabilidad','Sensor crepuscular','Freno ABS', 'Trasnsmision automatica']]\n",
        "\n",
        "datos"
      ]
    },
    {
      "cell_type": "markdown",
      "metadata": {
        "id": "8nB4S0nFp9Ko"
      },
      "source": [
        "La mayor tarea que vamos a tener que hacer es el tratamiento de los datos, es la limpieza de los datos. Como pueden ver, aquí tienen palabras que se repiten dentro de los elementos de la lista, se repiten varias veces, y ustedes tienen que limpiar esto, remover la duplicidad, ordenar en orden alfabético y así sucesivamente.\n",
        "\n",
        "Este concepto de **loops anidados** nos ayuda bastante con esta tarea"
      ]
    },
    {
      "cell_type": "code",
      "execution_count": 281,
      "metadata": {
        "colab": {
          "base_uri": "https://localhost:8080/"
        },
        "id": "iawH-wUxrWwu",
        "outputId": "8fa7da5a-c08d-4608-b71c-3ea308750ea6"
      },
      "outputs": [
        {
          "output_type": "stream",
          "name": "stdout",
          "text": [
            "['Llantas de aleacion', 'Cerraduras electricas', 'Piloto automatico', 'Asienro de cuero', 'Aire acondicionado']\n",
            "['Central multimedia', 'Techo panoramico', 'Frenos ABS', '4 X 4', 'Panel digital', 'Piloto automatico']\n",
            "['Piloto automatico', 'Control de estabilidad', 'Sensor crepuscular', 'Freno ABS', 'Trasnsmision automatica']\n"
          ]
        }
      ],
      "source": [
        "# Con este primer loop hemos llegado a las listas pero no a los elementos\n",
        "for lista in datos:\n",
        "  print(lista)"
      ]
    },
    {
      "cell_type": "code",
      "execution_count": 282,
      "metadata": {
        "colab": {
          "base_uri": "https://localhost:8080/"
        },
        "id": "11hEGkGRrp8-",
        "outputId": "0b1667e2-1dbd-4e9f-f041-78d9d6ef5ee4"
      },
      "outputs": [
        {
          "output_type": "stream",
          "name": "stdout",
          "text": [
            "Llantas de aleacion\n",
            "Cerraduras electricas\n",
            "Piloto automatico\n",
            "Asienro de cuero\n",
            "Aire acondicionado\n",
            "Central multimedia\n",
            "Techo panoramico\n",
            "Frenos ABS\n",
            "4 X 4\n",
            "Panel digital\n",
            "Piloto automatico\n",
            "Piloto automatico\n",
            "Control de estabilidad\n",
            "Sensor crepuscular\n",
            "Freno ABS\n",
            "Trasnsmision automatica\n"
          ]
        }
      ],
      "source": [
        "# En este 2 loop ya llegue a los elementos\n",
        "for lista in datos:\n",
        "  for iten in lista:\n",
        "    print(iten)"
      ]
    },
    {
      "cell_type": "code",
      "execution_count": 283,
      "metadata": {
        "colab": {
          "base_uri": "https://localhost:8080/"
        },
        "id": "w9OkrP7UsGke",
        "outputId": "467f68d1-40b3-4bf2-f513-d0086e08fa09"
      },
      "outputs": [
        {
          "output_type": "execute_result",
          "data": {
            "text/plain": [
              "['Llantas de aleacion',\n",
              " 'Cerraduras electricas',\n",
              " 'Piloto automatico',\n",
              " 'Asienro de cuero',\n",
              " 'Aire acondicionado',\n",
              " 'Central multimedia',\n",
              " 'Techo panoramico',\n",
              " 'Frenos ABS',\n",
              " '4 X 4',\n",
              " 'Panel digital',\n",
              " 'Piloto automatico',\n",
              " 'Piloto automatico',\n",
              " 'Control de estabilidad',\n",
              " 'Sensor crepuscular',\n",
              " 'Freno ABS',\n",
              " 'Trasnsmision automatica']"
            ]
          },
          "metadata": {},
          "execution_count": 283
        }
      ],
      "source": [
        "# Guardamos los elemtos en la lista Accesorios\n",
        "Accesorios = []\n",
        "\n",
        "for lista in datos:\n",
        "  for iten in lista:\n",
        "    Accesorios.append(iten)\n",
        "\n",
        "Accesorios"
      ]
    },
    {
      "cell_type": "markdown",
      "metadata": {
        "id": "zG0b6aVsszfd"
      },
      "source": [
        "**9.3 Limpiando datos**"
      ]
    },
    {
      "cell_type": "markdown",
      "metadata": {
        "id": "mm6tPyoMs7ea"
      },
      "source": [
        "**set()**\n",
        "\n",
        "El metodo **set()**, tiene muchas funciones pero en este caso lo utilizaremos para remover la duplicidad de los elementos."
      ]
    },
    {
      "cell_type": "code",
      "execution_count": 284,
      "metadata": {
        "colab": {
          "base_uri": "https://localhost:8080/"
        },
        "id": "srKF5Z7is0O8",
        "outputId": "2782a9c3-216f-4774-a511-e15e451d8122"
      },
      "outputs": [
        {
          "output_type": "execute_result",
          "data": {
            "text/plain": [
              "['Llantas de aleacion',\n",
              " 'Cerraduras electricas',\n",
              " 'Piloto automatico',\n",
              " 'Asienro de cuero',\n",
              " 'Aire acondicionado',\n",
              " 'Central multimedia',\n",
              " 'Techo panoramico',\n",
              " 'Frenos ABS',\n",
              " '4 X 4',\n",
              " 'Panel digital',\n",
              " 'Piloto automatico',\n",
              " 'Piloto automatico',\n",
              " 'Control de estabilidad',\n",
              " 'Sensor crepuscular',\n",
              " 'Freno ABS',\n",
              " 'Trasnsmision automatica']"
            ]
          },
          "metadata": {},
          "execution_count": 284
        }
      ],
      "source": [
        "Accesorios"
      ]
    },
    {
      "cell_type": "code",
      "execution_count": 327,
      "metadata": {
        "colab": {
          "base_uri": "https://localhost:8080/"
        },
        "id": "v3CWWrK0tP2q",
        "outputId": "c88a6bb5-82ed-4978-e15d-5475d50172d2"
      },
      "outputs": [
        {
          "output_type": "execute_result",
          "data": {
            "text/plain": [
              "{'4 X 4',\n",
              " 'Aire acondicionado',\n",
              " 'Asienro de cuero',\n",
              " 'Central multimedia',\n",
              " 'Cerraduras electricas',\n",
              " 'Control de estabilidad',\n",
              " 'Freno ABS',\n",
              " 'Frenos ABS',\n",
              " 'Llantas de aleacion',\n",
              " 'Panel digital',\n",
              " 'Piloto automatico',\n",
              " 'Sensor crepuscular',\n",
              " 'Techo panoramico',\n",
              " 'Trasnsmision automatica'}"
            ]
          },
          "metadata": {},
          "execution_count": 327
        }
      ],
      "source": [
        "set(Accesorios)\n",
        "#Lo que nos devuelve no es una lista"
      ]
    },
    {
      "cell_type": "code",
      "execution_count": 328,
      "metadata": {
        "colab": {
          "base_uri": "https://localhost:8080/"
        },
        "id": "Jl2oSYJ2th9_",
        "outputId": "31e9671d-95f6-4bda-bcdf-6709345ccbf3"
      },
      "outputs": [
        {
          "output_type": "execute_result",
          "data": {
            "text/plain": [
              "['Techo panoramico',\n",
              " 'Central multimedia',\n",
              " 'Asienro de cuero',\n",
              " '4 X 4',\n",
              " 'Frenos ABS',\n",
              " 'Control de estabilidad',\n",
              " 'Aire acondicionado',\n",
              " 'Llantas de aleacion',\n",
              " 'Trasnsmision automatica',\n",
              " 'Freno ABS',\n",
              " 'Panel digital',\n",
              " 'Piloto automatico',\n",
              " 'Sensor crepuscular',\n",
              " 'Cerraduras electricas']"
            ]
          },
          "metadata": {},
          "execution_count": 328
        }
      ],
      "source": [
        "# Lo comvertimos en una lista\n",
        "list(set(Accesorios))"
      ]
    },
    {
      "cell_type": "markdown",
      "metadata": {
        "id": "RSJVLgESt9qR"
      },
      "source": [
        "El anterior codigo lo podemos hacer con **List comprehension** de la siguiente manera"
      ]
    },
    {
      "cell_type": "code",
      "execution_count": 329,
      "metadata": {
        "colab": {
          "base_uri": "https://localhost:8080/"
        },
        "id": "_8xLX0YMt8yS",
        "outputId": "387452b5-da5e-4c74-d7ad-c8ff1a2f4e8b"
      },
      "outputs": [
        {
          "output_type": "execute_result",
          "data": {
            "text/plain": [
              "['Jetta Variant',\n",
              " 2003,\n",
              " True,\n",
              " 'Passat',\n",
              " 1991,\n",
              " False,\n",
              " 'Crossfox',\n",
              " 1990,\n",
              " False,\n",
              " 'DS5',\n",
              " 2019,\n",
              " True,\n",
              " 'Aston Martin DB4',\n",
              " 2006,\n",
              " False,\n",
              " 'Palio Weekend',\n",
              " 2012,\n",
              " False,\n",
              " 'A5',\n",
              " 2019,\n",
              " True,\n",
              " 'Serie 3 Cabrio',\n",
              " 2009,\n",
              " False,\n",
              " 'Dodge Jorney',\n",
              " 2019,\n",
              " False,\n",
              " 'Carens',\n",
              " 2011,\n",
              " False]"
            ]
          },
          "metadata": {},
          "execution_count": 329
        }
      ],
      "source": [
        "Accesorios = [iten for lista in datos for iten in lista]\n",
        "Accesorios"
      ]
    },
    {
      "cell_type": "code",
      "execution_count": 330,
      "metadata": {
        "colab": {
          "base_uri": "https://localhost:8080/"
        },
        "id": "1tBxSkeCuj49",
        "outputId": "b688ce92-b811-4ac7-b558-9c19ce05bead"
      },
      "outputs": [
        {
          "output_type": "execute_result",
          "data": {
            "text/plain": [
              "[False,\n",
              " True,\n",
              " 'Crossfox',\n",
              " 'A5',\n",
              " 'Passat',\n",
              " 'Dodge Jorney',\n",
              " 'Aston Martin DB4',\n",
              " 1990,\n",
              " 1991,\n",
              " 'DS5',\n",
              " 'Carens',\n",
              " 2003,\n",
              " 2006,\n",
              " 'Serie 3 Cabrio',\n",
              " 2009,\n",
              " 2011,\n",
              " 2012,\n",
              " 2019,\n",
              " 'Jetta Variant',\n",
              " 'Palio Weekend']"
            ]
          },
          "metadata": {},
          "execution_count": 330
        }
      ],
      "source": [
        "Accesorios = list(set([iten for lista in datos for iten in lista]))\n",
        "Accesorios"
      ]
    },
    {
      "cell_type": "markdown",
      "metadata": {
        "id": "yKS0xHb-6Ome"
      },
      "source": [
        "**9.4 Bucle while**"
      ]
    },
    {
      "cell_type": "markdown",
      "metadata": {
        "id": "gJfWbN1v6O_O"
      },
      "source": [
        "1. El bucle **while** se utiliza para repetir un bloque de código mientras una condición sea verdadera.\n",
        "\n",
        "2. Puede ejecutarse un número indefinido de veces, y la condición se verifica antes de cada iteración.\n",
        "\n",
        "3. El bucle **while** es útil cuando no sabes de antemano cuántas veces se ejecutará el bucle."
      ]
    },
    {
      "cell_type": "markdown",
      "metadata": {
        "id": "G5l9Al5p7sI4"
      },
      "source": [
        "**EJEMPLO 1:**"
      ]
    },
    {
      "cell_type": "code",
      "execution_count": 331,
      "metadata": {
        "colab": {
          "base_uri": "https://localhost:8080/"
        },
        "id": "PHmTqaup6rFh",
        "outputId": "c20c0d98-ba46-447c-8ee8-70ecad2011a0"
      },
      "outputs": [
        {
          "output_type": "stream",
          "name": "stdout",
          "text": [
            "Contador: 0\n",
            "Contador: 1\n",
            "Contador: 2\n",
            "Contador: 3\n",
            "Contador: 4\n"
          ]
        }
      ],
      "source": [
        "contador = 0\n",
        "while contador < 5:\n",
        "    print(f\"Contador: {contador}\")\n",
        "    contador += 1"
      ]
    },
    {
      "cell_type": "markdown",
      "metadata": {
        "id": "aJs1NHM1C4mt"
      },
      "source": [
        "# **Módulo 3: Bibliotecas**"
      ]
    },
    {
      "cell_type": "markdown",
      "metadata": {
        "id": "OKt3hq7MFTvA"
      },
      "source": [
        "#**10. Bibliotecas**"
      ]
    },
    {
      "cell_type": "markdown",
      "metadata": {
        "id": "mJOD7ZhRZJEb"
      },
      "source": [
        "**¿Que es una Biblioteca?**"
      ]
    },
    {
      "cell_type": "markdown",
      "metadata": {
        "id": "KSwAJ5iDZcHx"
      },
      "source": [
        "En Python, una biblioteca (también conocida como módulo o paquete) es un conjunto de funciones, clases y herramientas predefinidas que extienden la funcionalidad del lenguaje base. Estas bibliotecas proporcionan un conjunto de herramientas especializadas y eficientes para tareas específicas, lo que facilita la programación y el análisis de datos en Python. En el campo de la ciencia de datos, hay varias bibliotecas ampliamente utilizadas que son esenciales para realizar tareas de análisis, manipulación y visualización de datos"
      ]
    },
    {
      "cell_type": "markdown",
      "metadata": {
        "id": "GuIbTtpm4oe5"
      },
      "source": [
        "**10.1 Bibliotecas**"
      ]
    },
    {
      "cell_type": "markdown",
      "metadata": {
        "id": "ZqrdKFlhZeu2"
      },
      "source": [
        "**NumPy**"
      ]
    },
    {
      "cell_type": "markdown",
      "metadata": {
        "id": "U3dSJA2sZ8Gh"
      },
      "source": [
        "1. **Explicación:** NumPy es la biblioteca fundamental para la computación científica en Python. Proporciona arreglos multidimensionales (arrays) que son eficientes y rápidos para realizar operaciones matemáticas y numéricas en datos.\n",
        "\n",
        "2. **Uso común:** Manipulación de datos numéricos, cálculos matemáticos, álgebra lineal."
      ]
    },
    {
      "cell_type": "markdown",
      "metadata": {
        "id": "2qNZEvJHZjrA"
      },
      "source": [
        "**Pandas**"
      ]
    },
    {
      "cell_type": "markdown",
      "metadata": {
        "id": "091NwUWkaA3H"
      },
      "source": [
        "1. **Explicación:** pandas es una biblioteca diseñada para la manipulación y el análisis de datos estructurados. Ofrece estructuras de datos flexibles como DataFrames y Series, que permiten trabajar con datos tabulares de manera eficiente.\n",
        "\n",
        "2. **Uso común:** Análisis exploratorio de datos, limpieza y transformación de datos, manipulación de datos tabulares."
      ]
    },
    {
      "cell_type": "markdown",
      "metadata": {
        "id": "8hezZXMVZo0R"
      },
      "source": [
        "**Matplotlib**"
      ]
    },
    {
      "cell_type": "markdown",
      "metadata": {
        "id": "I2RdrVu_aJgc"
      },
      "source": [
        "1. **Explicación:** matplotlib es una biblioteca de visualización de datos que permite crear gráficos de alta calidad en 2D y 3D. Ofrece una amplia variedad de tipos de gráficos y opciones de personalización.\n",
        "\n",
        "2. **Uso común:** Creación de gráficos y visualizaciones para explorar y comunicar resultados."
      ]
    },
    {
      "cell_type": "markdown",
      "metadata": {
        "id": "tIi7sqsRZs1J"
      },
      "source": [
        "**Seaborn**"
      ]
    },
    {
      "cell_type": "markdown",
      "metadata": {
        "id": "qOzsuqXVaPiz"
      },
      "source": [
        "1. **Explicación:** Seaborn es una biblioteca de visualización de datos basada en matplotlib que simplifica la creación de gráficos estadísticos atractivos y descriptivos. Facilita la creación de visualizaciones complejas con menos código.\n",
        "\n",
        "2. **Uso común:** Visualización de relaciones y distribuciones en datos."
      ]
    },
    {
      "cell_type": "markdown",
      "metadata": {
        "id": "cDIiA31kZwW0"
      },
      "source": [
        "**Scikit-learn**"
      ]
    },
    {
      "cell_type": "markdown",
      "metadata": {
        "id": "vcdUqUkAaVIB"
      },
      "source": [
        "1. **Explicación:** scikit-learn es una biblioteca de aprendizaje automático (machine learning) que proporciona herramientas y algoritmos para tareas de clasificación, regresión, clustering y más. Es ideal para aplicaciones de aprendizaje automático y minería de datos.\n",
        "\n",
        "2. **Uso común:** Construcción, entrenamiento y evaluación de modelos de aprendizaje automático."
      ]
    },
    {
      "cell_type": "markdown",
      "metadata": {
        "id": "M9lE9wq3Z0rJ"
      },
      "source": [
        "**TensorFlow y PyTorch**"
      ]
    },
    {
      "cell_type": "markdown",
      "metadata": {
        "id": "B6zcePaVaZz3"
      },
      "source": [
        "1. **Explicación:** TensorFlow y PyTorch son bibliotecas de código abierto para aprendizaje profundo (deep learning). Son ampliamente utilizadas en el desarrollo de redes neuronales y aplicaciones de inteligencia artificial.\n",
        "\n",
        "2. **Uso común:** Desarrollo y entrenamiento de modelos de aprendizaje profundo."
      ]
    },
    {
      "cell_type": "markdown",
      "metadata": {
        "id": "rQQaL8MJa8I-"
      },
      "source": [
        "**10.2  ¿Como se importa una biblioteca?**"
      ]
    },
    {
      "cell_type": "markdown",
      "metadata": {
        "id": "ILcalgZxbESW"
      },
      "source": [
        "Para importar una biblioteca en Python, puedes utilizar la declaración **import** seguida del nombre de la biblioteca que deseas utilizar."
      ]
    },
    {
      "cell_type": "code",
      "execution_count": null,
      "metadata": {
        "colab": {
          "background_save": true
        },
        "id": "an6F9l0CbJUV"
      },
      "outputs": [],
      "source": [
        "# import nombre_de_la_biblioteca"
      ]
    },
    {
      "cell_type": "markdown",
      "metadata": {
        "id": "I1Ufx5IRbOaS"
      },
      "source": [
        "Donde **nombre_de_la_biblioteca** es el nombre de la biblioteca que deseas importar. Por ejemplo, si deseas importar la biblioteca **NumPy**, puedes hacerlo de la siguiente manera:"
      ]
    },
    {
      "cell_type": "code",
      "execution_count": null,
      "metadata": {
        "colab": {
          "background_save": true
        },
        "id": "b1A4Li7Hbq28"
      },
      "outputs": [],
      "source": [
        "import numpy"
      ]
    },
    {
      "cell_type": "markdown",
      "metadata": {
        "id": "IZz7M9ZkcIWt"
      },
      "source": [
        "También es común utilizar un alias o nombre corto para la biblioteca para facilitar su uso en el código. Por ejemplo, puedes importar NumPy con el alias **np** de esta manera:"
      ]
    },
    {
      "cell_type": "code",
      "execution_count": null,
      "metadata": {
        "colab": {
          "background_save": true
        },
        "id": "ELEWo7xecMhM"
      },
      "outputs": [],
      "source": [
        "import numpy as np"
      ]
    },
    {
      "cell_type": "markdown",
      "metadata": {
        "id": "P_ZZZsQmcOKI"
      },
      "source": [
        "Ahora, puedes usar **np** para acceder a las funciones y objetos de NumPy en lugar de escribir el nombre completo de la biblioteca. Por ejemplo:"
      ]
    },
    {
      "cell_type": "code",
      "execution_count": null,
      "metadata": {
        "colab": {
          "background_save": true
        },
        "id": "XnaFB7oWcV8G"
      },
      "outputs": [],
      "source": [
        "import numpy as np\n",
        "\n",
        "# Crear un arreglo NumPy\n",
        "arr = np.array([1, 2, 3])\n",
        "\n",
        "# Usar una función de NumPy\n",
        "media = np.mean(arr)"
      ]
    },
    {
      "cell_type": "code",
      "execution_count": null,
      "metadata": {
        "colab": {
          "background_save": true,
          "base_uri": "https://localhost:8080/"
        },
        "id": "kjs1b2oucZLs",
        "outputId": "377e76ff-9099-48ae-ab6a-b85371687e1e"
      },
      "outputs": [
        {
          "data": {
            "text/plain": [
              "array([1, 2, 3])"
            ]
          },
          "execution_count": 301,
          "metadata": {},
          "output_type": "execute_result"
        }
      ],
      "source": [
        "arr"
      ]
    },
    {
      "cell_type": "code",
      "execution_count": null,
      "metadata": {
        "colab": {
          "background_save": true,
          "base_uri": "https://localhost:8080/"
        },
        "id": "lk2PZT5vcbO5",
        "outputId": "59fa723d-56e3-41d5-cc5a-864d2f0332ec"
      },
      "outputs": [
        {
          "data": {
            "text/plain": [
              "2.0"
            ]
          },
          "execution_count": 302,
          "metadata": {},
          "output_type": "execute_result"
        }
      ],
      "source": [
        "media"
      ]
    },
    {
      "cell_type": "markdown",
      "metadata": {
        "id": "laC4-LA0dL1w"
      },
      "source": [
        "**10.3 Importando un modulo de una biblioteca**"
      ]
    },
    {
      "cell_type": "markdown",
      "metadata": {
        "id": "62yOhCj_ceLn"
      },
      "source": [
        "Si deseas importar solo un módulo específico de una biblioteca en lugar de la biblioteca completa, puedes utilizar la declaración **from** seguida del nombre de la biblioteca, seguida de la palabra clave **import** y el nombre del módulo que deseas importar. Aquí tienes cómo se hace:"
      ]
    },
    {
      "cell_type": "code",
      "execution_count": null,
      "metadata": {
        "colab": {
          "background_save": true
        },
        "id": "-e0LgwpwckJP"
      },
      "outputs": [],
      "source": [
        "# from nombre_de_la_biblioteca import nombre_del_modulo"
      ]
    },
    {
      "cell_type": "markdown",
      "metadata": {
        "id": "G-L1ecHFclxy"
      },
      "source": [
        "**Donde:**\n",
        "\n",
        "1. **nombre_de_la_biblioteca** es el nombre de la biblioteca que contiene el módulo que deseas importar.\n",
        "\n",
        "2. **nombre_del_modulo** es el nombre del módulo específico que deseas importar.\n",
        "\n",
        "Por ejemplo, si deseas importar solo el módulo **random** que nos sirve para generar números aleatorios y realizar operaciones relacionadas con la aleatoriedad."
      ]
    },
    {
      "cell_type": "code",
      "execution_count": null,
      "metadata": {
        "colab": {
          "background_save": true
        },
        "id": "ek4-wQGadH8d"
      },
      "outputs": [],
      "source": [
        "# importamos dos modulo de una libreria\n",
        "from random import randrange, seed"
      ]
    },
    {
      "cell_type": "code",
      "execution_count": null,
      "metadata": {
        "colab": {
          "background_save": true,
          "base_uri": "https://localhost:8080/"
        },
        "id": "LvnQaZj1dYPY",
        "outputId": "07e9f902-0f6c-4d70-d5ec-347d7c8bfb1f"
      },
      "outputs": [
        {
          "data": {
            "text/plain": [
              "5"
            ]
          },
          "execution_count": 305,
          "metadata": {},
          "output_type": "execute_result"
        }
      ],
      "source": [
        "# Con el modulo randrange nos da un numero aleatorio de los parametros\n",
        "# que definimos en este caso de 0 al 10\n",
        "randrange(0,11)"
      ]
    },
    {
      "cell_type": "code",
      "execution_count": null,
      "metadata": {
        "colab": {
          "background_save": true
        },
        "id": "FxuxurDMdpwV"
      },
      "outputs": [],
      "source": [
        "# Creamos una lista vacia\n",
        "notas_matematicas = []"
      ]
    },
    {
      "cell_type": "code",
      "execution_count": null,
      "metadata": {
        "colab": {
          "background_save": true
        },
        "id": "MZrDxHPjduba"
      },
      "outputs": [],
      "source": [
        "# El resultado de randrage los almacenamos dentro de nuestra lista\n",
        "# con la funcion append\n",
        "notas_matematicas.append(randrange(0,11))"
      ]
    },
    {
      "cell_type": "code",
      "execution_count": null,
      "metadata": {
        "colab": {
          "background_save": true,
          "base_uri": "https://localhost:8080/"
        },
        "id": "DVSb-tRYd1pN",
        "outputId": "c40c0fc5-10ec-46ab-9986-7ab85ddcd407"
      },
      "outputs": [
        {
          "data": {
            "text/plain": [
              "[6]"
            ]
          },
          "execution_count": 308,
          "metadata": {},
          "output_type": "execute_result"
        }
      ],
      "source": [
        "notas_matematicas"
      ]
    },
    {
      "cell_type": "code",
      "execution_count": null,
      "metadata": {
        "colab": {
          "background_save": true
        },
        "id": "1UJRbk51d4ZG"
      },
      "outputs": [],
      "source": [
        "# Creamos un bucle for para realizar 6 veces pero adicionamos una semilla\n",
        "# que es \"seed\" para que nos genere siempre los msimo numeros aleatorios\n",
        "notas_matematicas = []\n",
        "seed(8)\n",
        "for notas in range(6):\n",
        "  notas_matematicas.append(randrange(0,11))"
      ]
    },
    {
      "cell_type": "code",
      "execution_count": null,
      "metadata": {
        "colab": {
          "background_save": true,
          "base_uri": "https://localhost:8080/"
        },
        "id": "STN499v2d_i7",
        "outputId": "d6eb07ca-7c9e-446b-fe09-5484fdd868fb"
      },
      "outputs": [
        {
          "data": {
            "text/plain": [
              "[3, 5, 6, 2, 3, 0]"
            ]
          },
          "execution_count": 310,
          "metadata": {},
          "output_type": "execute_result"
        }
      ],
      "source": [
        "notas_matematicas"
      ]
    },
    {
      "cell_type": "code",
      "execution_count": null,
      "metadata": {
        "colab": {
          "background_save": true,
          "base_uri": "https://localhost:8080/"
        },
        "id": "SeOZd5zGe7Ow",
        "outputId": "be5fc490-a8b0-43f6-d2ec-fa02895c643e"
      },
      "outputs": [
        {
          "data": {
            "text/plain": [
              "6"
            ]
          },
          "execution_count": 311,
          "metadata": {},
          "output_type": "execute_result"
        }
      ],
      "source": [
        "# Mostrar el tamaño de nuestra lista\n",
        "len(notas_matematicas)"
      ]
    },
    {
      "cell_type": "code",
      "execution_count": null,
      "metadata": {
        "colab": {
          "background_save": true
        },
        "id": "z3dCXElyf2dA"
      },
      "outputs": [],
      "source": [
        "# Ahora importaremos una biblioteca llamada matplotlib\n",
        "# para generar graficos\n",
        "import matplotlib.pyplot as plt"
      ]
    },
    {
      "cell_type": "code",
      "execution_count": null,
      "metadata": {
        "colab": {
          "background_save": true,
          "base_uri": "https://localhost:8080/"
        },
        "id": "i1mbhcwtgaQC",
        "outputId": "48aa8ab8-0238-4958-a59b-3f07b9618d43"
      },
      "outputs": [
        {
          "data": {
            "text/plain": [
              "[1, 2, 3, 4, 5, 6]"
            ]
          },
          "execution_count": 313,
          "metadata": {},
          "output_type": "execute_result"
        }
      ],
      "source": [
        "list(range(1,7))"
      ]
    },
    {
      "cell_type": "code",
      "execution_count": null,
      "metadata": {
        "colab": {
          "background_save": true,
          "base_uri": "https://localhost:8080/",
          "height": 472
        },
        "id": "P9HXvcWLgnU3",
        "outputId": "dcf14d66-e2b2-4f7a-cc8a-ad37fed770b7"
      },
      "outputs": [
        {
          "data": {
            "image/png": "[encoded data removed]",
            "text/plain": [
              "<Figure size 640x480 with 1 Axes>"
            ]
          },
          "metadata": {},
          "output_type": "display_data"
        }
      ],
      "source": [
        "x = list(range(1,7))\n",
        "y = notas_matematicas\n",
        "\n",
        "plt.plot(x,y, marker = 'o')\n",
        "#Titulo al grafico\n",
        "plt.title('Grafico de las notas en matematicas')\n",
        "#Titulo de nuesto eje X\n",
        "plt.xlabel('Pruebas')\n",
        "#Titulo de nuesto eje y\n",
        "plt.ylabel('Notas')\n",
        "# Elimina el titulo anterior y solo muestra el que se creo\n",
        "plt.show()"
      ]
    },
    {
      "cell_type": "markdown",
      "metadata": {
        "id": "ebinsjTRfalX"
      },
      "source": [
        "# **by: Jose Alfredo Ricardez Perez**"
      ]
    }
  ],
  "metadata": {
    "colab": {
      "collapsed_sections": [
        "GXMeX0oy7XP0",
        "djIEudUFHF7d",
        "rz9nDKr3EKsK",
        "CE7V6TqKiKSz",
        "uVxM6ZLtz7Q7",
        "CHy-nJ80L3_r",
        "OKt3hq7MFTvA"
      ],
      "provenance": []
    },
    "kernelspec": {
      "display_name": "Python 3",
      "name": "python3"
    },
    "language_info": {
      "name": "python"
    }
  },
  "nbformat": 4,
  "nbformat_minor": 0
}