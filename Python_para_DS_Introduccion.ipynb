{
  "cells": [
    {
      "cell_type": "markdown",
      "metadata": {
        "id": "lRDJZRuqE16L"
      },
      "source": [
        "#**Módulo 1: Fundamentos de Python**\n"
      ]
    },
    {
      "cell_type": "markdown",
      "metadata": {
        "id": "GXMeX0oy7XP0"
      },
      "source": [
        "# <h1 style=\"font-size: 18px;\"><strong>1. Introducción a Google Colab</strong></h1>\n",
        "\n",
        "\n"
      ]
    },
    {
      "cell_type": "markdown",
      "metadata": {
        "id": "cQR0u_7UGu2J"
      },
      "source": [
        "**1.1 ¿Qué es Google Colab?**"
      ]
    },
    {
      "cell_type": "markdown",
      "metadata": {
        "id": "GZJ-zarjFItn"
      },
      "source": [
        "**Google Colab** es una plataforma en línea que permite a los\n",
        "usuarios escribir y ejecutar código Python en un entorno de Jupyter Notebook directamente en la nube, sin necesidad de configurar ningún entorno de desarrollo local. Es una herramienta muy popular para la ciencia de datos, la inteligencia artificial y la programación en general debido a sus características y ventajas:\n"
      ]
    },
    {
      "cell_type": "markdown",
      "metadata": {
        "id": "SIuJos-69yKR"
      },
      "source": [
        "**1.2 Características de Google Colab:**"
      ]
    },
    {
      "cell_type": "markdown",
      "metadata": {
        "id": "a4pFJTCb-EEr"
      },
      "source": [
        "1. **Entorno de Ejecución en la Nube:** Google Colab permite ejecutar código de Python en servidores remotos de Google. Esto significa que no es necesario configurar un entorno de desarrollo local, lo que facilita el acceso desde cualquier lugar con conexión a Internet.\n",
        "\n",
        "2. **Cuadernos de Jupyter Interactivos:** Google Colab es compatible con cuadernos de Jupyter, que son documentos interactivos que pueden contener texto, código y resultados. Esto facilita la creación y documentación de proyectos y análisis de datos.\n",
        "\n",
        "3. **Acceso Gratuito a GPU y TPU:** Los cuadernos de Google Colab pueden aprovechar las unidades de procesamiento gráfico (GPU) y las unidades de procesamiento tensorial (TPU) de forma gratuita. Esto es especialmente valioso para tareas de aprendizaje automático y análisis de datos intensivos en cómputo.\n",
        "\n",
        "4. **Integración con Google Drive:** Puedes guardar y cargar cuadernos directamente desde tu cuenta de Google Drive. Esto permite una gestión sencilla de proyectos y colaboración en tiempo real.\n",
        "\n",
        "5. **Fácil Instalación de Bibliotecas:** Google Colab viene preconfigurado con muchas de las bibliotecas y paquetes de Python más utilizados, lo que facilita la instalación de paquetes adicionales.\n",
        "\n",
        "6. **Colaboración en Tiempo Real:** Varios usuarios pueden colaborar en un cuaderno de Google Colab en tiempo real. Esto es útil para trabajar en equipo en proyectos y resolución de problemas conjunta."
      ]
    },
    {
      "cell_type": "markdown",
      "metadata": {
        "id": "RwDB0W5U7lmN"
      },
      "source": [
        "**1.3 Ventajas de Google Colab:**"
      ]
    },
    {
      "cell_type": "markdown",
      "metadata": {
        "id": "nlQJluGD7mOD"
      },
      "source": [
        "1. **Acceso Universal:** Como una plataforma basada en la nube, Google Colab es accesible desde cualquier dispositivo con conexión a Internet, lo que lo hace ideal para el trabajo remoto y la colaboración en proyectos.\n",
        "\n",
        "2. **Costo Cero:** Google Colab es gratuito para su uso, lo que lo convierte en una opción atractiva para estudiantes, desarrolladores y científicos de datos que deseen trabajar en proyectos sin incurrir en costos adicionales.\n",
        "\n",
        "3. **Almacenamiento en la Nube:** Los cuadernos y archivos se almacenan en Google Drive, lo que garantiza la disponibilidad y seguridad de tus datos sin ocupar espacio en tu dispositivo.\n",
        "\n",
        "4. **Documentación y Recursos:** Google Colab ofrece una amplia documentación y recursos en línea, incluidos tutoriales y ejemplos, que ayudan a los usuarios a aprovechar al máximo la plataforma.\n",
        "\n",
        "5. **Aprendizaje y Experimentación:** Google Colab es una plataforma ideal para aprender Python, realizar análisis de datos y experimentar con proyectos de aprendizaje automático sin la necesidad de configurar una infraestructura de cómputo propia."
      ]
    },
    {
      "cell_type": "markdown",
      "metadata": {
        "id": "BUFeaZxzYhJ5"
      },
      "source": [
        "**1.4 Lenguajes de alto nivel y bajo nivel**"
      ]
    },
    {
      "cell_type": "markdown",
      "metadata": {
        "id": "92ngKPeV_Ug8"
      },
      "source": [
        "Aquí tienes una explicación de la diferencia entre los lenguajes de alto nivel y bajo nivel:"
      ]
    },
    {
      "cell_type": "markdown",
      "metadata": {
        "id": "FxM7NKdtZbrw"
      },
      "source": [
        "**1.4.1 Alto Nivel**"
      ]
    },
    {
      "cell_type": "markdown",
      "metadata": {
        "id": "nemOTyvqY2Qw"
      },
      "source": [
        "Un lenguaje de programación de alto nivel es un lenguaje que se ha diseñado para ser fácil de leer y escribir para los programadores, en lugar de estar diseñado para ser fácilmente comprendido por una computadora. Aquí hay algunas características clave de los lenguajes de alto nivel, con un enfoque en Python:\n",
        "\n",
        "1. **Legibilidad y sintaxis clara:** Python se destaca por su sintaxis clara y legible. El código Python se asemeja al lenguaje humano y utiliza una estructura que hace que sea más fácil de entender y depurar.\n",
        "\n",
        "2. **Abstracción de bajo nivel:** Los lenguajes de alto nivel ocultan gran parte de los detalles de bajo nivel de la computadora, como la gestión de memoria y la manipulación de registros de hardware. Esto permite a los programadores centrarse en resolver problemas y no en detalles técnicos.\n",
        "\n",
        "3. **Portabilidad:**Los programas escritos en lenguajes de alto nivel son más portables, lo que significa que pueden ejecutarse en diferentes sistemas operativos y plataformas sin modificaciones importantes.\n",
        "\n",
        "4. **Bibliotecas y módulos:** Los lenguajes de alto nivel, como Python, ofrecen una amplia gama de bibliotecas y módulos que simplifican tareas comunes, como el procesamiento de datos, la creación de interfaces gráficas de usuario y la programación web.\n",
        "\n",
        "5. **Interpretación o compilación:** Python es un lenguaje interpretado, lo que significa que el código fuente se ejecuta línea por línea por un intérprete. Esto permite una mayor flexibilidad y facilidad en el desarrollo, aunque a menudo puede ser más lento que los lenguajes compilados."
      ]
    },
    {
      "cell_type": "markdown",
      "metadata": {
        "id": "zlfmIdHGZezd"
      },
      "source": [
        "**1.4.2 Bajo Nivel**"
      ]
    },
    {
      "cell_type": "markdown",
      "metadata": {
        "id": "bsr-M5CrZh8k"
      },
      "source": [
        "Los lenguajes de bajo nivel, como el **Lenguaje Assembly**, están más cerca de la máquina y ofrecen un mayor control sobre los recursos de hardware, pero también son más difíciles de programar y menos portables. Aquí hay algunas diferencias clave:\n",
        "\n",
        "1. **Abstracción:** Los lenguajes de bajo nivel tienen una abstracción mínima y requieren que los programadores gestionen directamente los registros de la CPU y la memoria.\n",
        "\n",
        "2. **Eficiencia:** Los lenguajes de bajo nivel a menudo son más eficientes en términos de uso de recursos de hardware, pero requieren más tiempo y esfuerzo para escribir código.\n",
        "\n",
        "3. **Portabilidad:** Los programas escritos en lenguajes de bajo nivel son menos portables y a menudo deben adaptarse específicamente para diferentes arquitecturas de CPU.\n",
        "\n",
        "4. **Legibilidad:** Los lenguajes de bajo nivel son menos legibles y requieren una comprensión profunda de la arquitectura de la computadora."
      ]
    },
    {
      "cell_type": "markdown",
      "metadata": {
        "id": "djIEudUFHF7d"
      },
      "source": [
        "#<h1 style=\"font-size: 18px;\"><strong>2. Python para Data Science</strong></h1>"
      ]
    },
    {
      "cell_type": "markdown",
      "metadata": {
        "id": "5uolpj_WC4Ra"
      },
      "source": [
        "**2.1. Importancia de Python en Data Science**"
      ]
    },
    {
      "cell_type": "markdown",
      "metadata": {
        "id": "VkXghbezHSo-"
      },
      "source": [
        "\n",
        "\n",
        "Python es ampliamente considerado como uno de los lenguajes de programación más importantes para el campo de Data Science. A continuación, destacaremos su importancia y los motivos por los que se ha convertido en una herramienta esencial:\n",
        "\n"
      ]
    },
    {
      "cell_type": "markdown",
      "metadata": {
        "id": "gDAM8656C_JB"
      },
      "source": [
        "1. **Versatilidad**\n",
        "Python es un lenguaje versátil que se puede utilizar en todas las etapas de un proyecto de Data Science, desde la limpieza y exploración de datos hasta la construcción de modelos de aprendizaje automático y la creación de visualizaciones. Esta versatilidad simplifica el flujo de trabajo de un científico de datos.\n",
        "\n",
        "2. **Ecosistema de Bibliotecas**\n",
        "Python cuenta con un rico ecosistema de bibliotecas especializadas en Data Science, como NumPy, Pandas, Matplotlib, Seaborn, Scikit-Learn y TensorFlow. Estas bibliotecas proporcionan herramientas esenciales para el análisis y la manipulación de datos, la visualización y la implementación de algoritmos de aprendizaje automático.\n",
        "\n",
        "3. **Comunidad Activa**\n",
        "Python tiene una comunidad activa de científicos de datos, programadores y desarrolladores que contribuyen a su crecimiento. Esto se traduce en una amplia gama de recursos en línea, foros de ayuda y tutoriales que facilitan el aprendizaje y la resolución de problemas.\n",
        "\n",
        "4. **Facilidad de Aprendizaje**\n",
        "Python se destaca por su sintaxis legible y su facilidad de aprendizaje. Esto lo convierte en una opción atractiva tanto para principiantes como para profesionales con experiencia en programación.\n",
        "\n"
      ]
    },
    {
      "cell_type": "markdown",
      "metadata": {
        "id": "mCbYlGLfC_m0"
      },
      "source": [
        "**2.2. Entorno de Desarrollo**\n"
      ]
    },
    {
      "cell_type": "markdown",
      "metadata": {
        "id": "nTdqJ6bMDAHh"
      },
      "source": [
        "Para comenzar con Python en Data Science, es importante configurar un entorno de desarrollo adecuado. Google Colab es una excelente opción, ya que proporciona un entorno basado en la nube con soporte para cuadernos de Jupyter y acceso a GPU y TPU de forma gratuita. Aquí hay algunos pasos iniciales:\n",
        "\n"
      ]
    },
    {
      "cell_type": "markdown",
      "metadata": {
        "id": "dWa9KhJtDvo6"
      },
      "source": [
        "1. Accede a Google Colab con tu cuenta de Google.\n",
        "2. Crea un nuevo cuaderno o abre uno existente.\n",
        "3. En Google Colab, puedes ejecutar celdas de código\n",
        "4. Python y celdas de texto enriquecido para documentar tu trabajo."
      ]
    },
    {
      "cell_type": "code",
      "execution_count": null,
      "metadata": {
        "colab": {
          "base_uri": "https://localhost:8080/"
        },
        "id": "6J5cxvlLb022",
        "outputId": "74ba9f04-2749-4369-b99b-9b4888d86efb"
      },
      "outputs": [
        {
          "name": "stdout",
          "output_type": "stream",
          "text": [
            "Python 3.10.12\n"
          ]
        }
      ],
      "source": [
        "# Verificar la version de Python\n",
        "!python -V"
      ]
    },
    {
      "cell_type": "markdown",
      "metadata": {
        "id": "rz9nDKr3EKsK"
      },
      "source": [
        "#<h1 style=\"font-size: 18px;\"><strong>3. Operaciones Matematicas en Python</strong></h1>"
      ]
    },
    {
      "cell_type": "markdown",
      "metadata": {
        "id": "-SJ33ehCE6sR"
      },
      "source": [
        "En Python, puedes realizar una variedad de operaciones matemáticas básicas utilizando operadores aritméticos. A continuación, se describen algunas de las operaciones más comunes y cómo utilizar los operadores correspondientes:"
      ]
    },
    {
      "cell_type": "markdown",
      "metadata": {
        "id": "j8Ill02KsPDE"
      },
      "source": [
        "**3.1 Operaciones aritmeticas**"
      ]
    },
    {
      "cell_type": "markdown",
      "metadata": {
        "id": "me7DG3YvtUGo"
      },
      "source": [
        "**Suma (+)**"
      ]
    },
    {
      "cell_type": "markdown",
      "metadata": {
        "id": "apWLDKQdFAic"
      },
      "source": [
        "El operador de suma se utiliza para sumar dos números. Por ejemplo:"
      ]
    },
    {
      "cell_type": "code",
      "execution_count": null,
      "metadata": {
        "colab": {
          "base_uri": "https://localhost:8080/"
        },
        "id": "Ge8nkiaLuAqY",
        "outputId": "030654fe-fd53-46e3-826a-4e4892470890"
      },
      "outputs": [
        {
          "data": {
            "text/plain": [
              "4"
            ]
          },
          "execution_count": 2,
          "metadata": {},
          "output_type": "execute_result"
        }
      ],
      "source": [
        "2 + 2"
      ]
    },
    {
      "cell_type": "markdown",
      "metadata": {
        "id": "kg9PB1uwtYuG"
      },
      "source": [
        "**Resta (-)**"
      ]
    },
    {
      "cell_type": "markdown",
      "metadata": {
        "id": "lv_kopAEFGLf"
      },
      "source": [
        "El operador de resta se utiliza para restar un número de otro. Por ejemplo:"
      ]
    },
    {
      "cell_type": "code",
      "execution_count": null,
      "metadata": {
        "colab": {
          "base_uri": "https://localhost:8080/"
        },
        "id": "-fOYsfM0uBSP",
        "outputId": "7cec6997-6259-41d2-a6ae-7eb052713c82"
      },
      "outputs": [
        {
          "data": {
            "text/plain": [
              "0"
            ]
          },
          "execution_count": 3,
          "metadata": {},
          "output_type": "execute_result"
        }
      ],
      "source": [
        "2 - 2"
      ]
    },
    {
      "cell_type": "markdown",
      "metadata": {
        "id": "ax8K22NwtYnd"
      },
      "source": [
        "**Multiplicacion (*)**"
      ]
    },
    {
      "cell_type": "markdown",
      "metadata": {
        "id": "MP4oxyq-FImI"
      },
      "source": [
        "El operador de multiplicación se utiliza para multiplicar dos números. Por ejemplo:"
      ]
    },
    {
      "cell_type": "code",
      "execution_count": null,
      "metadata": {
        "colab": {
          "base_uri": "https://localhost:8080/"
        },
        "id": "cT4tflrduByM",
        "outputId": "1dfe99a4-62fc-45e7-de98-00335bf4de10"
      },
      "outputs": [
        {
          "data": {
            "text/plain": [
              "4"
            ]
          },
          "execution_count": 4,
          "metadata": {},
          "output_type": "execute_result"
        }
      ],
      "source": [
        "2 * 2"
      ]
    },
    {
      "cell_type": "markdown",
      "metadata": {
        "id": "Lpg8HZsxtYdT"
      },
      "source": [
        "**Division (/)**"
      ]
    },
    {
      "cell_type": "markdown",
      "metadata": {
        "id": "5aHhzUl4uWWj"
      },
      "source": [
        "El operador de división se utiliza para dividir un número por otro y la operacion division siempre devuelve un numero con punto decimal. Por ejemplo:"
      ]
    },
    {
      "cell_type": "code",
      "execution_count": null,
      "metadata": {
        "colab": {
          "base_uri": "https://localhost:8080/"
        },
        "id": "5vfln4FPuCWg",
        "outputId": "fec1aa6a-8090-4f47-99ff-d2f1c3c69a12"
      },
      "outputs": [
        {
          "data": {
            "text/plain": [
              "3.3333333333333335"
            ]
          },
          "execution_count": 5,
          "metadata": {},
          "output_type": "execute_result"
        }
      ],
      "source": [
        "10 / 3"
      ]
    },
    {
      "cell_type": "markdown",
      "metadata": {
        "id": "6WcF-kCXufGq"
      },
      "source": [
        "Tambien si solo queremos la parte entera de la divison lo hacemos de la siguiente manera:"
      ]
    },
    {
      "cell_type": "code",
      "execution_count": null,
      "metadata": {
        "colab": {
          "base_uri": "https://localhost:8080/"
        },
        "id": "-JZmInBrun9x",
        "outputId": "d3aaf5c8-6eae-4c64-f574-95fbd58462f5"
      },
      "outputs": [
        {
          "data": {
            "text/plain": [
              "3"
            ]
          },
          "execution_count": 6,
          "metadata": {},
          "output_type": "execute_result"
        }
      ],
      "source": [
        "10 // 3"
      ]
    },
    {
      "cell_type": "markdown",
      "metadata": {
        "id": "vzryUuwktYW7"
      },
      "source": [
        "<strong>Exponente (**)</strong>"
      ]
    },
    {
      "cell_type": "code",
      "execution_count": null,
      "metadata": {
        "colab": {
          "base_uri": "https://localhost:8080/"
        },
        "id": "E6sT01u1uC5n",
        "outputId": "98ed3449-6d6c-400f-c22b-5ecef8f2a404"
      },
      "outputs": [
        {
          "data": {
            "text/plain": [
              "8"
            ]
          },
          "execution_count": 7,
          "metadata": {},
          "output_type": "execute_result"
        }
      ],
      "source": [
        "2 ** 3"
      ]
    },
    {
      "cell_type": "markdown",
      "metadata": {
        "id": "Z67ACBDBtYQt"
      },
      "source": [
        "**Resto de la division o Modulo (%)**"
      ]
    },
    {
      "cell_type": "markdown",
      "metadata": {
        "id": "fOhQcNDvvPWb"
      },
      "source": [
        "Devuelve el valor que queda después de dividir un número por otro, es decir, el residuo de la división."
      ]
    },
    {
      "cell_type": "code",
      "execution_count": null,
      "metadata": {
        "colab": {
          "base_uri": "https://localhost:8080/"
        },
        "id": "sLV2_d8SuDbt",
        "outputId": "30eb269b-c8eb-47ce-cb86-ad90d1fa0e42"
      },
      "outputs": [
        {
          "data": {
            "text/plain": [
              "1"
            ]
          },
          "execution_count": 8,
          "metadata": {},
          "output_type": "execute_result"
        }
      ],
      "source": [
        "10 % 3"
      ]
    },
    {
      "cell_type": "code",
      "execution_count": null,
      "metadata": {
        "colab": {
          "base_uri": "https://localhost:8080/"
        },
        "id": "Xq9MzEK0vIc-",
        "outputId": "86f9490e-fbb6-4569-c0a7-8a59eb4eaba0"
      },
      "outputs": [
        {
          "data": {
            "text/plain": [
              "0"
            ]
          },
          "execution_count": 9,
          "metadata": {},
          "output_type": "execute_result"
        }
      ],
      "source": [
        "10 % 2"
      ]
    },
    {
      "cell_type": "markdown",
      "metadata": {
        "id": "V8lry01svjzc"
      },
      "source": [
        "**3.2. Operadores Matemáticos en Python**"
      ]
    },
    {
      "cell_type": "markdown",
      "metadata": {
        "id": "97rIaAu4Fzbe"
      },
      "source": [
        "**Precedencia de Operadores**"
      ]
    },
    {
      "cell_type": "markdown",
      "metadata": {
        "id": "wM5qGlc1v5Sf"
      },
      "source": [
        "Una expresión matemática es una combinación de valores, operadores y/o funciones matemáticas que se evalúan para producir un resultado numérico. Estas expresiones pueden ser tan simples como una operación de suma o tan complejas como una fórmula matemática avanzada.\n",
        "\n",
        "Siempre se resolvera empeazando con el operador de mayor prioridad en este caso la **multiplicacion**"
      ]
    },
    {
      "cell_type": "code",
      "execution_count": null,
      "metadata": {
        "colab": {
          "base_uri": "https://localhost:8080/"
        },
        "id": "hnugAys3vIQo",
        "outputId": "84262d4c-8b72-4093-f2a0-5cae872180a3"
      },
      "outputs": [
        {
          "data": {
            "text/plain": [
              "16"
            ]
          },
          "execution_count": 10,
          "metadata": {},
          "output_type": "execute_result"
        }
      ],
      "source": [
        "5 * 2 + 3 * 2"
      ]
    },
    {
      "cell_type": "markdown",
      "metadata": {
        "id": "zYt8DcfnGBsU"
      },
      "source": [
        "En Python, los operadores matemáticos siguen reglas de precedencia estándar. En general, las operaciones se realizan en el siguiente orden:\n",
        "\n",
        "1. Paréntesis ()\n",
        "2. Exponenciación (**)\n",
        "3. Multiplicación (*) y División (/)\n",
        "4. Suma (+) y Resta (-)\n",
        "\n",
        "Puedes usar **paréntesis** para cambiar el orden de las operaciones según tus necesidades."
      ]
    },
    {
      "cell_type": "code",
      "execution_count": null,
      "metadata": {
        "colab": {
          "base_uri": "https://localhost:8080/"
        },
        "id": "LZ5BWpeivIFI",
        "outputId": "25b3f535-86cd-42b1-c3a6-44bd05a98eac"
      },
      "outputs": [
        {
          "data": {
            "text/plain": [
              "16"
            ]
          },
          "execution_count": 11,
          "metadata": {},
          "output_type": "execute_result"
        }
      ],
      "source": [
        "(5 * 2) + (3 * 2)"
      ]
    },
    {
      "cell_type": "code",
      "execution_count": null,
      "metadata": {
        "colab": {
          "base_uri": "https://localhost:8080/"
        },
        "id": "Tqwg5Fx7wfzs",
        "outputId": "123db6c7-5091-40f0-d746-edf5a2af3db7"
      },
      "outputs": [
        {
          "data": {
            "text/plain": [
              "50"
            ]
          },
          "execution_count": 12,
          "metadata": {},
          "output_type": "execute_result"
        }
      ],
      "source": [
        "5 * (2 + 3) * 2"
      ]
    },
    {
      "cell_type": "markdown",
      "metadata": {
        "id": "8BJI93CXH2_6"
      },
      "source": [
        "# <h1 style=\"font-size: 18px;\"><strong>4. Variables en Python</strong></h1>"
      ]
    },
    {
      "cell_type": "markdown",
      "metadata": {
        "id": "1BkN2_hfPpaa"
      },
      "source": [
        "**4.1 Concepto, Declaracion y Asiganacion**"
      ]
    },
    {
      "cell_type": "markdown",
      "metadata": {
        "id": "g3kCAUSEJw6z"
      },
      "source": [
        "Una variable en Python es un elemento fundamental que te permite almacenar y manipular datos en tus programas. Le das un nombre significativo y luego puedes asignarle y cambiar valores según tus necesidades en el código. Las variables son esenciales para la programación, ya que permiten trabajar con información de manera dinámica y flexible.\n"
      ]
    },
    {
      "cell_type": "markdown",
      "metadata": {
        "id": "W_PX_PGRHd02"
      },
      "source": [
        "**Reglas y Convenciones para Nombrar Variables**"
      ]
    },
    {
      "cell_type": "markdown",
      "metadata": {
        "id": "_crCHNiqHfb1"
      },
      "source": [
        "1. Los nombres de variables deben comenzar con una letra o un guion bajo (_).\n",
        "\n",
        "2. Evita utilizar palabras reservadas de Python como nombres de variables."
      ]
    },
    {
      "cell_type": "markdown",
      "metadata": {
        "id": "oD4dWhYlx15Z"
      },
      "source": [
        "Altura\n",
        "\n",
        "_peso"
      ]
    },
    {
      "cell_type": "markdown",
      "metadata": {
        "id": "yEnhOIKYx6ZJ"
      },
      "source": [
        "3. El resto del nombre puede contener letras, numeros o simbolos \"_\""
      ]
    },
    {
      "cell_type": "markdown",
      "metadata": {
        "id": "maaR_9YYyFgZ"
      },
      "source": [
        "nombre_de_variable\n",
        "\n",
        "_valor\n",
        "\n",
        "dia_28_11_"
      ]
    },
    {
      "cell_type": "markdown",
      "metadata": {
        "id": "LwwbP6L3yPgs"
      },
      "source": [
        "4. Los nombre son case sensitive. Esto significa que las letras mayúsculas y minúsculas se consideran diferentes y se tratan como identificadores distintos."
      ]
    },
    {
      "cell_type": "markdown",
      "metadata": {
        "id": "yXkBlmfxyPW2"
      },
      "source": [
        "Nombre_De_Variable ≠ nombre_de_variable ≠ NOMBRE_DE_VARIABLE"
      ]
    },
    {
      "cell_type": "markdown",
      "metadata": {
        "id": "0CsM5JVZyPPS"
      },
      "source": [
        "**Declaracion de variables**"
      ]
    },
    {
      "cell_type": "markdown",
      "metadata": {
        "id": "4YSEJU9LHDbg"
      },
      "source": [
        "Para declarar una variable en Python, simplemente elige un nombre para la variable y utiliza el operador de asignación **=** para asignarle un valor. Por ejemplo:"
      ]
    },
    {
      "cell_type": "code",
      "execution_count": null,
      "metadata": {
        "id": "Fk4ZrszaHPLh"
      },
      "outputs": [],
      "source": [
        "nombre = \"Juan\"\n",
        "edad = 30"
      ]
    },
    {
      "cell_type": "code",
      "execution_count": null,
      "metadata": {
        "colab": {
          "base_uri": "https://localhost:8080/",
          "height": 35
        },
        "id": "A5o963rpHTWb",
        "outputId": "8eda0953-dde2-4017-c624-3f91586398b0"
      },
      "outputs": [
        {
          "data": {
            "application/vnd.google.colaboratory.intrinsic+json": {
              "type": "string"
            },
            "text/plain": [
              "'Juan'"
            ]
          },
          "execution_count": 14,
          "metadata": {},
          "output_type": "execute_result"
        }
      ],
      "source": [
        "nombre"
      ]
    },
    {
      "cell_type": "code",
      "execution_count": null,
      "metadata": {
        "colab": {
          "base_uri": "https://localhost:8080/"
        },
        "id": "uLVfJz5FHT0l",
        "outputId": "f56e2dd8-f29c-4df4-e899-ffb3260a5fb3"
      },
      "outputs": [
        {
          "data": {
            "text/plain": [
              "30"
            ]
          },
          "execution_count": 15,
          "metadata": {},
          "output_type": "execute_result"
        }
      ],
      "source": [
        "edad"
      ]
    },
    {
      "cell_type": "markdown",
      "metadata": {
        "id": "YjbdMq8E9MTz"
      },
      "source": [
        "**Declaracion multiple**"
      ]
    },
    {
      "cell_type": "markdown",
      "metadata": {
        "id": "KIagM1ZfKRyg"
      },
      "source": [
        "La declaración múltiple de variables es una característica de Python que te permite declarar varias variables en una sola línea. Esta característica es especialmente útil cuando deseas asignar múltiples valores a múltiples variables en una sola sentencia. Aquí tienes un ejemplo de declaración múltiple:"
      ]
    },
    {
      "cell_type": "code",
      "execution_count": null,
      "metadata": {
        "id": "IPjX1g6w9Xzi"
      },
      "outputs": [],
      "source": [
        "edad, nombre, año_nacimiento = 26, 'Juan', 1991"
      ]
    },
    {
      "cell_type": "code",
      "execution_count": null,
      "metadata": {
        "colab": {
          "base_uri": "https://localhost:8080/"
        },
        "id": "FoCiKA7OLtAt",
        "outputId": "5837f26c-82d3-464d-b3f4-a4f71dd52712"
      },
      "outputs": [
        {
          "data": {
            "text/plain": [
              "26"
            ]
          },
          "execution_count": 17,
          "metadata": {},
          "output_type": "execute_result"
        }
      ],
      "source": [
        "edad"
      ]
    },
    {
      "cell_type": "code",
      "execution_count": null,
      "metadata": {
        "colab": {
          "base_uri": "https://localhost:8080/",
          "height": 35
        },
        "id": "enQN7PL-LstE",
        "outputId": "1966e194-4307-4362-8546-ae0ed5dc750f"
      },
      "outputs": [
        {
          "data": {
            "application/vnd.google.colaboratory.intrinsic+json": {
              "type": "string"
            },
            "text/plain": [
              "'Juan'"
            ]
          },
          "execution_count": 18,
          "metadata": {},
          "output_type": "execute_result"
        }
      ],
      "source": [
        "nombre"
      ]
    },
    {
      "cell_type": "code",
      "execution_count": null,
      "metadata": {
        "colab": {
          "base_uri": "https://localhost:8080/"
        },
        "id": "u49KM6ddLsZl",
        "outputId": "d47afba7-5842-450f-a6d5-e28a14f21f76"
      },
      "outputs": [
        {
          "data": {
            "text/plain": [
              "1991"
            ]
          },
          "execution_count": 19,
          "metadata": {},
          "output_type": "execute_result"
        }
      ],
      "source": [
        "año_nacimiento"
      ]
    },
    {
      "cell_type": "markdown",
      "metadata": {
        "id": "WpvHCHRUIAdB"
      },
      "source": [
        "**Asignación de Valores y Reasignación**"
      ]
    },
    {
      "cell_type": "markdown",
      "metadata": {
        "id": "1XpfhMg2IDtH"
      },
      "source": [
        "Puedes asignar valores a una variable en cualquier momento. La reasignación implica cambiar el valor de una variable existente. Por ejemplo:"
      ]
    },
    {
      "cell_type": "code",
      "execution_count": null,
      "metadata": {
        "id": "iXu-2lnFIIcJ"
      },
      "outputs": [],
      "source": [
        "nombre = \"Ana\"  # Asignación inicial\n",
        "nombre = \"Carlos\"  # Reasignación"
      ]
    },
    {
      "cell_type": "code",
      "execution_count": null,
      "metadata": {
        "colab": {
          "base_uri": "https://localhost:8080/",
          "height": 35
        },
        "id": "p9fQe04DILUW",
        "outputId": "2eefcb52-844d-4bd6-eee6-bd7ae7ec9264"
      },
      "outputs": [
        {
          "data": {
            "application/vnd.google.colaboratory.intrinsic+json": {
              "type": "string"
            },
            "text/plain": [
              "'Carlos'"
            ]
          },
          "execution_count": 21,
          "metadata": {},
          "output_type": "execute_result"
        }
      ],
      "source": [
        "nombre"
      ]
    },
    {
      "cell_type": "markdown",
      "metadata": {
        "id": "Tl4cIpdMyPIQ"
      },
      "source": [
        "**Operadores de asignacion**\n",
        "\n"
      ]
    },
    {
      "cell_type": "markdown",
      "metadata": {
        "id": "FrKRWGlUImLb"
      },
      "source": [
        "Los operadores de asignación en Python desempeñan un papel fundamental al asignar valores a variables, como se ha ejemplificado anteriormente con el símbolo \"=\" (igual). A continuación, se detallan algunos de los operadores de asignación más comunes y se proporcionan ejemplos de su uso:"
      ]
    },
    {
      "cell_type": "markdown",
      "metadata": {
        "id": "bj8C8Ar6Imvl"
      },
      "source": [
        "1. +=\n",
        "2. -=\n",
        "3. *=\n",
        "4. /=\n",
        "5. =\n",
        "6. %=\n",
        "7. //="
      ]
    },
    {
      "cell_type": "markdown",
      "metadata": {
        "id": "7pfc4v7hJLj0"
      },
      "source": [
        "1. **Suma y Asignación (+=):** Este operador suma el valor a la derecha del operador al valor actual de la variable y luego asigna el resultado a la variable."
      ]
    },
    {
      "cell_type": "code",
      "execution_count": null,
      "metadata": {
        "id": "vPvQmJp_G7UM"
      },
      "outputs": [],
      "source": [
        "y = 10\n",
        "y += 3  # Incrementa y en 3 unidades, y se convierte en 13"
      ]
    },
    {
      "cell_type": "code",
      "execution_count": null,
      "metadata": {
        "colab": {
          "base_uri": "https://localhost:8080/"
        },
        "id": "k0NG8ABQHEMr",
        "outputId": "b9ce8cac-260c-4a1b-b6db-a9590979e611"
      },
      "outputs": [
        {
          "data": {
            "text/plain": [
              "13"
            ]
          },
          "execution_count": 23,
          "metadata": {},
          "output_type": "execute_result"
        }
      ],
      "source": [
        "y"
      ]
    },
    {
      "cell_type": "markdown",
      "metadata": {
        "id": "ez98iRbvHMLa"
      },
      "source": [
        "2. **Resta y Asignación (-=):** Este operador resta el valor a la derecha del operador al valor de la variable y luego asigna el resultado a la variable.\n"
      ]
    },
    {
      "cell_type": "code",
      "execution_count": null,
      "metadata": {
        "id": "zx0DwOf8HMty"
      },
      "outputs": [],
      "source": [
        "z = 8\n",
        "z -= 2  # Resta 2 de z, y z se convierte en 6"
      ]
    },
    {
      "cell_type": "code",
      "execution_count": null,
      "metadata": {
        "colab": {
          "base_uri": "https://localhost:8080/"
        },
        "id": "_drEBad6HLwZ",
        "outputId": "4ca9a9ff-9af5-4137-b707-72ba8f80c55f"
      },
      "outputs": [
        {
          "data": {
            "text/plain": [
              "6"
            ]
          },
          "execution_count": 25,
          "metadata": {},
          "output_type": "execute_result"
        }
      ],
      "source": [
        "z"
      ]
    },
    {
      "cell_type": "markdown",
      "metadata": {
        "id": "wk-yzMIHHXvt"
      },
      "source": [
        "3. <strong>Multiplicación y Asignación (*=):</strong> Este operador multiplica el valor de la variable por el valor a la derecha del operador y luego asigna el resultado a la variable.\n",
        "\n"
      ]
    },
    {
      "cell_type": "code",
      "execution_count": null,
      "metadata": {
        "id": "KAwOeEWNHX-_"
      },
      "outputs": [],
      "source": [
        "a = 3\n",
        "a *= 4  # Multiplica a por 4, y a se convierte en 12"
      ]
    },
    {
      "cell_type": "code",
      "execution_count": null,
      "metadata": {
        "colab": {
          "base_uri": "https://localhost:8080/"
        },
        "id": "7dIW59-7HXah",
        "outputId": "5b18d98b-387e-4d7e-9bcd-a9232f4efe98"
      },
      "outputs": [
        {
          "data": {
            "text/plain": [
              "12"
            ]
          },
          "execution_count": 27,
          "metadata": {},
          "output_type": "execute_result"
        }
      ],
      "source": [
        "a"
      ]
    },
    {
      "cell_type": "markdown",
      "metadata": {
        "id": "lptgwa-4HZWs"
      },
      "source": [
        "4. **División y Asignación (/=):** Este operador divide el valor de la variable por el valor a la derecha del operador y luego asigna el resultado a la variable.\n"
      ]
    },
    {
      "cell_type": "code",
      "execution_count": null,
      "metadata": {
        "id": "n3LqHvw8HZ1e"
      },
      "outputs": [],
      "source": [
        "b = 20\n",
        "b /= 5  # Divide b por 5, y b se convierte en 4.0 (resultado de la división en punto flotante)"
      ]
    },
    {
      "cell_type": "code",
      "execution_count": null,
      "metadata": {
        "colab": {
          "base_uri": "https://localhost:8080/"
        },
        "id": "2Uopkm9VHaRT",
        "outputId": "a2e22171-4ffe-4c2d-939b-424cffac88db"
      },
      "outputs": [
        {
          "data": {
            "text/plain": [
              "4.0"
            ]
          },
          "execution_count": 29,
          "metadata": {},
          "output_type": "execute_result"
        }
      ],
      "source": [
        "b"
      ]
    },
    {
      "cell_type": "markdown",
      "metadata": {
        "id": "wqLCj31dHavV"
      },
      "source": [
        "5. **Módulo y Asignación (%=):** Este operador calcula el módulo del valor de la variable con respecto al valor a la derecha del operador y luego asigna el resultado a la variable.\n"
      ]
    },
    {
      "cell_type": "code",
      "execution_count": null,
      "metadata": {
        "id": "f2Zr7nvMHbO-"
      },
      "outputs": [],
      "source": [
        "c = 15\n",
        "c %= 7  # Calcula el módulo de c con respecto a 7, y c se convierte en 1"
      ]
    },
    {
      "cell_type": "code",
      "execution_count": null,
      "metadata": {
        "colab": {
          "base_uri": "https://localhost:8080/"
        },
        "id": "z7NPg9y6HbrH",
        "outputId": "1ede8f0d-9b24-42c8-f12a-746380acc144"
      },
      "outputs": [
        {
          "data": {
            "text/plain": [
              "1"
            ]
          },
          "execution_count": 31,
          "metadata": {},
          "output_type": "execute_result"
        }
      ],
      "source": [
        "c"
      ]
    },
    {
      "cell_type": "markdown",
      "metadata": {
        "id": "3jdPZlU6HzPE"
      },
      "source": [
        "6. <strong>Potencia y Asignación (**=):</strong> Este operador eleva el valor de la variable a la potencia del valor a la derecha del operador y luego asigna el resultado a la variable.\n"
      ]
    },
    {
      "cell_type": "code",
      "execution_count": null,
      "metadata": {
        "id": "r6b5NjRMHzxm"
      },
      "outputs": [],
      "source": [
        "d = 2\n",
        "d **= 3  # Eleva d al cubo, y d se convierte en 8"
      ]
    },
    {
      "cell_type": "code",
      "execution_count": null,
      "metadata": {
        "colab": {
          "base_uri": "https://localhost:8080/"
        },
        "id": "4478D-H6H0O1",
        "outputId": "14bc0b22-0c42-4644-aaba-8e217eeb7605"
      },
      "outputs": [
        {
          "data": {
            "text/plain": [
              "8"
            ]
          },
          "execution_count": 33,
          "metadata": {},
          "output_type": "execute_result"
        }
      ],
      "source": [
        "d"
      ]
    },
    {
      "cell_type": "markdown",
      "metadata": {
        "id": "2frgT0nnH0zm"
      },
      "source": [
        "7. **División Entera y Asignación (//=):** Este operador realiza la división entera del valor de la variable por el valor a la derecha del operador y luego asigna el resultado a la variable.\n"
      ]
    },
    {
      "cell_type": "code",
      "execution_count": null,
      "metadata": {
        "id": "1j0hKF3rH1UU"
      },
      "outputs": [],
      "source": [
        "e = 20\n",
        "e //= 3  # Realiza la división entera de e entre 3, y e se convierte en 6"
      ]
    },
    {
      "cell_type": "code",
      "execution_count": null,
      "metadata": {
        "colab": {
          "base_uri": "https://localhost:8080/"
        },
        "id": "dxKVSuYXH1xB",
        "outputId": "5ab32413-954a-43ce-eee0-044512e73d8d"
      },
      "outputs": [
        {
          "data": {
            "text/plain": [
              "6"
            ]
          },
          "execution_count": 35,
          "metadata": {},
          "output_type": "execute_result"
        }
      ],
      "source": [
        "e"
      ]
    },
    {
      "cell_type": "markdown",
      "metadata": {
        "id": "w3pLg8U8wv1t"
      },
      "source": [
        "**Variable (_)**"
      ]
    },
    {
      "cell_type": "markdown",
      "metadata": {
        "id": "p1Q0g8jYMUmp"
      },
      "source": [
        "En Python, el guion bajo **(_)** es una variable especial que se utiliza a menudo como un marcador o comodín. Algunos de los usos comunes de **_** incluyen:"
      ]
    },
    {
      "cell_type": "markdown",
      "metadata": {
        "id": "__8Uv8GRMald"
      },
      "source": [
        "1. **Ignorar valores:** Puedes utilizar _ para ignorar valores que no necesitas o que no te interesan en un contexto particular. Por ejemplo:"
      ]
    },
    {
      "cell_type": "code",
      "execution_count": null,
      "metadata": {
        "id": "p8uJEUevMbL1"
      },
      "outputs": [],
      "source": [
        "a, _, c = (1, 2, 3) # En este caso nos saltamos el elemento 2"
      ]
    },
    {
      "cell_type": "code",
      "execution_count": null,
      "metadata": {
        "colab": {
          "base_uri": "https://localhost:8080/"
        },
        "id": "gk2iPkVxMlPC",
        "outputId": "0f587b37-8213-4338-d77f-69f41c04e4d7"
      },
      "outputs": [
        {
          "data": {
            "text/plain": [
              "1"
            ]
          },
          "execution_count": 40,
          "metadata": {},
          "output_type": "execute_result"
        }
      ],
      "source": [
        "a"
      ]
    },
    {
      "cell_type": "code",
      "execution_count": null,
      "metadata": {
        "colab": {
          "base_uri": "https://localhost:8080/"
        },
        "id": "f9h5frWUMloy",
        "outputId": "b88a0027-db77-4d97-9cc1-3a45d103c366"
      },
      "outputs": [
        {
          "data": {
            "text/plain": [
              "3"
            ]
          },
          "execution_count": 41,
          "metadata": {},
          "output_type": "execute_result"
        }
      ],
      "source": [
        "c"
      ]
    },
    {
      "cell_type": "markdown",
      "metadata": {
        "id": "pMxuY3_eMcAu"
      },
      "source": [
        "2. **Utilizar como marcador:** A veces, se utiliza _ como un marcador o un recordatorio para resaltar que ciertos valores no son importantes en un fragmento de código. Por ejemplo:"
      ]
    },
    {
      "cell_type": "code",
      "execution_count": null,
      "metadata": {
        "colab": {
          "base_uri": "https://localhost:8080/"
        },
        "id": "Z-DzYGNHMck0",
        "outputId": "4cacd19a-ed23-468b-8d23-cd99d355701b"
      },
      "outputs": [
        {
          "data": {
            "text/plain": [
              "10"
            ]
          },
          "execution_count": 42,
          "metadata": {},
          "output_type": "execute_result"
        }
      ],
      "source": [
        "# Este segundo punto estamos realizando un bucle for, mas adelante lo comprenderas mejor.\n",
        "total = 0\n",
        "for _ in range(10):\n",
        "    total += 1\n",
        "total"
      ]
    },
    {
      "cell_type": "markdown",
      "metadata": {
        "id": "lmdLB5ogM9CD"
      },
      "source": [
        "En este caso, **_** se utiliza para representar la variable de bucle que no se utiliza en el cálculo."
      ]
    },
    {
      "cell_type": "markdown",
      "metadata": {
        "id": "s6AXYEyOMdWy"
      },
      "source": [
        "3. **Como variable temporal:** En algunos casos, _ se utiliza como una variable temporal cuando deseas realizar una operación sin necesariamente almacenar el resultado en una variable. Por ejemplo:"
      ]
    },
    {
      "cell_type": "code",
      "execution_count": null,
      "metadata": {
        "id": "D-EXqTB0OUdx"
      },
      "outputs": [],
      "source": [
        "_ = 1 + 4"
      ]
    },
    {
      "cell_type": "code",
      "execution_count": null,
      "metadata": {
        "colab": {
          "base_uri": "https://localhost:8080/"
        },
        "id": "Qvr3l2s9tN__",
        "outputId": "157cf6b1-947d-496c-d24e-132ee7e4592c"
      },
      "outputs": [
        {
          "data": {
            "text/plain": [
              "5"
            ]
          },
          "execution_count": 44,
          "metadata": {},
          "output_type": "execute_result"
        }
      ],
      "source": [
        "_"
      ]
    },
    {
      "cell_type": "code",
      "execution_count": null,
      "metadata": {
        "colab": {
          "base_uri": "https://localhost:8080/"
        },
        "id": "4K47YjtStg0h",
        "outputId": "425b6d27-93eb-4ff5-fa85-c9f4f77adff2"
      },
      "outputs": [
        {
          "data": {
            "text/plain": [
              "10"
            ]
          },
          "execution_count": 45,
          "metadata": {},
          "output_type": "execute_result"
        }
      ],
      "source": [
        "_ + 5"
      ]
    },
    {
      "cell_type": "markdown",
      "metadata": {
        "id": "jtTjIuekN7hG"
      },
      "source": [
        "Si bien _ es una variable válida en Python, no es una convención estricta y su uso puede variar según el contexto y el estilo de programación. Su significado depende de cómo se utiliza en un fragmento de código específico."
      ]
    },
    {
      "cell_type": "markdown",
      "metadata": {
        "id": "XX-KHjnpuHHK"
      },
      "source": [
        "**4.2. Tipos de variables**"
      ]
    },
    {
      "cell_type": "markdown",
      "metadata": {
        "id": "Ei7WALoUAUBm"
      },
      "source": [
        "\n",
        "\n",
        "Estos son algunos de los tipos de variables más comunes en Python. Cada uno tiene sus propias propiedades y métodos asociados que los hacen adecuados para diferentes tipos de tareas. A medida que progreses en la programación en Python, aprenderás a trabajar con estos tipos de variables y a realizar operaciones específicas con ellos según tus necesidades."
      ]
    },
    {
      "cell_type": "markdown",
      "metadata": {
        "id": "CmqxmcU7uVe_"
      },
      "source": [
        "\n",
        "1. Enteros(int)\n",
        "2. Numero de punto flotante (float)\n",
        "3. Cadena de caracteres (str)\n",
        "4. Booleanos (bool)\n",
        "5. Valor None (None)\n"
      ]
    },
    {
      "cell_type": "markdown",
      "metadata": {
        "id": "Lur40JuLZEkZ"
      },
      "source": [
        "Tambien usamos un funcion integrada de python llamada **type()**, esta funcion nos ayuda a dereminar el tipo de dato que contiene nuestra variable"
      ]
    },
    {
      "cell_type": "markdown",
      "metadata": {
        "id": "GbhryDvgIHQF"
      },
      "source": [
        "**1. Enteros(int)**"
      ]
    },
    {
      "cell_type": "markdown",
      "metadata": {
        "id": "wrLVr6T7I58W"
      },
      "source": [
        "Los números enteros representan valores numéricos sin decimales. Puedes declarar variables enteras de la siguiente manera:"
      ]
    },
    {
      "cell_type": "code",
      "execution_count": null,
      "metadata": {
        "colab": {
          "base_uri": "https://localhost:8080/"
        },
        "id": "ZfyEDLY9IGSG",
        "outputId": "82c40d50-d764-4582-af7b-a94cf6e24c3c"
      },
      "outputs": [
        {
          "data": {
            "text/plain": [
              "5"
            ]
          },
          "execution_count": 46,
          "metadata": {},
          "output_type": "execute_result"
        }
      ],
      "source": [
        "x = 5\n",
        "x"
      ]
    },
    {
      "cell_type": "code",
      "execution_count": null,
      "metadata": {
        "colab": {
          "base_uri": "https://localhost:8080/"
        },
        "id": "QlJJSv1uAhxX",
        "outputId": "b2ec3b60-0e3e-4030-bf90-f8330d857638"
      },
      "outputs": [
        {
          "data": {
            "text/plain": [
              "int"
            ]
          },
          "execution_count": 47,
          "metadata": {},
          "output_type": "execute_result"
        }
      ],
      "source": [
        "type(x)"
      ]
    },
    {
      "cell_type": "markdown",
      "metadata": {
        "id": "3dksikIUIO1v"
      },
      "source": [
        "**Flotantes(float)**"
      ]
    },
    {
      "cell_type": "markdown",
      "metadata": {
        "id": "qSLJvmqQJCS0"
      },
      "source": [
        "Los números de punto flotante son valores numéricos con decimales. Puedes declarar variables de punto flotante de la siguiente manera:"
      ]
    },
    {
      "cell_type": "code",
      "execution_count": null,
      "metadata": {
        "colab": {
          "base_uri": "https://localhost:8080/"
        },
        "id": "aJSFPgROIOZ0",
        "outputId": "f08defef-83d2-4f19-bbe6-a18e1fb64663"
      },
      "outputs": [
        {
          "data": {
            "text/plain": [
              "3.134"
            ]
          },
          "execution_count": 48,
          "metadata": {},
          "output_type": "execute_result"
        }
      ],
      "source": [
        "y = 3.134\n",
        "y"
      ]
    },
    {
      "cell_type": "code",
      "execution_count": null,
      "metadata": {
        "colab": {
          "base_uri": "https://localhost:8080/"
        },
        "id": "UCrcZ0l2ApIa",
        "outputId": "04557f91-73b8-441e-877d-d107cfde7911"
      },
      "outputs": [
        {
          "data": {
            "text/plain": [
              "float"
            ]
          },
          "execution_count": 49,
          "metadata": {},
          "output_type": "execute_result"
        }
      ],
      "source": [
        "type(y)"
      ]
    },
    {
      "cell_type": "markdown",
      "metadata": {
        "id": "WqgDSNWkIVrN"
      },
      "source": [
        "**Cadenas(str)**"
      ]
    },
    {
      "cell_type": "markdown",
      "metadata": {
        "id": "nbk3zneyJI9H"
      },
      "source": [
        "Las cadenas de caracteres son secuencias de caracteres encerradas en comillas (simples o dobles). Puedes declarar variables de cadena de caracteres de la siguiente manera:"
      ]
    },
    {
      "cell_type": "code",
      "execution_count": null,
      "metadata": {
        "colab": {
          "base_uri": "https://localhost:8080/",
          "height": 35
        },
        "id": "TAh54IMQHR70",
        "outputId": "b63bbf72-8d5e-4de6-8789-81f95167e9de"
      },
      "outputs": [
        {
          "data": {
            "application/vnd.google.colaboratory.intrinsic+json": {
              "type": "string"
            },
            "text/plain": [
              "'Juan'"
            ]
          },
          "execution_count": 50,
          "metadata": {},
          "output_type": "execute_result"
        }
      ],
      "source": [
        "nombre = 'Juan'\n",
        "nombre"
      ]
    },
    {
      "cell_type": "code",
      "execution_count": null,
      "metadata": {
        "colab": {
          "base_uri": "https://localhost:8080/"
        },
        "id": "v4SUXE_BAsKK",
        "outputId": "4a6d07c8-654d-4038-869e-b23c8b5b18b0"
      },
      "outputs": [
        {
          "data": {
            "text/plain": [
              "str"
            ]
          },
          "execution_count": 51,
          "metadata": {},
          "output_type": "execute_result"
        }
      ],
      "source": [
        "type(nombre)"
      ]
    },
    {
      "cell_type": "markdown",
      "metadata": {
        "id": "PUI3bUK-K0Et"
      },
      "source": [
        "**Booleanos (bool):**"
      ]
    },
    {
      "cell_type": "markdown",
      "metadata": {
        "id": "DQRtdByiKz4q"
      },
      "source": [
        "Las variables booleanas representan valores de verdad o falsedad. Solo pueden tener dos valores: **True** (verdadero) o **False** (falso). Puedes declarar variables booleanas de la siguiente manera:"
      ]
    },
    {
      "cell_type": "code",
      "execution_count": null,
      "metadata": {
        "colab": {
          "base_uri": "https://localhost:8080/"
        },
        "id": "Da9Bw2zVKlBz",
        "outputId": "8185deac-b7f9-4abd-aea6-9ab9c60fa8a5"
      },
      "outputs": [
        {
          "data": {
            "text/plain": [
              "True"
            ]
          },
          "execution_count": 52,
          "metadata": {},
          "output_type": "execute_result"
        }
      ],
      "source": [
        "es_mayor_de_edad = True\n",
        "es_mayor_de_edad"
      ]
    },
    {
      "cell_type": "code",
      "execution_count": null,
      "metadata": {
        "colab": {
          "base_uri": "https://localhost:8080/"
        },
        "id": "8SzGDsjdBKfM",
        "outputId": "ba1bfea7-476f-4803-9610-e66f02783622"
      },
      "outputs": [
        {
          "data": {
            "text/plain": [
              "bool"
            ]
          },
          "execution_count": 53,
          "metadata": {},
          "output_type": "execute_result"
        }
      ],
      "source": [
        "type(es_mayor_de_edad)"
      ]
    },
    {
      "cell_type": "markdown",
      "metadata": {
        "id": "ELArnvJZLDT8"
      },
      "source": [
        "**Nulos (NoneType):**"
      ]
    },
    {
      "cell_type": "markdown",
      "metadata": {
        "id": "cQyJMa0YLCy2"
      },
      "source": [
        "**None** es un tipo especial en Python que representa la ausencia de un valor. Se utiliza para indicar que una variable no tiene un valor asignado o que una función no devuelve ningún valor. Puedes declarar variables con valor **None** de la siguiente manera:"
      ]
    },
    {
      "cell_type": "code",
      "execution_count": null,
      "metadata": {
        "id": "BZm0PZT0LB6Q"
      },
      "outputs": [],
      "source": [
        "valor = None\n",
        "valor"
      ]
    },
    {
      "cell_type": "code",
      "execution_count": null,
      "metadata": {
        "colab": {
          "base_uri": "https://localhost:8080/"
        },
        "id": "JutTkLOzBPSK",
        "outputId": "9ee4b1da-5124-4a00-d760-0b0c481dd50b"
      },
      "outputs": [
        {
          "data": {
            "text/plain": [
              "NoneType"
            ]
          },
          "execution_count": 55,
          "metadata": {},
          "output_type": "execute_result"
        }
      ],
      "source": [
        "type(valor)"
      ]
    },
    {
      "cell_type": "markdown",
      "metadata": {
        "id": "7VEIJgNq4eba"
      },
      "source": [
        "**4.3 Operaciones con variables**"
      ]
    },
    {
      "cell_type": "markdown",
      "metadata": {
        "id": "A3eji6mH402d"
      },
      "source": [
        "**Ejemplo**: Calcular el **km_promedio** con ayuda de la siguinte ecuacion\n",
        "\n",
        "\n",
        "km(promdeio) = km_total / (Año_actual - Año_fabricacion)"
      ]
    },
    {
      "cell_type": "code",
      "execution_count": null,
      "metadata": {
        "id": "Sie6pKMx4ivp"
      },
      "outputs": [],
      "source": [
        "año_actual = 2023\n",
        "año_fabricacion = 2000\n",
        "km_total = 44410.0"
      ]
    },
    {
      "cell_type": "code",
      "execution_count": null,
      "metadata": {
        "colab": {
          "base_uri": "https://localhost:8080/"
        },
        "id": "DZ8sgxeB4v57",
        "outputId": "ce6ff738-0483-4afb-a2a6-541cce0caaf0"
      },
      "outputs": [
        {
          "data": {
            "text/plain": [
              "2023"
            ]
          },
          "execution_count": 57,
          "metadata": {},
          "output_type": "execute_result"
        }
      ],
      "source": [
        "año_actual"
      ]
    },
    {
      "cell_type": "code",
      "execution_count": null,
      "metadata": {
        "colab": {
          "base_uri": "https://localhost:8080/"
        },
        "id": "IM1uZjwe4vud",
        "outputId": "079f70ab-7a51-4052-ce9f-a49ec1a9542b"
      },
      "outputs": [
        {
          "data": {
            "text/plain": [
              "2000"
            ]
          },
          "execution_count": 58,
          "metadata": {},
          "output_type": "execute_result"
        }
      ],
      "source": [
        "año_fabricacion"
      ]
    },
    {
      "cell_type": "code",
      "execution_count": null,
      "metadata": {
        "colab": {
          "base_uri": "https://localhost:8080/"
        },
        "id": "3-zNfkSQ4vjl",
        "outputId": "e05e4bfe-3219-4349-f8f3-41a75b57d446"
      },
      "outputs": [
        {
          "data": {
            "text/plain": [
              "44410.0"
            ]
          },
          "execution_count": 59,
          "metadata": {},
          "output_type": "execute_result"
        }
      ],
      "source": [
        "km_total"
      ]
    },
    {
      "cell_type": "code",
      "execution_count": null,
      "metadata": {
        "id": "gXzjfeHj4vX-"
      },
      "outputs": [],
      "source": [
        "km_promedio = km_total / (año_actual - año_fabricacion)"
      ]
    },
    {
      "cell_type": "code",
      "execution_count": null,
      "metadata": {
        "colab": {
          "base_uri": "https://localhost:8080/"
        },
        "id": "UlOpXOZB5EDJ",
        "outputId": "77c537a9-81fd-416b-ef9b-2ad34892ec00"
      },
      "outputs": [
        {
          "data": {
            "text/plain": [
              "1930.8695652173913"
            ]
          },
          "execution_count": 61,
          "metadata": {},
          "output_type": "execute_result"
        }
      ],
      "source": [
        "km_promedio"
      ]
    },
    {
      "cell_type": "code",
      "execution_count": null,
      "metadata": {
        "colab": {
          "base_uri": "https://localhost:8080/"
        },
        "id": "d2MO4J105wsV",
        "outputId": "47769a08-9b05-49bf-e7af-e467405eef25"
      },
      "outputs": [
        {
          "data": {
            "text/plain": [
              "46340.86956521739"
            ]
          },
          "execution_count": 62,
          "metadata": {},
          "output_type": "execute_result"
        }
      ],
      "source": [
        "#Declarando variables\n",
        "año_actual = 2023\n",
        "año_fabricacion = 2000\n",
        "km_total = 44410.0\n",
        "\n",
        "#Realizando la operacion\n",
        "km_promedio = km_total / (año_actual - año_fabricacion)\n",
        "\n",
        "'''\n",
        "El simbolo += significa el km_total se va a sumar con el km_promedio\n",
        "y se guardar en la variable km_total\n",
        "km_total = km_total + km_promedio\n",
        "'''\n",
        "\n",
        "km_total += km_promedio\n",
        "km_total"
      ]
    },
    {
      "cell_type": "markdown",
      "metadata": {
        "id": "dP_orw0B87AY"
      },
      "source": [
        "\"valor = valor + 1\" es equivalente a \"**valor += 1**\""
      ]
    },
    {
      "cell_type": "markdown",
      "metadata": {
        "id": "M4_iRqzkknfF"
      },
      "source": [
        "**4.4. Convercion de variables**"
      ]
    },
    {
      "cell_type": "markdown",
      "metadata": {
        "id": "dHbkUB5Ile3q"
      },
      "source": [
        "Convertir una variable se refiere a cambiar su tipo de un tipo a otro. En Python, puedes realizar conversiones de tipo utilizando funciones o constructores de tipos específicos. Esto es útil cuando necesitas adaptar un valor de un tipo a otro para realizar operaciones específicas o trabajar con variables en un formato diferente.\n",
        "\n",
        "**Convertir una variable en Python:**\n",
        "\n",
        "1. Uso de constructores de tipos:\n",
        "Puedes utilizar los constructores de tipos incorporados para convertir varaibles a tipos específicos. Algunos ejemplos comunes incluyen **int(), float(), str(), list(), set(), bool()**, entre otros.\n",
        "\n",
        "2. Funciones de conversión:\n",
        "Python proporciona funciones de conversión específicas como **int(), float(), str(), list(), set(), bool(), tuple(), etc.**, que permiten realizar conversiones de tipo de manera más específica.\n",
        "\n",
        "**Para qué serviría:**\n",
        "\n",
        "1. **Validación de entrada:** Puedes convertir variables ingresados por el usuario a tipos específicos para asegurarte de que cumplan con el formato esperado.\n",
        "\n",
        "2. **Operaciones matemáticas:** A veces, necesitas realizar operaciones matemáticas que requieren que las variables sean del mismo tipo, por lo que debes convertirlos.\n",
        "\n",
        "3. **Interacción con bibliotecas o APIs**: Al trabajar con bibliotecas o APIs externas, es posible que necesites adaptar las variables a los tipos requeridos por esas bibliotecas."
      ]
    },
    {
      "cell_type": "markdown",
      "metadata": {
        "id": "tjPLQf_tl0JE"
      },
      "source": [
        "**Ejemplo:**\n",
        "\n",
        "Supongamos que tienes una entrada de usuario que es una cadena de texto que representa un número, y deseas convertirla a un número entero para realizar una operación matemática. Aquí tienes un ejemplo:"
      ]
    },
    {
      "cell_type": "code",
      "execution_count": null,
      "metadata": {
        "colab": {
          "base_uri": "https://localhost:8080/"
        },
        "id": "oS_S7ktkkm0a",
        "outputId": "0fd1c799-d0b2-461c-c724-ba442826b991"
      },
      "outputs": [
        {
          "name": "stdout",
          "output_type": "stream",
          "text": [
            "Ingrese un número entero: 112\n",
            "El doble del número es: 224\n"
          ]
        }
      ],
      "source": [
        "entrada_usuario = input(\"Ingrese un número entero: \")\n",
        "try:\n",
        "    numero_entero = int(entrada_usuario)\n",
        "    resultado = numero_entero * 2\n",
        "    print(f\"El doble del número es: {resultado}\")\n",
        "except ValueError:\n",
        "    print(\"La entrada no es un número entero válido.\")\n"
      ]
    },
    {
      "cell_type": "markdown",
      "metadata": {
        "id": "BiYXTXpUwF0Q"
      },
      "source": [
        "La función **input()** en Python se utiliza para obtener información del usuario a través del teclado. Permite que el programa espere a que el usuario introduzca datos y presione la tecla \"Enter\". La función **input()** toma una cadena de texto (opcional) como argumento, que se muestra como un mensaje o indicación al usuario."
      ]
    },
    {
      "cell_type": "markdown",
      "metadata": {
        "id": "qMReMBFhl92U"
      },
      "source": [
        "**int(entrada_usuario)** se utiliza para convertir la entrada del usuario en un número entero. Esto se realiza por que al teneri **input** te devuelve un resultado **str**\n",
        "\n",
        "Si el usuario proporciona una entrada válida, se calcula el doble del número y se muestra el resultado. Si la entrada no es un número válido (por ejemplo, si el usuario ingresa una letra en lugar de un número), se maneja la excepción **ValueError** para informar al usuario que la entrada no es válida."
      ]
    },
    {
      "cell_type": "markdown",
      "metadata": {
        "id": "BnHf0yhrmfT6"
      },
      "source": [
        "**Ejemplo:**"
      ]
    },
    {
      "cell_type": "code",
      "execution_count": null,
      "metadata": {
        "colab": {
          "base_uri": "https://localhost:8080/"
        },
        "id": "601TGF4SmcRX",
        "outputId": "27299b46-25c4-4f8e-e68c-efb320b8d4cc"
      },
      "outputs": [
        {
          "name": "stdout",
          "output_type": "stream",
          "text": [
            "<class 'int'> 42\n",
            "<class 'str'> 42\n",
            "<class 'int'> 42\n"
          ]
        }
      ],
      "source": [
        "numero_entero = 42\n",
        "numero_texto = str(numero_entero)  # Convertir el número entero a cadena\n",
        "numero_nuevamente = int(numero_texto)  # Convertir la cadena nuevamente a número entero\n",
        "\n",
        "print(type(numero_entero), numero_entero)\n",
        "print(type(numero_texto), numero_texto)\n",
        "print(type(numero_nuevamente), numero_nuevamente )"
      ]
    },
    {
      "cell_type": "markdown",
      "metadata": {
        "id": "OW1JxAUGnSvq"
      },
      "source": [
        "En este ejemplo, comenzamos con un número entero **42**. Luego, convertimos este número en una cadena de texto utilizando **str(numero_entero)**. Después, convertimos la cadena de texto nuevamente a un número entero utilizando **int(numero_texto).**\n",
        "\n",
        "El resultado final es que **numero_nuevamente** contiene el número entero **42**, pero hemos realizado dos conversiones redundantes entre tipo de datos: primero de entero a cadena y luego de cadena a entero. En la mayoría de los casos, no tendría sentido realizar estas conversiones consecutivas, ya que podríamos trabajar directamente con el número entero original sin necesidad de convertirlo a cadena y luego volver a convertirlo en entero."
      ]
    },
    {
      "cell_type": "markdown",
      "metadata": {
        "id": "CE7V6TqKiKSz"
      },
      "source": [
        "#<h1 style=\"font-size: 18px;\"><strong>5.  Tipo de Datos en Python</strong></h1>"
      ]
    },
    {
      "cell_type": "markdown",
      "metadata": {
        "id": "RhEkZWc_ybJV"
      },
      "source": [
        "**5.1 Tipos de Datos Primitivos**"
      ]
    },
    {
      "cell_type": "markdown",
      "metadata": {
        "id": "HHgxkpghiZZ3"
      },
      "source": [
        "Los tipos de datos primitivos en Python son elementos fundamentales que se utilizan para representar información. A continuación, exploraremos los tipos de datos primitivos más comunes y veremos ejemplos de cómo se utilizan."
      ]
    },
    {
      "cell_type": "markdown",
      "metadata": {
        "id": "f8OVEkFIip-i"
      },
      "source": [
        "**5.1.1 Números Enteros (int)**\n",
        "\n",
        "Los números enteros son valores numéricos sin decimales. Puedes utilizarlos para representar cantidades enteras. Aquí tienes ejemplos:"
      ]
    },
    {
      "cell_type": "code",
      "execution_count": null,
      "metadata": {
        "id": "PJ4m8UHPi_U-"
      },
      "outputs": [],
      "source": [
        "edad = 25\n",
        "numero_negativo = -10"
      ]
    },
    {
      "cell_type": "code",
      "execution_count": null,
      "metadata": {
        "colab": {
          "base_uri": "https://localhost:8080/"
        },
        "id": "k1WPTPh4ymHl",
        "outputId": "a773a1b3-6649-4e6a-dca3-62ce74f928ae"
      },
      "outputs": [
        {
          "data": {
            "text/plain": [
              "int"
            ]
          },
          "execution_count": 66,
          "metadata": {},
          "output_type": "execute_result"
        }
      ],
      "source": [
        "type(edad)"
      ]
    },
    {
      "cell_type": "code",
      "execution_count": null,
      "metadata": {
        "colab": {
          "base_uri": "https://localhost:8080/"
        },
        "id": "Xnz5g8_zypTv",
        "outputId": "cfa493ae-1a57-4b28-9a9f-c39b9da5438c"
      },
      "outputs": [
        {
          "data": {
            "text/plain": [
              "int"
            ]
          },
          "execution_count": 67,
          "metadata": {},
          "output_type": "execute_result"
        }
      ],
      "source": [
        "type(numero_negativo)"
      ]
    },
    {
      "cell_type": "markdown",
      "metadata": {
        "id": "WsV5RxVhywEU"
      },
      "source": [
        "**Operaciones con Números Enteros:**\n",
        "\n",
        "*   Suma (+), Resta (-), Multiplicación (*), División (/)\n",
        "*   Potenciación (**)\n",
        "*   Módulo (%)\n",
        "\n",
        "\n",
        "\n",
        "\n",
        "\n"
      ]
    },
    {
      "cell_type": "markdown",
      "metadata": {
        "id": "wuO5D2dSi_22"
      },
      "source": [
        "**5.1.2. Números de Punto Flotante (float):**\n",
        "\n",
        "Los números de punto flotante son valores numéricos con decimales. Puedes utilizarlos para representar cantidades fraccionarias o números con parte decimal. Aquí tienes ejemplos:"
      ]
    },
    {
      "cell_type": "code",
      "execution_count": null,
      "metadata": {
        "id": "R0xAd1LBjAPl"
      },
      "outputs": [],
      "source": [
        "pi = 3.14159\n",
        "saldo = 1000.50"
      ]
    },
    {
      "cell_type": "code",
      "execution_count": null,
      "metadata": {
        "colab": {
          "base_uri": "https://localhost:8080/"
        },
        "id": "SHMj5SVHzEKf",
        "outputId": "f1a177b3-d51d-4957-b490-0a91123ef123"
      },
      "outputs": [
        {
          "data": {
            "text/plain": [
              "float"
            ]
          },
          "execution_count": 69,
          "metadata": {},
          "output_type": "execute_result"
        }
      ],
      "source": [
        "type(pi)"
      ]
    },
    {
      "cell_type": "code",
      "execution_count": null,
      "metadata": {
        "colab": {
          "base_uri": "https://localhost:8080/"
        },
        "id": "6JyCLlJCzD79",
        "outputId": "9db53409-5249-4c0b-bf90-338e08475ec2"
      },
      "outputs": [
        {
          "data": {
            "text/plain": [
              "float"
            ]
          },
          "execution_count": 70,
          "metadata": {},
          "output_type": "execute_result"
        }
      ],
      "source": [
        "type(saldo)"
      ]
    },
    {
      "cell_type": "markdown",
      "metadata": {
        "id": "w84wzL33zJRJ"
      },
      "source": [
        "**Operaciones con Números de Punto Flotante:**\n",
        "\n",
        "\n",
        "\n",
        "*   Suma (+), Resta (-), Multiplicación (*), División (/)\n",
        "*   Potenciación (**)\n",
        "\n",
        "\n",
        "\n"
      ]
    },
    {
      "cell_type": "markdown",
      "metadata": {
        "id": "cbSKIXBTjAh7"
      },
      "source": [
        "**5.1.3. Cadenas de Caracteres (str)**\n",
        "\n",
        "Las cadenas de caracteres son secuencias de caracteres que se utilizan para representar texto. Pueden estar encerradas en comillas simples ('') o dobles (\"\"). Aquí tienes ejemplos:\n"
      ]
    },
    {
      "cell_type": "code",
      "execution_count": null,
      "metadata": {
        "id": "BoDkMcdCjA5u"
      },
      "outputs": [],
      "source": [
        "nombre = \"Ana\"\n",
        "mensaje = \"Hola, ¿cómo estás?\""
      ]
    },
    {
      "cell_type": "code",
      "execution_count": null,
      "metadata": {
        "colab": {
          "base_uri": "https://localhost:8080/"
        },
        "id": "aUBmcYm4zTYC",
        "outputId": "da827a4c-6652-42d3-9662-f7e1ea1d2c01"
      },
      "outputs": [
        {
          "data": {
            "text/plain": [
              "str"
            ]
          },
          "execution_count": 72,
          "metadata": {},
          "output_type": "execute_result"
        }
      ],
      "source": [
        "type(nombre)"
      ]
    },
    {
      "cell_type": "code",
      "execution_count": null,
      "metadata": {
        "colab": {
          "base_uri": "https://localhost:8080/"
        },
        "id": "2ajbphNizTGl",
        "outputId": "f034813d-a67a-428c-bec6-44a07d6c679d"
      },
      "outputs": [
        {
          "data": {
            "text/plain": [
              "str"
            ]
          },
          "execution_count": 75,
          "metadata": {},
          "output_type": "execute_result"
        }
      ],
      "source": [
        "type(mensaje)"
      ]
    },
    {
      "cell_type": "markdown",
      "metadata": {
        "id": "ItN90ubXzZ1Y"
      },
      "source": [
        "**Operaciones con Cadenas de Caracteres:**\n",
        "\n",
        "\n",
        "\n",
        "*   Concatenación (+): Unión de cadenas\n",
        "*   Indexación y segmentación: Acceso a caracteres individuales o subcadenas\n",
        "*   Métodos de cadena: Transformación y manipulación de cadenas\n",
        "\n",
        "\n",
        "\n",
        "\n",
        "\n",
        "\n"
      ]
    },
    {
      "cell_type": "markdown",
      "metadata": {
        "id": "hhmEACWjjBT1"
      },
      "source": [
        "**5.1.4. Booleanos (bool)**\n",
        "\n",
        "Los valores booleanos representan la verdad (True) o la falsedad (False). Se utilizan en evaluaciones condicionales. Aquí tienes ejemplos:"
      ]
    },
    {
      "cell_type": "code",
      "execution_count": null,
      "metadata": {
        "id": "skjm-ja4jBqX"
      },
      "outputs": [],
      "source": [
        "edad = 18"
      ]
    },
    {
      "cell_type": "code",
      "execution_count": null,
      "metadata": {
        "colab": {
          "base_uri": "https://localhost:8080/"
        },
        "id": "7RA363js_vYT",
        "outputId": "292a671d-752c-4557-8d97-ef3c125128cc"
      },
      "outputs": [
        {
          "data": {
            "text/plain": [
              "True"
            ]
          },
          "execution_count": 77,
          "metadata": {},
          "output_type": "execute_result"
        }
      ],
      "source": [
        "edad >= 18"
      ]
    },
    {
      "cell_type": "code",
      "execution_count": null,
      "metadata": {
        "colab": {
          "base_uri": "https://localhost:8080/"
        },
        "id": "xGb_nsDb_zPJ",
        "outputId": "47a661a3-f1df-4165-e908-e147f6b91066"
      },
      "outputs": [
        {
          "data": {
            "text/plain": [
              "False"
            ]
          },
          "execution_count": 78,
          "metadata": {},
          "output_type": "execute_result"
        }
      ],
      "source": [
        "edad < 18"
      ]
    },
    {
      "cell_type": "code",
      "execution_count": null,
      "metadata": {
        "colab": {
          "base_uri": "https://localhost:8080/"
        },
        "id": "qKTWsL4tzx4u",
        "outputId": "b53b405c-dce6-4215-a3ab-73f4219034f7"
      },
      "outputs": [
        {
          "data": {
            "text/plain": [
              "bool"
            ]
          },
          "execution_count": 79,
          "metadata": {},
          "output_type": "execute_result"
        }
      ],
      "source": [
        "type(edad == 18)"
      ]
    },
    {
      "cell_type": "markdown",
      "metadata": {
        "id": "ZPKy27AEz63c"
      },
      "source": [
        "**Operaciones con Valores Booleanos:**\n",
        "\n",
        "\n",
        "\n",
        "*   Operadores lógicos (and, or, not)\n",
        "*   Comparaciones (==, !=, <, >, <=, >=)\n",
        "\n",
        "\n"
      ]
    },
    {
      "cell_type": "markdown",
      "metadata": {
        "id": "XtfJ_OYg0J7W"
      },
      "source": [
        "**5.2. Estructuras de Datos en Python**"
      ]
    },
    {
      "cell_type": "markdown",
      "metadata": {
        "id": "m_jYJ1fH0X1-"
      },
      "source": [
        "Además de los tipos de datos primitivos, Python ofrece una variedad de estructuras de datos más complejas que permiten organizar y manipular datos de manera eficiente. A continuación, exploraremos algunas de las estructuras de datos más utilizadas:"
      ]
    },
    {
      "cell_type": "markdown",
      "metadata": {
        "id": "5lTVSbjC0gpP"
      },
      "source": [
        "**5.2.1 Listas:**\n",
        "\n",
        "Las listas son colecciones ordenadas de elementos que pueden ser de diferentes tipos. Se definen utilizando corchetes **[ ]** y separando los elementos con comas. Ejemplos:"
      ]
    },
    {
      "cell_type": "code",
      "execution_count": null,
      "metadata": {
        "id": "_syRQStzjlIl"
      },
      "outputs": [],
      "source": [
        "lista_nombres = [\"Juan\", \"Ana\", \"María\"]"
      ]
    },
    {
      "cell_type": "code",
      "execution_count": null,
      "metadata": {
        "colab": {
          "base_uri": "https://localhost:8080/"
        },
        "id": "Mywqq0FJ1SK-",
        "outputId": "b1914e7e-a072-484a-b695-b0b76747ff05"
      },
      "outputs": [
        {
          "data": {
            "text/plain": [
              "['Juan', 'Ana', 'María']"
            ]
          },
          "execution_count": 84,
          "metadata": {},
          "output_type": "execute_result"
        }
      ],
      "source": [
        "lista_nombres"
      ]
    },
    {
      "cell_type": "code",
      "execution_count": null,
      "metadata": {
        "colab": {
          "base_uri": "https://localhost:8080/"
        },
        "id": "8ACDnGNN0p10",
        "outputId": "c5abf110-d90f-44a4-fa34-53bacecf18c7"
      },
      "outputs": [
        {
          "data": {
            "text/plain": [
              "list"
            ]
          },
          "execution_count": 85,
          "metadata": {},
          "output_type": "execute_result"
        }
      ],
      "source": [
        "type(lista_nombres)"
      ]
    },
    {
      "cell_type": "markdown",
      "metadata": {
        "id": "DJfmKifm01oU"
      },
      "source": [
        "**Operaciones con Listas:**\n",
        "\n",
        "* Acceso por índice: **mi_lista[0]** devuelve el primer elemento.\n",
        "\n",
        "* Longitud de la lista: **len(mi_lista)** retorna la cantidad de elementos.\n",
        "\n",
        "* Agregar elementos: **mi_lista.append(6)** agrega un elemento al final.\n",
        "\n",
        "* Eliminar elementos: **mi_lista.remove(3)** elimina el primer 3 de la lista."
      ]
    },
    {
      "cell_type": "markdown",
      "metadata": {
        "id": "Kha3eTXHROsC"
      },
      "source": [
        "**x in A**\n",
        "\n",
        "Devuleve **True** si un elemnto de la lista A si es igual a x"
      ]
    },
    {
      "cell_type": "code",
      "execution_count": null,
      "metadata": {
        "id": "DBnrLd6-RhCz"
      },
      "outputs": [],
      "source": [
        "Accesorios = ['Cerraduras electricas', 'Piloto automatico','Asiento de cuero', 'Aire acondicionado', 'Sensor de estacionamiento', 'Sensor de lluvia']"
      ]
    },
    {
      "cell_type": "code",
      "execution_count": null,
      "metadata": {
        "colab": {
          "base_uri": "https://localhost:8080/"
        },
        "id": "fV5SvjnsShgy",
        "outputId": "3a72ac09-7f93-4c8d-998b-7d6c4ed8839f"
      },
      "outputs": [
        {
          "data": {
            "text/plain": [
              "['Cerraduras electricas',\n",
              " 'Piloto automatico',\n",
              " 'Asiento de cuero',\n",
              " 'Aire acondicionado',\n",
              " 'Sensor de estacionamiento',\n",
              " 'Sensor de lluvia']"
            ]
          },
          "execution_count": 87,
          "metadata": {},
          "output_type": "execute_result"
        }
      ],
      "source": [
        "Accesorios"
      ]
    },
    {
      "cell_type": "code",
      "execution_count": null,
      "metadata": {
        "colab": {
          "base_uri": "https://localhost:8080/"
        },
        "id": "PUrxvNYeShPE",
        "outputId": "dd140772-4b7c-4390-be31-c01d9935d1d6"
      },
      "outputs": [
        {
          "data": {
            "text/plain": [
              "True"
            ]
          },
          "execution_count": 88,
          "metadata": {},
          "output_type": "execute_result"
        }
      ],
      "source": [
        "#Cerradura electrica se encuentra dentro de las lista Accesorios\n",
        "'Cerraduras electricas' in Accesorios"
      ]
    },
    {
      "cell_type": "code",
      "execution_count": null,
      "metadata": {
        "colab": {
          "base_uri": "https://localhost:8080/"
        },
        "id": "DN1NoT9pShCj",
        "outputId": "f8aea3f4-1894-4b54-d1f3-e634da9c8a62"
      },
      "outputs": [
        {
          "data": {
            "text/plain": [
              "False"
            ]
          },
          "execution_count": 89,
          "metadata": {},
          "output_type": "execute_result"
        }
      ],
      "source": [
        "#4 X 4 se encuentra dentro de las lista Accesorios\n",
        "'4 X 4' in Accesorios"
      ]
    },
    {
      "cell_type": "code",
      "execution_count": null,
      "metadata": {
        "colab": {
          "base_uri": "https://localhost:8080/"
        },
        "id": "kElMaDDXSguy",
        "outputId": "4a5c3232-6d65-4e9f-8253-96d7d594a66e"
      },
      "outputs": [
        {
          "data": {
            "text/plain": [
              "False"
            ]
          },
          "execution_count": 90,
          "metadata": {},
          "output_type": "execute_result"
        }
      ],
      "source": [
        "#Cerradura electrica se encuentra dentro de las lista Accesorios\n",
        "'Cerraduras electricas' not in Accesorios\n",
        "# El resultado sera FALSE por que si se encuentra"
      ]
    },
    {
      "cell_type": "code",
      "execution_count": null,
      "metadata": {
        "colab": {
          "base_uri": "https://localhost:8080/"
        },
        "id": "HcxbxphrTXYR",
        "outputId": "14717a12-d4da-4f0d-c1a1-ed1410f8805f"
      },
      "outputs": [
        {
          "data": {
            "text/plain": [
              "True"
            ]
          },
          "execution_count": 91,
          "metadata": {},
          "output_type": "execute_result"
        }
      ],
      "source": [
        "#4 X 4 no se encuentra dentro de las lista Accesorios\n",
        "'4 X 4' not in Accesorios\n",
        "# El resultado sera TRUE por que no se encuentra"
      ]
    },
    {
      "cell_type": "markdown",
      "metadata": {
        "id": "asUa1wSORf_f"
      },
      "source": [
        "**A + B**\n",
        "\n",
        "Concatena las listas A y B"
      ]
    },
    {
      "cell_type": "code",
      "execution_count": null,
      "metadata": {
        "id": "HD77sekrVDdQ"
      },
      "outputs": [],
      "source": [
        "A = ['Cerraduras electricas','Piloto automatico','Asiento de cuero']\n",
        "B = ['Aire acondicionado', 'Sensor de estacionamiento', 'Sensor de lluvia']"
      ]
    },
    {
      "cell_type": "code",
      "execution_count": null,
      "metadata": {
        "id": "H12JD2I-YaIz"
      },
      "outputs": [],
      "source": [
        "Accesorios = A + B"
      ]
    },
    {
      "cell_type": "code",
      "execution_count": null,
      "metadata": {
        "colab": {
          "base_uri": "https://localhost:8080/"
        },
        "id": "vRCVYD39YZ8N",
        "outputId": "47d54fe8-2880-4750-f561-f3b63056d1e8"
      },
      "outputs": [
        {
          "data": {
            "text/plain": [
              "['Cerraduras electricas',\n",
              " 'Piloto automatico',\n",
              " 'Asiento de cuero',\n",
              " 'Aire acondicionado',\n",
              " 'Sensor de estacionamiento',\n",
              " 'Sensor de lluvia']"
            ]
          },
          "execution_count": 94,
          "metadata": {},
          "output_type": "execute_result"
        }
      ],
      "source": [
        "Accesorios"
      ]
    },
    {
      "cell_type": "markdown",
      "metadata": {
        "id": "1FJBXLrbZNiM"
      },
      "source": [
        "**len(A)**\n",
        "\n",
        "Tamaño de la lista"
      ]
    },
    {
      "cell_type": "code",
      "execution_count": null,
      "metadata": {
        "colab": {
          "base_uri": "https://localhost:8080/"
        },
        "id": "QPs4rqVZZONw",
        "outputId": "d9cbb0ff-d55e-4a47-bab5-598e10b43d09"
      },
      "outputs": [
        {
          "data": {
            "text/plain": [
              "6"
            ]
          },
          "execution_count": 95,
          "metadata": {},
          "output_type": "execute_result"
        }
      ],
      "source": [
        "len(Accesorios)"
      ]
    },
    {
      "cell_type": "markdown",
      "metadata": {
        "id": "QPf4btQmO6qT"
      },
      "source": [
        "**Seleccion de listas**"
      ]
    },
    {
      "cell_type": "markdown",
      "metadata": {
        "id": "-wJ2Ln5pZmIj"
      },
      "source": [
        "**A[n]**\n",
        "\n",
        "Devuelve el n-esimo objeto de la lista\n",
        "**Observacion:** Las lista tiene **indexacion** con inicio en cero"
      ]
    },
    {
      "cell_type": "markdown",
      "metadata": {
        "id": "KYXcGM5o1Bn7"
      },
      "source": [
        "Para acceder a los datos de una lista usamos algo llamado **indices** que identificara la poscicion de nuestros datos"
      ]
    },
    {
      "cell_type": "code",
      "execution_count": null,
      "metadata": {
        "colab": {
          "base_uri": "https://localhost:8080/"
        },
        "id": "sOymxnuqZ28H",
        "outputId": "7aaa876c-9097-45b4-a112-eab12581f3af"
      },
      "outputs": [
        {
          "data": {
            "text/plain": [
              "['Cerraduras electricas',\n",
              " 'Piloto automatico',\n",
              " 'Asiento de cuero',\n",
              " 'Aire acondicionado',\n",
              " 'Sensor de estacionamiento',\n",
              " 'Sensor de lluvia']"
            ]
          },
          "execution_count": 96,
          "metadata": {},
          "output_type": "execute_result"
        }
      ],
      "source": [
        "Accesorios"
      ]
    },
    {
      "cell_type": "code",
      "execution_count": null,
      "metadata": {
        "colab": {
          "base_uri": "https://localhost:8080/",
          "height": 35
        },
        "id": "XYUiijf11aXH",
        "outputId": "5fb37af1-d217-4f35-f9e9-333df5a1e2f9"
      },
      "outputs": [
        {
          "data": {
            "application/vnd.google.colaboratory.intrinsic+json": {
              "type": "string"
            },
            "text/plain": [
              "'Asiento de cuero'"
            ]
          },
          "execution_count": 97,
          "metadata": {},
          "output_type": "execute_result"
        }
      ],
      "source": [
        "Accesorios[2]"
      ]
    },
    {
      "cell_type": "markdown",
      "metadata": {
        "id": "YjX5lW741g9p"
      },
      "source": [
        "En python y tambien en otros lenguajes de programacion el primer valor o posicion se le conoce como **la posicion 0**, por lo que en el ejemplo anterior al llamar a la posicion **2** en realidad estamos llamando a la posicion **3**"
      ]
    },
    {
      "cell_type": "code",
      "execution_count": null,
      "metadata": {
        "id": "P2hmjqsP1-ny"
      },
      "outputs": [],
      "source": [
        "#             0                     1                   2                   3                        4                        5\n",
        "#[['Cerraduras electricas','Piloto automatico','Asiento de cuero', 'Aire acondicionado', 'Sensor de estacionamiento', 'Sensor de lluvia']"
      ]
    },
    {
      "cell_type": "markdown",
      "metadata": {
        "id": "G4nx0d4I4QrB"
      },
      "source": [
        "Python tambien nos permite llamar a los indices de manera negiva por ejemplo:"
      ]
    },
    {
      "cell_type": "code",
      "execution_count": null,
      "metadata": {
        "id": "iq6R5s5c4mQU"
      },
      "outputs": [],
      "source": [
        "#             0                     -5                 -4                   -3                      -2                       -1\n",
        "#[['Cerraduras electricas','Piloto automatico','Asiento de cuero', 'Aire acondicionado', 'Sensor de estacionamiento', 'Sensor de lluvia']"
      ]
    },
    {
      "cell_type": "code",
      "execution_count": null,
      "metadata": {
        "colab": {
          "base_uri": "https://localhost:8080/",
          "height": 35
        },
        "id": "oO9Orb1q4b01",
        "outputId": "7d09db5e-f2e8-4e01-c441-2cb3b40b8f64"
      },
      "outputs": [
        {
          "data": {
            "application/vnd.google.colaboratory.intrinsic+json": {
              "type": "string"
            },
            "text/plain": [
              "'Sensor de lluvia'"
            ]
          },
          "execution_count": 100,
          "metadata": {},
          "output_type": "execute_result"
        }
      ],
      "source": [
        "Accesorios[-1]"
      ]
    },
    {
      "cell_type": "markdown",
      "metadata": {
        "id": "a8YTq5h0MlPd"
      },
      "source": [
        "**A[i:j]**\n",
        "\n",
        "Recorta la lista A desde el indice i hasta j. En este recorte el elemento con indice **i es incluido** y el elemno **j no es incluido** en el resultado"
      ]
    },
    {
      "cell_type": "markdown",
      "metadata": {
        "id": "yDvGluOD2TkK"
      },
      "source": [
        "\n",
        "Ha esto se le llama **slicing**, un slice es un pedazo, una porción, estamos partiendo nuestro conjunto de datos de nuestra lista y extrayendo algunos valores que deseamos."
      ]
    },
    {
      "cell_type": "code",
      "execution_count": null,
      "metadata": {
        "colab": {
          "base_uri": "https://localhost:8080/"
        },
        "id": "08bjlIGlaghH",
        "outputId": "5d3655c6-392b-43d4-ebb0-0956d4bc5fdf"
      },
      "outputs": [
        {
          "data": {
            "text/plain": [
              "['Cerraduras electricas',\n",
              " 'Piloto automatico',\n",
              " 'Asiento de cuero',\n",
              " 'Aire acondicionado',\n",
              " 'Sensor de estacionamiento',\n",
              " 'Sensor de lluvia']"
            ]
          },
          "execution_count": 101,
          "metadata": {},
          "output_type": "execute_result"
        }
      ],
      "source": [
        "Accesorios"
      ]
    },
    {
      "cell_type": "code",
      "execution_count": null,
      "metadata": {
        "colab": {
          "base_uri": "https://localhost:8080/"
        },
        "id": "Va4gGFb824Xf",
        "outputId": "b2353399-850f-47c4-baab-935e5ac38e26"
      },
      "outputs": [
        {
          "data": {
            "text/plain": [
              "['Cerraduras electricas', 'Piloto automatico']"
            ]
          },
          "execution_count": 102,
          "metadata": {},
          "output_type": "execute_result"
        }
      ],
      "source": [
        "Accesorios[0:2]"
      ]
    },
    {
      "cell_type": "markdown",
      "metadata": {
        "id": "Ef3qfnsk3EUq"
      },
      "source": [
        " Me devuelve solo **'Cerraduras electricas'** y **'Piloto automatico'** porque en slicing existe una característica particular de Python que la última posición que estoy declarando es excluyente. ¿Qué quiere decir? Que no me va a incluir la posicion donde se encuentra el  **Asiento de cuero** en nuestra variable."
      ]
    },
    {
      "cell_type": "markdown",
      "metadata": {
        "id": "bv9BmE2K3iyd"
      },
      "source": [
        " Para ello, necesitamos, las tres primeras posiciones, necesito pasarle del **0 al 3**, solo que ya sé que el 3 no me lo va a incluir, entonces, me va a devolver los tres primeros valores, y aquí tenemos **0, 1 y 2**, del **0 al 3**."
      ]
    },
    {
      "cell_type": "code",
      "execution_count": null,
      "metadata": {
        "colab": {
          "base_uri": "https://localhost:8080/"
        },
        "id": "rpgMgdcb3AX3",
        "outputId": "524a74b5-af76-4cfb-fb6e-f990440e5999"
      },
      "outputs": [
        {
          "data": {
            "text/plain": [
              "['Cerraduras electricas', 'Piloto automatico', 'Asiento de cuero']"
            ]
          },
          "execution_count": 103,
          "metadata": {},
          "output_type": "execute_result"
        }
      ],
      "source": [
        "Accesorios[0:3]"
      ]
    },
    {
      "cell_type": "markdown",
      "metadata": {
        "id": "voNFdS-539bl"
      },
      "source": [
        "Para llamar a todos lo valores de nuestra lista existen 2 formas"
      ]
    },
    {
      "cell_type": "code",
      "execution_count": null,
      "metadata": {
        "colab": {
          "base_uri": "https://localhost:8080/"
        },
        "id": "Os-jJcgg366A",
        "outputId": "6d0b88a4-7be0-412e-8989-e17a6d7df887"
      },
      "outputs": [
        {
          "data": {
            "text/plain": [
              "['Cerraduras electricas',\n",
              " 'Piloto automatico',\n",
              " 'Asiento de cuero',\n",
              " 'Aire acondicionado',\n",
              " 'Sensor de estacionamiento',\n",
              " 'Sensor de lluvia']"
            ]
          },
          "execution_count": 104,
          "metadata": {},
          "output_type": "execute_result"
        }
      ],
      "source": [
        "Accesorios"
      ]
    },
    {
      "cell_type": "code",
      "execution_count": null,
      "metadata": {
        "colab": {
          "base_uri": "https://localhost:8080/"
        },
        "id": "6YTrnRzq4Ecc",
        "outputId": "71c312e3-f2aa-48b2-ddf5-0771a404072b"
      },
      "outputs": [
        {
          "data": {
            "text/plain": [
              "['Cerraduras electricas',\n",
              " 'Piloto automatico',\n",
              " 'Asiento de cuero',\n",
              " 'Aire acondicionado',\n",
              " 'Sensor de estacionamiento',\n",
              " 'Sensor de lluvia']"
            ]
          },
          "execution_count": 105,
          "metadata": {},
          "output_type": "execute_result"
        }
      ],
      "source": [
        "Accesorios[:]"
      ]
    },
    {
      "cell_type": "markdown",
      "metadata": {
        "id": "buqQ2pOEBDll"
      },
      "source": [
        "Por ultimo, las lista pueden contener difrentes tipos de datos incluyendo una misma lista"
      ]
    },
    {
      "cell_type": "code",
      "execution_count": null,
      "metadata": {
        "id": "bgKyVhkGE5Vl"
      },
      "outputs": [],
      "source": [
        "carros = ['Jetta Variant', 'Motor 4.0 Turbo', 2003, 44410.0, False, ['Cerraduras electricas', 'Piloto automatico'], 88078.64]"
      ]
    },
    {
      "cell_type": "code",
      "execution_count": null,
      "metadata": {
        "colab": {
          "base_uri": "https://localhost:8080/"
        },
        "id": "yUrObJH5fzR2",
        "outputId": "31884fac-4a5f-443e-b459-7d78af5d2076"
      },
      "outputs": [
        {
          "data": {
            "text/plain": [
              "['Jetta Variant',\n",
              " 'Motor 4.0 Turbo',\n",
              " 2003,\n",
              " 44410.0,\n",
              " False,\n",
              " ['Cerraduras electricas', 'Piloto automatico'],\n",
              " 88078.64]"
            ]
          },
          "execution_count": 107,
          "metadata": {},
          "output_type": "execute_result"
        }
      ],
      "source": [
        "carros"
      ]
    },
    {
      "cell_type": "code",
      "execution_count": null,
      "metadata": {
        "colab": {
          "base_uri": "https://localhost:8080/"
        },
        "id": "ID3ugQtWf4xE",
        "outputId": "dd65a355-9e27-4d58-ef2b-0f0fd165c729"
      },
      "outputs": [
        {
          "data": {
            "text/plain": [
              "['Cerraduras electricas', 'Piloto automatico']"
            ]
          },
          "execution_count": 108,
          "metadata": {},
          "output_type": "execute_result"
        }
      ],
      "source": [
        "carros[5]"
      ]
    },
    {
      "cell_type": "markdown",
      "metadata": {
        "id": "-XWn5I3GN2ES"
      },
      "source": [
        "**Obteniedo los datos de una lista dentro de otra lista**"
      ]
    },
    {
      "cell_type": "code",
      "execution_count": null,
      "metadata": {
        "colab": {
          "base_uri": "https://localhost:8080/"
        },
        "id": "32FA1dLha1S6",
        "outputId": "a591498f-bb50-448e-b8a1-02ba032966c1"
      },
      "outputs": [
        {
          "data": {
            "text/plain": [
              "['Jetta Variant',\n",
              " 'Motor 4.0 Turbo',\n",
              " 2003,\n",
              " 44410.0,\n",
              " False,\n",
              " ['Cerraduras electricas', 'Piloto automatico'],\n",
              " 88078.64]"
            ]
          },
          "execution_count": 109,
          "metadata": {},
          "output_type": "execute_result"
        }
      ],
      "source": [
        "carros"
      ]
    },
    {
      "cell_type": "code",
      "execution_count": null,
      "metadata": {
        "colab": {
          "base_uri": "https://localhost:8080/",
          "height": 35
        },
        "id": "PYfF4s9jf4fb",
        "outputId": "f987f50d-6020-4178-9b3d-91823d97b0bf"
      },
      "outputs": [
        {
          "data": {
            "application/vnd.google.colaboratory.intrinsic+json": {
              "type": "string"
            },
            "text/plain": [
              "'Cerraduras electricas'"
            ]
          },
          "execution_count": 110,
          "metadata": {},
          "output_type": "execute_result"
        }
      ],
      "source": [
        "carros[5][0]"
      ]
    },
    {
      "cell_type": "code",
      "execution_count": null,
      "metadata": {
        "colab": {
          "base_uri": "https://localhost:8080/",
          "height": 35
        },
        "id": "pUHwnYEQf4Lq",
        "outputId": "0eefca43-8bc4-4c1c-c793-ebebfe2faef6"
      },
      "outputs": [
        {
          "data": {
            "application/vnd.google.colaboratory.intrinsic+json": {
              "type": "string"
            },
            "text/plain": [
              "'Piloto automatico'"
            ]
          },
          "execution_count": 111,
          "metadata": {},
          "output_type": "execute_result"
        }
      ],
      "source": [
        "carros[5][1]"
      ]
    },
    {
      "cell_type": "code",
      "execution_count": null,
      "metadata": {
        "colab": {
          "base_uri": "https://localhost:8080/",
          "height": 35
        },
        "id": "mPaFjFJi7IFs",
        "outputId": "c9f88970-4098-48e1-e8e7-f0157804fbfa"
      },
      "outputs": [
        {
          "data": {
            "application/vnd.google.colaboratory.intrinsic+json": {
              "type": "string"
            },
            "text/plain": [
              "'Piloto automatico'"
            ]
          },
          "execution_count": 112,
          "metadata": {},
          "output_type": "execute_result"
        }
      ],
      "source": [
        "carros[5][-1]"
      ]
    },
    {
      "cell_type": "markdown",
      "metadata": {
        "id": "G2FFR22gQua3"
      },
      "source": [
        "**Sobre listas de Python:**\n",
        "\n",
        "1. Listas son secuencias mutables, que son utilizadas para guardar colecciones de elementos\n",
        "\n",
        "2. Es posible guardar diferentes tipos de datos en una misma lista de Python\n",
        "\n",
        "3. Es posible crear listas dentro de otras listas"
      ]
    },
    {
      "cell_type": "markdown",
      "metadata": {
        "id": "dtg5abXpOgNo"
      },
      "source": [
        "**Metodos en listas**"
      ]
    },
    {
      "cell_type": "markdown",
      "metadata": {
        "id": "xnZAwLcDPLrB"
      },
      "source": [
        "**A.sort()**\n",
        "\n",
        "Ordena la lista A"
      ]
    },
    {
      "cell_type": "code",
      "execution_count": null,
      "metadata": {
        "colab": {
          "base_uri": "https://localhost:8080/"
        },
        "id": "mv_aAEsyPbyK",
        "outputId": "0000c2d0-2ca0-4fe4-ad4b-47d90dfeddaa"
      },
      "outputs": [
        {
          "data": {
            "text/plain": [
              "['Cerraduras electricas',\n",
              " 'Piloto automatico',\n",
              " 'Asiento de cuero',\n",
              " 'Aire acondicionado',\n",
              " 'Sensor de estacionamiento',\n",
              " 'Sensor de lluvia']"
            ]
          },
          "execution_count": 113,
          "metadata": {},
          "output_type": "execute_result"
        }
      ],
      "source": [
        "Accesorios"
      ]
    },
    {
      "cell_type": "code",
      "execution_count": null,
      "metadata": {
        "colab": {
          "base_uri": "https://localhost:8080/"
        },
        "id": "oZQOlx0QP3uJ",
        "outputId": "007dee89-bf97-472a-a1cd-303c94f279ef"
      },
      "outputs": [
        {
          "data": {
            "text/plain": [
              "['Aire acondicionado',\n",
              " 'Asiento de cuero',\n",
              " 'Cerraduras electricas',\n",
              " 'Piloto automatico',\n",
              " 'Sensor de estacionamiento',\n",
              " 'Sensor de lluvia']"
            ]
          },
          "execution_count": 114,
          "metadata": {},
          "output_type": "execute_result"
        }
      ],
      "source": [
        "Accesorios.sort()\n",
        "Accesorios"
      ]
    },
    {
      "cell_type": "markdown",
      "metadata": {
        "id": "xQAXgvSDPq0j"
      },
      "source": [
        "**A. append(x)**\n",
        "\n",
        "Añade el elmento x al final de la lista A"
      ]
    },
    {
      "cell_type": "code",
      "execution_count": null,
      "metadata": {
        "colab": {
          "base_uri": "https://localhost:8080/"
        },
        "id": "R1e2IACqPrVR",
        "outputId": "d849bcc8-7d8d-4871-fcc5-10e20b487905"
      },
      "outputs": [
        {
          "data": {
            "text/plain": [
              "['Aire acondicionado',\n",
              " 'Asiento de cuero',\n",
              " 'Cerraduras electricas',\n",
              " 'Piloto automatico',\n",
              " 'Sensor de estacionamiento',\n",
              " 'Sensor de lluvia',\n",
              " '4 x 4']"
            ]
          },
          "execution_count": 115,
          "metadata": {},
          "output_type": "execute_result"
        }
      ],
      "source": [
        "Accesorios.append('4 x 4')\n",
        "Accesorios"
      ]
    },
    {
      "cell_type": "markdown",
      "metadata": {
        "id": "Epg7vogyQNQF"
      },
      "source": [
        "**A.pop(i)**\n",
        "\n",
        "Elimina y devuelve el elemento de indice i de la lista A.\n",
        "\n",
        "**Observacion:** Por defecto el metodo **pop()** elimina y devuelve el ultimo elemento de una lista"
      ]
    },
    {
      "cell_type": "code",
      "execution_count": null,
      "metadata": {
        "colab": {
          "base_uri": "https://localhost:8080/",
          "height": 35
        },
        "id": "4ZA9UH4OQNyj",
        "outputId": "16c4fbfc-cc61-4991-b6dc-2a7ad0d645a5"
      },
      "outputs": [
        {
          "data": {
            "application/vnd.google.colaboratory.intrinsic+json": {
              "type": "string"
            },
            "text/plain": [
              "'4 x 4'"
            ]
          },
          "execution_count": 116,
          "metadata": {},
          "output_type": "execute_result"
        }
      ],
      "source": [
        "Accesorios.pop()"
      ]
    },
    {
      "cell_type": "code",
      "execution_count": null,
      "metadata": {
        "colab": {
          "base_uri": "https://localhost:8080/"
        },
        "id": "iAf7NlpNSbCD",
        "outputId": "3f6fa3dc-c09a-455f-bde1-33263a16e9d5"
      },
      "outputs": [
        {
          "data": {
            "text/plain": [
              "['Aire acondicionado',\n",
              " 'Asiento de cuero',\n",
              " 'Cerraduras electricas',\n",
              " 'Piloto automatico',\n",
              " 'Sensor de estacionamiento',\n",
              " 'Sensor de lluvia']"
            ]
          },
          "execution_count": 117,
          "metadata": {},
          "output_type": "execute_result"
        }
      ],
      "source": [
        "Accesorios"
      ]
    },
    {
      "cell_type": "code",
      "execution_count": null,
      "metadata": {
        "colab": {
          "base_uri": "https://localhost:8080/",
          "height": 35
        },
        "id": "DzTdBvvsQ1gJ",
        "outputId": "c3a96dcd-0d2c-45b8-aacf-c7adcfa0882a"
      },
      "outputs": [
        {
          "data": {
            "application/vnd.google.colaboratory.intrinsic+json": {
              "type": "string"
            },
            "text/plain": [
              "'Piloto automatico'"
            ]
          },
          "execution_count": 118,
          "metadata": {},
          "output_type": "execute_result"
        }
      ],
      "source": [
        "Accesorios.pop(3)"
      ]
    },
    {
      "cell_type": "code",
      "execution_count": null,
      "metadata": {
        "colab": {
          "base_uri": "https://localhost:8080/"
        },
        "id": "fntO6dL5Q-LC",
        "outputId": "9f0cd745-ad1a-4a2d-c60c-6cda9174b387"
      },
      "outputs": [
        {
          "data": {
            "text/plain": [
              "['Aire acondicionado',\n",
              " 'Asiento de cuero',\n",
              " 'Cerraduras electricas',\n",
              " 'Sensor de estacionamiento',\n",
              " 'Sensor de lluvia']"
            ]
          },
          "execution_count": 119,
          "metadata": {},
          "output_type": "execute_result"
        }
      ],
      "source": [
        "Accesorios"
      ]
    },
    {
      "cell_type": "markdown",
      "metadata": {
        "id": "vy1SCZNGRAKU"
      },
      "source": [
        "**A.copy()**\n",
        "\n",
        "Crea una copia de la lista A.\n",
        "\n",
        "\n"
      ]
    },
    {
      "cell_type": "code",
      "execution_count": null,
      "metadata": {
        "id": "v22ZjY8lRPW4"
      },
      "outputs": [],
      "source": [
        "Accesorios_2 = Accesorios.copy()"
      ]
    },
    {
      "cell_type": "code",
      "execution_count": null,
      "metadata": {
        "colab": {
          "base_uri": "https://localhost:8080/"
        },
        "id": "6V6wrOZqSmXs",
        "outputId": "c7cad22f-cf0c-4f67-f96d-5d1cc5b3ba10"
      },
      "outputs": [
        {
          "data": {
            "text/plain": [
              "['Aire acondicionado',\n",
              " 'Asiento de cuero',\n",
              " 'Cerraduras electricas',\n",
              " 'Sensor de estacionamiento',\n",
              " 'Sensor de lluvia']"
            ]
          },
          "execution_count": 121,
          "metadata": {},
          "output_type": "execute_result"
        }
      ],
      "source": [
        "Accesorios"
      ]
    },
    {
      "cell_type": "code",
      "execution_count": null,
      "metadata": {
        "colab": {
          "base_uri": "https://localhost:8080/"
        },
        "id": "m9WfNnzHSsQf",
        "outputId": "bca3083e-7ad8-4a82-f46b-15a2399c48bc"
      },
      "outputs": [
        {
          "data": {
            "text/plain": [
              "['Aire acondicionado',\n",
              " 'Asiento de cuero',\n",
              " 'Cerraduras electricas',\n",
              " 'Sensor de estacionamiento',\n",
              " 'Sensor de lluvia']"
            ]
          },
          "execution_count": 122,
          "metadata": {},
          "output_type": "execute_result"
        }
      ],
      "source": [
        "Accesorios_2"
      ]
    },
    {
      "cell_type": "code",
      "execution_count": null,
      "metadata": {
        "colab": {
          "base_uri": "https://localhost:8080/"
        },
        "id": "iWwqE_BQSydz",
        "outputId": "61e4cf91-b114-41d1-e37e-2bc970b74bf9"
      },
      "outputs": [
        {
          "data": {
            "text/plain": [
              "['Aire acondicionado',\n",
              " 'Asiento de cuero',\n",
              " 'Cerraduras electricas',\n",
              " 'Sensor de estacionamiento',\n",
              " 'Sensor de lluvia',\n",
              " '4 X 4']"
            ]
          },
          "execution_count": 123,
          "metadata": {},
          "output_type": "execute_result"
        }
      ],
      "source": [
        "Accesorios_2.append('4 X 4')\n",
        "Accesorios_2"
      ]
    },
    {
      "cell_type": "code",
      "execution_count": null,
      "metadata": {
        "colab": {
          "base_uri": "https://localhost:8080/"
        },
        "id": "q3lkOl-nTBsT",
        "outputId": "3d7e0b3a-7934-43e6-ca0b-95a02299b25a"
      },
      "outputs": [
        {
          "data": {
            "text/plain": [
              "['Aire acondicionado',\n",
              " 'Asiento de cuero',\n",
              " 'Cerraduras electricas',\n",
              " 'Sensor de estacionamiento',\n",
              " 'Sensor de lluvia']"
            ]
          },
          "execution_count": 124,
          "metadata": {},
          "output_type": "execute_result"
        }
      ],
      "source": [
        "Accesorios"
      ]
    },
    {
      "cell_type": "markdown",
      "metadata": {
        "id": "x8tOVCwg3zpr"
      },
      "source": [
        "**2.2.2 Tuplas (tuple):**\n"
      ]
    },
    {
      "cell_type": "markdown",
      "metadata": {
        "id": "lWKWljanjlk6"
      },
      "source": [
        "Las tuplas son similares a las listas, pero son inmutables, lo que significa que no se pueden modificar después de su creación. Se definen con paréntesis ( ). Ejemplos:"
      ]
    },
    {
      "cell_type": "markdown",
      "metadata": {
        "id": "5UwHze7i4WP-"
      },
      "source": [
        "**Creando tuplas**"
      ]
    },
    {
      "cell_type": "code",
      "execution_count": null,
      "metadata": {
        "colab": {
          "base_uri": "https://localhost:8080/",
          "height": 53
        },
        "id": "jLI7A7cefVR8",
        "outputId": "5a664b13-04ce-4642-e135-aa06682f3204"
      },
      "outputs": [
        {
          "data": {
            "application/vnd.google.colaboratory.intrinsic+json": {
              "type": "string"
            },
            "text/plain": [
              "'\\n  -- Utilizando un par de parentesis: ( )\\n  -- Utilizando una coma a la derecha: x,\\n  -- Utilizando un par de parentesis con objetos separdos por comas: ( x, y, z )\\n  -- Utilizando: tuple() o tuple(interador)\\n'"
            ]
          },
          "execution_count": 128,
          "metadata": {},
          "output_type": "execute_result"
        }
      ],
      "source": [
        "'''\n",
        "  -- Utilizando un par de parentesis: ( )\n",
        "  -- Utilizando una coma a la derecha: x,\n",
        "  -- Utilizando un par de parentesis con objetos separdos por comas: ( x, y, z )\n",
        "  -- Utilizando: tuple() o tuple(interador)\n",
        "'''"
      ]
    },
    {
      "cell_type": "code",
      "execution_count": null,
      "metadata": {
        "colab": {
          "base_uri": "https://localhost:8080/"
        },
        "id": "kaT6cAr-ggi3",
        "outputId": "87aaace9-225b-46f9-b542-e4ca68d63cae"
      },
      "outputs": [
        {
          "data": {
            "text/plain": [
              "()"
            ]
          },
          "execution_count": 129,
          "metadata": {},
          "output_type": "execute_result"
        }
      ],
      "source": [
        "# Utilizando un par de parentesis: ( )\n",
        "()"
      ]
    },
    {
      "cell_type": "code",
      "execution_count": null,
      "metadata": {
        "colab": {
          "base_uri": "https://localhost:8080/"
        },
        "id": "AVRlrF8bgimN",
        "outputId": "36440fdf-8124-494b-d90c-a211a14e8000"
      },
      "outputs": [
        {
          "data": {
            "text/plain": [
              "(1, 2, 3)"
            ]
          },
          "execution_count": 130,
          "metadata": {},
          "output_type": "execute_result"
        }
      ],
      "source": [
        "# Utilizando una coma a la derecha: x,\n",
        "1,2,3"
      ]
    },
    {
      "cell_type": "code",
      "execution_count": null,
      "metadata": {
        "id": "WBOSSVzfjmIW"
      },
      "outputs": [],
      "source": [
        "# Utilizando un par de parentesis con objetos separdos por comas: ( x, y, z )\n",
        "coordenadas = (3, 5)\n",
        "colores = (\"rojo\", \"verde\", \"azul\")"
      ]
    },
    {
      "cell_type": "code",
      "execution_count": null,
      "metadata": {
        "colab": {
          "base_uri": "https://localhost:8080/"
        },
        "id": "_pVWdnEEbXzX",
        "outputId": "3651a9ea-bf4e-41b9-c87b-f815745e4010"
      },
      "outputs": [
        {
          "data": {
            "text/plain": [
              "(3, 5)"
            ]
          },
          "execution_count": 132,
          "metadata": {},
          "output_type": "execute_result"
        }
      ],
      "source": [
        "coordenadas"
      ]
    },
    {
      "cell_type": "code",
      "execution_count": null,
      "metadata": {
        "colab": {
          "base_uri": "https://localhost:8080/"
        },
        "id": "mkkZCHeU3-hX",
        "outputId": "29f3a444-b280-46b6-d249-9d266638c3a1"
      },
      "outputs": [
        {
          "data": {
            "text/plain": [
              "tuple"
            ]
          },
          "execution_count": 133,
          "metadata": {},
          "output_type": "execute_result"
        }
      ],
      "source": [
        "type(coordenadas)"
      ]
    },
    {
      "cell_type": "code",
      "execution_count": null,
      "metadata": {
        "colab": {
          "base_uri": "https://localhost:8080/"
        },
        "id": "dUu_C-PIbZT_",
        "outputId": "2059513e-823f-49d5-d87a-e1515f134fbb"
      },
      "outputs": [
        {
          "data": {
            "text/plain": [
              "('rojo', 'verde', 'azul')"
            ]
          },
          "execution_count": 134,
          "metadata": {},
          "output_type": "execute_result"
        }
      ],
      "source": [
        "colores"
      ]
    },
    {
      "cell_type": "code",
      "execution_count": null,
      "metadata": {
        "colab": {
          "base_uri": "https://localhost:8080/"
        },
        "id": "Oq1HLY0I46lQ",
        "outputId": "d4ec7962-0bb0-4340-abbd-68eee0d7d40d"
      },
      "outputs": [
        {
          "data": {
            "text/plain": [
              "tuple"
            ]
          },
          "execution_count": 135,
          "metadata": {},
          "output_type": "execute_result"
        }
      ],
      "source": [
        "type(colores)"
      ]
    },
    {
      "cell_type": "code",
      "execution_count": null,
      "metadata": {
        "colab": {
          "base_uri": "https://localhost:8080/"
        },
        "id": "wWaFjBF7gm73",
        "outputId": "535bff94-e2e4-4082-d4c5-c6a5dc30a0ff"
      },
      "outputs": [
        {
          "data": {
            "text/plain": [
              "('Passta', 153000)"
            ]
          },
          "execution_count": 136,
          "metadata": {},
          "output_type": "execute_result"
        }
      ],
      "source": [
        "nombre = 'Passta'\n",
        "valor = 153000\n",
        "(nombre, valor)"
      ]
    },
    {
      "cell_type": "code",
      "execution_count": null,
      "metadata": {
        "colab": {
          "base_uri": "https://localhost:8080/"
        },
        "id": "MunAxf6Cgm0D",
        "outputId": "edeaceff-f719-47ab-d339-fa73315481c0"
      },
      "outputs": [
        {
          "data": {
            "text/plain": [
              "('Jetta Variant', 'Passat', 'Crossfox', 'DS5')"
            ]
          },
          "execution_count": 137,
          "metadata": {},
          "output_type": "execute_result"
        }
      ],
      "source": [
        "# Utilizando: tuple() o tuple(interador)\n",
        "nombre_carros = tuple(['Jetta Variant','Passat','Crossfox','DS5'])\n",
        "nombre_carros"
      ]
    },
    {
      "cell_type": "code",
      "execution_count": null,
      "metadata": {
        "colab": {
          "base_uri": "https://localhost:8080/"
        },
        "id": "4FjdQSsNgmr8",
        "outputId": "379c333b-e700-4aaf-c6e4-bdb63fa9b64a"
      },
      "outputs": [
        {
          "data": {
            "text/plain": [
              "tuple"
            ]
          },
          "execution_count": 138,
          "metadata": {},
          "output_type": "execute_result"
        }
      ],
      "source": [
        "type(nombre_carros)"
      ]
    },
    {
      "cell_type": "markdown",
      "metadata": {
        "id": "VXB7DleQ4Fk6"
      },
      "source": [
        "**Operaciones con Tuplas:**\n",
        "\n",
        "* Acceso por índice: **mi_tupla[0]** devuelve el primer elemento.\n",
        "* Longitud de la tupla: **len(mi_tupla)** retorna la cantidad de elementos."
      ]
    },
    {
      "cell_type": "markdown",
      "metadata": {
        "id": "8gP0iM11hLC7"
      },
      "source": [
        "**Seleccion en tuplas**"
      ]
    },
    {
      "cell_type": "code",
      "execution_count": null,
      "metadata": {
        "colab": {
          "base_uri": "https://localhost:8080/"
        },
        "id": "_7Spc2x1gmiv",
        "outputId": "a0632516-2ecb-4e92-a19b-36a03fb8e99c"
      },
      "outputs": [
        {
          "data": {
            "text/plain": [
              "('Jetta Variant', 'Passat', 'Crossfox', 'DS5')"
            ]
          },
          "execution_count": 139,
          "metadata": {},
          "output_type": "execute_result"
        }
      ],
      "source": [
        "nombre_carros = tuple(['Jetta Variant','Passat','Crossfox','DS5'])\n",
        "nombre_carros"
      ]
    },
    {
      "cell_type": "code",
      "execution_count": null,
      "metadata": {
        "colab": {
          "base_uri": "https://localhost:8080/",
          "height": 35
        },
        "id": "OhDki4g6gmZ0",
        "outputId": "ba1aada9-a585-47fa-a06d-719af710f7cb"
      },
      "outputs": [
        {
          "data": {
            "application/vnd.google.colaboratory.intrinsic+json": {
              "type": "string"
            },
            "text/plain": [
              "'Jetta Variant'"
            ]
          },
          "execution_count": 140,
          "metadata": {},
          "output_type": "execute_result"
        }
      ],
      "source": [
        "nombre_carros[0]"
      ]
    },
    {
      "cell_type": "code",
      "execution_count": null,
      "metadata": {
        "colab": {
          "base_uri": "https://localhost:8080/",
          "height": 35
        },
        "id": "CiZnlDFUgmE5",
        "outputId": "8294f5ad-e2bf-4a9d-9478-e7834bb2a953"
      },
      "outputs": [
        {
          "data": {
            "application/vnd.google.colaboratory.intrinsic+json": {
              "type": "string"
            },
            "text/plain": [
              "'DS5'"
            ]
          },
          "execution_count": 141,
          "metadata": {},
          "output_type": "execute_result"
        }
      ],
      "source": [
        "nombre_carros[-1]"
      ]
    },
    {
      "cell_type": "markdown",
      "metadata": {
        "id": "7ZUk2Qd94LhI"
      },
      "source": [
        "**slicing en tuplas**"
      ]
    },
    {
      "cell_type": "code",
      "execution_count": null,
      "metadata": {
        "colab": {
          "base_uri": "https://localhost:8080/"
        },
        "id": "4qG5yZD3hrsJ",
        "outputId": "502f0464-010e-4dc5-8dbf-6aa83412a7b5"
      },
      "outputs": [
        {
          "data": {
            "text/plain": [
              "('Jetta Variant', 'Passat', 'Crossfox', 'DS5')"
            ]
          },
          "execution_count": 142,
          "metadata": {},
          "output_type": "execute_result"
        }
      ],
      "source": [
        "nombre_carros"
      ]
    },
    {
      "cell_type": "code",
      "execution_count": null,
      "metadata": {
        "colab": {
          "base_uri": "https://localhost:8080/"
        },
        "id": "uQYa-QkmhrkC",
        "outputId": "1f86549f-ce81-4d92-fda3-5e0056aedbe3"
      },
      "outputs": [
        {
          "data": {
            "text/plain": [
              "('Jetta Variant', 'Passat')"
            ]
          },
          "execution_count": 143,
          "metadata": {},
          "output_type": "execute_result"
        }
      ],
      "source": [
        "nombre_carros[:2]"
      ]
    },
    {
      "cell_type": "code",
      "execution_count": null,
      "metadata": {
        "colab": {
          "base_uri": "https://localhost:8080/"
        },
        "id": "0Saj8HQhhraz",
        "outputId": "4764001a-bbdb-4df3-ecbf-8920183f0ca4"
      },
      "outputs": [
        {
          "data": {
            "text/plain": [
              "('Passat', 'Crossfox')"
            ]
          },
          "execution_count": 144,
          "metadata": {},
          "output_type": "execute_result"
        }
      ],
      "source": [
        "nombre_carros[1:3]"
      ]
    },
    {
      "cell_type": "markdown",
      "metadata": {
        "id": "Cd_ZVWn96snJ"
      },
      "source": [
        "**slicing de una tupla dentro de otra**"
      ]
    },
    {
      "cell_type": "code",
      "execution_count": null,
      "metadata": {
        "colab": {
          "base_uri": "https://localhost:8080/"
        },
        "id": "fmb3IxGGhrSZ",
        "outputId": "885089ca-f1dd-4bf9-e5f2-ffc54621cf9c"
      },
      "outputs": [
        {
          "data": {
            "text/plain": [
              "('Jetta Variant', 'Passat', 'Crossfox', 'DS5', ('Fusca', 'Gol', 'C4'))"
            ]
          },
          "execution_count": 145,
          "metadata": {},
          "output_type": "execute_result"
        }
      ],
      "source": [
        "nombre_carros = ('Jetta Variant','Passat','Crossfox','DS5',('Fusca','Gol','C4'))\n",
        "nombre_carros"
      ]
    },
    {
      "cell_type": "code",
      "execution_count": null,
      "metadata": {
        "colab": {
          "base_uri": "https://localhost:8080/",
          "height": 35
        },
        "id": "ZK1BAPwHitCY",
        "outputId": "af90a211-f33b-4859-8929-e5cb737b31e9"
      },
      "outputs": [
        {
          "data": {
            "application/vnd.google.colaboratory.intrinsic+json": {
              "type": "string"
            },
            "text/plain": [
              "'Gol'"
            ]
          },
          "execution_count": 146,
          "metadata": {},
          "output_type": "execute_result"
        }
      ],
      "source": [
        "nombre_carros[-1][1]"
      ]
    },
    {
      "cell_type": "markdown",
      "metadata": {
        "id": "iguBJgK7jXtA"
      },
      "source": [
        "**Interar Tuplas**"
      ]
    },
    {
      "cell_type": "markdown",
      "metadata": {
        "id": "ESgIuCrU3_qY"
      },
      "source": [
        "Cuando hablamos de **\"iterar dentro de una tupla\"**, nos referimos a recorrer cada elemento de la tupla uno por uno, generalmente utilizando un bucle o una estructura de control. La iteración es un proceso en el que accedemos a cada elemento de la tupla de manera secuencial para realizar alguna operación o tarea específica en cada elemento."
      ]
    },
    {
      "cell_type": "markdown",
      "metadata": {
        "id": "kTr7OYpr7JIF"
      },
      "source": [
        "Para iterar sobre los elementos de una tupla en Python, puedes utilizar un bucle **for**. Aquí tienes un ejemplo de cómo hacerlo:"
      ]
    },
    {
      "cell_type": "code",
      "execution_count": null,
      "metadata": {
        "colab": {
          "base_uri": "https://localhost:8080/"
        },
        "id": "RC2mekkSjW4h",
        "outputId": "b39fa705-b9b0-47a3-c5cb-19b5a96c005d"
      },
      "outputs": [
        {
          "data": {
            "text/plain": [
              "('Jetta Variant', 'Passat', 'Crossfox', 'DS5')"
            ]
          },
          "execution_count": 147,
          "metadata": {},
          "output_type": "execute_result"
        }
      ],
      "source": [
        "nombre_carros = ('Jetta Variant','Passat','Crossfox','DS5')\n",
        "nombre_carros"
      ]
    },
    {
      "cell_type": "code",
      "execution_count": null,
      "metadata": {
        "colab": {
          "base_uri": "https://localhost:8080/"
        },
        "id": "D-43gAyFhrKa",
        "outputId": "68e0d7ac-a7e8-481d-df15-5b32eaae39f4"
      },
      "outputs": [
        {
          "name": "stdout",
          "output_type": "stream",
          "text": [
            "Jetta Variant\n",
            "Passat\n",
            "Crossfox\n",
            "DS5\n"
          ]
        }
      ],
      "source": [
        "for item in nombre_carros:\n",
        "  print(item)"
      ]
    },
    {
      "cell_type": "markdown",
      "metadata": {
        "id": "sl_eN1sd7M-d"
      },
      "source": [
        "En este ejemplo, hemos creado una tupla llamada **nombres_carros** con cuatro elementos. Luego, utilizamos un bucle for para recorrer la tupla y, en cada iteración, la variable elemento toma el valor de uno de los elementos de la tupla. En este caso, imprimimos cada elemento en la consola.\n",
        "\n"
      ]
    },
    {
      "cell_type": "markdown",
      "metadata": {
        "id": "yC8XFutkjxTg"
      },
      "source": [
        "**Desempacando Tuplas**"
      ]
    },
    {
      "cell_type": "markdown",
      "metadata": {
        "id": "C-6Rr8Vq7hF5"
      },
      "source": [
        "El desempaquetamiento de tuplas en Python te permite asignar los elementos de una tupla a variables individuales. Esto es útil cuando deseas acceder a cada elemento de la tupla de manera individual. Aquí tienes un ejemplo de cómo hacerlo:"
      ]
    },
    {
      "cell_type": "code",
      "execution_count": null,
      "metadata": {
        "colab": {
          "base_uri": "https://localhost:8080/"
        },
        "id": "2Rme6Gl8jGDq",
        "outputId": "283e5fdf-f964-44e8-aae7-01a448e12283"
      },
      "outputs": [
        {
          "data": {
            "text/plain": [
              "('Jetta Variant', 'Passat', 'Crossfox', 'DS5')"
            ]
          },
          "execution_count": 150,
          "metadata": {},
          "output_type": "execute_result"
        }
      ],
      "source": [
        "nombre_carros"
      ]
    },
    {
      "cell_type": "code",
      "execution_count": null,
      "metadata": {
        "id": "Wg7R6GOahrBi"
      },
      "outputs": [],
      "source": [
        "carro_1, carro_2, carro_3, carro_4 = nombre_carros"
      ]
    },
    {
      "cell_type": "code",
      "execution_count": null,
      "metadata": {
        "colab": {
          "base_uri": "https://localhost:8080/",
          "height": 35
        },
        "id": "PO5lmuyahq5W",
        "outputId": "9e1ed3d0-0990-4316-cce4-9e64115c4ef9"
      },
      "outputs": [
        {
          "data": {
            "application/vnd.google.colaboratory.intrinsic+json": {
              "type": "string"
            },
            "text/plain": [
              "'Jetta Variant'"
            ]
          },
          "execution_count": 152,
          "metadata": {},
          "output_type": "execute_result"
        }
      ],
      "source": [
        "carro_1"
      ]
    },
    {
      "cell_type": "code",
      "execution_count": null,
      "metadata": {
        "colab": {
          "base_uri": "https://localhost:8080/",
          "height": 35
        },
        "id": "eQMn9CIihqvQ",
        "outputId": "33b5a626-25b4-44ae-d1ab-2fa7282e28b3"
      },
      "outputs": [
        {
          "data": {
            "application/vnd.google.colaboratory.intrinsic+json": {
              "type": "string"
            },
            "text/plain": [
              "'Passat'"
            ]
          },
          "execution_count": 153,
          "metadata": {},
          "output_type": "execute_result"
        }
      ],
      "source": [
        "carro_2"
      ]
    },
    {
      "cell_type": "code",
      "execution_count": null,
      "metadata": {
        "colab": {
          "base_uri": "https://localhost:8080/",
          "height": 35
        },
        "id": "cx2_BIRWhqlo",
        "outputId": "5ec41fbd-7bf4-4e8a-b98d-503af569f77b"
      },
      "outputs": [
        {
          "data": {
            "application/vnd.google.colaboratory.intrinsic+json": {
              "type": "string"
            },
            "text/plain": [
              "'Crossfox'"
            ]
          },
          "execution_count": 154,
          "metadata": {},
          "output_type": "execute_result"
        }
      ],
      "source": [
        "carro_3"
      ]
    },
    {
      "cell_type": "code",
      "execution_count": null,
      "metadata": {
        "colab": {
          "base_uri": "https://localhost:8080/",
          "height": 35
        },
        "id": "SDNutDyChqZL",
        "outputId": "ab03e253-2b33-459f-feea-ce43c56eb781"
      },
      "outputs": [
        {
          "data": {
            "application/vnd.google.colaboratory.intrinsic+json": {
              "type": "string"
            },
            "text/plain": [
              "'DS5'"
            ]
          },
          "execution_count": 155,
          "metadata": {},
          "output_type": "execute_result"
        }
      ],
      "source": [
        "carro_4"
      ]
    },
    {
      "cell_type": "markdown",
      "metadata": {
        "id": "ItfE78hXkWZF"
      },
      "source": [
        "**Recordatorio:** Tambien pudes omitir alguno elementos dentro de la tupla con la vaiable _\n"
      ]
    },
    {
      "cell_type": "code",
      "execution_count": null,
      "metadata": {
        "colab": {
          "base_uri": "https://localhost:8080/"
        },
        "id": "UtuAzDOlkppn",
        "outputId": "3ef0ac34-112c-46ce-962b-41b9afcf43ff"
      },
      "outputs": [
        {
          "data": {
            "text/plain": [
              "('Jetta Variant', 'Passat', 'Crossfox', 'DS5')"
            ]
          },
          "execution_count": 156,
          "metadata": {},
          "output_type": "execute_result"
        }
      ],
      "source": [
        "nombre_carros"
      ]
    },
    {
      "cell_type": "code",
      "execution_count": null,
      "metadata": {
        "id": "R6ADwE_XhqNn"
      },
      "outputs": [],
      "source": [
        "_, A, _, B = nombre_carros"
      ]
    },
    {
      "cell_type": "code",
      "execution_count": null,
      "metadata": {
        "colab": {
          "base_uri": "https://localhost:8080/",
          "height": 35
        },
        "id": "RY5GnG6_hqAe",
        "outputId": "fdcfe490-74ac-447c-c197-58adabea7162"
      },
      "outputs": [
        {
          "data": {
            "application/vnd.google.colaboratory.intrinsic+json": {
              "type": "string"
            },
            "text/plain": [
              "'Passat'"
            ]
          },
          "execution_count": 158,
          "metadata": {},
          "output_type": "execute_result"
        }
      ],
      "source": [
        "A"
      ]
    },
    {
      "cell_type": "code",
      "execution_count": null,
      "metadata": {
        "colab": {
          "base_uri": "https://localhost:8080/",
          "height": 35
        },
        "id": "FI1pfyZjkoNd",
        "outputId": "5e204e6c-bc58-4726-b66c-7845c49e233c"
      },
      "outputs": [
        {
          "data": {
            "application/vnd.google.colaboratory.intrinsic+json": {
              "type": "string"
            },
            "text/plain": [
              "'DS5'"
            ]
          },
          "execution_count": 159,
          "metadata": {},
          "output_type": "execute_result"
        }
      ],
      "source": [
        "B"
      ]
    },
    {
      "cell_type": "markdown",
      "metadata": {
        "id": "V8cjwktik4-f"
      },
      "source": [
        "O de la siguiente manera"
      ]
    },
    {
      "cell_type": "code",
      "execution_count": null,
      "metadata": {
        "colab": {
          "base_uri": "https://localhost:8080/"
        },
        "id": "JzhNH6eRlNyH",
        "outputId": "0b397bd7-1c97-4b70-915a-2527c2714fe3"
      },
      "outputs": [
        {
          "data": {
            "text/plain": [
              "('Jetta Variant', 'Passat', 'Crossfox', 'DS5')"
            ]
          },
          "execution_count": 160,
          "metadata": {},
          "output_type": "execute_result"
        }
      ],
      "source": [
        "nombre_carros"
      ]
    },
    {
      "cell_type": "code",
      "execution_count": null,
      "metadata": {
        "id": "V_m1IcsBk_V6"
      },
      "outputs": [],
      "source": [
        "_, C, *_ = nombre_carros"
      ]
    },
    {
      "cell_type": "code",
      "execution_count": null,
      "metadata": {
        "colab": {
          "base_uri": "https://localhost:8080/",
          "height": 35
        },
        "id": "GO1kHT2GlKV6",
        "outputId": "e2d3bd6a-3938-4e6b-ecb9-a168fc22d28b"
      },
      "outputs": [
        {
          "data": {
            "application/vnd.google.colaboratory.intrinsic+json": {
              "type": "string"
            },
            "text/plain": [
              "'Passat'"
            ]
          },
          "execution_count": 162,
          "metadata": {},
          "output_type": "execute_result"
        }
      ],
      "source": [
        "C"
      ]
    },
    {
      "cell_type": "markdown",
      "metadata": {
        "id": "KsQ3lWGA8KlZ"
      },
      "source": [
        "1. Primero, tenemos la tupla **nombre_carros**, que contiene cuatro elementos.\n",
        "\n",
        "2. Luego, se realiza el desempaquetamiento de la tupla. El guion bajo _ se utiliza para ignorar el primer elemento de la tupla ('Jetta Variant'). El valor de _ no se utilizará en el código posterior.\n",
        "\n",
        "3. La variable C se asigna al segundo elemento de la tupla ('Passat').\n",
        "\n",
        "4. El asterisco * se utiliza para recoger el resto de los elementos de la tupla en una lista no nombrada. En este caso, los elementos restantes son ('Crossfox', 'DS5') y se almacenan en una lista no nombrada."
      ]
    },
    {
      "cell_type": "markdown",
      "metadata": {
        "id": "anObWdsBlQsW"
      },
      "source": [
        "**Funciones en tuplas**"
      ]
    },
    {
      "cell_type": "markdown",
      "metadata": {
        "id": "fP4AgXmm4uxy"
      },
      "source": [
        "**zip()**"
      ]
    },
    {
      "cell_type": "markdown",
      "metadata": {
        "id": "6mw-ozvy8h-O"
      },
      "source": [
        "La funcion **zip()** en Python se utiliza para combinar dos o más secuencias en una secuencia única, como tuplas. Esto es útil cuando deseas emparejar elementos correspondientes de diferentes secuencias. Aquí tienes un ejemplo de cómo usar **zip()** con tuplas:"
      ]
    },
    {
      "cell_type": "markdown",
      "metadata": {
        "id": "GQDPzd-ZHnTu"
      },
      "source": [
        "Crearemos un interador con tuplas"
      ]
    },
    {
      "cell_type": "code",
      "execution_count": null,
      "metadata": {
        "colab": {
          "base_uri": "https://localhost:8080/"
        },
        "id": "DJouO_gwlUL0",
        "outputId": "17e64fec-cb00-485c-b9bf-31d738c3adea"
      },
      "outputs": [
        {
          "data": {
            "text/plain": [
              "['Jetta Variant', 'Passat', 'Crossfox', 'DS5']"
            ]
          },
          "execution_count": 165,
          "metadata": {},
          "output_type": "execute_result"
        }
      ],
      "source": [
        "#Creamos nuestra primera lista\n",
        "carros = ['Jetta Variant','Passat','Crossfox','DS5']\n",
        "carros"
      ]
    },
    {
      "cell_type": "code",
      "execution_count": null,
      "metadata": {
        "colab": {
          "base_uri": "https://localhost:8080/"
        },
        "id": "HX_JMx40H46Y",
        "outputId": "5173d83c-bc69-4055-d97d-b9bdd11d69d4"
      },
      "outputs": [
        {
          "data": {
            "text/plain": [
              "[88078.64, 106161.94, 72832.16, 124549.07]"
            ]
          },
          "execution_count": 166,
          "metadata": {},
          "output_type": "execute_result"
        }
      ],
      "source": [
        "#Creamos nuestra segunda lista\n",
        "valores = [88078.64, 106161.94, 72832.16, 124549.07]\n",
        "valores"
      ]
    },
    {
      "cell_type": "code",
      "execution_count": null,
      "metadata": {
        "colab": {
          "base_uri": "https://localhost:8080/"
        },
        "id": "gnvw3ESPH4wQ",
        "outputId": "87ce96d5-c41c-4f78-e594-73ff6be9e82b"
      },
      "outputs": [
        {
          "data": {
            "text/plain": [
              "<zip at 0x7b225fb09c40>"
            ]
          },
          "execution_count": 167,
          "metadata": {},
          "output_type": "execute_result"
        }
      ],
      "source": [
        "# Unimos nuestas lista y nos da como resultado una tupla\n",
        "zip(carros, valores)"
      ]
    },
    {
      "cell_type": "code",
      "execution_count": null,
      "metadata": {
        "colab": {
          "base_uri": "https://localhost:8080/"
        },
        "id": "C2GtGta8H4kN",
        "outputId": "3ea72b39-5552-49ea-b418-08710d7d2dff"
      },
      "outputs": [
        {
          "data": {
            "text/plain": [
              "[('Jetta Variant', 88078.64),\n",
              " ('Passat', 106161.94),\n",
              " ('Crossfox', 72832.16),\n",
              " ('DS5', 124549.07)]"
            ]
          },
          "execution_count": 169,
          "metadata": {},
          "output_type": "execute_result"
        }
      ],
      "source": [
        "# Se agrega la tupla dentro de una lista\n",
        "list(zip(carros, valores))"
      ]
    },
    {
      "cell_type": "code",
      "execution_count": null,
      "metadata": {
        "colab": {
          "base_uri": "https://localhost:8080/"
        },
        "id": "qyh18BnkH4dt",
        "outputId": "583ea9ee-9038-4123-a8dc-85a9ca6b2f9a"
      },
      "outputs": [
        {
          "name": "stdout",
          "output_type": "stream",
          "text": [
            "('Jetta Variant', 88078.64)\n",
            "('Passat', 106161.94)\n",
            "('Crossfox', 72832.16)\n",
            "('DS5', 124549.07)\n"
          ]
        }
      ],
      "source": [
        "# Interamos\n",
        "for item in zip(carros, valores):\n",
        "  print(item)"
      ]
    },
    {
      "cell_type": "markdown",
      "metadata": {
        "id": "sIjKaI_oIvTf"
      },
      "source": [
        "Ahora vamos a desempacar tuplas"
      ]
    },
    {
      "cell_type": "code",
      "execution_count": null,
      "metadata": {
        "colab": {
          "base_uri": "https://localhost:8080/"
        },
        "id": "ejD4RA6pH4Vj",
        "outputId": "80358c0b-2b78-4221-fb62-240bcf1a0383"
      },
      "outputs": [
        {
          "name": "stdout",
          "output_type": "stream",
          "text": [
            "Jetta Variant 88078.64\n",
            "Passat 106161.94\n",
            "Crossfox 72832.16\n",
            "DS5 124549.07\n"
          ]
        }
      ],
      "source": [
        "for carro, valor in zip(carros, valores):\n",
        "  print(carro, valor)"
      ]
    },
    {
      "cell_type": "markdown",
      "metadata": {
        "id": "O0_XGKqZJFdu"
      },
      "source": [
        "Ahora con los elementos desempacados realizaremos operaciones, en este caso una condicion"
      ]
    },
    {
      "cell_type": "code",
      "execution_count": null,
      "metadata": {
        "colab": {
          "base_uri": "https://localhost:8080/"
        },
        "id": "7bgH82SXJFHt",
        "outputId": "51b165cc-e6e7-4f65-8af8-2b1af45eab49"
      },
      "outputs": [
        {
          "name": "stdout",
          "output_type": "stream",
          "text": [
            "Passat 106161.94\n",
            "DS5 124549.07\n"
          ]
        }
      ],
      "source": [
        "for carro, valor in zip(carros, valores):\n",
        "  if (valor > 100000):\n",
        "   print(carro, valor)"
      ]
    },
    {
      "cell_type": "markdown",
      "metadata": {
        "id": "gbG6K6Sn5kVr"
      },
      "source": [
        "**Metodos en tuplas**"
      ]
    },
    {
      "cell_type": "markdown",
      "metadata": {
        "id": "BxNHhseDMelG"
      },
      "source": [
        "**n.index()**\n"
      ]
    },
    {
      "cell_type": "markdown",
      "metadata": {
        "id": "cD4-sGiE91Gs"
      },
      "source": [
        "**index()** en Python es un método que se utiliza para buscar la posición (índice) de un elemento específico en una secuencia, como una lista, una tupla o una cadena. Este método devuelve el índice de la primera aparición del elemento en la secuencia."
      ]
    },
    {
      "cell_type": "code",
      "execution_count": null,
      "metadata": {
        "colab": {
          "base_uri": "https://localhost:8080/"
        },
        "id": "JyV1M_ot97H3",
        "outputId": "12d24c0b-af97-476f-b686-92224a4c304c"
      },
      "outputs": [
        {
          "data": {
            "text/plain": [
              "('Jetta Variant', 'Passat', 'Crossfox', 'DS5')"
            ]
          },
          "execution_count": 173,
          "metadata": {},
          "output_type": "execute_result"
        }
      ],
      "source": [
        "carros = ('Jetta Variant','Passat','Crossfox','DS5')\n",
        "carros"
      ]
    },
    {
      "cell_type": "code",
      "execution_count": null,
      "metadata": {
        "colab": {
          "base_uri": "https://localhost:8080/"
        },
        "id": "_79fe8SrL-0M",
        "outputId": "f47e28cd-f3a3-4851-a413-9651c287fe02"
      },
      "outputs": [
        {
          "data": {
            "text/plain": [
              "(88078.64, 106161.94, 72832.16)"
            ]
          },
          "execution_count": 174,
          "metadata": {},
          "output_type": "execute_result"
        }
      ],
      "source": [
        "valores = (88078.64, 106161.94, 72832.16)\n",
        "valores"
      ]
    },
    {
      "cell_type": "code",
      "execution_count": null,
      "metadata": {
        "colab": {
          "base_uri": "https://localhost:8080/"
        },
        "id": "9t3efZcH-q3c",
        "outputId": "ae731b22-7913-460c-ed62-fb82d133cff5"
      },
      "outputs": [
        {
          "data": {
            "text/plain": [
              "[('Jetta Variant', 88078.64), ('Passat', 106161.94), ('Crossfox', 72832.16)]"
            ]
          },
          "execution_count": 175,
          "metadata": {},
          "output_type": "execute_result"
        }
      ],
      "source": [
        "# Se combinaron los valores de ambas listas de 1 a 1\n",
        "list(zip(carros, valores))"
      ]
    },
    {
      "cell_type": "code",
      "execution_count": null,
      "metadata": {
        "colab": {
          "base_uri": "https://localhost:8080/"
        },
        "id": "et27vDkP-JlC",
        "outputId": "721efa92-5bad-481c-a908-b1318775697b"
      },
      "outputs": [
        {
          "data": {
            "text/plain": [
              "3"
            ]
          },
          "execution_count": 177,
          "metadata": {},
          "output_type": "execute_result"
        }
      ],
      "source": [
        "# Nos indica la posicion de nuestro elemento\n",
        "carros.index('DS5')"
      ]
    },
    {
      "cell_type": "code",
      "execution_count": null,
      "metadata": {
        "colab": {
          "base_uri": "https://localhost:8080/"
        },
        "id": "-c373wpHMaGh",
        "outputId": "07bfb252-6209-4862-efa0-49be9d6dd06a"
      },
      "outputs": [
        {
          "data": {
            "text/plain": [
              "106161.94"
            ]
          },
          "execution_count": 178,
          "metadata": {},
          "output_type": "execute_result"
        }
      ],
      "source": [
        "# Nos devolvera el valor\n",
        "valores[carros.index('Passat')]"
      ]
    },
    {
      "cell_type": "markdown",
      "metadata": {
        "id": "Wqddpt4CJh-l"
      },
      "source": [
        "**5.2.3. Diccionarios**"
      ]
    },
    {
      "cell_type": "markdown",
      "metadata": {
        "id": "09u0J6TtKIhg"
      },
      "source": [
        "Los diccionarios almacenan pares clave-valor y permiten acceder a los valores a través de las claves. Se definen con llaves { }.\n",
        "\n"
      ]
    },
    {
      "cell_type": "code",
      "execution_count": null,
      "metadata": {
        "id": "v1xEGqp-K1WY"
      },
      "outputs": [],
      "source": [
        "# diccionario = {key_1: value_1, key_2: value_2, key_3: value_3, key_4: value_4}"
      ]
    },
    {
      "cell_type": "code",
      "execution_count": null,
      "metadata": {
        "colab": {
          "base_uri": "https://localhost:8080/"
        },
        "id": "PoFbiJ8EJsGC",
        "outputId": "12770a74-f252-4c9f-fa55-6209d74c5ecd"
      },
      "outputs": [
        {
          "data": {
            "text/plain": [
              "{'Jetta Variant': 88078.64, 'Passat': 106161.94, 'Crossfox': 72832.16}"
            ]
          },
          "execution_count": 180,
          "metadata": {},
          "output_type": "execute_result"
        }
      ],
      "source": [
        "datos = {'Jetta Variant':88078.64,'Passat':106161.94,'Crossfox': 72832.16}\n",
        "datos"
      ]
    },
    {
      "cell_type": "code",
      "execution_count": null,
      "metadata": {
        "colab": {
          "base_uri": "https://localhost:8080/"
        },
        "id": "Xtsmlv2SKEHR",
        "outputId": "79b9826b-e9bd-45e1-e6e0-14a2cecc1257"
      },
      "outputs": [
        {
          "data": {
            "text/plain": [
              "dict"
            ]
          },
          "execution_count": 181,
          "metadata": {},
          "output_type": "execute_result"
        }
      ],
      "source": [
        "type(datos)"
      ]
    },
    {
      "cell_type": "markdown",
      "metadata": {
        "id": "-oY-WpTa_A9n"
      },
      "source": [
        "**Operaciones con Diccionarios:**\n",
        "* Acceso a valores por clave: **datos[\"Passat\"]** devuelve 106161.94.\n",
        "* Agregar nuevos pares clave-valor: datos**[\"Fasca\"] = 15352423**.\n",
        "* Eliminar un par clave-valor: del datos**[\"Passat\"]**."
      ]
    },
    {
      "cell_type": "markdown",
      "metadata": {
        "id": "fPXG-75fN2hh"
      },
      "source": [
        "Creando diccionarios con **zip() y dict()**"
      ]
    },
    {
      "cell_type": "code",
      "execution_count": null,
      "metadata": {
        "colab": {
          "base_uri": "https://localhost:8080/"
        },
        "id": "PtJG295r_nfA",
        "outputId": "d0cce47d-45ea-4f57-971a-74a7bb7aa8ab"
      },
      "outputs": [
        {
          "data": {
            "text/plain": [
              "('Jetta Variant', 'Passat', 'Crossfox', 'DS5')"
            ]
          },
          "execution_count": 182,
          "metadata": {},
          "output_type": "execute_result"
        }
      ],
      "source": [
        "carros = ('Jetta Variant','Passat','Crossfox','DS5')\n",
        "carros"
      ]
    },
    {
      "cell_type": "code",
      "execution_count": null,
      "metadata": {
        "colab": {
          "base_uri": "https://localhost:8080/"
        },
        "id": "xoWIhBcz_sIv",
        "outputId": "9767781a-2f49-464c-ea46-cbd840f8a3bc"
      },
      "outputs": [
        {
          "data": {
            "text/plain": [
              "(88078.64, 106161.94, 72832.16)"
            ]
          },
          "execution_count": 183,
          "metadata": {},
          "output_type": "execute_result"
        }
      ],
      "source": [
        "valores = (88078.64, 106161.94, 72832.16)\n",
        "valores"
      ]
    },
    {
      "cell_type": "code",
      "execution_count": null,
      "metadata": {
        "colab": {
          "base_uri": "https://localhost:8080/"
        },
        "id": "UQoFMlFsKDql",
        "outputId": "25a83d46-8b4e-47e4-eac9-f51b371f084c"
      },
      "outputs": [
        {
          "data": {
            "text/plain": [
              "{'Jetta Variant': 88078.64, 'Passat': 106161.94, 'Crossfox': 72832.16}"
            ]
          },
          "execution_count": 184,
          "metadata": {},
          "output_type": "execute_result"
        }
      ],
      "source": [
        "#Creamos un diccionario\n",
        "datos = dict(zip(carros,valores))\n",
        "datos"
      ]
    },
    {
      "cell_type": "markdown",
      "metadata": {
        "id": "1LJIplh7J0F9"
      },
      "source": [
        "**Operaciones con diccionarios**"
      ]
    },
    {
      "cell_type": "code",
      "execution_count": null,
      "metadata": {
        "colab": {
          "base_uri": "https://localhost:8080/"
        },
        "id": "ZiBYIgT7J3WH",
        "outputId": "533287ae-0e59-463b-caaf-bb116b2bb850"
      },
      "outputs": [
        {
          "data": {
            "text/plain": [
              "{'Jetta Variant': 88078.64, 'Passat': 106161.94, 'Crossfox': 72832.16}"
            ]
          },
          "execution_count": 185,
          "metadata": {},
          "output_type": "execute_result"
        }
      ],
      "source": [
        "datos = {'Jetta Variant':88078.64,'Passat':106161.94,'Crossfox': 72832.16}\n",
        "datos"
      ]
    },
    {
      "cell_type": "markdown",
      "metadata": {
        "id": "_XrdZpsWOrgH"
      },
      "source": [
        "**dict[Key]**\n",
        "\n",
        "Devuelve el valor correspondiente a la llave (key) en el diccionario"
      ]
    },
    {
      "cell_type": "code",
      "execution_count": null,
      "metadata": {
        "colab": {
          "base_uri": "https://localhost:8080/"
        },
        "id": "Q8X8h8U-O7Bg",
        "outputId": "c468eda4-ed71-4be5-8406-c16b0c2f0a19"
      },
      "outputs": [
        {
          "data": {
            "text/plain": [
              "106161.94"
            ]
          },
          "execution_count": 186,
          "metadata": {},
          "output_type": "execute_result"
        }
      ],
      "source": [
        "# Al indicar la llave del elemnto nos devuelve el valor\n",
        "datos['Passat']"
      ]
    },
    {
      "cell_type": "markdown",
      "metadata": {
        "id": "PVHfVH27PBkI"
      },
      "source": [
        "**key in dict**\n",
        "\n",
        "Devuelve **True** si la llave (key) es encontrada en el diccionario"
      ]
    },
    {
      "cell_type": "code",
      "execution_count": null,
      "metadata": {
        "colab": {
          "base_uri": "https://localhost:8080/"
        },
        "id": "OCSQBX6lO6zD",
        "outputId": "efbd2b81-04d5-4905-cdd1-17ad864f34f3"
      },
      "outputs": [
        {
          "data": {
            "text/plain": [
              "True"
            ]
          },
          "execution_count": 187,
          "metadata": {},
          "output_type": "execute_result"
        }
      ],
      "source": [
        "'Passat' in datos"
      ]
    },
    {
      "cell_type": "code",
      "execution_count": null,
      "metadata": {
        "colab": {
          "base_uri": "https://localhost:8080/"
        },
        "id": "o2jYKiLWO6jr",
        "outputId": "59447be2-1d75-4268-a93a-1378e72013eb"
      },
      "outputs": [
        {
          "data": {
            "text/plain": [
              "False"
            ]
          },
          "execution_count": 188,
          "metadata": {},
          "output_type": "execute_result"
        }
      ],
      "source": [
        "'Fusca' in datos"
      ]
    },
    {
      "cell_type": "code",
      "execution_count": null,
      "metadata": {
        "colab": {
          "base_uri": "https://localhost:8080/"
        },
        "id": "7oRleV-9O6V6",
        "outputId": "92d99c8b-5961-48c3-a6d1-e53b1150a1c0"
      },
      "outputs": [
        {
          "data": {
            "text/plain": [
              "True"
            ]
          },
          "execution_count": 189,
          "metadata": {},
          "output_type": "execute_result"
        }
      ],
      "source": [
        "'Fusca' not in datos"
      ]
    },
    {
      "cell_type": "code",
      "execution_count": null,
      "metadata": {
        "colab": {
          "base_uri": "https://localhost:8080/"
        },
        "id": "-jlTdAl_O6MN",
        "outputId": "c58a3033-de0a-4163-efa3-31c8beb396ad"
      },
      "outputs": [
        {
          "data": {
            "text/plain": [
              "False"
            ]
          },
          "execution_count": 190,
          "metadata": {},
          "output_type": "execute_result"
        }
      ],
      "source": [
        "'Passat' not in datos"
      ]
    },
    {
      "cell_type": "markdown",
      "metadata": {
        "id": "TULutwhUPr5I"
      },
      "source": [
        "**len(dict)**\n",
        "\n",
        "Devuelve el numero de itens del diccionario"
      ]
    },
    {
      "cell_type": "code",
      "execution_count": null,
      "metadata": {
        "colab": {
          "base_uri": "https://localhost:8080/"
        },
        "id": "Xwgii5WKJ7bq",
        "outputId": "e3e1a9d4-feef-4bdc-cf95-9a16513b495e"
      },
      "outputs": [
        {
          "data": {
            "text/plain": [
              "3"
            ]
          },
          "execution_count": 191,
          "metadata": {},
          "output_type": "execute_result"
        }
      ],
      "source": [
        "len(datos)"
      ]
    },
    {
      "cell_type": "markdown",
      "metadata": {
        "id": "yhAJuQhSP_Jf"
      },
      "source": [
        "**dict[key] = value**\n",
        "\n",
        "Incluye un item al diccionario"
      ]
    },
    {
      "cell_type": "code",
      "execution_count": null,
      "metadata": {
        "colab": {
          "base_uri": "https://localhost:8080/"
        },
        "id": "hzTyKJuHP_08",
        "outputId": "64d40de8-fa41-4646-ad18-a02154e3756c"
      },
      "outputs": [
        {
          "data": {
            "text/plain": [
              "{'Jetta Variant': 88078.64,\n",
              " 'Passat': 106161.94,\n",
              " 'Crossfox': 72832.16,\n",
              " 'DS5': 124549.07}"
            ]
          },
          "execution_count": 192,
          "metadata": {},
          "output_type": "execute_result"
        }
      ],
      "source": [
        "datos['DS5'] = 124549.07\n",
        "datos"
      ]
    },
    {
      "cell_type": "markdown",
      "metadata": {
        "id": "opVC3Dq3QnNZ"
      },
      "source": [
        "**del dict[key]**\n",
        "\n",
        "Elimina el item de llave (key) del diccionario"
      ]
    },
    {
      "cell_type": "code",
      "execution_count": null,
      "metadata": {
        "colab": {
          "base_uri": "https://localhost:8080/"
        },
        "id": "4ODUBMJMQLYL",
        "outputId": "6bb0bac3-328c-45d1-9053-8d9962a663dd"
      },
      "outputs": [
        {
          "data": {
            "text/plain": [
              "{'Jetta Variant': 88078.64, 'Passat': 106161.94, 'Crossfox': 72832.16}"
            ]
          },
          "execution_count": 193,
          "metadata": {},
          "output_type": "execute_result"
        }
      ],
      "source": [
        "del datos['DS5']\n",
        "datos"
      ]
    },
    {
      "cell_type": "code",
      "execution_count": null,
      "metadata": {
        "colab": {
          "base_uri": "https://localhost:8080/",
          "height": 35
        },
        "id": "c5lCIF7-Q_W3",
        "outputId": "7eaef4cf-e85d-4e62-a73a-266ecec27c87"
      },
      "outputs": [
        {
          "data": {
            "application/vnd.google.colaboratory.intrinsic+json": {
              "type": "string"
            },
            "text/plain": [
              "\"\\n  Nos dara un error por que el elemto ya ha sido eliminado\\n  del datos['DS5']\\n  datos\\n\""
            ]
          },
          "execution_count": 194,
          "metadata": {},
          "output_type": "execute_result"
        }
      ],
      "source": [
        "'''\n",
        "  Nos dara un error por que el elemto ya ha sido eliminado\n",
        "  del datos['DS5']\n",
        "  datos\n",
        "'''"
      ]
    },
    {
      "cell_type": "markdown",
      "metadata": {
        "id": "PXE21eLtJ3wR"
      },
      "source": [
        "**Metodos de diccionarios**"
      ]
    },
    {
      "cell_type": "markdown",
      "metadata": {
        "id": "jBtf72MRXxK5"
      },
      "source": [
        "**dict.update()**\n",
        "\n",
        "Actualiza el diccionario y tambien sirve para ingresar un nuevo elemento"
      ]
    },
    {
      "cell_type": "code",
      "execution_count": null,
      "metadata": {
        "colab": {
          "base_uri": "https://localhost:8080/"
        },
        "id": "ecgNWqw3P-TU",
        "outputId": "6d0c14bc-6e8c-41d8-ef89-8826cdb8b81b"
      },
      "outputs": [
        {
          "data": {
            "text/plain": [
              "{'Jetta Variant': 88078.64,\n",
              " 'Passat': 106161.94,\n",
              " 'Crossfox': 72832.16,\n",
              " 'DS5': 124549.07}"
            ]
          },
          "execution_count": 195,
          "metadata": {},
          "output_type": "execute_result"
        }
      ],
      "source": [
        "datos.update({'DS5':124549.07})\n",
        "datos"
      ]
    },
    {
      "cell_type": "code",
      "execution_count": null,
      "metadata": {
        "colab": {
          "base_uri": "https://localhost:8080/"
        },
        "id": "X7QH_q5XX_e-",
        "outputId": "d06f2025-efe3-497a-ab40-b0cf7c6edee2"
      },
      "outputs": [
        {
          "data": {
            "text/plain": [
              "{'Jetta Variant': 88078.64,\n",
              " 'Passat': 106161.94,\n",
              " 'Crossfox': 72832.16,\n",
              " 'DS5': 124549.1,\n",
              " 'Fusca': 150000}"
            ]
          },
          "execution_count": 196,
          "metadata": {},
          "output_type": "execute_result"
        }
      ],
      "source": [
        "datos.update({'DS5':124549.10, 'Fusca': 150000})\n",
        "datos"
      ]
    },
    {
      "cell_type": "markdown",
      "metadata": {
        "id": "T40tm_Q9X-z2"
      },
      "source": [
        "**dict.copy()**\n",
        "\n",
        "Realiza una copia a nuestro diccionario"
      ]
    },
    {
      "cell_type": "code",
      "execution_count": null,
      "metadata": {
        "id": "QQORQM8KY4xi"
      },
      "outputs": [],
      "source": [
        "datos_copy = datos.copy()"
      ]
    },
    {
      "cell_type": "code",
      "execution_count": null,
      "metadata": {
        "colab": {
          "base_uri": "https://localhost:8080/"
        },
        "id": "ASG-1M8EZG-c",
        "outputId": "a2429f02-c7a0-41d2-b1e8-80d272ea6d12"
      },
      "outputs": [
        {
          "data": {
            "text/plain": [
              "{'Jetta Variant': 88078.64,\n",
              " 'Passat': 106161.94,\n",
              " 'Crossfox': 72832.16,\n",
              " 'DS5': 124549.1,\n",
              " 'Fusca': 150000}"
            ]
          },
          "execution_count": 198,
          "metadata": {},
          "output_type": "execute_result"
        }
      ],
      "source": [
        "# Este diiccionario ahora es independiente al original\n",
        "datos_copy"
      ]
    },
    {
      "cell_type": "code",
      "execution_count": null,
      "metadata": {
        "id": "bT3ObgLtZXOO"
      },
      "outputs": [],
      "source": [
        "del datos_copy['Fusca']"
      ]
    },
    {
      "cell_type": "code",
      "execution_count": null,
      "metadata": {
        "colab": {
          "base_uri": "https://localhost:8080/"
        },
        "id": "FnEG246sZbXd",
        "outputId": "2b1598da-60c5-433c-9e45-b77ad550b9a2"
      },
      "outputs": [
        {
          "data": {
            "text/plain": [
              "{'Jetta Variant': 88078.64,\n",
              " 'Passat': 106161.94,\n",
              " 'Crossfox': 72832.16,\n",
              " 'DS5': 124549.1}"
            ]
          },
          "execution_count": 200,
          "metadata": {},
          "output_type": "execute_result"
        }
      ],
      "source": [
        "datos_copy"
      ]
    },
    {
      "cell_type": "code",
      "execution_count": null,
      "metadata": {
        "colab": {
          "base_uri": "https://localhost:8080/"
        },
        "id": "9pkAkmCJZKC0",
        "outputId": "22db1c37-63a9-4d7c-8579-ce1db6962f62"
      },
      "outputs": [
        {
          "data": {
            "text/plain": [
              "{'Jetta Variant': 88078.64,\n",
              " 'Passat': 106161.94,\n",
              " 'Crossfox': 72832.16,\n",
              " 'DS5': 124549.1,\n",
              " 'Fusca': 150000}"
            ]
          },
          "execution_count": 201,
          "metadata": {},
          "output_type": "execute_result"
        }
      ],
      "source": [
        "# En el diccionario original sigue apareciendo la llave 'Fusca'\n",
        "datos"
      ]
    },
    {
      "cell_type": "markdown",
      "metadata": {
        "id": "lIsq6E4DYALJ"
      },
      "source": [
        "**dict.pop[key[, default]]**\n",
        "\n",
        "Si la llave se encuentra en el diccionario, el elemento se elimina y se devuelve su valor. De lo contrario, se devuelve el valor especificado como default. Si no se proporciona el valor default y la llve no se encuentra en el diccionario se genera un error"
      ]
    },
    {
      "cell_type": "code",
      "execution_count": null,
      "metadata": {
        "colab": {
          "base_uri": "https://localhost:8080/"
        },
        "id": "CvKlRtFDYA0w",
        "outputId": "7febc217-51fd-4d0b-bd38-7917cf79eb9a"
      },
      "outputs": [
        {
          "data": {
            "text/plain": [
              "{'Jetta Variant': 88078.64,\n",
              " 'Passat': 106161.94,\n",
              " 'Crossfox': 72832.16,\n",
              " 'DS5': 124549.1}"
            ]
          },
          "execution_count": 202,
          "metadata": {},
          "output_type": "execute_result"
        }
      ],
      "source": [
        "datos_copy"
      ]
    },
    {
      "cell_type": "code",
      "execution_count": null,
      "metadata": {
        "colab": {
          "base_uri": "https://localhost:8080/"
        },
        "id": "Icgm7L8baTUP",
        "outputId": "5f07315b-e424-40f3-d0c3-ba0433928537"
      },
      "outputs": [
        {
          "data": {
            "text/plain": [
              "106161.94"
            ]
          },
          "execution_count": 203,
          "metadata": {},
          "output_type": "execute_result"
        }
      ],
      "source": [
        "datos_copy.pop('Passat')"
      ]
    },
    {
      "cell_type": "code",
      "execution_count": null,
      "metadata": {
        "colab": {
          "base_uri": "https://localhost:8080/"
        },
        "id": "lMc7kvJLacYp",
        "outputId": "c14c44f8-5354-42ce-a5ab-cc68678a925f"
      },
      "outputs": [
        {
          "data": {
            "text/plain": [
              "{'Jetta Variant': 88078.64, 'Crossfox': 72832.16, 'DS5': 124549.1}"
            ]
          },
          "execution_count": 204,
          "metadata": {},
          "output_type": "execute_result"
        }
      ],
      "source": [
        "datos_copy"
      ]
    },
    {
      "cell_type": "code",
      "execution_count": null,
      "metadata": {
        "colab": {
          "base_uri": "https://localhost:8080/",
          "height": 35
        },
        "id": "Kd8q9KhUaUSS",
        "outputId": "b7113561-e573-4d7e-bd4d-68627132ff04"
      },
      "outputs": [
        {
          "data": {
            "application/vnd.google.colaboratory.intrinsic+json": {
              "type": "string"
            },
            "text/plain": [
              "'La llave no fue encontrada'"
            ]
          },
          "execution_count": 205,
          "metadata": {},
          "output_type": "execute_result"
        }
      ],
      "source": [
        "# Aqui modificamos el mensaje de error\n",
        "datos_copy.pop('Passat', 'La llave no fue encontrada')"
      ]
    },
    {
      "cell_type": "markdown",
      "metadata": {
        "id": "WUH5iUGqa0kz"
      },
      "source": [
        "**dict.clear()**\n",
        "\n",
        "Borra todos los itens del diccionario"
      ]
    },
    {
      "cell_type": "code",
      "execution_count": null,
      "metadata": {
        "id": "ecWooEENaz9o"
      },
      "outputs": [],
      "source": [
        "datos_copy.clear()"
      ]
    },
    {
      "cell_type": "code",
      "execution_count": null,
      "metadata": {
        "colab": {
          "base_uri": "https://localhost:8080/"
        },
        "id": "99qBhqpGa-xn",
        "outputId": "e8b3ced9-a5fd-4f76-c61c-fc6512a0ea34"
      },
      "outputs": [
        {
          "data": {
            "text/plain": [
              "{}"
            ]
          },
          "execution_count": 207,
          "metadata": {},
          "output_type": "execute_result"
        }
      ],
      "source": [
        "datos_copy"
      ]
    },
    {
      "cell_type": "markdown",
      "metadata": {
        "id": "MSUFxEIiJ75V"
      },
      "source": [
        "**Interando diccionarios**"
      ]
    },
    {
      "cell_type": "code",
      "execution_count": null,
      "metadata": {
        "colab": {
          "base_uri": "https://localhost:8080/"
        },
        "id": "nhg-SwvxJ_uE",
        "outputId": "85fe368b-5d73-4a4e-94ef-e3e667ab9684"
      },
      "outputs": [
        {
          "data": {
            "text/plain": [
              "{'Crossfox': 72832.16,\n",
              " 'DS5': 124549.1,\n",
              " 'Fusca': 150000,\n",
              " 'Jetta Variant': 88078.64,\n",
              " 'Passat': 106161.94}"
            ]
          },
          "execution_count": 208,
          "metadata": {},
          "output_type": "execute_result"
        }
      ],
      "source": [
        "datos = {'Crossfox': 72832.16,'DS5': 124549.1,'Fusca': 150000, 'Jetta Variant': 88078.64, 'Passat': 106161.94}\n",
        "datos"
      ]
    },
    {
      "cell_type": "markdown",
      "metadata": {
        "id": "YvTbrGGZbzUj"
      },
      "source": [
        "**dict.keys()**\n",
        "\n",
        "Devuelve una lista con las llaves (keys) del diccionario"
      ]
    },
    {
      "cell_type": "code",
      "execution_count": null,
      "metadata": {
        "colab": {
          "base_uri": "https://localhost:8080/"
        },
        "id": "7XPf14Rmbdrc",
        "outputId": "8bedacf7-f72b-40c1-8638-42e69d71ee41"
      },
      "outputs": [
        {
          "data": {
            "text/plain": [
              "dict_keys(['Crossfox', 'DS5', 'Fusca', 'Jetta Variant', 'Passat'])"
            ]
          },
          "execution_count": 209,
          "metadata": {},
          "output_type": "execute_result"
        }
      ],
      "source": [
        "datos.keys()"
      ]
    },
    {
      "cell_type": "code",
      "execution_count": null,
      "metadata": {
        "colab": {
          "base_uri": "https://localhost:8080/"
        },
        "id": "Q3x4yCPRcAhL",
        "outputId": "86270a6a-a5b5-4199-dcbf-a321a039937b"
      },
      "outputs": [
        {
          "name": "stdout",
          "output_type": "stream",
          "text": [
            "Crossfox\n",
            "DS5\n",
            "Fusca\n",
            "Jetta Variant\n",
            "Passat\n"
          ]
        }
      ],
      "source": [
        "for key in datos.keys():\n",
        "  print(key)"
      ]
    },
    {
      "cell_type": "markdown",
      "metadata": {
        "id": "l6QBpiRYb_3N"
      },
      "source": [
        "**dict.values()**\n",
        "\n",
        "Devuelve una lista con los valores (values) del diccionario"
      ]
    },
    {
      "cell_type": "code",
      "execution_count": null,
      "metadata": {
        "colab": {
          "base_uri": "https://localhost:8080/"
        },
        "id": "WwY_fbwzcM69",
        "outputId": "1854567e-178c-444e-874d-16e0a208df0f"
      },
      "outputs": [
        {
          "data": {
            "text/plain": [
              "dict_values([72832.16, 124549.1, 150000, 88078.64, 106161.94])"
            ]
          },
          "execution_count": 211,
          "metadata": {},
          "output_type": "execute_result"
        }
      ],
      "source": [
        "datos.values()"
      ]
    },
    {
      "cell_type": "code",
      "execution_count": null,
      "metadata": {
        "colab": {
          "base_uri": "https://localhost:8080/"
        },
        "id": "RAAGp-xIc4Op",
        "outputId": "1a39b205-2f67-4820-a521-bdb01b8d152c"
      },
      "outputs": [
        {
          "name": "stdout",
          "output_type": "stream",
          "text": [
            "72832.16\n",
            "124549.1\n",
            "150000\n",
            "88078.64\n",
            "106161.94\n"
          ]
        }
      ],
      "source": [
        "for value in datos.values():\n",
        "  print(value)"
      ]
    },
    {
      "cell_type": "markdown",
      "metadata": {
        "id": "gWNZitfecBO9"
      },
      "source": [
        "**dict.items()**\n",
        "\n",
        "Devuelve una lista con una tupla para cada par llave-valor (key-value) del diccionario"
      ]
    },
    {
      "cell_type": "code",
      "execution_count": null,
      "metadata": {
        "colab": {
          "base_uri": "https://localhost:8080/"
        },
        "id": "AzDKBlkzbddw",
        "outputId": "91ead556-f3fd-40cf-f10e-dd76392dac1d"
      },
      "outputs": [
        {
          "data": {
            "text/plain": [
              "dict_items([('Crossfox', 72832.16), ('DS5', 124549.1), ('Fusca', 150000), ('Jetta Variant', 88078.64), ('Passat', 106161.94)])"
            ]
          },
          "execution_count": 213,
          "metadata": {},
          "output_type": "execute_result"
        }
      ],
      "source": [
        "datos.items()"
      ]
    },
    {
      "cell_type": "code",
      "execution_count": null,
      "metadata": {
        "colab": {
          "base_uri": "https://localhost:8080/"
        },
        "id": "BZde5COldYB7",
        "outputId": "19a1df7a-6978-45d0-d8f5-ae71e08e93c3"
      },
      "outputs": [
        {
          "name": "stdout",
          "output_type": "stream",
          "text": [
            "('Crossfox', 72832.16)\n",
            "('DS5', 124549.1)\n",
            "('Fusca', 150000)\n",
            "('Jetta Variant', 88078.64)\n",
            "('Passat', 106161.94)\n"
          ]
        }
      ],
      "source": [
        "for item in datos.items():\n",
        "  print(item)"
      ]
    },
    {
      "cell_type": "markdown",
      "metadata": {
        "id": "VlITff63dhwa"
      },
      "source": [
        "Ya que nos devulve los elemntos en tuplas, ahora hay que desempacarlas"
      ]
    },
    {
      "cell_type": "code",
      "execution_count": null,
      "metadata": {
        "colab": {
          "base_uri": "https://localhost:8080/"
        },
        "id": "P52pS-0ldpUM",
        "outputId": "c188d715-8555-4c71-e93f-648a4433dd25"
      },
      "outputs": [
        {
          "name": "stdout",
          "output_type": "stream",
          "text": [
            "Crossfox -> 72832.16\n",
            "DS5 -> 124549.1\n",
            "Fusca -> 150000\n",
            "Jetta Variant -> 88078.64\n",
            "Passat -> 106161.94\n"
          ]
        }
      ],
      "source": [
        "for key, value in datos.items():\n",
        "  print(key, '->', value)"
      ]
    },
    {
      "cell_type": "markdown",
      "metadata": {
        "id": "4hcdgVHBd86J"
      },
      "source": [
        "Ahora podemos hacer operaciones con los elementos"
      ]
    },
    {
      "cell_type": "code",
      "execution_count": null,
      "metadata": {
        "colab": {
          "base_uri": "https://localhost:8080/"
        },
        "id": "8pHlW-WLd6se",
        "outputId": "0cb166a4-ce59-4555-fe7e-937713dbea84"
      },
      "outputs": [
        {
          "name": "stdout",
          "output_type": "stream",
          "text": [
            "DS5\n",
            "Fusca\n",
            "Passat\n"
          ]
        }
      ],
      "source": [
        "for key, value in datos.items():\n",
        "  if (value) > 100000:\n",
        "   print(key)"
      ]
    },
    {
      "cell_type": "markdown",
      "metadata": {
        "id": "Ib8yyTq2AWum"
      },
      "source": [
        "**5.2.4. Conjuntos (set)**\n"
      ]
    },
    {
      "cell_type": "markdown",
      "metadata": {
        "id": "NAFloMF9AcKd"
      },
      "source": [
        "Los conjuntos son colecciones no ordenadas de elementos únicos. Se definen con llaves { } o la función set(). Ejemplos:"
      ]
    },
    {
      "cell_type": "code",
      "execution_count": null,
      "metadata": {
        "id": "YsmZ1it3AbZZ"
      },
      "outputs": [],
      "source": [
        "mi_conjunto = {1, 2, 3, 4, 5}\n",
        "letras_únicas = set(\"abracadabra\")  # Crea un conjunto de letras únicas"
      ]
    },
    {
      "cell_type": "code",
      "execution_count": null,
      "metadata": {
        "colab": {
          "base_uri": "https://localhost:8080/"
        },
        "id": "W2S1mRzGAfT1",
        "outputId": "4dd8cd1d-cbf5-4095-839f-3236dd0d0e24"
      },
      "outputs": [
        {
          "data": {
            "text/plain": [
              "set"
            ]
          },
          "execution_count": 218,
          "metadata": {},
          "output_type": "execute_result"
        }
      ],
      "source": [
        "type(mi_conjunto)"
      ]
    },
    {
      "cell_type": "code",
      "execution_count": null,
      "metadata": {
        "colab": {
          "base_uri": "https://localhost:8080/"
        },
        "id": "77y6kTR_AfKe",
        "outputId": "ac1aa26f-37eb-48c7-f5f6-0b4fa2103419"
      },
      "outputs": [
        {
          "data": {
            "text/plain": [
              "set"
            ]
          },
          "execution_count": 219,
          "metadata": {},
          "output_type": "execute_result"
        }
      ],
      "source": [
        "type(letras_únicas)"
      ]
    },
    {
      "cell_type": "markdown",
      "metadata": {
        "id": "WkVpriAkAq-b"
      },
      "source": [
        "**Operaciones con Conjuntos:**\n",
        "\n",
        "* Agregar elementos: mi_conjunto.add(6) agrega un elemento al conjunto.\n",
        "* Eliminar elementos: mi_conjunto.remove(3) elimina el elemento 3 del conjunto.\n",
        "* Operaciones de conjuntos, como unión, intersección y diferencia.\n",
        "\n",
        "Estas estructuras de datos son esenciales en Python y te permiten organizar y manipular datos de manera eficiente en tus programas. Cada una tiene sus propias características y se adapta a diferentes situaciones de programación."
      ]
    },
    {
      "cell_type": "markdown",
      "metadata": {
        "id": "DwwsHucnCiBN"
      },
      "source": [
        "# **Módulo 2: Fundamentos de Programación**"
      ]
    },
    {
      "cell_type": "markdown",
      "metadata": {
        "id": "uVxM6ZLtz7Q7"
      },
      "source": [
        "# **6. Indentacion, Comentarios, Formatacion y Concatenar**"
      ]
    },
    {
      "cell_type": "markdown",
      "metadata": {
        "id": "PjrPLLmj09Xx"
      },
      "source": [
        "**6.1. ¿Que es la indentacion?**"
      ]
    },
    {
      "cell_type": "markdown",
      "metadata": {
        "id": "rOlo950C1Fdf"
      },
      "source": [
        "La indentación en Python se refiere al espacio en blanco al principio de una línea de código. A diferencia de muchos otros lenguajes de programación que utilizan llaves o palabras clave para definir bloques de código, Python utiliza la indentación para indicar la estructura y la jerarquía de su código."
      ]
    },
    {
      "cell_type": "markdown",
      "metadata": {
        "id": "Qj1R3MA81s3L"
      },
      "source": [
        "1. **Definir Bloques de Código:** La indentación se utiliza para agrupar instrucciones en bloques de código. Un bloque de código es un conjunto de instrucciones que se ejecutan juntas como una unidad lógica. Los bloques de código se utilizan en estructuras de control como bucles (**for y while**) y condicionales (**if, else, elif**).\n",
        "\n",
        "**Ejemplo:**"
      ]
    },
    {
      "cell_type": "code",
      "execution_count": null,
      "metadata": {
        "colab": {
          "base_uri": "https://localhost:8080/"
        },
        "id": "kU_fdZ0T1tUA",
        "outputId": "22ac4535-ab3e-4f27-ca02-2db81c2e5092"
      },
      "outputs": [
        {
          "name": "stdout",
          "output_type": "stream",
          "text": [
            "0\n",
            "1\n",
            "2\n",
            "3\n",
            "4\n"
          ]
        }
      ],
      "source": [
        "for i in range(5):\n",
        "    # Este bloque de código está indentado\n",
        "    print(i)  # Las instrucciones dentro del bloque están indentadas\n",
        "# El bloque de código anterior se cierra aquí\n"
      ]
    },
    {
      "cell_type": "markdown",
      "metadata": {
        "id": "5NBnCIES1tsg"
      },
      "source": [
        "2. **Mejorar la Legibilidad:** La indentación mejora la legibilidad del código, ya que ayuda a los programadores a visualizar la estructura del programa de manera más clara. Los bloques de código indentados son más fáciles de entender y mantener.\n",
        "\n",
        "3. **Enfatizar la Estructura:** La indentación ayuda a enfatizar la estructura jerárquica del código, lo que facilita la comprensión de cómo las diferentes partes del programa interactúan entre sí.\n",
        "\n",
        "Es importante utilizar la misma cantidad de espacio en blanco para la indentación en todo el código (generalmente se utilizan 4 espacios por nivel de indentación) para evitar errores de sintaxis. Python es sensible a la indentación, lo que significa que la cantidad de espacios en blanco al principio de una línea de código determina su nivel de anidación y pertenencia a un bloque de código en particular.\n",
        "\n",
        "Aquí hay un ejemplo adicional que muestra cómo se utiliza la indentación en una estructura de control **if**:"
      ]
    },
    {
      "cell_type": "code",
      "execution_count": null,
      "metadata": {
        "colab": {
          "base_uri": "https://localhost:8080/"
        },
        "id": "rbFLEMGJ1uH_",
        "outputId": "9b63d7c5-9958-4e03-fc5d-9ac2bf128753"
      },
      "outputs": [
        {
          "name": "stdout",
          "output_type": "stream",
          "text": [
            "x no es mayor que 5\n"
          ]
        }
      ],
      "source": [
        "x= 5\n",
        "if x > 5:\n",
        "    # Este bloque de código se ejecuta si x es mayor que 5\n",
        "    print(\"x es mayor que 5\")\n",
        "else:\n",
        "    # Este bloque de código se ejecuta si x no es mayor que 5\n",
        "    print(\"x no es mayor que 5\")\n",
        "# El bloque de código de la estructura condicional se cierra aquí\n"
      ]
    },
    {
      "cell_type": "markdown",
      "metadata": {
        "id": "NMPKvgYB1umX"
      },
      "source": [
        "La indentación es una característica distintiva de Python que fomenta la escritura de código limpio y legible."
      ]
    },
    {
      "cell_type": "markdown",
      "metadata": {
        "id": "_lP0fWYI2jep"
      },
      "source": [
        "**6.2.  Comentarios**"
      ]
    },
    {
      "cell_type": "markdown",
      "metadata": {
        "id": "QKcbg-eb2uJa"
      },
      "source": [
        "Los comentarios en Python son fragmentos de texto que se utilizan para explicar o documentar el código fuente. Los comentarios son ignorados por el intérprete de Python y no afectan la ejecución del programa. Son útiles para proporcionar información adicional, aclaraciones o documentación sobre el código, lo que facilita la comprensión y el mantenimiento del mismo.\n",
        "\n",
        "En Python, existen dos tipos principales de comentarios:"
      ]
    },
    {
      "cell_type": "markdown",
      "metadata": {
        "id": "ZwvDKMvw3AVJ"
      },
      "source": [
        "1. **Comentarios de una línea:** Estos comentarios se utilizan para agregar explicaciones breves o aclaraciones a una línea específica de código. Se crean utilizando el símbolo **#** y todo lo que sigue después de **#** en la misma línea se considera un comentario.\n",
        "\n",
        "**Ejemplo:**"
      ]
    },
    {
      "cell_type": "code",
      "execution_count": null,
      "metadata": {
        "id": "ePWD4ZbF2tsi"
      },
      "outputs": [],
      "source": [
        "# Esto es un comentario de una línea\n",
        "numero = 42  # Asigna el valor 42 a la variable 'numero'"
      ]
    },
    {
      "cell_type": "markdown",
      "metadata": {
        "id": "OqWULyEX3K-a"
      },
      "source": [
        "2. **Comentarios de varias líneas o bloques:** Estos comentarios se utilizan para documentar secciones más extensas de código o para comentarios multilinea. Se crean utilizando triple comilla doble **(''')** o triple comilla simple **(''')** al principio y al final del bloque de comentario.\n",
        "\n",
        "**Ejemplo:**"
      ]
    },
    {
      "cell_type": "code",
      "execution_count": null,
      "metadata": {
        "colab": {
          "base_uri": "https://localhost:8080/",
          "height": 35
        },
        "id": "br_0qsoJ3LZk",
        "outputId": "557f082d-49e9-4f39-d1bc-d7c875e75dea"
      },
      "outputs": [
        {
          "data": {
            "application/vnd.google.colaboratory.intrinsic+json": {
              "type": "string"
            },
            "text/plain": [
              "'\\nEste es un comentario\\nde varias líneas.\\n\\nPuede contener múltiples líneas\\nde texto descriptivo.\\n'"
            ]
          },
          "execution_count": 223,
          "metadata": {},
          "output_type": "execute_result"
        }
      ],
      "source": [
        "'''\n",
        "Este es un comentario\n",
        "de varias líneas.\n",
        "\n",
        "Puede contener múltiples líneas\n",
        "de texto descriptivo.\n",
        "'''\n"
      ]
    },
    {
      "cell_type": "markdown",
      "metadata": {
        "id": "u3JQpykU3Lxl"
      },
      "source": [
        "Los comentarios son una práctica recomendada en programación porque ayudan a otros programadores (y a ti mismo en el futuro) a comprender rápidamente lo que hace el código y por qué se escribió de esa manera. También son útiles para proporcionar información de contexto sobre variables, funciones, algoritmos y más. Es importante mantener los comentarios actualizados a medida que el código evoluciona para que sigan siendo útiles y precisos."
      ]
    },
    {
      "cell_type": "markdown",
      "metadata": {
        "id": "pAhy4Uuo2q1G"
      },
      "source": [
        "**6.3. Formatacion**"
      ]
    },
    {
      "cell_type": "markdown",
      "metadata": {
        "id": "RfczuBjG2vhF"
      },
      "source": [
        "La formatación en Python se refiere a la forma en que se presenta y organiza el texto o los datos en la salida de un programa. Es una parte importante de la programación, especialmente cuando se trata de mostrar información a los usuarios o guardar datos en archivos de texto con un formato específico. La formatación se realiza utilizando diferentes técnicas y métodos para garantizar que la salida sea legible y cumpla con los requisitos deseados."
      ]
    },
    {
      "cell_type": "markdown",
      "metadata": {
        "id": "xDdglRw25cqj"
      },
      "source": [
        "Algunas de las técnicas y enfoques comunes de formateo en Python:"
      ]
    },
    {
      "cell_type": "markdown",
      "metadata": {
        "id": "ATtyUt8v5fO0"
      },
      "source": [
        "1. **Interpolación de Cadenas:** Python permite insertar valores en una cadena de texto utilizando marcadores de posición, como **%s** para cadenas y **%d** para enteros. Esto se logra mediante el operador **%**.\n",
        "\n",
        "**Ejemplo:**"
      ]
    },
    {
      "cell_type": "code",
      "execution_count": null,
      "metadata": {
        "colab": {
          "base_uri": "https://localhost:8080/"
        },
        "id": "4CNoohFk2vSO",
        "outputId": "270b5775-c558-4765-bd5d-04e99c9c55a3"
      },
      "outputs": [
        {
          "name": "stdout",
          "output_type": "stream",
          "text": [
            "Hola, mi nombre es Juan y tengo 30 años.\n"
          ]
        }
      ],
      "source": [
        "nombre = \"Juan\"\n",
        "edad = 30\n",
        "print(\"Hola, mi nombre es %s y tengo %d años.\" % (nombre, edad))"
      ]
    },
    {
      "cell_type": "markdown",
      "metadata": {
        "id": "N1V2mOCX5f0D"
      },
      "source": [
        "2. **F-Strings (Cadenas f):** A partir de Python 3.6, puedes utilizar f-strings para realizar interpolación de cadenas de manera más legible y expresiva. Las f-strings se crean anteponiendo una **'f' o 'F'** antes de la cadena y utilizando llaves **{}** para encerrar las expresiones.\n",
        "\n",
        "**Observacion:** Esta es una de la mas utilizadas y faciles de usar ✌\n",
        "\n",
        "**Ejemplo:**"
      ]
    },
    {
      "cell_type": "code",
      "execution_count": null,
      "metadata": {
        "colab": {
          "base_uri": "https://localhost:8080/"
        },
        "id": "dzMjbfPY5gLy",
        "outputId": "f7d22521-4ba5-4d9a-87a3-89f094e496d5"
      },
      "outputs": [
        {
          "name": "stdout",
          "output_type": "stream",
          "text": [
            "Hola, mi nombre es Juan y tengo 30 años.\n"
          ]
        }
      ],
      "source": [
        "nombre = \"Juan\"\n",
        "edad = 30\n",
        "print(f\"Hola, mi nombre es {nombre} y tengo {edad} años.\")"
      ]
    },
    {
      "cell_type": "markdown",
      "metadata": {
        "id": "ZJ1hSQ5V5gj8"
      },
      "source": [
        "3. **Métodos de Formateo de Cadenas:** Python proporciona métodos de formateo para cadenas de texto, como **str.format()**.\n",
        "\n",
        "**Ejemplo:**"
      ]
    },
    {
      "cell_type": "code",
      "execution_count": null,
      "metadata": {
        "colab": {
          "base_uri": "https://localhost:8080/"
        },
        "id": "0EUn8m2H5g9v",
        "outputId": "aba695bf-266e-4b0a-c51d-38224ee78004"
      },
      "outputs": [
        {
          "name": "stdout",
          "output_type": "stream",
          "text": [
            "Hola, mi nombre es Juan y tengo 30 años.\n"
          ]
        }
      ],
      "source": [
        "nombre = \"Juan\"\n",
        "edad = 30\n",
        "print(\"Hola, mi nombre es {} y tengo {} años.\".format(nombre, edad))"
      ]
    },
    {
      "cell_type": "markdown",
      "metadata": {
        "id": "6setzmQr6RIe"
      },
      "source": [
        "4. **Módulo format():** El método **str.format()** y el módulo **format()** permiten especificar formatos precisos para los valores que se insertarán en la cadena. Por ejemplo, se pueden controlar el número de decimales en números flotantes.\n",
        "\n",
        "**Ejemplo:**"
      ]
    },
    {
      "cell_type": "code",
      "execution_count": null,
      "metadata": {
        "colab": {
          "base_uri": "https://localhost:8080/"
        },
        "id": "RkWw20tx6Rn7",
        "outputId": "8acf4597-4f52-47e7-a607-2a18bc85eb6e"
      },
      "outputs": [
        {
          "name": "stdout",
          "output_type": "stream",
          "text": [
            "El precio es 19.990 dólares.\n"
          ]
        }
      ],
      "source": [
        "precio = 19.99\n",
        "print(\"El precio es {:.3f} dólares.\".format(precio))"
      ]
    },
    {
      "cell_type": "markdown",
      "metadata": {
        "id": "IXjWCbGa6pAu"
      },
      "source": [
        "5. **Salida de Datos Tabulados:** Para mostrar datos en forma tabular, puedes utilizar tablas ASCII o bibliotecas de formateo de tablas como **tabulate** o **prettytable**.\n",
        "\n",
        "**Ejemplo con tabulate**"
      ]
    },
    {
      "cell_type": "code",
      "execution_count": null,
      "metadata": {
        "colab": {
          "base_uri": "https://localhost:8080/"
        },
        "id": "ZvqQfzf76pfD",
        "outputId": "0af1bc08-8fcb-49c2-a8ee-a883c23717d6"
      },
      "outputs": [
        {
          "name": "stdout",
          "output_type": "stream",
          "text": [
            "+----------+--------+\n",
            "| Nombre   |   Edad |\n",
            "+==========+========+\n",
            "| Juan     |     30 |\n",
            "+----------+--------+\n",
            "| Ana      |     25 |\n",
            "+----------+--------+\n",
            "| Carlos   |     35 |\n",
            "+----------+--------+\n"
          ]
        }
      ],
      "source": [
        "# Aqui estamos llamando a una biblioteca, esto lo veremos mas adelante\n",
        "from tabulate import tabulate\n",
        "\n",
        "datos = [(\"Juan\", 30), (\"Ana\", 25), (\"Carlos\", 35)]\n",
        "print(tabulate(datos, headers=[\"Nombre\", \"Edad\"], tablefmt=\"grid\"))"
      ]
    },
    {
      "cell_type": "markdown",
      "metadata": {
        "id": "dPtPm9Yx67U6"
      },
      "source": [
        "El formateo en Python es una habilidad importante para presentar datos y resultados de manera legible y profesional. Los diferentes enfoques y técnicas de formateo pueden adaptarse a las necesidades específicas de tu programa o proyecto"
      ]
    },
    {
      "cell_type": "markdown",
      "metadata": {
        "id": "pvt1FzdVWrF4"
      },
      "source": [
        "**6.4. Concatenar**"
      ]
    },
    {
      "cell_type": "markdown",
      "metadata": {
        "id": "0080XerSWr41"
      },
      "source": [
        "\n",
        "La concatenación se refiere a la acción de combinar o unir cadenas de texto en Python. Es una operación común cuando se necesita crear una cadena más larga a partir de dos o más cadenas individuales. Python proporciona varias formas de concatenar cadenas:"
      ]
    },
    {
      "cell_type": "markdown",
      "metadata": {
        "id": "wtGhoH3EW2vo"
      },
      "source": [
        "**Operador +:** Puedes utilizar el operador + para concatenar dos o más cadenas. Esto simplemente une las cadenas en el orden en que se especifican.\n",
        "\n",
        "**Ejemplo:**"
      ]
    },
    {
      "cell_type": "code",
      "execution_count": null,
      "metadata": {
        "colab": {
          "base_uri": "https://localhost:8080/",
          "height": 35
        },
        "id": "26LB1JiFW3yU",
        "outputId": "d6d3606f-72e7-4559-c190-6c526d81e6f3"
      },
      "outputs": [
        {
          "data": {
            "application/vnd.google.colaboratory.intrinsic+json": {
              "type": "string"
            },
            "text/plain": [
              "'Hola, mundo!'"
            ]
          },
          "execution_count": 230,
          "metadata": {},
          "output_type": "execute_result"
        }
      ],
      "source": [
        "cadena1 = \"Hola, \"\n",
        "cadena2 = \"mundo!\"\n",
        "resultado = cadena1 + cadena2\n",
        "resultado"
      ]
    },
    {
      "cell_type": "markdown",
      "metadata": {
        "id": "Ez3f71J4W4IL"
      },
      "source": [
        "**Operador:** Puedes utilizar el operador para repetir una cadena múltiples veces.\n",
        "\n",
        "**Ejemplo:**"
      ]
    },
    {
      "cell_type": "code",
      "execution_count": null,
      "metadata": {
        "colab": {
          "base_uri": "https://localhost:8080/",
          "height": 35
        },
        "id": "BDLaGFaQXQ1d",
        "outputId": "ed43ab0f-8771-43e8-c333-d99871b476bb"
      },
      "outputs": [
        {
          "data": {
            "application/vnd.google.colaboratory.intrinsic+json": {
              "type": "string"
            },
            "text/plain": [
              "'Python Python Python '"
            ]
          },
          "execution_count": 231,
          "metadata": {},
          "output_type": "execute_result"
        }
      ],
      "source": [
        "cadena = \"Python \"\n",
        "resultado = cadena * 3\n",
        "resultado"
      ]
    },
    {
      "cell_type": "markdown",
      "metadata": {
        "id": "tsffQRXkXg9g"
      },
      "source": [
        "**Método str.join():** Puedes utilizar el método **join()** de las cadenas para concatenar una lista de cadenas en una sola cadena, utilizando una cadena separadora como delimitador."
      ]
    },
    {
      "cell_type": "code",
      "execution_count": null,
      "metadata": {
        "colab": {
          "base_uri": "https://localhost:8080/",
          "height": 35
        },
        "id": "Vb3dW9ymXgU3",
        "outputId": "e5fd1ab2-c11c-42cd-a637-305c33354649"
      },
      "outputs": [
        {
          "data": {
            "application/vnd.google.colaboratory.intrinsic+json": {
              "type": "string"
            },
            "text/plain": [
              "'Hola a todos'"
            ]
          },
          "execution_count": 232,
          "metadata": {},
          "output_type": "execute_result"
        }
      ],
      "source": [
        "palabras = [\"Hola\", \"a\", \"todos\"]\n",
        "resultado = \" \".join(palabras)\n",
        "resultado"
      ]
    },
    {
      "cell_type": "markdown",
      "metadata": {
        "id": "CHy-nJ80L3_r"
      },
      "source": [
        "#**7. Funciones**"
      ]
    },
    {
      "cell_type": "markdown",
      "metadata": {
        "id": "pVOoMLsEMPoj"
      },
      "source": [
        "Una función es un bloque de código reutilizable que realiza una tarea específica. Las funciones permiten organizar el código en piezas más pequeñas y manejables, lo que facilita su comprensión y mantenimiento. Una función puede recibir argumentos (valores de entrada), realizar operaciones y devolver un resultado (valor de salida) opcional."
      ]
    },
    {
      "cell_type": "markdown",
      "metadata": {
        "id": "Z9fz0aRAvlu1"
      },
      "source": [
        "**Built-in function:** Una función que ya existe y esta disponible dentro del lenguaje Python. No necesitamos crearla. Ya está disponible, solo tenemos que utilizarla.\n",
        "\n",
        "En el lenguaje Python tiene varias funciones integradas que siempre estan accesibles. Algunas ya las usamos en nuestro entrenamiento: **type(), print(), zip(), len(), set() etc.**"
      ]
    },
    {
      "cell_type": "markdown",
      "metadata": {
        "id": "QqguSxU2arbO"
      },
      "source": [
        "**Ejemplo:** En este ejemplo analizaremos lo que pasaria si no existieran las **Built-in fuction**"
      ]
    },
    {
      "cell_type": "code",
      "execution_count": null,
      "metadata": {
        "colab": {
          "base_uri": "https://localhost:8080/"
        },
        "id": "LOVTaVw3vntz",
        "outputId": "6d5264d7-65d8-4248-f3a7-8c068d662b5b"
      },
      "outputs": [
        {
          "data": {
            "text/plain": [
              "{'Jetta Variant': 88078.64, 'Passat': 106161.94, 'Crossfox': 72832.16}"
            ]
          },
          "execution_count": 233,
          "metadata": {},
          "output_type": "execute_result"
        }
      ],
      "source": [
        "datos = {'Jetta Variant':88078.64,'Passat':106161.94,'Crossfox': 72832.16}\n",
        "datos"
      ]
    },
    {
      "cell_type": "code",
      "execution_count": null,
      "metadata": {
        "colab": {
          "base_uri": "https://localhost:8080/"
        },
        "id": "OBWuiqj0wfF9",
        "outputId": "4ccb2cb4-fbc9-489d-df71-dd525837e71b"
      },
      "outputs": [
        {
          "data": {
            "text/plain": [
              "[88078.64, 106161.94, 72832.16]"
            ]
          },
          "execution_count": 234,
          "metadata": {},
          "output_type": "execute_result"
        }
      ],
      "source": [
        "valores = []\n",
        "for valor in datos.values():\n",
        "  valores.append(valor)\n",
        "\n",
        "valores"
      ]
    },
    {
      "cell_type": "code",
      "execution_count": null,
      "metadata": {
        "colab": {
          "base_uri": "https://localhost:8080/"
        },
        "id": "VpF4O7CKwexj",
        "outputId": "7260a28a-d49a-475b-b81e-024a2b95e4e0"
      },
      "outputs": [
        {
          "data": {
            "text/plain": [
              "267072.74"
            ]
          },
          "execution_count": 235,
          "metadata": {},
          "output_type": "execute_result"
        }
      ],
      "source": [
        "# Necesitamos la sumatoria de los valores\n",
        "suma = 0\n",
        "for valor in datos.values():\n",
        "  suma += valor\n",
        "\n",
        "suma"
      ]
    },
    {
      "cell_type": "markdown",
      "metadata": {
        "id": "OvoTbnZ-E904"
      },
      "source": [
        "**Ejemplo:** En este ejemplo haremos el mismo ejercicio pero con el uso de las **Built-in fuction** en este caso **sum()**"
      ]
    },
    {
      "cell_type": "markdown",
      "metadata": {
        "id": "JXszEhVMxnOk"
      },
      "source": [
        "**sum(iterable[, start])**"
      ]
    },
    {
      "cell_type": "markdown",
      "metadata": {
        "id": "HWkwpA56GmCB"
      },
      "source": [
        "* La función sum() se utiliza para calcular la suma de los elementos en un iterable, como una lista, tupla o rango.\n",
        "* Puedes proporcionar un segundo argumento opcional, start, que se suma al resultado final. Por defecto, start es igual a 0."
      ]
    },
    {
      "cell_type": "code",
      "execution_count": null,
      "metadata": {
        "colab": {
          "base_uri": "https://localhost:8080/"
        },
        "id": "5q7jKRIZwekc",
        "outputId": "3f5c71ed-cb45-472d-b47c-068f78c3dbf3"
      },
      "outputs": [
        {
          "data": {
            "text/plain": [
              "[88078.64, 106161.94, 72832.16]"
            ]
          },
          "execution_count": 236,
          "metadata": {},
          "output_type": "execute_result"
        }
      ],
      "source": [
        "list(datos.values())"
      ]
    },
    {
      "cell_type": "code",
      "execution_count": null,
      "metadata": {
        "colab": {
          "base_uri": "https://localhost:8080/"
        },
        "id": "BGmq5UPKweRx",
        "outputId": "468e2103-016a-4a56-e2ff-a2429ad41843"
      },
      "outputs": [
        {
          "data": {
            "text/plain": [
              "267072.74"
            ]
          },
          "execution_count": 237,
          "metadata": {},
          "output_type": "execute_result"
        }
      ],
      "source": [
        "sum(datos.values())"
      ]
    },
    {
      "cell_type": "markdown",
      "metadata": {
        "id": "6GSn_5CQF2zS"
      },
      "source": [
        "**help()**"
      ]
    },
    {
      "cell_type": "markdown",
      "metadata": {
        "id": "iL6qzw0GGu6W"
      },
      "source": [
        "* La función help() se utiliza para obtener información sobre objetos, módulos, funciones, métodos y otros elementos en Python.\n",
        "* Puedes pasar un argumento opcional para obtener ayuda específica sobre ese objeto. Si no se proporciona ningún argumento, help() proporciona una especie de shell de ayuda interactiva que te permite explorar y buscar información."
      ]
    },
    {
      "cell_type": "code",
      "execution_count": null,
      "metadata": {
        "colab": {
          "base_uri": "https://localhost:8080/"
        },
        "id": "vITuC0h-GEGg",
        "outputId": "23566ab7-9124-471f-cf6d-515ef858f9da"
      },
      "outputs": [
        {
          "name": "stdout",
          "output_type": "stream",
          "text": [
            "Help on built-in function print in module builtins:\n",
            "\n",
            "print(...)\n",
            "    print(value, ..., sep=' ', end='\\n', file=sys.stdout, flush=False)\n",
            "    \n",
            "    Prints the values to a stream, or to sys.stdout by default.\n",
            "    Optional keyword arguments:\n",
            "    file:  a file-like object (stream); defaults to the current sys.stdout.\n",
            "    sep:   string inserted between values, default a space.\n",
            "    end:   string appended after the last value, default a newline.\n",
            "    flush: whether to forcibly flush the stream.\n",
            "\n"
          ]
        }
      ],
      "source": [
        "help(print)"
      ]
    },
    {
      "cell_type": "code",
      "execution_count": null,
      "metadata": {
        "id": "9zX0KjT5GD1C"
      },
      "outputs": [],
      "source": [
        "print?"
      ]
    },
    {
      "cell_type": "markdown",
      "metadata": {
        "id": "HBuCsPrZG5fG"
      },
      "source": [
        "**Estructura de una funcion**"
      ]
    },
    {
      "cell_type": "markdown",
      "metadata": {
        "id": "mk7RKR9VEjmD"
      },
      "source": [
        "**Ejemplo**"
      ]
    },
    {
      "cell_type": "code",
      "execution_count": null,
      "metadata": {
        "id": "1E-nG09vMOwz"
      },
      "outputs": [],
      "source": [
        "def suma(a, b):\n",
        "    resultado = a + b\n",
        "    return resultado"
      ]
    },
    {
      "cell_type": "markdown",
      "metadata": {
        "id": "8owEARuBMnqE"
      },
      "source": [
        "En este ejemplo:\n",
        "\n",
        "\n",
        "\n",
        "*  **def** es la palabra clave que se utiliza para definir una función en Python.\n",
        "*   **suma** es el nombre de la función que hemos elegido.\n",
        "*   **(a, b)** son los parámetros de entrada que la función que recibira. Estos son los valores que pasamos a la función cuando la llamamos.\n",
        "*   **resultado = a + b** es la operación que realiza la función, en este caso, suma los valores de a y b y los almacena en la variable resultado.\n",
        "*  **return resultado** indica que la función devolverá el valor almacenado en la variable\n",
        "*  **resultado** como resultado de la operación.\n",
        "\n",
        "Ahora puedes llamar a esta función con diferentes valores:\n",
        "\n",
        "\n",
        "\n"
      ]
    },
    {
      "cell_type": "code",
      "execution_count": null,
      "metadata": {
        "colab": {
          "base_uri": "https://localhost:8080/"
        },
        "id": "Z7pm4DeiL-tA",
        "outputId": "722e3b12-cf81-43ec-ed02-bd7782e2a0e8"
      },
      "outputs": [
        {
          "data": {
            "text/plain": [
              "8"
            ]
          },
          "execution_count": 241,
          "metadata": {},
          "output_type": "execute_result"
        }
      ],
      "source": [
        "resultado1 = suma(5, 3)  # Llama a la función con a=5 y b=3\n",
        "resultado1  # Imprime el resultado, que será 8"
      ]
    },
    {
      "cell_type": "markdown",
      "metadata": {
        "id": "ls_-aYnYyASJ"
      },
      "source": [
        "**7.1 Funcion sin parametros**"
      ]
    },
    {
      "cell_type": "markdown",
      "metadata": {
        "id": "zR1gFMI4yEOe"
      },
      "source": [
        "Una función en Python que no toma ningún parámetro se define de la siguiente manera:\n",
        "Esta función no toma ningún argumento y siempre calcula la media de estos tres números específicos."
      ]
    },
    {
      "cell_type": "code",
      "execution_count": null,
      "metadata": {
        "colab": {
          "base_uri": "https://localhost:8080/",
          "height": 35
        },
        "id": "VZ6EgHu6yDrd",
        "outputId": "0a3b10b7-8105-4d1c-bb24-ad98383e172a"
      },
      "outputs": [
        {
          "data": {
            "application/vnd.google.colaboratory.intrinsic+json": {
              "type": "string"
            },
            "text/plain": [
              "'\\nSintaxis\\n\\ndef <nombre>():\\n  <instruccines>\\n'"
            ]
          },
          "execution_count": 242,
          "metadata": {},
          "output_type": "execute_result"
        }
      ],
      "source": [
        "'''\n",
        "Sintaxis\n",
        "\n",
        "def <nombre>():\n",
        "  <instruccines>\n",
        "'''"
      ]
    },
    {
      "cell_type": "code",
      "execution_count": null,
      "metadata": {
        "id": "52VXcOYByTeT"
      },
      "outputs": [],
      "source": [
        "def media():\n",
        "    # Calcula la media de 1, 2 y 3\n",
        "    valor = (1 + 2 + 3) / 3\n",
        "\n",
        "    # Imprime el valor de la media\n",
        "    print(valor)"
      ]
    },
    {
      "cell_type": "markdown",
      "metadata": {
        "id": "HkVFOxwdHn1d"
      },
      "source": [
        "Puedes llamar a esta función simplemente escribiendo media() en tu programa, y calculará la media y mostrará el resultado. Por ejemplo:"
      ]
    },
    {
      "cell_type": "code",
      "execution_count": null,
      "metadata": {
        "colab": {
          "base_uri": "https://localhost:8080/"
        },
        "id": "C0-Y8RQEypVd",
        "outputId": "0d46fa94-a98b-48e5-ffb8-dcc60f82b9b7"
      },
      "outputs": [
        {
          "name": "stdout",
          "output_type": "stream",
          "text": [
            "2.0\n"
          ]
        }
      ],
      "source": [
        "media()"
      ]
    },
    {
      "cell_type": "markdown",
      "metadata": {
        "id": "JGjbOLGKyxOt"
      },
      "source": [
        "**7.2 Funciones con parametros**"
      ]
    },
    {
      "cell_type": "markdown",
      "metadata": {
        "id": "zS0v5rr2Ic69"
      },
      "source": [
        "Las funciones en Python pueden tener parámetros que les permiten recibir información o datos que pueden utilizar en su cuerpo para realizar cálculos o tareas específicas. Aquí tienes un ejemplo de una función con parámetros:"
      ]
    },
    {
      "cell_type": "code",
      "execution_count": null,
      "metadata": {
        "colab": {
          "base_uri": "https://localhost:8080/",
          "height": 35
        },
        "id": "jGJidYUXzMrG",
        "outputId": "5802ea3e-ff95-403d-e256-07d344cb0fc7"
      },
      "outputs": [
        {
          "data": {
            "application/vnd.google.colaboratory.intrinsic+json": {
              "type": "string"
            },
            "text/plain": [
              "'\\nSintaxis\\n\\ndef <nombre>(<param_1>,<param_2>,.............,<param_n>):\\n  <instruccines>\\n'"
            ]
          },
          "execution_count": 245,
          "metadata": {},
          "output_type": "execute_result"
        }
      ],
      "source": [
        "'''\n",
        "Sintaxis\n",
        "\n",
        "def <nombre>(<param_1>,<param_2>,.............,<param_n>):\n",
        "  <instruccines>\n",
        "'''"
      ]
    },
    {
      "cell_type": "code",
      "execution_count": null,
      "metadata": {
        "id": "kZtfj7suyzoP"
      },
      "outputs": [],
      "source": [
        "def media (n1, n2, n3):\n",
        "  valor = (n1 + n2 + n3)/ 3\n",
        "  print(valor)"
      ]
    },
    {
      "cell_type": "markdown",
      "metadata": {
        "id": "mhPBhoMbIT2C"
      },
      "source": [
        "Para utilizar esta función, simplemente debes llamarla con tres números como argumentos. Aquí tienes un ejemplo de cómo hacerlo:"
      ]
    },
    {
      "cell_type": "code",
      "execution_count": null,
      "metadata": {
        "colab": {
          "base_uri": "https://localhost:8080/"
        },
        "id": "rl7xlQmLzFfH",
        "outputId": "e8e7a6da-e00d-4cb1-ed28-e65da9d5c07d"
      },
      "outputs": [
        {
          "name": "stdout",
          "output_type": "stream",
          "text": [
            "2.0\n"
          ]
        }
      ],
      "source": [
        "# Llamamos a la función media con tres números como argumentos\n",
        "media(1, 2, 3)"
      ]
    },
    {
      "cell_type": "markdown",
      "metadata": {
        "id": "7lNle9-iIYLa"
      },
      "source": [
        "En este ejemplo, estamos llamando a la función media(1, 2, 3), lo que significa que n1 es igual a 1, n2 es igual a 2 y n3 es igual a 3. La función calcula la media de estos tres números y muestra el resultado en la consola."
      ]
    },
    {
      "cell_type": "markdown",
      "metadata": {
        "id": "LobKJSnBI2oN"
      },
      "source": [
        "**7.3 Funcion con n parametros**"
      ]
    },
    {
      "cell_type": "markdown",
      "metadata": {
        "id": "m6AhZg6dI5mY"
      },
      "source": [
        " Toma una lista como argumento y calcula la media de los números en esa lista. Aquí está el código de la función:"
      ]
    },
    {
      "cell_type": "code",
      "execution_count": null,
      "metadata": {
        "id": "tzood4ehztP8"
      },
      "outputs": [],
      "source": [
        "def media (lista):\n",
        "  valor = sum(lista)/ len(lista)\n",
        "  print(valor)"
      ]
    },
    {
      "cell_type": "markdown",
      "metadata": {
        "id": "NUUw5GaNI_a-"
      },
      "source": [
        "Para utilizar esta función, simplemente debes llamarla pasando una lista como argumento. Aquí tienes un ejemplo de cómo hacerlo:"
      ]
    },
    {
      "cell_type": "code",
      "execution_count": null,
      "metadata": {
        "colab": {
          "base_uri": "https://localhost:8080/"
        },
        "id": "d6uuwiBuz5Jl",
        "outputId": "e8bbcc87-4408-4d78-cd91-23171b063c45"
      },
      "outputs": [
        {
          "name": "stdout",
          "output_type": "stream",
          "text": [
            "3.0\n"
          ]
        }
      ],
      "source": [
        "# Llamamos a la función media con una lista de números como argumento\n",
        "numeros = [1, 2, 3, 4, 5]\n",
        "media(numeros)"
      ]
    },
    {
      "cell_type": "markdown",
      "metadata": {
        "id": "ny6oQFFKJQEg"
      },
      "source": [
        "En este ejemplo, estamos llamando a la función media(numeros), donde numeros es una lista de números. La función calcula la media de estos números y muestra el resultado en la consola."
      ]
    },
    {
      "cell_type": "markdown",
      "metadata": {
        "id": "DMDRMgNM05S0"
      },
      "source": [
        "**7.4 Funciones que devulven valores**"
      ]
    },
    {
      "cell_type": "markdown",
      "metadata": {
        "id": "C96uxbqHJhzW"
      },
      "source": [
        "En Python, las funciones pueden devolver valores utilizando la instrucción **return**. Cuando una función devuelve un valor, puedes asignar ese valor a una variable o utilizarlo de otras formas en tu programa."
      ]
    },
    {
      "cell_type": "markdown",
      "metadata": {
        "id": "DtviguzG08dQ"
      },
      "source": [
        "**7.4.1 Funciones que devuelven un valor**\n",
        "\n"
      ]
    },
    {
      "cell_type": "markdown",
      "metadata": {
        "id": "_r2J7DnEJ326"
      },
      "source": [
        " Cuando una función devuelve un valor, ese valor puede ser utilizado en otras partes de tu programa. Aquí tienes un ejemplo de una función que devuelve un valor:"
      ]
    },
    {
      "cell_type": "code",
      "execution_count": null,
      "metadata": {
        "colab": {
          "base_uri": "https://localhost:8080/",
          "height": 53
        },
        "id": "DE2tgAK51JLd",
        "outputId": "ee4ab600-eda0-40ab-984c-df21716dc0d0"
      },
      "outputs": [
        {
          "data": {
            "application/vnd.google.colaboratory.intrinsic+json": {
              "type": "string"
            },
            "text/plain": [
              "'\\nSintaxis\\n\\ndef <nombre> (<param_1>,<param_2>,.........,<param_n>):\\n  <instrucciones>\\n  return <resultado>\\n'"
            ]
          },
          "execution_count": 250,
          "metadata": {},
          "output_type": "execute_result"
        }
      ],
      "source": [
        "'''\n",
        "Sintaxis\n",
        "\n",
        "def <nombre> (<param_1>,<param_2>,.........,<param_n>):\n",
        "  <instrucciones>\n",
        "  return <resultado>\n",
        "'''"
      ]
    },
    {
      "cell_type": "code",
      "execution_count": null,
      "metadata": {
        "id": "9iJKssKq1hJ_"
      },
      "outputs": [],
      "source": [
        "def media (list):\n",
        "  valor = sum(list)/ len(list)\n",
        "  return(valor)"
      ]
    },
    {
      "cell_type": "markdown",
      "metadata": {
        "id": "b19C3rSSJ8g0"
      },
      "source": [
        "Esta función toma una lista como argumento, suma todos los números en la lista y luego divide la suma por la cantidad de elementos en la lista para calcular la media. El valor calculado se devuelve utilizando return.\n",
        "\n",
        "Puedes llamar a esta función y asignar su resultado a una variable para utilizarlo en otras partes de tu programa. Por ejemplo:"
      ]
    },
    {
      "cell_type": "code",
      "execution_count": null,
      "metadata": {
        "id": "QJAU3ssP2RJs"
      },
      "outputs": [],
      "source": [
        "numeros = [1, 2, 3, 4, 5]\n",
        "resultado_media = media(numeros)\n"
      ]
    },
    {
      "cell_type": "markdown",
      "metadata": {
        "id": "dvTeIon22WeU"
      },
      "source": [
        "**7.4.2 Funciones que devuelven mas de un valor**"
      ]
    },
    {
      "cell_type": "markdown",
      "metadata": {
        "id": "B9uJDNLoKmwN"
      },
      "source": [
        "En Python, una función puede devolver más de un valor al mismo tiempo utilizando tuplas."
      ]
    },
    {
      "cell_type": "code",
      "execution_count": null,
      "metadata": {
        "colab": {
          "base_uri": "https://localhost:8080/",
          "height": 53
        },
        "id": "hPyX9w2X2dS-",
        "outputId": "b80c797c-8478-4130-b79e-8a2e7b840606"
      },
      "outputs": [
        {
          "data": {
            "application/vnd.google.colaboratory.intrinsic+json": {
              "type": "string"
            },
            "text/plain": [
              "'\\nSintaxis\\n\\ndef <nombre> (<param_1>,<param_2>,.........,<param_n>):\\n  <instrucciones>\\n  return <resultado1>,<resultado_2,........, resultado_n>\\n'"
            ]
          },
          "execution_count": 253,
          "metadata": {},
          "output_type": "execute_result"
        }
      ],
      "source": [
        "'''\n",
        "Sintaxis\n",
        "\n",
        "def <nombre> (<param_1>,<param_2>,.........,<param_n>):\n",
        "  <instrucciones>\n",
        "  return <resultado1>,<resultado_2,........, resultado_n>\n",
        "'''"
      ]
    },
    {
      "cell_type": "code",
      "execution_count": null,
      "metadata": {
        "id": "JAuvAvTe2Zlw"
      },
      "outputs": [],
      "source": [
        "def media (list):\n",
        "  valor = sum(list)/ len(list)\n",
        "  return(valor, len(list) )"
      ]
    },
    {
      "cell_type": "code",
      "execution_count": null,
      "metadata": {
        "colab": {
          "base_uri": "https://localhost:8080/"
        },
        "id": "4gJoADpd2wSF",
        "outputId": "e6ec41d1-661b-4d9c-c235-23208a9c982f"
      },
      "outputs": [
        {
          "data": {
            "text/plain": [
              "(4.5, 8)"
            ]
          },
          "execution_count": 255,
          "metadata": {},
          "output_type": "execute_result"
        }
      ],
      "source": [
        "# Nos devuelve una tupla\n",
        "media([1,2,3,4,5,6,7,8])"
      ]
    },
    {
      "cell_type": "code",
      "execution_count": null,
      "metadata": {
        "id": "DzbWwQ9E2yf4"
      },
      "outputs": [],
      "source": [
        "# Desempacar la tuplas\n",
        "resultado, n = media([1,2,3,4,5,6,7,8])"
      ]
    },
    {
      "cell_type": "code",
      "execution_count": null,
      "metadata": {
        "colab": {
          "base_uri": "https://localhost:8080/"
        },
        "id": "5HcHu4nE3EKt",
        "outputId": "2078100d-bc40-4018-dd27-f52b43161698"
      },
      "outputs": [
        {
          "data": {
            "text/plain": [
              "4.5"
            ]
          },
          "execution_count": 257,
          "metadata": {},
          "output_type": "execute_result"
        }
      ],
      "source": [
        "resultado"
      ]
    },
    {
      "cell_type": "code",
      "execution_count": null,
      "metadata": {
        "colab": {
          "base_uri": "https://localhost:8080/"
        },
        "id": "9ZuF8pbv3Eix",
        "outputId": "3a59c701-e56a-4edf-de81-eef639f8b81b"
      },
      "outputs": [
        {
          "data": {
            "text/plain": [
              "8"
            ]
          },
          "execution_count": 258,
          "metadata": {},
          "output_type": "execute_result"
        }
      ],
      "source": [
        "n"
      ]
    },
    {
      "cell_type": "markdown",
      "metadata": {
        "id": "NmnznGAz5PIO"
      },
      "source": [
        "#**8. Estructuras de repeticion (Bucles o Loops)**"
      ]
    },
    {
      "cell_type": "markdown",
      "metadata": {
        "id": "tWUeCioj6BlV"
      },
      "source": [
        "**¿Que es un bucle o loop?**"
      ]
    },
    {
      "cell_type": "markdown",
      "metadata": {
        "id": "H8gFRkNP5XVz"
      },
      "source": [
        "\n",
        "Un bucle, también conocido como loop en inglés, es una estructura de control en programación que permite ejecutar un conjunto de instrucciones repetidamente mientras se cumple una condición o durante un número específico de veces. Los bucles son fundamentales para automatizar tareas repetitivas en un programa. En Python, hay dos tipos principales de bucles: el bucle **for** y el bucle **while**.\n"
      ]
    },
    {
      "cell_type": "markdown",
      "metadata": {
        "id": "qfwxd-o26Abb"
      },
      "source": [
        "**8.1 Bucle for**"
      ]
    },
    {
      "cell_type": "markdown",
      "metadata": {
        "id": "PH3PUuSB6N6y"
      },
      "source": [
        "1. El bucle **for** se utiliza para iterar sobre una secuencia (como una lista, una tupla, una cadena de texto, etc.) o cualquier objeto iterable en Python.\n",
        "\n",
        "2. Se ejecuta un número predefinido de veces, una vez por cada elemento en la secuencia.\n",
        "\n",
        "3. El bucle **for** es especialmente útil cuando se conoce la cantidad de iteraciones necesarias."
      ]
    },
    {
      "cell_type": "code",
      "execution_count": null,
      "metadata": {
        "colab": {
          "base_uri": "https://localhost:8080/",
          "height": 35
        },
        "id": "ikJtoqUFfgqr",
        "outputId": "c11e9ced-1f75-42b2-a5d8-ded7fc9da925"
      },
      "outputs": [
        {
          "data": {
            "application/vnd.google.colaboratory.intrinsic+json": {
              "type": "string"
            },
            "text/plain": [
              "'\\nSintaxis:\\n\\nfor <variable> in <coleccion>:\\n  <instrucciones>\\n'"
            ]
          },
          "execution_count": 261,
          "metadata": {},
          "output_type": "execute_result"
        }
      ],
      "source": [
        "'''\n",
        "Sintaxis:\n",
        "\n",
        "for <variable> in <coleccion>:\n",
        "  <instrucciones>\n",
        "'''"
      ]
    },
    {
      "cell_type": "markdown",
      "metadata": {
        "id": "WvvNU3NFiSl8"
      },
      "source": [
        "**Ejemplo**"
      ]
    },
    {
      "cell_type": "code",
      "execution_count": null,
      "metadata": {
        "colab": {
          "base_uri": "https://localhost:8080/"
        },
        "id": "5ROTQKID5iih",
        "outputId": "f0f2453f-9808-4077-9c00-c2d2fd80c1a4"
      },
      "outputs": [
        {
          "name": "stdout",
          "output_type": "stream",
          "text": [
            "Juan\n",
            "Ana\n",
            "María\n"
          ]
        }
      ],
      "source": [
        "nombres = [\"Juan\", \"Ana\", \"María\"]\n",
        "for nombre in nombres:\n",
        "    print(nombre)"
      ]
    },
    {
      "cell_type": "markdown",
      "metadata": {
        "id": "njDNq0Rhhigw"
      },
      "source": [
        "**List comprehensions**"
      ]
    },
    {
      "cell_type": "markdown",
      "metadata": {
        "id": "UD_10KJ4hmhP"
      },
      "source": [
        "Las \"list comprehensions\" (comprensiones de listas) son una característica poderosa y concisa en Python que permite crear listas de manera eficiente mediante la aplicación de una expresión a cada elemento de una secuencia (como una lista, tupla o rango) y opcionalmente filtrando los elementos según una condición. Las comprensiones de listas proporcionan una forma elegante de crear y transformar listas en una sola línea de código.\n",
        "\n",
        "La sintaxis general de una comprensión de lista es la siguiente:"
      ]
    },
    {
      "cell_type": "code",
      "execution_count": null,
      "metadata": {
        "colab": {
          "base_uri": "https://localhost:8080/",
          "height": 35
        },
        "id": "_Y5UHKgdhvW4",
        "outputId": "ec4ac636-74fc-437d-cfc7-c036a0f13539"
      },
      "outputs": [
        {
          "data": {
            "application/vnd.google.colaboratory.intrinsic+json": {
              "type": "string"
            },
            "text/plain": [
              "'\\nSintaxis:\\n\\n  nueva_lista = [expresion for elemento in secuencia if condicion]\\n\\n'"
            ]
          },
          "execution_count": 264,
          "metadata": {},
          "output_type": "execute_result"
        }
      ],
      "source": [
        "'''\n",
        "Sintaxis:\n",
        "\n",
        "  nueva_lista = [expresion for elemento in secuencia if condicion]\n",
        "\n",
        "'''"
      ]
    },
    {
      "cell_type": "markdown",
      "metadata": {
        "id": "Qlwon6z7h1Cc"
      },
      "source": [
        "**Donde:**\n",
        "\n",
        "1. **expresion** es la expresión que se evalúa y agrega a la nueva lista.\n",
        "2. **elemento** es una variable que representa cada elemento de la secuencia.\n",
        "3. **secuencia** es la secuencia original de la cual se extraen los elementos.\n",
        "4. **condicion** es una condición opcional que determina si se incluye el elemento en la nueva lista (puede omitirse si no es necesario)."
      ]
    },
    {
      "cell_type": "markdown",
      "metadata": {
        "id": "8thVH5KViQoC"
      },
      "source": [
        "**Ejemplo**\n",
        "\n",
        "Comparativa al crear una lista de cuadrados de los números del 0 al 9 con una lista normal y List comprehension:"
      ]
    },
    {
      "cell_type": "code",
      "execution_count": null,
      "metadata": {
        "colab": {
          "background_save": true
        },
        "id": "0P36FDj-kHCj",
        "outputId": "6767f10f-1e92-4bf2-f6da-29d23a9711b3"
      },
      "outputs": [
        {
          "data": {
            "text/plain": [
              "[0, 1, 4, 9, 16, 25, 36, 49, 64, 81]"
            ]
          },
          "execution_count": 265,
          "metadata": {},
          "output_type": "execute_result"
        }
      ],
      "source": [
        "# Lista normal\n",
        "cuadrados=[]\n",
        "for i in range(10):\n",
        "  cuadrados.append(i ** 2)\n",
        "\n",
        "cuadrados"
      ]
    },
    {
      "cell_type": "code",
      "execution_count": null,
      "metadata": {
        "id": "PCgSvidIiZz3"
      },
      "outputs": [],
      "source": [
        "#List comprehension\n",
        "cuadrados = [i ** 2 for i in range(10)]\n",
        "# Resultado: [0, 1, 4, 9, 16, 25, 36, 49, 64, 81]\n",
        "cuadrados"
      ]
    },
    {
      "cell_type": "markdown",
      "metadata": {
        "id": "YAd8ua0YikDK"
      },
      "source": [
        "1. **range(10)** genera una secuencia de números del 0 al 9 omitiendo el numero 10\n",
        "\n",
        "2. x ** 2 eleva cada número al cuadrado, generando una nueva lista con los cuadrados de los números en la secuencia."
      ]
    },
    {
      "cell_type": "markdown",
      "metadata": {
        "id": "lUriUQCrjATh"
      },
      "source": [
        "**EJEMPLO 3:**\n",
        "\n",
        "Filtrar elementos pares de una lista:"
      ]
    },
    {
      "cell_type": "code",
      "execution_count": null,
      "metadata": {
        "id": "EMC3nsCgjHRU"
      },
      "outputs": [],
      "source": [
        "numeros = [1, 2, 3, 4, 5, 6, 7, 8, 9]\n",
        "pares = [x for x in numeros if x % 2 == 0]\n",
        "# Resultado: [2, 4, 6, 8]\n",
        "pares"
      ]
    },
    {
      "cell_type": "markdown",
      "metadata": {
        "id": "DiaVoj4RjM1N"
      },
      "source": [
        "1. **x % 2 == 0** es una condición que verifica si x es par.\n",
        "\n",
        "2. **[x for x in numeros if x % 2 == 0]** crea una nueva lista que contiene solo los números que cumplen con la condición de ser pares.\n",
        "\n",
        "3. **Resultado:** pares será igual a [2, 4, 6, 8], que son los números pares de la lista numeros."
      ]
    },
    {
      "cell_type": "markdown",
      "metadata": {
        "id": "3y-FhK0tjNTq"
      },
      "source": [
        "**EJEMPLO 3:**\n",
        "\n",
        "Crear una lista de las vocales en una cadena"
      ]
    },
    {
      "cell_type": "code",
      "execution_count": null,
      "metadata": {
        "id": "hV1DR-o5jNuy"
      },
      "outputs": [],
      "source": [
        "texto = \"Hola, mundo\"\n",
        "vocales = [letra for letra in texto if letra in 'aeiouAEIOU']\n",
        "vocales"
      ]
    },
    {
      "cell_type": "markdown",
      "metadata": {
        "id": "DJG8ObIijOUO"
      },
      "source": [
        "1. **for letra in texto** itera sobre cada letra en la cadena texto.\n",
        "2. **letra in 'aeiouAEIOU'** verifica si la letra es una vocal (mayúscula o minúscula).\n",
        "3. **[letra for letra in texto if letra in 'aeiouAEIOU']** crea una nueva lista que contiene solo las letras que son vocales."
      ]
    },
    {
      "cell_type": "markdown",
      "metadata": {
        "id": "ZSqMsFmWCxgl"
      },
      "source": [
        "**9.4 Loops anidados**"
      ]
    },
    {
      "cell_type": "markdown",
      "metadata": {
        "id": "GUUW8i1FqYcm"
      },
      "source": [
        "Los **\"loops anidados\"** son estructuras de control en la programación que consisten en la inclusión de uno o más bucles dentro de otro bucle. Estos bucles se ejecutan de manera anidada, es decir, uno dentro del otro, y se utilizan para realizar tareas repetitivas en múltiples niveles o dimensiones. Los bucles anidados son una técnica común en la programación y se utilizan para procesar datos en estructuras que tienen una jerarquía o dimensiones múltiples, como matrices, listas de listas y tablas bidimensionales.\n",
        "\n",
        "La estructura general de los bucles anidados es la siguiente:"
      ]
    },
    {
      "cell_type": "code",
      "execution_count": null,
      "metadata": {
        "id": "Ejbw-OVRq1Yu"
      },
      "outputs": [],
      "source": [
        "'''\n",
        "for variable_externa in secuencia_externa:\n",
        "    Código del bucle externo\n",
        "\n",
        "    for variable_interna in secuencia_interna:\n",
        "        Código del bucle interno\n",
        "'''"
      ]
    },
    {
      "cell_type": "markdown",
      "metadata": {
        "id": "nUku5fHZq93r"
      },
      "source": [
        "**Donde:**\n",
        "\n",
        "1. **for variable_externa in secuencia_externa** representa el bucle externo, que itera sobre una secuencia externa.\n",
        "2. **for variable_interna in secuencia_interna** representa el bucle interno, que itera sobre una secuencia interna.\n",
        "3. El código dentro del bucle externo se ejecuta una vez por cada iteración del bucle externo.\n",
        "4. El código dentro del bucle interno se ejecuta una vez por cada iteración del bucle interno, y esto ocurre dentro de cada iteración del bucle externo."
      ]
    },
    {
      "cell_type": "markdown",
      "metadata": {
        "id": "OmqNToa1C3u7"
      },
      "source": [
        "¿Qué sucedería si la lista que estoy intentando recorrer, contiene como elementos otras sub-listas, otras listas, es decir, tiene listas de listas?. ¿Cómo hago para recorrer estas sub-listas y extraer los valores dentro de cada una de ellas? Esto no es posible de realizar con un único, con un loop for. Para esto es necesario aprender el concepto de loops anidados, es decir utilizar un for dentro de otro for."
      ]
    },
    {
      "cell_type": "code",
      "execution_count": null,
      "metadata": {
        "id": "Rafqj-WbA0Hy"
      },
      "outputs": [],
      "source": [
        "datos =[\n",
        "    ['Llantas de aleacion','Cerraduras electricas', 'Piloto automatico','Asienro de cuero','Aire acondicionado'],\n",
        "    ['Central multimedia','Techo panoramico','Frenos ABS', '4 X 4','Panel digital','Piloto automatico'],\n",
        "    ['Piloto automatico','Control de estabilidad','Sensor crepuscular','Freno ABS', 'Trasnsmision automatica']]\n",
        "\n",
        "datos"
      ]
    },
    {
      "cell_type": "markdown",
      "metadata": {
        "id": "8nB4S0nFp9Ko"
      },
      "source": [
        "La mayor tarea que vamos a tener que hacer es el tratamiento de los datos, es la limpieza de los datos. Como pueden ver, aquí tienen palabras que se repiten dentro de los elementos de la lista, se repiten varias veces, y ustedes tienen que limpiar esto, remover la duplicidad, ordenar en orden alfabético y así sucesivamente.\n",
        "\n",
        "Este concepto de **loops anidados** nos ayuda bastante con esta tarea"
      ]
    },
    {
      "cell_type": "code",
      "execution_count": null,
      "metadata": {
        "id": "iawH-wUxrWwu"
      },
      "outputs": [],
      "source": [
        "# Con este primer loop hemos llegado a las listas pero no a los elementos\n",
        "for lista in datos:\n",
        "  print(lista)"
      ]
    },
    {
      "cell_type": "code",
      "execution_count": null,
      "metadata": {
        "id": "11hEGkGRrp8-"
      },
      "outputs": [],
      "source": [
        "# En este 2 loop ya llegue a los elementos\n",
        "for lista in datos:\n",
        "  for iten in lista:\n",
        "    print(iten)"
      ]
    },
    {
      "cell_type": "code",
      "execution_count": null,
      "metadata": {
        "id": "w9OkrP7UsGke"
      },
      "outputs": [],
      "source": [
        "# Guardamos los elemtos en la lista Accesorios\n",
        "Accesorios = []\n",
        "\n",
        "for lista in datos:\n",
        "  for iten in lista:\n",
        "    Accesorios.append(iten)\n",
        "\n",
        "Accesorios"
      ]
    },
    {
      "cell_type": "markdown",
      "metadata": {
        "id": "zG0b6aVsszfd"
      },
      "source": [
        "**9.5. Limpiando datos**"
      ]
    },
    {
      "cell_type": "markdown",
      "metadata": {
        "id": "mm6tPyoMs7ea"
      },
      "source": [
        "**set()**\n",
        "\n",
        "El metodo **set()**, tiene muchas funciones pero en este caso lo utilizaremos para remover la duplicidad de los elementos."
      ]
    },
    {
      "cell_type": "code",
      "execution_count": null,
      "metadata": {
        "id": "srKF5Z7is0O8"
      },
      "outputs": [],
      "source": [
        "Accesorios"
      ]
    },
    {
      "cell_type": "code",
      "execution_count": null,
      "metadata": {
        "id": "v3CWWrK0tP2q"
      },
      "outputs": [],
      "source": [
        "set(Accesorios)\n",
        "#Lo que nos devuelve no es una lista"
      ]
    },
    {
      "cell_type": "code",
      "execution_count": null,
      "metadata": {
        "id": "Jl2oSYJ2th9_"
      },
      "outputs": [],
      "source": [
        "# Lo comvertimos en una lista\n",
        "list(set(Accesorios))"
      ]
    },
    {
      "cell_type": "markdown",
      "metadata": {
        "id": "RSJVLgESt9qR"
      },
      "source": [
        "El anterior codigo lo podemos hacer con **List comprehension** de la siguiente manera"
      ]
    },
    {
      "cell_type": "code",
      "execution_count": null,
      "metadata": {
        "id": "_8xLX0YMt8yS"
      },
      "outputs": [],
      "source": [
        "Accesorios = [iten for lista in datos for iten in lista]\n",
        "Accesorios"
      ]
    },
    {
      "cell_type": "code",
      "execution_count": null,
      "metadata": {
        "id": "1tBxSkeCuj49"
      },
      "outputs": [],
      "source": [
        "Accesorios = list(set([iten for lista in datos for iten in lista]))\n",
        "Accesorios"
      ]
    },
    {
      "cell_type": "markdown",
      "metadata": {
        "id": "yKS0xHb-6Ome"
      },
      "source": [
        "**9.6 Bucle while**"
      ]
    },
    {
      "cell_type": "markdown",
      "metadata": {
        "id": "gJfWbN1v6O_O"
      },
      "source": [
        "1. El bucle **while** se utiliza para repetir un bloque de código mientras una condición sea verdadera.\n",
        "\n",
        "2. Puede ejecutarse un número indefinido de veces, y la condición se verifica antes de cada iteración.\n",
        "\n",
        "3. El bucle **while** es útil cuando no sabes de antemano cuántas veces se ejecutará el bucle."
      ]
    },
    {
      "cell_type": "markdown",
      "metadata": {
        "id": "G5l9Al5p7sI4"
      },
      "source": [
        "**EJEMPLO 1:**"
      ]
    },
    {
      "cell_type": "code",
      "execution_count": null,
      "metadata": {
        "id": "PHmTqaup6rFh"
      },
      "outputs": [],
      "source": [
        "contador = 0\n",
        "while contador < 5:\n",
        "    print(f\"Contador: {contador}\")\n",
        "    contador += 1\n"
      ]
    },
    {
      "cell_type": "code",
      "execution_count": null,
      "metadata": {
        "id": "GoZHj5a8pDcS"
      },
      "outputs": [],
      "source": []
    },
    {
      "cell_type": "markdown",
      "metadata": {
        "id": "JHdvpZ4zeb5c"
      },
      "source": [
        "# **9. Condicionales**"
      ]
    },
    {
      "cell_type": "markdown",
      "metadata": {
        "id": "19K-F1KOeiNr"
      },
      "source": [
        "**¿Que es una condicional?**"
      ]
    },
    {
      "cell_type": "markdown",
      "metadata": {
        "id": "hjolL8fRerzs"
      },
      "source": [
        "Los condicionales en Python son estructuras de control que te permiten tomar decisiones en tu programa en función de una condición o expresión booleana. Puedes usar condicionales para ejecutar un bloque de código si una condición es verdadera y, opcionalmente, otro bloque si la condición es falsa. Aquí tienes una breve explicación junto con un ejemplo:\n",
        "\n"
      ]
    },
    {
      "cell_type": "markdown",
      "metadata": {
        "id": "J1mgMY4lF08J"
      },
      "source": [
        "**Operadores de comparacion**"
      ]
    },
    {
      "cell_type": "markdown",
      "metadata": {
        "id": "Wi8siLNyGN6x"
      },
      "source": [
        "**==, !=, >, <, >=, <=**"
      ]
    },
    {
      "cell_type": "markdown",
      "metadata": {
        "id": "3xn7TiEUHKPc"
      },
      "source": [
        "Los operadores de comparación en Python se utilizan para comparar dos valores y evaluar si una determinada relación es Verdadera o Falsa. Aquí tienes una descripción de los operadores de comparación más comunes:"
      ]
    },
    {
      "cell_type": "markdown",
      "metadata": {
        "id": "YsW-9-zDHQUC"
      },
      "source": [
        "1. **== (Igual a):** Comprueba si dos valores son iguales.\n",
        "\n",
        "**Ejemplo:**"
      ]
    },
    {
      "cell_type": "code",
      "execution_count": null,
      "metadata": {
        "id": "mrTN5T4EHYOH"
      },
      "outputs": [],
      "source": [
        "5 == 5  # Verdadero"
      ]
    },
    {
      "cell_type": "code",
      "execution_count": null,
      "metadata": {
        "id": "9WayZm0pF4qZ"
      },
      "outputs": [],
      "source": [
        "\"Hola\" == \"Adiós\"  # Falso"
      ]
    },
    {
      "cell_type": "markdown",
      "metadata": {
        "id": "Va8FS92xHbFd"
      },
      "source": [
        "2. **!= (Diferente de):** Comprueba si dos valores no son iguales.\n",
        "\n",
        "**Ejemplo:**"
      ]
    },
    {
      "cell_type": "code",
      "execution_count": null,
      "metadata": {
        "id": "UH-iNsrkHbqa"
      },
      "outputs": [],
      "source": [
        "5 != 3  # Verdadero"
      ]
    },
    {
      "cell_type": "code",
      "execution_count": null,
      "metadata": {
        "id": "9vI34ISpHcIu"
      },
      "outputs": [],
      "source": [
        "\"Hola\" != \"Hola\"  # Falso"
      ]
    },
    {
      "cell_type": "markdown",
      "metadata": {
        "id": "HiRyD8xYHclq"
      },
      "source": [
        "3. **> (Mayor que):** Comprueba si el valor de la izquierda es mayor que el valor de la derecha.\n",
        "\n",
        "**Ejemplo:**"
      ]
    },
    {
      "cell_type": "code",
      "execution_count": null,
      "metadata": {
        "id": "5ci7f3PIHdU_"
      },
      "outputs": [],
      "source": [
        "7 > 3  # Verdadero"
      ]
    },
    {
      "cell_type": "code",
      "execution_count": null,
      "metadata": {
        "id": "wkhM0JiTHd4h"
      },
      "outputs": [],
      "source": [
        "2 > 5  # Falso"
      ]
    },
    {
      "cell_type": "markdown",
      "metadata": {
        "id": "vShm78CQHeud"
      },
      "source": [
        "4. **< (Menor que):** Comprueba si el valor de la izquierda es menor que el valor de la derecha.\n",
        "\n",
        "**Ejemplo:**"
      ]
    },
    {
      "cell_type": "code",
      "execution_count": null,
      "metadata": {
        "id": "VTLmOtW2HfOn"
      },
      "outputs": [],
      "source": [
        "4 < 9  # Verdadero"
      ]
    },
    {
      "cell_type": "code",
      "execution_count": null,
      "metadata": {
        "id": "cxKGpIxjHfrk"
      },
      "outputs": [],
      "source": [
        "6 < 3  # Falso"
      ]
    },
    {
      "cell_type": "markdown",
      "metadata": {
        "id": "z2BpvsLzH3sN"
      },
      "source": [
        "5. **>= (Mayor o igual que):** Comprueba si el valor de la izquierda es mayor o igual que el valor de la derecha.\n",
        "\n",
        "**Ejemplo:**"
      ]
    },
    {
      "cell_type": "code",
      "execution_count": null,
      "metadata": {
        "id": "C2WcVbB3H4a0"
      },
      "outputs": [],
      "source": [
        "8 >= 8  # Verdadero"
      ]
    },
    {
      "cell_type": "code",
      "execution_count": null,
      "metadata": {
        "id": "h_WT-o8bH45x"
      },
      "outputs": [],
      "source": [
        "5 >= 10  # Falso"
      ]
    },
    {
      "cell_type": "markdown",
      "metadata": {
        "id": "cnGgUOU4H5eR"
      },
      "source": [
        "6. **<= (Menor o igual que):** Comprueba si el valor de la izquierda es menor o igual que el valor de la derecha.\n",
        "\n",
        "**Ejemplo:**"
      ]
    },
    {
      "cell_type": "code",
      "execution_count": null,
      "metadata": {
        "id": "Vt4dUUw4H6AS",
        "colab": {
          "base_uri": "https://localhost:8080/"
        },
        "outputId": "63ef7b3b-3ca3-4a7a-f710-1fa10b4c246f"
      },
      "outputs": [
        {
          "output_type": "execute_result",
          "data": {
            "text/plain": [
              "True"
            ]
          },
          "metadata": {},
          "execution_count": 342
        }
      ],
      "source": [
        "6 <= 6  # Verdadero"
      ]
    },
    {
      "cell_type": "code",
      "execution_count": null,
      "metadata": {
        "id": "-4VfUS1yH6Yp"
      },
      "outputs": [],
      "source": [
        "7 <= 4  # Falso"
      ]
    },
    {
      "cell_type": "markdown",
      "metadata": {
        "id": "nIzOf_cnIdMm"
      },
      "source": [
        "Estos operadores de comparación son fundamentales para crear condiciones en declaraciones if, elif y while, y se utilizan ampliamente para tomar decisiones en programas Python y evaluar expresiones lógicas."
      ]
    },
    {
      "cell_type": "markdown",
      "metadata": {
        "id": "9Dyc3YDMExRO"
      },
      "source": [
        "**9.1 Instruccion if**"
      ]
    },
    {
      "cell_type": "markdown",
      "metadata": {
        "id": "0Lj-Mk0_E31m"
      },
      "source": [
        "La instrucción **if** es una estructura de control en Python que se utiliza para tomar decisiones en función de una condición. Permite que un bloque de código se ejecute solo si la condición especificada es verdadera (True). Si la condición es falsa (False), el bloque de código dentro del if no se ejecuta, a menos que haya una cláusula else que proporcione una alternativa.\n",
        "\n",
        "La sintaxis básica de una instrucción if en Python es la siguiente:"
      ]
    },
    {
      "cell_type": "code",
      "execution_count": null,
      "metadata": {
        "id": "b_WH5p_YFG8i"
      },
      "outputs": [],
      "source": [
        "'''\n",
        "if condicion:\n",
        "    Código que se ejecuta si la condición es verdadera\n",
        "'''"
      ]
    },
    {
      "cell_type": "markdown",
      "metadata": {
        "id": "Nd3IeCf_FQWV"
      },
      "source": [
        "**Donde:**\n",
        "\n",
        "condicion es una expresión o evaluación que se verifica como Verdadera o Falsa.\n",
        "El código indentado debajo del if se ejecuta si la condición es Verdadera.\n",
        "\n",
        "**Ejemplo**"
      ]
    },
    {
      "cell_type": "code",
      "execution_count": null,
      "metadata": {
        "id": "fSKsfIEnFUgy",
        "colab": {
          "base_uri": "https://localhost:8080/"
        },
        "outputId": "93bb7bd1-e7af-4799-9fd7-f0db9a6fe72e"
      },
      "outputs": [
        {
          "output_type": "stream",
          "name": "stdout",
          "text": [
            "Eres mayor de edad\n"
          ]
        }
      ],
      "source": [
        "edad = 18\n",
        "if edad >= 18:\n",
        "    print(\"Eres mayor de edad\")\n"
      ]
    },
    {
      "cell_type": "markdown",
      "metadata": {
        "id": "L0F7lerGFW8Q"
      },
      "source": [
        "En este ejemplo, la condición edad >= 18 se evalúa como Verdadera, por lo que el mensaje \"Eres mayor de edad\" se imprimirá en la pantalla.\n",
        "\n",
        "Puedes agregar cláusulas adicionales a la estructura if para manejar diferentes situaciones:\n",
        "\n",
        "**else:** Se ejecuta cuando la condición del if es Falsa. Es una alternativa al bloque de código del if."
      ]
    },
    {
      "cell_type": "markdown",
      "metadata": {
        "id": "YobZI2uiexIa"
      },
      "source": [
        "**Ejemplo**\n",
        "\n",
        "Supongamos que deseas verificar si una persona es mayor de edad (mayor o igual a 18 años) antes de permitirle ingresar a un lugar. Puedes usar una estructura condicional para hacer esto. Aquí está un ejemplo:"
      ]
    },
    {
      "cell_type": "code",
      "execution_count": null,
      "metadata": {
        "id": "jO8YDL-6e4LB",
        "colab": {
          "base_uri": "https://localhost:8080/"
        },
        "outputId": "c0fb617c-6f92-4ec8-a0a9-1df1a755d366"
      },
      "outputs": [
        {
          "output_type": "stream",
          "name": "stdout",
          "text": [
            "Puede ingresar, es mayor de edad.\n"
          ]
        }
      ],
      "source": [
        "edad = 20  # Edad de la persona\n",
        "\n",
        "if edad >= 18:\n",
        "    print(\"Puede ingresar, es mayor de edad.\")\n",
        "else:\n",
        "    print(\"Lo siento, es menor de edad y no puede ingresar.\")\n"
      ]
    },
    {
      "cell_type": "markdown",
      "metadata": {
        "id": "a1PIjF7Be7bz"
      },
      "source": [
        "**Explicación:**\n",
        "\n",
        "1. **if edad >= 18:** Esta línea inicia una estructura condicional. Verifica si la variable **edad** es mayor o igual a 18.\n",
        "\n",
        "2. **print(\"Puede ingresar, es mayor de edad.\"):** Si la condición del **if** es verdadera (es decir, si la persona es mayor de edad), se ejecutará este bloque de código y se imprimirá \"Puede ingresar, es mayor de edad.\" en la consola.\n",
        "\n",
        "3. **else**: Esta parte se ejecuta si la condición del **if** es falsa (es decir, si la persona no es mayor de edad).\n",
        "\n",
        "4. **print(\"Lo siento, es menor de edad y no puede ingresar.\"):** Si la condición es falsa, se ejecutará este bloque de código y se imprimirá \"Lo siento, es menor de edad y no puede ingresar.\" en la consola."
      ]
    },
    {
      "cell_type": "markdown",
      "metadata": {
        "id": "lBJuenaofOah"
      },
      "source": [
        "Las condicionales en Python te permiten tomar decisiones basadas en condiciones. Puedes ejecutar diferentes bloques de código según si una condición es verdadera o falsa. Esto es fundamental para controlar el flujo de tu programa y tomar decisiones dinámicas en función de los datos o eventos que se produzcan durante la ejecución del programa."
      ]
    },
    {
      "cell_type": "markdown",
      "metadata": {
        "id": "f_s999Pcf7on"
      },
      "source": [
        "**Ejemplo**"
      ]
    },
    {
      "cell_type": "code",
      "execution_count": null,
      "metadata": {
        "id": "QpYW6uTtf7DZ",
        "colab": {
          "base_uri": "https://localhost:8080/"
        },
        "outputId": "388d373c-f489-49e8-b080-342f320dbe82"
      },
      "outputs": [
        {
          "output_type": "stream",
          "name": "stdout",
          "text": [
            "Lo siento, es menor de edad y no puede conducir.\n"
          ]
        }
      ],
      "source": [
        "def verficar_si_puede_conducir(edad):\n",
        "  if edad >= 18:\n",
        "    print(\"Puedes conducir, es mayor de edad.\")\n",
        "  else:\n",
        "    print(\"Lo siento, es menor de edad y no puede conducir.\")\n",
        "\n",
        "verficar_si_puede_conducir(12)"
      ]
    },
    {
      "cell_type": "markdown",
      "metadata": {
        "id": "8DDyKx_bgyNk"
      },
      "source": [
        "**Ejemplo**"
      ]
    },
    {
      "cell_type": "code",
      "execution_count": null,
      "metadata": {
        "id": "DiBzedFLgxtK",
        "colab": {
          "base_uri": "https://localhost:8080/"
        },
        "outputId": "88ca3682-9e8d-4e37-c156-f1c86aa9f743"
      },
      "outputs": [
        {
          "output_type": "stream",
          "name": "stdout",
          "text": [
            "El alumno es considerado Promotor\n"
          ]
        }
      ],
      "source": [
        "def clasificar_nps(nota):\n",
        "  if nota <= 6:\n",
        "    print('El alumno es considerado Detractor')\n",
        "  else:\n",
        "    if nota <= 8:\n",
        "      print('El alumno es considerado Neutro')\n",
        "    else:\n",
        "      print('El alumno es considerado Promotor')\n",
        "\n",
        "clasificar_nps(9)\n"
      ]
    },
    {
      "cell_type": "markdown",
      "metadata": {
        "id": "uvZmzqSaF5IL"
      },
      "source": [
        "**Operadores logicos: and, or, not**"
      ]
    },
    {
      "cell_type": "markdown",
      "metadata": {
        "id": "BYkIMulEIopq"
      },
      "source": [
        "Los operadores lógicos en Python se utilizan para realizar operaciones lógicas en valores booleanos (Verdadero o Falso). Aquí tienes una descripción de los operadores lógicos más comunes:"
      ]
    },
    {
      "cell_type": "markdown",
      "metadata": {
        "id": "tK0pj262IpQt"
      },
      "source": [
        "1. **and (Y lógico):** Devuelve Verdadero si ambas condiciones son Verdaderas.\n",
        "\n",
        "**Ejemplo:**"
      ]
    },
    {
      "cell_type": "code",
      "execution_count": null,
      "metadata": {
        "id": "FVF5axttIp8Q",
        "colab": {
          "base_uri": "https://localhost:8080/"
        },
        "outputId": "ace427e3-4d13-49d2-8c6e-2930a027b575"
      },
      "outputs": [
        {
          "output_type": "execute_result",
          "data": {
            "text/plain": [
              "False"
            ]
          },
          "metadata": {},
          "execution_count": 347
        }
      ],
      "source": [
        "True and True  # Verdadero\n",
        "True and False  # Falso\n",
        "False and True  # Falso\n",
        "False and False  # Falso"
      ]
    },
    {
      "cell_type": "markdown",
      "metadata": {
        "id": "X4hWm60AIqkA"
      },
      "source": [
        "2. **or (O lógico)**: Devuelve Verdadero si al menos una de las condiciones es Verdadera.\n"
      ]
    },
    {
      "cell_type": "code",
      "execution_count": null,
      "metadata": {
        "id": "yvHYKtheIrH-",
        "colab": {
          "base_uri": "https://localhost:8080/"
        },
        "outputId": "6af761b7-67f6-44ef-c019-52aeb492dd7b"
      },
      "outputs": [
        {
          "output_type": "execute_result",
          "data": {
            "text/plain": [
              "False"
            ]
          },
          "metadata": {},
          "execution_count": 348
        }
      ],
      "source": [
        "True or True  # Verdadero\n",
        "True or False  # Verdadero\n",
        "False or True  # Verdadero\n",
        "False or False  # Falso"
      ]
    },
    {
      "cell_type": "markdown",
      "metadata": {
        "id": "21vibJt9IriO"
      },
      "source": [
        "3. **not (Negación lógica):** Invierte el valor de verdad de una expresión. Si la expresión es Verdadera, not la convierte en Falsa; si es Falsa, not la convierte en Verdadera.\n",
        "\n",
        "**Ejemplo:**"
      ]
    },
    {
      "cell_type": "code",
      "execution_count": null,
      "metadata": {
        "id": "Rvan26yrIsEM",
        "colab": {
          "base_uri": "https://localhost:8080/"
        },
        "outputId": "729cab06-e800-460e-bef0-b92c8b88c7c0"
      },
      "outputs": [
        {
          "output_type": "execute_result",
          "data": {
            "text/plain": [
              "True"
            ]
          },
          "metadata": {},
          "execution_count": 349
        }
      ],
      "source": [
        "not True  # Falso\n",
        "not False  # Verdadero\n"
      ]
    },
    {
      "cell_type": "markdown",
      "metadata": {
        "id": "sEOTO8oaJDUp"
      },
      "source": [
        "Estos operadores lógicos son útiles para combinar expresiones booleanas y crear condiciones más complejas en declaraciones if, elif y while. También se utilizan en expresiones lógicas para evaluar y controlar el flujo de un programa según múltiples condiciones."
      ]
    },
    {
      "cell_type": "markdown",
      "metadata": {
        "id": "yaVsVnTTMwcR"
      },
      "source": [
        "**Ejemplo con IF**"
      ]
    },
    {
      "cell_type": "code",
      "execution_count": null,
      "metadata": {
        "id": "wHmEkUV6JaZc",
        "colab": {
          "base_uri": "https://localhost:8080/"
        },
        "outputId": "b4fb26b3-2267-4133-95b7-9ead41532923"
      },
      "outputs": [
        {
          "output_type": "execute_result",
          "data": {
            "text/plain": [
              "[['Jetta Variant', 2003, True],\n",
              " ['Passat', 1991, False],\n",
              " ['Crossfox', 1990, False],\n",
              " ['DS5', 2019, True],\n",
              " ['Aston Martin DB4', 2006, False],\n",
              " ['Palio Weekend', 2012, False],\n",
              " ['A5', 2019, True],\n",
              " ['Serie 3 Cabrio', 2009, False],\n",
              " ['Dodge Jorney', 2019, False],\n",
              " ['Carens', 2011, False]]"
            ]
          },
          "metadata": {},
          "execution_count": 350
        }
      ],
      "source": [
        "# 1 objeto de la lista - Nombre del vehiculo\n",
        "# 2 objeto de la lista - Año de fabricacion\n",
        "# 3 objeto de la lista - Vehiculo es cero km?\n",
        "\n",
        "datos = [\n",
        "  ['Jetta Variant',2003, True],\n",
        "  ['Passat',1991, False],\n",
        "  ['Crossfox',1990, False],\n",
        "  ['DS5',2019, True],\n",
        "  ['Aston Martin DB4',2006, False],\n",
        "  ['Palio Weekend',2012, False],\n",
        "  ['A5',2019, True],\n",
        "  ['Serie 3 Cabrio',2009, False],\n",
        "  ['Dodge Jorney',2019, False],\n",
        "  ['Carens',2011, False]\n",
        "]\n",
        "\n",
        "datos"
      ]
    },
    {
      "cell_type": "code",
      "execution_count": null,
      "metadata": {
        "id": "-o0gFoltKz7U",
        "colab": {
          "base_uri": "https://localhost:8080/"
        },
        "outputId": "794f285b-fda4-428f-bd51-82e84d28336c"
      },
      "outputs": [
        {
          "output_type": "execute_result",
          "data": {
            "text/plain": [
              "[['Jetta Variant', 2003, True], ['DS5', 2019, True], ['A5', 2019, True]]"
            ]
          },
          "metadata": {},
          "execution_count": 351
        }
      ],
      "source": [
        "cero_km_T = []\n",
        "for lista in datos:\n",
        "  if (lista[2] == True):\n",
        "    cero_km_T.append(lista)\n",
        "\n",
        "cero_km_T"
      ]
    },
    {
      "cell_type": "code",
      "execution_count": null,
      "metadata": {
        "id": "skPckUKFLY6G",
        "colab": {
          "base_uri": "https://localhost:8080/"
        },
        "outputId": "5a550bfa-dd36-4eae-a7eb-7beee8b9e7a1"
      },
      "outputs": [
        {
          "output_type": "execute_result",
          "data": {
            "text/plain": [
              "[['Passat', 1991, False],\n",
              " ['Crossfox', 1990, False],\n",
              " ['Aston Martin DB4', 2006, False],\n",
              " ['Palio Weekend', 2012, False],\n",
              " ['Serie 3 Cabrio', 2009, False],\n",
              " ['Dodge Jorney', 2019, False],\n",
              " ['Carens', 2011, False]]"
            ]
          },
          "metadata": {},
          "execution_count": 352
        }
      ],
      "source": [
        "cero_km_F = []\n",
        "for lista in datos:\n",
        "  if (lista[2] == False):\n",
        "    cero_km_F.append(lista)\n",
        "\n",
        "cero_km_F"
      ]
    },
    {
      "cell_type": "markdown",
      "metadata": {
        "id": "tFBcF-HxLwc1"
      },
      "source": [
        "**List comprehensions**"
      ]
    },
    {
      "cell_type": "code",
      "execution_count": null,
      "metadata": {
        "id": "UCQNuZE_LvoC",
        "colab": {
          "base_uri": "https://localhost:8080/"
        },
        "outputId": "9ae45cd1-bd43-410c-dae9-fe94572b2550"
      },
      "outputs": [
        {
          "output_type": "execute_result",
          "data": {
            "text/plain": [
              "[['Jetta Variant', 2003, True], ['DS5', 2019, True], ['A5', 2019, True]]"
            ]
          },
          "metadata": {},
          "execution_count": 353
        }
      ],
      "source": [
        "cero_km_T = [lista for lista in datos if(lista[2] == True)]\n",
        "cero_km_T"
      ]
    },
    {
      "cell_type": "code",
      "execution_count": null,
      "metadata": {
        "id": "bTxp0mhRMgEX",
        "colab": {
          "base_uri": "https://localhost:8080/"
        },
        "outputId": "7524e2a5-ce4a-4d35-b9ac-8f91a4c58eeb"
      },
      "outputs": [
        {
          "output_type": "execute_result",
          "data": {
            "text/plain": [
              "[['Passat', 1991, False],\n",
              " ['Crossfox', 1990, False],\n",
              " ['Aston Martin DB4', 2006, False],\n",
              " ['Palio Weekend', 2012, False],\n",
              " ['Serie 3 Cabrio', 2009, False],\n",
              " ['Dodge Jorney', 2019, False],\n",
              " ['Carens', 2011, False]]"
            ]
          },
          "metadata": {},
          "execution_count": 354
        }
      ],
      "source": [
        "cero_km_F = [lista for lista in datos if(lista[2] == False)]\n",
        "cero_km_F"
      ]
    },
    {
      "cell_type": "markdown",
      "metadata": {
        "id": "fYsczeWHM0ER"
      },
      "source": [
        "**9.2 Bucles if-else, elif y else**"
      ]
    },
    {
      "cell_type": "markdown",
      "metadata": {
        "id": "Z2pcudxFx-rY"
      },
      "source": [
        "**1. elif (si no, si):** El bucle **elif** (abreviatura de \"else if\") se utiliza después de un **if** para evaluar una condición adicional si la condición del **if** es Falsa. Puedes tener múltiples bloques elif para comprobar varias condiciones."
      ]
    },
    {
      "cell_type": "code",
      "execution_count": null,
      "metadata": {
        "id": "93YwiUUQM3MI",
        "colab": {
          "base_uri": "https://localhost:8080/",
          "height": 53
        },
        "outputId": "2639ec21-d78f-4e5c-9373-acc4cedb7327"
      },
      "outputs": [
        {
          "output_type": "execute_result",
          "data": {
            "text/plain": [
              "'\\nif condicion1:\\n     Código a ejecutar si la condición1 es Verdadera\\nelif condicion2:\\n     Código a ejecutar si la condicion1 es Falsa y la condicion2 es Verdadera\\n'"
            ],
            "application/vnd.google.colaboratory.intrinsic+json": {
              "type": "string"
            }
          },
          "metadata": {},
          "execution_count": 355
        }
      ],
      "source": [
        "'''\n",
        "if condicion1:\n",
        "     Código a ejecutar si la condición1 es Verdadera\n",
        "elif condicion2:\n",
        "     Código a ejecutar si la condicion1 es Falsa y la condicion2 es Verdadera\n",
        "'''"
      ]
    },
    {
      "cell_type": "markdown",
      "metadata": {
        "id": "_RxKGeRFyQ0g"
      },
      "source": [
        "**Ejemplo**"
      ]
    },
    {
      "cell_type": "code",
      "execution_count": null,
      "metadata": {
        "id": "xK05ZJ0EyS_P",
        "colab": {
          "base_uri": "https://localhost:8080/"
        },
        "outputId": "1c55d646-d49d-412f-b2b4-b69bf3efbe0b"
      },
      "outputs": [
        {
          "output_type": "execute_result",
          "data": {
            "text/plain": [
              "75"
            ]
          },
          "metadata": {},
          "execution_count": 356
        }
      ],
      "source": [
        "puntuacion = 75\n",
        "if puntuacion >= 90:\n",
        "    print(\"Tienes una A\")\n",
        "elif puntuacion >= 80:\n",
        "    print(\"Tienes una B\")\n",
        "puntuacion"
      ]
    },
    {
      "cell_type": "code",
      "execution_count": null,
      "metadata": {
        "id": "QHg3-4yIPhvn",
        "colab": {
          "base_uri": "https://localhost:8080/"
        },
        "outputId": "baa5746f-b637-4e2c-a320-7a332e6b1985"
      },
      "outputs": [
        {
          "output_type": "execute_result",
          "data": {
            "text/plain": [
              "[['Jetta Variant', 2003, True],\n",
              " ['Passat', 1991, False],\n",
              " ['Crossfox', 1990, False],\n",
              " ['DS5', 2019, True],\n",
              " ['Aston Martin DB4', 2006, False],\n",
              " ['Palio Weekend', 2012, False],\n",
              " ['A5', 2019, True],\n",
              " ['Serie 3 Cabrio', 2009, False],\n",
              " ['Dodge Jorney', 2019, False],\n",
              " ['Carens', 2011, False]]"
            ]
          },
          "metadata": {},
          "execution_count": 357
        }
      ],
      "source": [
        "# Instruccion elif\n",
        "datos"
      ]
    },
    {
      "cell_type": "code",
      "execution_count": null,
      "metadata": {
        "id": "zRrARqKHP4bD"
      },
      "outputs": [],
      "source": [
        "A, B, C = [],[],[]\n",
        "\n",
        "for lista in datos:\n",
        "  if (lista[1] <= 2000):\n",
        "    A.append(lista)\n",
        "  #elif(lista[1] > 2000 and lista[1] <= 2010):  Esta es una manera de hacerlo\n",
        "  elif(2000 < lista[1] <= 2010): #Esta es otra manera de hacerlo\n",
        "    B.append(lista)\n",
        "  else:\n",
        "     C.append(lista)"
      ]
    },
    {
      "cell_type": "code",
      "execution_count": null,
      "metadata": {
        "id": "I2vDkXdSQt3u",
        "colab": {
          "base_uri": "https://localhost:8080/"
        },
        "outputId": "6e5073ce-40bb-4947-b091-7d0d2f62f633"
      },
      "outputs": [
        {
          "output_type": "execute_result",
          "data": {
            "text/plain": [
              "[['Passat', 1991, False], ['Crossfox', 1990, False]]"
            ]
          },
          "metadata": {},
          "execution_count": 359
        }
      ],
      "source": [
        "A"
      ]
    },
    {
      "cell_type": "code",
      "execution_count": null,
      "metadata": {
        "id": "nXdZw4VfQunr",
        "colab": {
          "base_uri": "https://localhost:8080/"
        },
        "outputId": "6a6060c1-20df-4851-b239-bb361c0fbc09"
      },
      "outputs": [
        {
          "output_type": "execute_result",
          "data": {
            "text/plain": [
              "[['Jetta Variant', 2003, True],\n",
              " ['Aston Martin DB4', 2006, False],\n",
              " ['Serie 3 Cabrio', 2009, False]]"
            ]
          },
          "metadata": {},
          "execution_count": 360
        }
      ],
      "source": [
        "B"
      ]
    },
    {
      "cell_type": "code",
      "execution_count": null,
      "metadata": {
        "id": "up4rLurQQvq_",
        "colab": {
          "base_uri": "https://localhost:8080/"
        },
        "outputId": "8dd924f2-8cea-44b2-ea59-c9ea94dda179"
      },
      "outputs": [
        {
          "output_type": "execute_result",
          "data": {
            "text/plain": [
              "[['DS5', 2019, True],\n",
              " ['Palio Weekend', 2012, False],\n",
              " ['A5', 2019, True],\n",
              " ['Dodge Jorney', 2019, False],\n",
              " ['Carens', 2011, False]]"
            ]
          },
          "metadata": {},
          "execution_count": 361
        }
      ],
      "source": [
        "C"
      ]
    },
    {
      "cell_type": "markdown",
      "metadata": {
        "id": "u9Zl0p6YyhLI"
      },
      "source": [
        "2. **else (si no):** El bucle **else** se utiliza para ejecutar un bloque de código si todas las condiciones anteriores (**if y elif**) son Falsas. No necesita una condición, ya que se ejecutará si ninguna de las condiciones anteriores se cumple."
      ]
    },
    {
      "cell_type": "code",
      "execution_count": null,
      "metadata": {
        "id": "BkzRiebkyoky",
        "colab": {
          "base_uri": "https://localhost:8080/",
          "height": 53
        },
        "outputId": "e6df31df-0728-4f52-8df1-ac50ed87b44d"
      },
      "outputs": [
        {
          "output_type": "execute_result",
          "data": {
            "text/plain": [
              "'\\nif condicion:\\n    # Código a ejecutar si la condición es Verdadera\\nelse:\\n    # Código a ejecutar si la condición es Falsa\\n'"
            ],
            "application/vnd.google.colaboratory.intrinsic+json": {
              "type": "string"
            }
          },
          "metadata": {},
          "execution_count": 362
        }
      ],
      "source": [
        "'''\n",
        "if condicion:\n",
        "    # Código a ejecutar si la condición es Verdadera\n",
        "else:\n",
        "    # Código a ejecutar si la condición es Falsa\n",
        "'''"
      ]
    },
    {
      "cell_type": "markdown",
      "metadata": {
        "id": "S_U3m5Eiyv94"
      },
      "source": [
        "**Ejemplo**"
      ]
    },
    {
      "cell_type": "code",
      "execution_count": null,
      "metadata": {
        "id": "sPbwlIk5yw13",
        "colab": {
          "base_uri": "https://localhost:8080/"
        },
        "outputId": "6798c6a1-af92-48b1-a4f4-b807a3c75c56"
      },
      "outputs": [
        {
          "output_type": "stream",
          "name": "stdout",
          "text": [
            "Eres menor de edad\n"
          ]
        }
      ],
      "source": [
        "edad = 16\n",
        "if edad >= 18:\n",
        "    print(\"Eres mayor de edad\")\n",
        "else:\n",
        "    print(\"Eres menor de edad\")\n"
      ]
    },
    {
      "cell_type": "code",
      "execution_count": null,
      "metadata": {
        "id": "XlxtbYvsN5NF"
      },
      "outputs": [],
      "source": [
        "# Instroduccion if y else\n",
        "cero_km_T, cero_km_F = [],[]\n",
        "\n",
        "for lista in datos:\n",
        "  if(lista[2]==True):\n",
        "    cero_km_T.append(lista)\n",
        "  else:\n",
        "    cero_km_F.append(lista)"
      ]
    },
    {
      "cell_type": "code",
      "execution_count": null,
      "metadata": {
        "id": "IZbvpGOIPJg8",
        "colab": {
          "base_uri": "https://localhost:8080/"
        },
        "outputId": "3c4df98c-4acb-43a7-c6a6-f0ce4c1ebd2f"
      },
      "outputs": [
        {
          "output_type": "execute_result",
          "data": {
            "text/plain": [
              "[['Jetta Variant', 2003, True], ['DS5', 2019, True], ['A5', 2019, True]]"
            ]
          },
          "metadata": {},
          "execution_count": 365
        }
      ],
      "source": [
        "cero_km_T"
      ]
    },
    {
      "cell_type": "code",
      "execution_count": null,
      "metadata": {
        "id": "oPNqpqm7PJ6B",
        "colab": {
          "base_uri": "https://localhost:8080/"
        },
        "outputId": "edb1354c-e704-4de1-9e9e-eb2be1991a1d"
      },
      "outputs": [
        {
          "output_type": "execute_result",
          "data": {
            "text/plain": [
              "[['Passat', 1991, False],\n",
              " ['Crossfox', 1990, False],\n",
              " ['Aston Martin DB4', 2006, False],\n",
              " ['Palio Weekend', 2012, False],\n",
              " ['Serie 3 Cabrio', 2009, False],\n",
              " ['Dodge Jorney', 2019, False],\n",
              " ['Carens', 2011, False]]"
            ]
          },
          "metadata": {},
          "execution_count": 366
        }
      ],
      "source": [
        "cero_km_F"
      ]
    },
    {
      "cell_type": "markdown",
      "metadata": {
        "id": "_ZywCri8y0_j"
      },
      "source": [
        "Estos bucles se utilizan para tomar decisiones en el código, lo que permite que un programa se comporte de manera diferente según las condiciones que se cumplan. Puedes usar **if, elif y else** en combinación para manejar múltiples escenarios y tomar decisiones complejas."
      ]
    },
    {
      "cell_type": "markdown",
      "metadata": {
        "id": "aJs1NHM1C4mt"
      },
      "source": [
        "# **Módulo 3: Bibliotecas**"
      ]
    },
    {
      "cell_type": "markdown",
      "metadata": {
        "id": "OKt3hq7MFTvA"
      },
      "source": [
        "#**10. Bibliotecas**"
      ]
    },
    {
      "cell_type": "markdown",
      "metadata": {
        "id": "mJOD7ZhRZJEb"
      },
      "source": [
        "**¿Que es una Biblioteca?**"
      ]
    },
    {
      "cell_type": "markdown",
      "metadata": {
        "id": "KSwAJ5iDZcHx"
      },
      "source": [
        "En Python, una biblioteca (también conocida como módulo o paquete) es un conjunto de funciones, clases y herramientas predefinidas que extienden la funcionalidad del lenguaje base. Estas bibliotecas proporcionan un conjunto de herramientas especializadas y eficientes para tareas específicas, lo que facilita la programación y el análisis de datos en Python. En el campo de la ciencia de datos, hay varias bibliotecas ampliamente utilizadas que son esenciales para realizar tareas de análisis, manipulación y visualización de datos"
      ]
    },
    {
      "cell_type": "markdown",
      "metadata": {
        "id": "GuIbTtpm4oe5"
      },
      "source": [
        "**10.1 Bibliotecas**"
      ]
    },
    {
      "cell_type": "markdown",
      "metadata": {
        "id": "ZqrdKFlhZeu2"
      },
      "source": [
        "**NumPy**"
      ]
    },
    {
      "cell_type": "markdown",
      "metadata": {
        "id": "U3dSJA2sZ8Gh"
      },
      "source": [
        "1. **Explicación:** NumPy es la biblioteca fundamental para la computación científica en Python. Proporciona arreglos multidimensionales (arrays) que son eficientes y rápidos para realizar operaciones matemáticas y numéricas en datos.\n",
        "\n",
        "2. **Uso común:** Manipulación de datos numéricos, cálculos matemáticos, álgebra lineal."
      ]
    },
    {
      "cell_type": "markdown",
      "metadata": {
        "id": "2qNZEvJHZjrA"
      },
      "source": [
        "**Pandas**"
      ]
    },
    {
      "cell_type": "markdown",
      "metadata": {
        "id": "091NwUWkaA3H"
      },
      "source": [
        "1. **Explicación:** pandas es una biblioteca diseñada para la manipulación y el análisis de datos estructurados. Ofrece estructuras de datos flexibles como DataFrames y Series, que permiten trabajar con datos tabulares de manera eficiente.\n",
        "\n",
        "2. **Uso común:** Análisis exploratorio de datos, limpieza y transformación de datos, manipulación de datos tabulares."
      ]
    },
    {
      "cell_type": "markdown",
      "metadata": {
        "id": "8hezZXMVZo0R"
      },
      "source": [
        "**Matplotlib**"
      ]
    },
    {
      "cell_type": "markdown",
      "metadata": {
        "id": "I2RdrVu_aJgc"
      },
      "source": [
        "1. **Explicación:** matplotlib es una biblioteca de visualización de datos que permite crear gráficos de alta calidad en 2D y 3D. Ofrece una amplia variedad de tipos de gráficos y opciones de personalización.\n",
        "\n",
        "2. **Uso común:** Creación de gráficos y visualizaciones para explorar y comunicar resultados."
      ]
    },
    {
      "cell_type": "markdown",
      "metadata": {
        "id": "tIi7sqsRZs1J"
      },
      "source": [
        "**Seaborn**"
      ]
    },
    {
      "cell_type": "markdown",
      "metadata": {
        "id": "qOzsuqXVaPiz"
      },
      "source": [
        "1. **Explicación:** Seaborn es una biblioteca de visualización de datos basada en matplotlib que simplifica la creación de gráficos estadísticos atractivos y descriptivos. Facilita la creación de visualizaciones complejas con menos código.\n",
        "\n",
        "2. **Uso común:** Visualización de relaciones y distribuciones en datos."
      ]
    },
    {
      "cell_type": "markdown",
      "metadata": {
        "id": "cDIiA31kZwW0"
      },
      "source": [
        "**Scikit-learn**"
      ]
    },
    {
      "cell_type": "markdown",
      "metadata": {
        "id": "vcdUqUkAaVIB"
      },
      "source": [
        "1. **Explicación:** scikit-learn es una biblioteca de aprendizaje automático (machine learning) que proporciona herramientas y algoritmos para tareas de clasificación, regresión, clustering y más. Es ideal para aplicaciones de aprendizaje automático y minería de datos.\n",
        "\n",
        "2. **Uso común:** Construcción, entrenamiento y evaluación de modelos de aprendizaje automático."
      ]
    },
    {
      "cell_type": "markdown",
      "metadata": {
        "id": "M9lE9wq3Z0rJ"
      },
      "source": [
        "**TensorFlow y PyTorch**"
      ]
    },
    {
      "cell_type": "markdown",
      "metadata": {
        "id": "B6zcePaVaZz3"
      },
      "source": [
        "1. **Explicación:** TensorFlow y PyTorch son bibliotecas de código abierto para aprendizaje profundo (deep learning). Son ampliamente utilizadas en el desarrollo de redes neuronales y aplicaciones de inteligencia artificial.\n",
        "\n",
        "2. **Uso común:** Desarrollo y entrenamiento de modelos de aprendizaje profundo."
      ]
    },
    {
      "cell_type": "markdown",
      "metadata": {
        "id": "rQQaL8MJa8I-"
      },
      "source": [
        "**10.2  ¿Como se importa una biblioteca?**"
      ]
    },
    {
      "cell_type": "markdown",
      "metadata": {
        "id": "ILcalgZxbESW"
      },
      "source": [
        "Para importar una biblioteca en Python, puedes utilizar la declaración **import** seguida del nombre de la biblioteca que deseas utilizar."
      ]
    },
    {
      "cell_type": "code",
      "execution_count": null,
      "metadata": {
        "id": "an6F9l0CbJUV"
      },
      "outputs": [],
      "source": [
        "# import nombre_de_la_biblioteca"
      ]
    },
    {
      "cell_type": "markdown",
      "metadata": {
        "id": "I1Ufx5IRbOaS"
      },
      "source": [
        "Donde **nombre_de_la_biblioteca** es el nombre de la biblioteca que deseas importar. Por ejemplo, si deseas importar la biblioteca **NumPy**, puedes hacerlo de la siguiente manera:"
      ]
    },
    {
      "cell_type": "code",
      "execution_count": null,
      "metadata": {
        "id": "b1A4Li7Hbq28"
      },
      "outputs": [],
      "source": [
        "import numpy"
      ]
    },
    {
      "cell_type": "markdown",
      "metadata": {
        "id": "IZz7M9ZkcIWt"
      },
      "source": [
        "También es común utilizar un alias o nombre corto para la biblioteca para facilitar su uso en el código. Por ejemplo, puedes importar NumPy con el alias **np** de esta manera:"
      ]
    },
    {
      "cell_type": "code",
      "execution_count": null,
      "metadata": {
        "id": "ELEWo7xecMhM"
      },
      "outputs": [],
      "source": [
        "import numpy as np"
      ]
    },
    {
      "cell_type": "markdown",
      "metadata": {
        "id": "P_ZZZsQmcOKI"
      },
      "source": [
        "Ahora, puedes usar **np** para acceder a las funciones y objetos de NumPy en lugar de escribir el nombre completo de la biblioteca. Por ejemplo:"
      ]
    },
    {
      "cell_type": "code",
      "execution_count": null,
      "metadata": {
        "id": "XnaFB7oWcV8G"
      },
      "outputs": [],
      "source": [
        "import numpy as np\n",
        "\n",
        "# Crear un arreglo NumPy\n",
        "arr = np.array([1, 2, 3])\n",
        "\n",
        "# Usar una función de NumPy\n",
        "media = np.mean(arr)"
      ]
    },
    {
      "cell_type": "code",
      "execution_count": null,
      "metadata": {
        "id": "kjs1b2oucZLs",
        "colab": {
          "base_uri": "https://localhost:8080/"
        },
        "outputId": "aba2ecb2-a6d0-4d6e-d886-8e8a1caa7faa"
      },
      "outputs": [
        {
          "output_type": "execute_result",
          "data": {
            "text/plain": [
              "array([1, 2, 3])"
            ]
          },
          "metadata": {},
          "execution_count": 371
        }
      ],
      "source": [
        "arr"
      ]
    },
    {
      "cell_type": "code",
      "execution_count": null,
      "metadata": {
        "id": "lk2PZT5vcbO5",
        "colab": {
          "base_uri": "https://localhost:8080/"
        },
        "outputId": "5059ada1-2b49-4602-c89c-7e6463f63a25"
      },
      "outputs": [
        {
          "output_type": "execute_result",
          "data": {
            "text/plain": [
              "2.0"
            ]
          },
          "metadata": {},
          "execution_count": 372
        }
      ],
      "source": [
        "media"
      ]
    },
    {
      "cell_type": "markdown",
      "metadata": {
        "id": "laC4-LA0dL1w"
      },
      "source": [
        "**10.3 Importando un modulo de una biblioteca**"
      ]
    },
    {
      "cell_type": "markdown",
      "metadata": {
        "id": "62yOhCj_ceLn"
      },
      "source": [
        "Si deseas importar solo un módulo específico de una biblioteca en lugar de la biblioteca completa, puedes utilizar la declaración **from** seguida del nombre de la biblioteca, seguida de la palabra clave **import** y el nombre del módulo que deseas importar. Aquí tienes cómo se hace:"
      ]
    },
    {
      "cell_type": "code",
      "execution_count": null,
      "metadata": {
        "id": "-e0LgwpwckJP"
      },
      "outputs": [],
      "source": [
        "# from nombre_de_la_biblioteca import nombre_del_modulo"
      ]
    },
    {
      "cell_type": "markdown",
      "metadata": {
        "id": "G-L1ecHFclxy"
      },
      "source": [
        "**Donde:**\n",
        "\n",
        "1. **nombre_de_la_biblioteca** es el nombre de la biblioteca que contiene el módulo que deseas importar.\n",
        "\n",
        "2. **nombre_del_modulo** es el nombre del módulo específico que deseas importar.\n",
        "\n",
        "Por ejemplo, si deseas importar solo el módulo **random** que nos sirve para generar números aleatorios y realizar operaciones relacionadas con la aleatoriedad."
      ]
    },
    {
      "cell_type": "code",
      "execution_count": null,
      "metadata": {
        "id": "ek4-wQGadH8d"
      },
      "outputs": [],
      "source": [
        "# importamos dos modulo de una libreria\n",
        "from random import randrange, seed"
      ]
    },
    {
      "cell_type": "code",
      "execution_count": null,
      "metadata": {
        "id": "LvnQaZj1dYPY",
        "colab": {
          "base_uri": "https://localhost:8080/"
        },
        "outputId": "e10c4aa6-f073-44d3-a9ab-f059e7973d92"
      },
      "outputs": [
        {
          "output_type": "execute_result",
          "data": {
            "text/plain": [
              "3"
            ]
          },
          "metadata": {},
          "execution_count": 380
        }
      ],
      "source": [
        "# Con el modulo randrange nos da un numero aleatorio de los parametros\n",
        "# que definimos en este caso de 0 al 10\n",
        "randrange(0,11)"
      ]
    },
    {
      "cell_type": "code",
      "execution_count": null,
      "metadata": {
        "id": "FxuxurDMdpwV"
      },
      "outputs": [],
      "source": [
        "# Creamos una lista vacia\n",
        "notas_matematicas = []"
      ]
    },
    {
      "cell_type": "code",
      "execution_count": null,
      "metadata": {
        "id": "MZrDxHPjduba"
      },
      "outputs": [],
      "source": [
        "# El resultado de randrage los almacenamos dentro de nuestra lista\n",
        "# con la funcion append\n",
        "notas_matematicas.append(randrange(0,11))"
      ]
    },
    {
      "cell_type": "code",
      "execution_count": null,
      "metadata": {
        "id": "DVSb-tRYd1pN",
        "colab": {
          "base_uri": "https://localhost:8080/"
        },
        "outputId": "2c302106-626f-4c0b-cfdf-a9d72376193f"
      },
      "outputs": [
        {
          "output_type": "execute_result",
          "data": {
            "text/plain": [
              "[8]"
            ]
          },
          "metadata": {},
          "execution_count": 383
        }
      ],
      "source": [
        "notas_matematicas"
      ]
    },
    {
      "cell_type": "code",
      "execution_count": null,
      "metadata": {
        "id": "1UJRbk51d4ZG"
      },
      "outputs": [],
      "source": [
        "# Creamos un bucle for para realizar 6 veces pero adicionamos una semilla\n",
        "# que es \"seed\" para que nos genere siempre los msimo numeros aleatorios\n",
        "notas_matematicas = []\n",
        "seed(8)\n",
        "for notas in range(6):\n",
        "  notas_matematicas.append(randrange(0,11))"
      ]
    },
    {
      "cell_type": "code",
      "execution_count": null,
      "metadata": {
        "id": "STN499v2d_i7",
        "colab": {
          "base_uri": "https://localhost:8080/"
        },
        "outputId": "cd9e440e-e347-41b1-f5fc-a246ef3ddfde"
      },
      "outputs": [
        {
          "output_type": "execute_result",
          "data": {
            "text/plain": [
              "[3, 5, 6, 2, 3, 0]"
            ]
          },
          "metadata": {},
          "execution_count": 385
        }
      ],
      "source": [
        "notas_matematicas"
      ]
    },
    {
      "cell_type": "code",
      "execution_count": null,
      "metadata": {
        "id": "SeOZd5zGe7Ow",
        "colab": {
          "base_uri": "https://localhost:8080/"
        },
        "outputId": "cb546bff-c838-4886-d211-e4f233abcb66"
      },
      "outputs": [
        {
          "output_type": "execute_result",
          "data": {
            "text/plain": [
              "6"
            ]
          },
          "metadata": {},
          "execution_count": 386
        }
      ],
      "source": [
        "# Mostrar el tamaño de nuestra lista\n",
        "len(notas_matematicas)"
      ]
    },
    {
      "cell_type": "code",
      "execution_count": null,
      "metadata": {
        "id": "z3dCXElyf2dA"
      },
      "outputs": [],
      "source": [
        "# Ahora importaremos una biblioteca llamada matplotlib\n",
        "# para generar graficos\n",
        "import matplotlib.pyplot as plt"
      ]
    },
    {
      "cell_type": "code",
      "execution_count": null,
      "metadata": {
        "id": "i1mbhcwtgaQC",
        "colab": {
          "base_uri": "https://localhost:8080/"
        },
        "outputId": "e8478dfc-dde3-4605-dbb0-352de38138c9"
      },
      "outputs": [
        {
          "output_type": "execute_result",
          "data": {
            "text/plain": [
              "[1, 2, 3, 4, 5, 6]"
            ]
          },
          "metadata": {},
          "execution_count": 388
        }
      ],
      "source": [
        "list(range(1,7))"
      ]
    },
    {
      "cell_type": "code",
      "execution_count": null,
      "metadata": {
        "id": "P9HXvcWLgnU3",
        "colab": {
          "base_uri": "https://localhost:8080/",
          "height": 472
        },
        "outputId": "d6c14ff9-1e1a-48a0-d465-5f05d90c9501"
      },
      "outputs": [
        {
          "output_type": "display_data",
          "data": {
            "text/plain": [
              "<Figure size 640x480 with 1 Axes>"
            ],
            "image/png": "[encoded data removed]"
          },
          "metadata": {}
        }
      ],
      "source": [
        "x = list(range(1,7))\n",
        "y = notas_matematicas\n",
        "\n",
        "plt.plot(x,y, marker = 'o')\n",
        "#Titulo al grafico\n",
        "plt.title('Grafico de las notas en matematicas')\n",
        "#Titulo de nuesto eje X\n",
        "plt.xlabel('Pruebas')\n",
        "#Titulo de nuesto eje y\n",
        "plt.ylabel('Notas')\n",
        "# Elimina el titulo anterior y solo muestra el que se creo\n",
        "plt.show()"
      ]
    },
    {
      "cell_type": "markdown",
      "source": [
        "# **by: Jose Alfredo Ricardez Perez**"
      ],
      "metadata": {
        "id": "ebinsjTRfalX"
      }
    }
  ],
  "metadata": {
    "colab": {
      "collapsed_sections": [
        "djIEudUFHF7d",
        "rz9nDKr3EKsK",
        "8BJI93CXH2_6",
        "CE7V6TqKiKSz",
        "uVxM6ZLtz7Q7",
        "CHy-nJ80L3_r",
        "NmnznGAz5PIO",
        "JHdvpZ4zeb5c"
      ],
      "provenance": []
    },
    "kernelspec": {
      "display_name": "Python 3",
      "name": "python3"
    },
    "language_info": {
      "name": "python"
    }
  },
  "nbformat": 4,
  "nbformat_minor": 0
}
